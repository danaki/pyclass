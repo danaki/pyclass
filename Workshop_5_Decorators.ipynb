{
 "cells": [
  {
   "cell_type": "markdown",
   "metadata": {
    "slideshow": {
     "slide_type": "slide"
    }
   },
   "source": [
    "# Decorators\n",
    "\n",
    "A Python decorator is a specific change to the Python syntax that allows us to more conveniently alter functions and methods."
   ]
  },
  {
   "cell_type": "code",
   "execution_count": null,
   "metadata": {},
   "outputs": [],
   "source": [
    "def decorator(f):\n",
    "    print \"Decorator called with argument:\", f\n",
    "    \n",
    "    def wrapper():\n",
    "        print \"Wrapper called\"\n",
    "        f()\n",
    "\n",
    "    return wrapper\n",
    "\n",
    "@decorator\n",
    "def nothing_doer():\n",
    "    print \"Decorated function called\"\n",
    "    \n",
    "nothing_doer()\n",
    "print(nothing_doer.__name__)"
   ]
  },
  {
   "cell_type": "markdown",
   "metadata": {
    "slideshow": {
     "slide_type": "slide"
    }
   },
   "source": [
    " It's syntax sugar, equivalent code:"
   ]
  },
  {
   "cell_type": "code",
   "execution_count": null,
   "metadata": {},
   "outputs": [],
   "source": [
    "def decorator(f):\n",
    "    print \"Decorator called with argument:\", f\n",
    "\n",
    "    def wrapper():\n",
    "        print \"Wrapper called\"\n",
    "        f()\n",
    "        \n",
    "    return wrapper\n",
    "\n",
    "def nothing_doer():\n",
    "    print \"Decorated function called\"\n",
    "    \n",
    "wrapped = decorator(nothing_doer)\n",
    "wrapped()"
   ]
  },
  {
   "cell_type": "markdown",
   "metadata": {
    "slideshow": {
     "slide_type": "slide"
    }
   },
   "source": [
    "Nested decorators:"
   ]
  },
  {
   "cell_type": "code",
   "execution_count": null,
   "metadata": {},
   "outputs": [],
   "source": [
    "def decorator1(f):\n",
    "    print \"Decorator 1 called\"\n",
    "    \n",
    "    def wrapper():\n",
    "        print \"Decorator 1 wrapper called\"\n",
    "        f()\n",
    "        \n",
    "    return wrapper\n",
    "        \n",
    "def decorator2(f):\n",
    "    print \"Decorator 2 called\"\n",
    "    \n",
    "    def wrapper():\n",
    "        print \"Decorator 2 wrapper called\"\n",
    "        f()\n",
    "        \n",
    "    return wrapper\n",
    "\n",
    "@decorator1\n",
    "@decorator2\n",
    "def nothing_doer():\n",
    "    print \"Decorated function called\"\n",
    "    \n",
    "nothing_doer()"
   ]
  },
  {
   "cell_type": "markdown",
   "metadata": {
    "slideshow": {
     "slide_type": "slide"
    }
   },
   "source": [
    "Parametrized decorator:"
   ]
  },
  {
   "cell_type": "code",
   "execution_count": null,
   "metadata": {},
   "outputs": [],
   "source": [
    "myvar = \"World\"\n",
    "\n",
    "def superdecorator(message, subject):\n",
    "    def decorator(f):\n",
    "        def wrapper():\n",
    "            print \"Wrapper called: \" + message + \" \" + subject\n",
    "            f()\n",
    "\n",
    "        return wrapper\n",
    "    \n",
    "    return decorator\n",
    "\n",
    "@superdecorator(\"Hello\", myvar)\n",
    "def nothing_doer():\n",
    "    print \"Decorated function called\"\n",
    "    \n",
    "nothing_doer()"
   ]
  },
  {
   "cell_type": "markdown",
   "metadata": {
    "slideshow": {
     "slide_type": "slide"
    }
   },
   "source": [
    "Class property decorator:"
   ]
  },
  {
   "cell_type": "code",
   "execution_count": null,
   "metadata": {},
   "outputs": [],
   "source": [
    "class Celsius:\n",
    "    def __init__(self, temperature = 0):\n",
    "        self._temperature = temperature\n",
    "\n",
    "    def to_fahrenheit(self):\n",
    "        return (self.temperature * 1.8) + 32\n",
    "\n",
    "    @property\n",
    "    def temperature(self):\n",
    "        print \"Getting value\"\n",
    "        return self._temperature\n",
    "\n",
    "    @temperature.setter\n",
    "    def temperature(self, value):\n",
    "        if value < -273:\n",
    "            raise ValueError(\"Temperature below -273 is not possible\")\n",
    "        print \"Setting value\"\n",
    "        self._temperature = value\n",
    "        \n",
    "c = Celsius()\n",
    "c.temperature = 36.6\n",
    "c.temperature"
   ]
  },
  {
   "cell_type": "markdown",
   "metadata": {
    "slideshow": {
     "slide_type": "slide"
    }
   },
   "source": [
    "How it works:\n",
    "\n",
    "[Documentation on property()](https://docs.python.org/3/library/functions.html#property)\n",
    "\n",
    "First, equivalent code:"
   ]
  },
  {
   "cell_type": "code",
   "execution_count": null,
   "metadata": {},
   "outputs": [],
   "source": [
    "class MyClass:\n",
    "    def getter(self):\n",
    "        print \"Getter called\"\n",
    "\n",
    "    def setter(self, arg):\n",
    "        print \"Setter called: {}\".format(arg)\n",
    "\n",
    "    x = property(getter, setter)\n",
    "\n",
    "m = MyClass()\n",
    "m.x\n",
    "m.x = 12"
   ]
  },
  {
   "cell_type": "markdown",
   "metadata": {
    "slideshow": {
     "slide_type": "slide"
    }
   },
   "source": [
    "Let's write our own property():"
   ]
  },
  {
   "cell_type": "code",
   "execution_count": null,
   "metadata": {},
   "outputs": [],
   "source": [
    "class MyProperty:\n",
    "    def __init__(self, f):\n",
    "        self._getter = f\n",
    "        \n",
    "    def __get__(self, instance, klass):\n",
    "        return self._getter(instance)\n",
    "       \n",
    "    def __set__(self, instance, value):\n",
    "        return self._setter(instance, value)\n",
    "        \n",
    "    def setter(self, f):\n",
    "        self._setter = f\n",
    "\n",
    "def myproperty(f):\n",
    "    return MyProperty(f)\n",
    "\n",
    "class MyClass:\n",
    "    def __init__(self, x):\n",
    "        self._x = x\n",
    "    \n",
    "    @myproperty\n",
    "    def x(self):\n",
    "        print \"Getter called: {}\".format(self._x)\n",
    "        return self._x\n",
    "\n",
    "    @x.setter\n",
    "    def setter(self, arg):\n",
    "        print \"Setter called: {}\".format(arg)\n",
    "        self._x = arg\n",
    "\n",
    "m = MyClass(10)\n",
    "print(m.x)\n",
    "\n",
    "m.x = 12\n",
    "print(m.x)"
   ]
  },
  {
   "cell_type": "markdown",
   "metadata": {
    "slideshow": {
     "slide_type": "slide"
    }
   },
   "source": [
    "## Memoize pattern\n",
    "\n",
    "Imagine factorial() contains some expensive computations:"
   ]
  },
  {
   "cell_type": "code",
   "execution_count": null,
   "metadata": {},
   "outputs": [],
   "source": [
    "cache = {}\n",
    "\n",
    "def memoize(f):\n",
    "    def wrapper(x):\n",
    "        if x in cache:\n",
    "            r = cache[x]\n",
    "            print \"Cache hit: {}, result is {}\".format(x, r)\n",
    "            return r\n",
    "        \n",
    "        r = f(x)\n",
    "        cache[x] = r\n",
    "        \n",
    "        return r\n",
    "        \n",
    "    return wrapper\n",
    "\n",
    "@memoize\n",
    "def some_expensive_computations(x):\n",
    "    r = x ** 2\n",
    "    print \"Original function called with argument: {}, result is {}\".format(x, r)\n",
    "    return r\n",
    "\n",
    "print(some_expensive_computations(3))\n",
    "print(some_expensive_computations(3))\n",
    "print(some_expensive_computations(3))\n",
    "\n",
    "print(some_expensive_computations(4))"
   ]
  },
  {
   "cell_type": "markdown",
   "metadata": {
    "slideshow": {
     "slide_type": "slide"
    }
   },
   "source": [
    "## Module 'functools'\n",
    "\n",
    "[Docs](https://docs.python.org/3/library/functools.html)\n",
    "\n",
    "` @functools.lru_cache()`: Don't reinvent the wheel + some goodies"
   ]
  },
  {
   "cell_type": "code",
   "execution_count": null,
   "metadata": {},
   "outputs": [],
   "source": [
    "import functools\n",
    "\n",
    "@functools.lru_cache(maxsize=6)\n",
    "def factorial(x):\n",
    "    return 1 if x == 1 else x * factorial(x - 1)\n",
    "\n",
    "for n in range(1, 6):\n",
    "    factorial(n)\n",
    "\n",
    "factorial.cache_info()"
   ]
  },
  {
   "cell_type": "markdown",
   "metadata": {
    "slideshow": {
     "slide_type": "slide"
    }
   },
   "source": [
    "**functools.partial()**: [Stackoverflow: What is currying](https://stackoverflow.com/questions/36314/what-is-currying)"
   ]
  },
  {
   "cell_type": "code",
   "execution_count": null,
   "metadata": {},
   "outputs": [],
   "source": [
    "def manyargs(a, b, c):\n",
    "    print \"a={}, b={}, c={}\".format(a, b, c)\n",
    "    \n",
    "p1 = functools.partial(manyargs, 1)\n",
    "p2 = functools.partial(p1, 2)\n",
    "\n",
    "p2(3)"
   ]
  },
  {
   "cell_type": "code",
   "execution_count": null,
   "metadata": {},
   "outputs": [],
   "source": [
    "p1 = functools.partial(manyargs, c=1)\n",
    "p2 = functools.partial(p1, b=2)\n",
    "\n",
    "p2(a=3)"
   ]
  },
  {
   "cell_type": "markdown",
   "metadata": {
    "slideshow": {
     "slide_type": "slide"
    }
   },
   "source": [
    "` @functools.wraps()`: fixes wrapped function metadata"
   ]
  },
  {
   "cell_type": "code",
   "execution_count": null,
   "metadata": {},
   "outputs": [],
   "source": [
    "def decorator(f):\n",
    "    @functools.wraps(f)\n",
    "    def wrapper():\n",
    "        print \"Wrapper called\"\n",
    "        f()\n",
    "        \n",
    "    return wrapper\n",
    "    \n",
    "@decorator\n",
    "def nothing_doer():\n",
    "    print \"Decorated function called\"\n",
    "    \n",
    "nothing_doer()\n",
    "\n",
    "print(nothing_doer.__name__)"
   ]
  },
  {
   "cell_type": "code",
   "execution_count": null,
   "metadata": {},
   "outputs": [],
   "source": []
  }
 ],
 "metadata": {
  "celltoolbar": "Slideshow",
  "kernelspec": {
   "display_name": "Python 2",
   "language": "python",
   "name": "python2"
  },
  "language_info": {
   "codemirror_mode": {
    "name": "ipython",
    "version": 2
   },
   "file_extension": ".py",
   "mimetype": "text/x-python",
   "name": "python",
   "nbconvert_exporter": "python",
   "pygments_lexer": "ipython2",
   "version": "2.7.15"
  },
  "varInspector": {
   "cols": {
    "lenName": 16,
    "lenType": 16,
    "lenVar": 40
   },
   "kernels_config": {
    "python": {
     "delete_cmd_postfix": "",
     "delete_cmd_prefix": "del ",
     "library": "var_list.py",
     "varRefreshCmd": "print(var_dic_list())"
    },
    "r": {
     "delete_cmd_postfix": ") ",
     "delete_cmd_prefix": "rm(",
     "library": "var_list.r",
     "varRefreshCmd": "cat(var_dic_list()) "
    }
   },
   "types_to_exclude": [
    "module",
    "function",
    "builtin_function_or_method",
    "instance",
    "_Feature"
   ],
   "window_display": false
  }
 },
 "nbformat": 4,
 "nbformat_minor": 2
}
