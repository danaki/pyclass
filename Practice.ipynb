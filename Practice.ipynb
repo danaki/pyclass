{
 "cells": [
  {
   "cell_type": "markdown",
   "metadata": {
    "toc": true
   },
   "source": [
    "<h1>Table of Contents<span class=\"tocSkip\"></span></h1>\n",
    "<div class=\"toc\"><ul class=\"toc-item\"><li><span><a href=\"#Numerics\" data-toc-modified-id=\"Numerics-1\"><span class=\"toc-item-num\">1&nbsp;&nbsp;</span>Numerics</a></span><ul class=\"toc-item\"><li><span><a href=\"#Exercise:-Young-driver\" data-toc-modified-id=\"Exercise:-Young-driver-1.1\"><span class=\"toc-item-num\">1.1&nbsp;&nbsp;</span>Exercise: Young driver</a></span></li><li><span><a href=\"#Exercise:-Three-Little-Pigs\" data-toc-modified-id=\"Exercise:-Three-Little-Pigs-1.2\"><span class=\"toc-item-num\">1.2&nbsp;&nbsp;</span>Exercise: Three Little Pigs</a></span></li><li><span><a href=\"#Exercise:-Numeric-interval\" data-toc-modified-id=\"Exercise:-Numeric-interval-1.3\"><span class=\"toc-item-num\">1.3&nbsp;&nbsp;</span>Exercise: Numeric interval</a></span></li><li><span><a href=\"#Exercise:-Calculate-the-area\" data-toc-modified-id=\"Exercise:-Calculate-the-area-1.4\"><span class=\"toc-item-num\">1.4&nbsp;&nbsp;</span>Exercise: Calculate the area</a></span></li></ul></li><li><span><a href=\"#Strings\" data-toc-modified-id=\"Strings-2\"><span class=\"toc-item-num\">2&nbsp;&nbsp;</span>Strings</a></span><ul class=\"toc-item\"><li><span><a href=\"#Exercise:-speare-Shake\" data-toc-modified-id=\"Exercise:-speare-Shake-2.1\"><span class=\"toc-item-num\">2.1&nbsp;&nbsp;</span>Exercise: speare Shake</a></span></li><li><span><a href=\"#Exercise:-Simple-formatting\" data-toc-modified-id=\"Exercise:-Simple-formatting-2.2\"><span class=\"toc-item-num\">2.2&nbsp;&nbsp;</span>Exercise: Simple formatting</a></span></li><li><span><a href=\"#Exercise:-Ordered-formatting\" data-toc-modified-id=\"Exercise:-Ordered-formatting-2.3\"><span class=\"toc-item-num\">2.3&nbsp;&nbsp;</span>Exercise: Ordered formatting</a></span></li><li><span><a href=\"#Exercise:-String-formating-floats\" data-toc-modified-id=\"Exercise:-String-formating-floats-2.4\"><span class=\"toc-item-num\">2.4&nbsp;&nbsp;</span>Exercise: String formating floats</a></span></li><li><span><a href=\"#Exercise:-make-a-headline-II\" data-toc-modified-id=\"Exercise:-make-a-headline-II-2.5\"><span class=\"toc-item-num\">2.5&nbsp;&nbsp;</span>Exercise: make a headline II</a></span></li><li><span><a href=\"#Exercise:-Reformat-a-string\" data-toc-modified-id=\"Exercise:-Reformat-a-string-2.6\"><span class=\"toc-item-num\">2.6&nbsp;&nbsp;</span>Exercise: Reformat a string</a></span></li><li><span><a href=\"#Exercise:-Replace-back\" data-toc-modified-id=\"Exercise:-Replace-back-2.7\"><span class=\"toc-item-num\">2.7&nbsp;&nbsp;</span>Exercise: Replace back</a></span></li><li><span><a href=\"#Exercise:-Slice-and-Dice-I\" data-toc-modified-id=\"Exercise:-Slice-and-Dice-I-2.8\"><span class=\"toc-item-num\">2.8&nbsp;&nbsp;</span>Exercise: Slice and Dice I</a></span></li><li><span><a href=\"#Exercise:-Slice-and-Dice-II\" data-toc-modified-id=\"Exercise:-Slice-and-Dice-II-2.9\"><span class=\"toc-item-num\">2.9&nbsp;&nbsp;</span>Exercise: Slice and Dice II</a></span></li><li><span><a href=\"#Exercise:-Secret-message\" data-toc-modified-id=\"Exercise:-Secret-message-2.10\"><span class=\"toc-item-num\">2.10&nbsp;&nbsp;</span>Exercise: Secret message</a></span></li></ul></li><li><span><a href=\"#Conditionals\" data-toc-modified-id=\"Conditionals-3\"><span class=\"toc-item-num\">3&nbsp;&nbsp;</span>Conditionals</a></span><ul class=\"toc-item\"><li><span><a href=\"#Exercise:-Closer-to-zero\" data-toc-modified-id=\"Exercise:-Closer-to-zero-3.1\"><span class=\"toc-item-num\">3.1&nbsp;&nbsp;</span>Exercise: Closer to zero</a></span></li><li><span><a href=\"#Exercise:-Ternary-operator\" data-toc-modified-id=\"Exercise:-Ternary-operator-3.2\"><span class=\"toc-item-num\">3.2&nbsp;&nbsp;</span>Exercise: Ternary operator</a></span></li><li><span><a href=\"#Exercise:-Bad-looking-conditional-I\" data-toc-modified-id=\"Exercise:-Bad-looking-conditional-I-3.3\"><span class=\"toc-item-num\">3.3&nbsp;&nbsp;</span>Exercise: Bad looking conditional I</a></span></li><li><span><a href=\"#Exercise:-Bad-looking-conditional-II\" data-toc-modified-id=\"Exercise:-Bad-looking-conditional-II-3.4\"><span class=\"toc-item-num\">3.4&nbsp;&nbsp;</span>Exercise: Bad looking conditional II</a></span></li><li><span><a href=\"#Exercise:-Bad-looking-conditional-III\" data-toc-modified-id=\"Exercise:-Bad-looking-conditional-III-3.5\"><span class=\"toc-item-num\">3.5&nbsp;&nbsp;</span>Exercise: Bad looking conditional III</a></span></li><li><span><a href=\"#Exercise:-Hit-the-area\" data-toc-modified-id=\"Exercise:-Hit-the-area-3.6\"><span class=\"toc-item-num\">3.6&nbsp;&nbsp;</span>Exercise: Hit the area</a></span></li></ul></li><li><span><a href=\"#Loops\" data-toc-modified-id=\"Loops-4\"><span class=\"toc-item-num\">4&nbsp;&nbsp;</span>Loops</a></span><ul class=\"toc-item\"><li><span><a href=\"#Exercise:-X-/-2-/-3\" data-toc-modified-id=\"Exercise:-X-/-2-/-3-4.1\"><span class=\"toc-item-num\">4.1&nbsp;&nbsp;</span>Exercise: X / 2 / 3</a></span></li><li><span><a href=\"#Excercise-#2:-sum-of-numbers-from-20-to-40\" data-toc-modified-id=\"Excercise-#2:-sum-of-numbers-from-20-to-40-4.2\"><span class=\"toc-item-num\">4.2&nbsp;&nbsp;</span>Excercise #2: sum of numbers from 20 to 40</a></span></li><li><span><a href=\"#Exercise:-X-/-2-/-3-!/-7\" data-toc-modified-id=\"Exercise:-X-/-2-/-3-!/-7-4.3\"><span class=\"toc-item-num\">4.3&nbsp;&nbsp;</span>Exercise: X / 2 / 3 !/ 7</a></span></li></ul></li><li><span><a href=\"#Lists\" data-toc-modified-id=\"Lists-5\"><span class=\"toc-item-num\">5&nbsp;&nbsp;</span>Lists</a></span><ul class=\"toc-item\"><li><span><a href=\"#Exercise:-All-greater-then\" data-toc-modified-id=\"Exercise:-All-greater-then-5.1\"><span class=\"toc-item-num\">5.1&nbsp;&nbsp;</span>Exercise: All greater then</a></span></li><li><span><a href=\"#Exercise:-Sum-odd/even-elements\" data-toc-modified-id=\"Exercise:-Sum-odd/even-elements-5.2\"><span class=\"toc-item-num\">5.2&nbsp;&nbsp;</span>Exercise: Sum odd/even elements</a></span></li><li><span><a href=\"#Exercise:-Max-sum\" data-toc-modified-id=\"Exercise:-Max-sum-5.3\"><span class=\"toc-item-num\">5.3&nbsp;&nbsp;</span>Exercise: Max sum</a></span></li><li><span><a href=\"#Exercise:-Join-names-and-surnames\" data-toc-modified-id=\"Exercise:-Join-names-and-surnames-5.4\"><span class=\"toc-item-num\">5.4&nbsp;&nbsp;</span>Exercise: Join names and surnames</a></span></li><li><span><a href=\"#Exercise:-Swap-Nth-and-(N+1)th\" data-toc-modified-id=\"Exercise:-Swap-Nth-and-(N+1)th-5.5\"><span class=\"toc-item-num\">5.5&nbsp;&nbsp;</span>Exercise: Swap Nth and (N+1)th</a></span></li><li><span><a href=\"#Exercise:-Longest-word\" data-toc-modified-id=\"Exercise:-Longest-word-5.6\"><span class=\"toc-item-num\">5.6&nbsp;&nbsp;</span>Exercise: Longest word</a></span></li><li><span><a href=\"#Exercise:-Unjitter\" data-toc-modified-id=\"Exercise:-Unjitter-5.7\"><span class=\"toc-item-num\">5.7&nbsp;&nbsp;</span>Exercise: Unjitter</a></span></li><li><span><a href=\"#Exercise:-List-intersection\" data-toc-modified-id=\"Exercise:-List-intersection-5.8\"><span class=\"toc-item-num\">5.8&nbsp;&nbsp;</span>Exercise: List intersection</a></span></li><li><span><a href=\"#Exercise:-List-of-power-3\" data-toc-modified-id=\"Exercise:-List-of-power-3-5.9\"><span class=\"toc-item-num\">5.9&nbsp;&nbsp;</span>Exercise: List of power 3</a></span></li><li><span><a href=\"#Exercise:-Repetitive-pattern\" data-toc-modified-id=\"Exercise:-Repetitive-pattern-5.10\"><span class=\"toc-item-num\">5.10&nbsp;&nbsp;</span>Exercise: Repetitive pattern</a></span></li><li><span><a href=\"#Exercise:-Lengths-of-S-words\" data-toc-modified-id=\"Exercise:-Lengths-of-S-words-5.11\"><span class=\"toc-item-num\">5.11&nbsp;&nbsp;</span>Exercise: Lengths of S-words</a></span></li><li><span><a href=\"#Exercise:-Identity-matrix\" data-toc-modified-id=\"Exercise:-Identity-matrix-5.12\"><span class=\"toc-item-num\">5.12&nbsp;&nbsp;</span>Exercise: Identity matrix</a></span></li><li><span><a href=\"#Exercise:-Identity-matrix-using-list-comprehension\" data-toc-modified-id=\"Exercise:-Identity-matrix-using-list-comprehension-5.13\"><span class=\"toc-item-num\">5.13&nbsp;&nbsp;</span>Exercise: Identity matrix using list comprehension</a></span></li><li><span><a href=\"#Exercise:-Intersection-using-list-comprehensions\" data-toc-modified-id=\"Exercise:-Intersection-using-list-comprehensions-5.14\"><span class=\"toc-item-num\">5.14&nbsp;&nbsp;</span>Exercise: Intersection using list comprehensions</a></span></li><li><span><a href=\"#Exercise:-Filter-capitals\" data-toc-modified-id=\"Exercise:-Filter-capitals-5.15\"><span class=\"toc-item-num\">5.15&nbsp;&nbsp;</span>Exercise: Filter capitals</a></span></li><li><span><a href=\"#Exercise:-Filter-out-even-numbers\" data-toc-modified-id=\"Exercise:-Filter-out-even-numbers-5.16\"><span class=\"toc-item-num\">5.16&nbsp;&nbsp;</span>Exercise: Filter out even numbers</a></span></li></ul></li><li><span><a href=\"#Tuples\" data-toc-modified-id=\"Tuples-6\"><span class=\"toc-item-num\">6&nbsp;&nbsp;</span>Tuples</a></span><ul class=\"toc-item\"><li><span><a href=\"#Exercise:-Deck-of-cards\" data-toc-modified-id=\"Exercise:-Deck-of-cards-6.1\"><span class=\"toc-item-num\">6.1&nbsp;&nbsp;</span>Exercise: Deck of cards</a></span></li><li><span><a href=\"#Exercise:-Deck-of-cards-using-zip()\" data-toc-modified-id=\"Exercise:-Deck-of-cards-using-zip()-6.2\"><span class=\"toc-item-num\">6.2&nbsp;&nbsp;</span>Exercise: Deck of cards using zip()</a></span></li></ul></li><li><span><a href=\"#Sets\" data-toc-modified-id=\"Sets-7\"><span class=\"toc-item-num\">7&nbsp;&nbsp;</span>Sets</a></span><ul class=\"toc-item\"><li><span><a href=\"#Exercise:-Animals\" data-toc-modified-id=\"Exercise:-Animals-7.1\"><span class=\"toc-item-num\">7.1&nbsp;&nbsp;</span>Exercise: Animals</a></span></li><li><span><a href=\"#Exercise:-Missing-and-additional-elements\" data-toc-modified-id=\"Exercise:-Missing-and-additional-elements-7.2\"><span class=\"toc-item-num\">7.2&nbsp;&nbsp;</span>Exercise: Missing and additional elements</a></span></li></ul></li><li><span><a href=\"#Dictionaries\" data-toc-modified-id=\"Dictionaries-8\"><span class=\"toc-item-num\">8&nbsp;&nbsp;</span>Dictionaries</a></span><ul class=\"toc-item\"><li><span><a href=\"#Exercise:-Basic-dict-operations\" data-toc-modified-id=\"Exercise:-Basic-dict-operations-8.1\"><span class=\"toc-item-num\">8.1&nbsp;&nbsp;</span>Exercise: Basic dict operations</a></span></li><li><span><a href=\"#Exercise:-Dict-of-dicts\" data-toc-modified-id=\"Exercise:-Dict-of-dicts-8.2\"><span class=\"toc-item-num\">8.2&nbsp;&nbsp;</span>Exercise: Dict of dicts</a></span></li><li><span><a href=\"#Exercise:-Merge-conflicting-dicts\" data-toc-modified-id=\"Exercise:-Merge-conflicting-dicts-8.3\"><span class=\"toc-item-num\">8.3&nbsp;&nbsp;</span>Exercise: Merge conflicting dicts</a></span></li><li><span><a href=\"#Exercise:-Family-income\" data-toc-modified-id=\"Exercise:-Family-income-8.4\"><span class=\"toc-item-num\">8.4&nbsp;&nbsp;</span>Exercise: Family income</a></span></li><li><span><a href=\"#Exercise:-Reverse-dict\" data-toc-modified-id=\"Exercise:-Reverse-dict-8.5\"><span class=\"toc-item-num\">8.5&nbsp;&nbsp;</span>Exercise: Reverse dict</a></span></li><li><span><a href=\"#Exercise:-reverse-using-dict-comprehension\" data-toc-modified-id=\"Exercise:-reverse-using-dict-comprehension-8.6\"><span class=\"toc-item-num\">8.6&nbsp;&nbsp;</span>Exercise: reverse using dict comprehension</a></span></li></ul></li><li><span><a href=\"#Functions\" data-toc-modified-id=\"Functions-9\"><span class=\"toc-item-num\">9&nbsp;&nbsp;</span>Functions</a></span><ul class=\"toc-item\"><li><span><a href=\"#Exercise:-Closest-to-zero,-3\" data-toc-modified-id=\"Exercise:-Closest-to-zero,-3-9.1\"><span class=\"toc-item-num\">9.1&nbsp;&nbsp;</span>Exercise: Closest to zero, 3</a></span></li><li><span><a href=\"#Exercise:-Closest-to-zero,-list\" data-toc-modified-id=\"Exercise:-Closest-to-zero,-list-9.2\"><span class=\"toc-item-num\">9.2&nbsp;&nbsp;</span>Exercise: Closest to zero, list</a></span></li><li><span><a href=\"#Exercise:-Closest-to-zero,-variable-args\" data-toc-modified-id=\"Exercise:-Closest-to-zero,-variable-args-9.3\"><span class=\"toc-item-num\">9.3&nbsp;&nbsp;</span>Exercise: Closest to zero, variable args</a></span></li><li><span><a href=\"#Exercise:-Resume\" data-toc-modified-id=\"Exercise:-Resume-9.4\"><span class=\"toc-item-num\">9.4&nbsp;&nbsp;</span>Exercise: Resume</a></span></li><li><span><a href=\"#Exercise:-Recursive-factorial\" data-toc-modified-id=\"Exercise:-Recursive-factorial-9.5\"><span class=\"toc-item-num\">9.5&nbsp;&nbsp;</span>Exercise: Recursive factorial</a></span></li><li><span><a href=\"#Excercise:-Knight's-tour\" data-toc-modified-id=\"Excercise:-Knight's-tour-9.6\"><span class=\"toc-item-num\">9.6&nbsp;&nbsp;</span>Excercise: Knight's tour</a></span></li></ul></li></ul></div>"
   ]
  },
  {
   "cell_type": "markdown",
   "metadata": {},
   "source": [
    "# Practice <a class=\"tocSkip\">\n",
    "\n",
    "## Numerics"
   ]
  },
  {
   "cell_type": "markdown",
   "metadata": {},
   "source": [
    "### Exercise: Young driver\n",
    "\n",
    "Given age, total number of driving hours and the boolean representing if a person knows how to drive a car, produce a boolean expression combining all of the requirements to determine if a person is allowed to take an exam. Requirements: must be older than 18, have at least 32 driving hours and must know how to drive a car.\n",
    "\n",
    "Example data:\n",
    " * age = 19\n",
    " * driving_hours = 40\n",
    " * can_drive = True\n",
    "\n",
    "Expected outcome: True"
   ]
  },
  {
   "cell_type": "code",
   "execution_count": 47,
   "metadata": {},
   "outputs": [
    {
     "data": {
      "text/plain": [
       "False"
      ]
     },
     "execution_count": 47,
     "metadata": {},
     "output_type": "execute_result"
    }
   ],
   "source": [
    "\"\"\"\n",
    "Uncomment these lines and fill in your own data:\n",
    "\n",
    "age = ?\n",
    "driving_hours = ?\n",
    "can_drive = ?\n",
    "\n",
    "A prototype:\n",
    "\n",
    "[test1] [boolean operator] [test2] [boolean operator] [test3]\n",
    "\"\"\"\n",
    "\n",
    "age = 55\n",
    "driving_hours = 10\n",
    "can_drive = True\n",
    "\n",
    "age >= 18 and driving_hours >= 32 and can_drive"
   ]
  },
  {
   "cell_type": "markdown",
   "metadata": {},
   "source": [
    "### Exercise: Three Little Pigs\n",
    "\n",
    "You are about to write the crucial part of a security system. Given a name of a person, check that this particular person is allowed to enter the building. Only these persons are allowed to enter:\n",
    " * Nif-nif\n",
    " * Naf-naf\n",
    " * Nouf-nouf\n",
    " \n",
    "Example data:\n",
    " * name = \"Grey wolf\"\n",
    " \n",
    "Expected outcome: False"
   ]
  },
  {
   "cell_type": "code",
   "execution_count": 48,
   "metadata": {},
   "outputs": [
    {
     "data": {
      "text/plain": [
       "False"
      ]
     },
     "execution_count": 48,
     "metadata": {},
     "output_type": "execute_result"
    }
   ],
   "source": [
    "name = \"Grey wolf\"\n",
    "\n",
    "# [test1] [boolean operator] [test2] [boolean operator] [test3]\n",
    "name == \"Donald Duck\""
   ]
  },
  {
   "cell_type": "markdown",
   "metadata": {},
   "source": [
    "### Exercise: Numeric interval\n",
    "\n",
    "Given interval $(−15,12]\\bigcup(14,17)\\bigcup[19,+\\infty)$\n",
    "\n",
    "Check that numbers -100, 14, 15, 21 fit into the interval.\n",
    "\n",
    " * Here, `(` denotes the start of an interval and the starting number **is not included** into this interval. Same for `)` but it denotes the ending number.\n",
    " * Same with `[` and `]` but numbers **are included** into the interval.\n",
    " \n",
    "Using comparison operators: `>`, `>=`, `<`, `<=` create an expression that results a Boolean showing if a given number hits the interval."
   ]
  },
  {
   "cell_type": "code",
   "execution_count": 49,
   "metadata": {},
   "outputs": [
    {
     "data": {
      "text/plain": [
       "False"
      ]
     },
     "execution_count": 49,
     "metadata": {},
     "output_type": "execute_result"
    }
   ],
   "source": [
    "n = -56\n",
    "n > -15 and n <= 12 or n > 14 and n < 17 or n >= 19"
   ]
  },
  {
   "attachments": {
    "complex_figure.png": {
     "image/png": "[encoded data removed]"
    }
   },
   "cell_type": "markdown",
   "metadata": {},
   "source": [
    "### Exercise: Calculate the area\n",
    "\n",
    "Use Python as a calculator. Calculate the painted area. Result in $m^2$.\n",
    "\n",
    "![complex_figure.png](attachment:complex_figure.png)"
   ]
  },
  {
   "cell_type": "code",
   "execution_count": 50,
   "metadata": {},
   "outputs": [],
   "source": [
    "# your code here"
   ]
  },
  {
   "cell_type": "markdown",
   "metadata": {},
   "source": [
    "## Strings\n",
    "### Exercise: speare Shake\n",
    "\n",
    "Concatenate strings in correct order (using \"+\" operator):"
   ]
  },
  {
   "cell_type": "code",
   "execution_count": 51,
   "metadata": {},
   "outputs": [],
   "source": [
    "a = 'to be'\n",
    "b = 'or not'\n",
    "c = 'that is the question'"
   ]
  },
  {
   "cell_type": "markdown",
   "metadata": {},
   "source": [
    "### Exercise: Simple formatting\n",
    "\n",
    "Print out \"London is the capital of Great Britain\" by providing your own template:\n",
    "\n",
    "`<your template here>.format(\"London\", \"Great Britain\")`"
   ]
  },
  {
   "cell_type": "code",
   "execution_count": null,
   "metadata": {},
   "outputs": [],
   "source": []
  },
  {
   "cell_type": "markdown",
   "metadata": {},
   "source": [
    "### Exercise: Ordered formatting\n",
    "\n",
    "Print out \"London is the capital of Great Britain\" by providing your own template:\n",
    "\n",
    "`<your template here>.format(\"Great Britain\", \"London\")`"
   ]
  },
  {
   "cell_type": "code",
   "execution_count": null,
   "metadata": {},
   "outputs": [],
   "source": []
  },
  {
   "cell_type": "markdown",
   "metadata": {},
   "source": [
    "### Exercise: String formating floats\n",
    "\n",
    "Print out \"An approximate value of PI is 3.14\" by providing your own template.\n",
    "\n",
    "`<your template here>.format(3.14159265359)`\n",
    "\n",
    "Hint: use `{:.2f}` to round a number to 2 decimals while printing."
   ]
  },
  {
   "cell_type": "code",
   "execution_count": null,
   "metadata": {},
   "outputs": [],
   "source": []
  },
  {
   "cell_type": "markdown",
   "metadata": {},
   "source": [
    "### Exercise: make a headline II\n",
    "\n",
    "Given a string, produce a newspaper headline:\n",
    "\n",
    "`computer virus spreads to humans`\n",
    "\n",
    "becomes:\n",
    "\n",
    "`Computer Virus Spreads to Humans`\n",
    "\n",
    "Hint: use `str.title()` and `str.replace()`."
   ]
  },
  {
   "cell_type": "markdown",
   "metadata": {},
   "source": [
    "### Exercise: Reformat a string\n",
    "\n",
    "Given a string: `=== python is great ===`, produce a new string: `** Python is Great **` by chaining string methods:\n",
    " * strip\n",
    " * title\n",
    " * replace\n",
    " * center\n",
    " \n",
    "or use your own set of methods!\n",
    "\n",
    "To get a quick help on a string method, put this `?str.method` in an empty code cell and run it!"
   ]
  },
  {
   "cell_type": "code",
   "execution_count": 52,
   "metadata": {},
   "outputs": [],
   "source": [
    "# '=== python is great ==='.something().something().something().something()"
   ]
  },
  {
   "cell_type": "markdown",
   "metadata": {},
   "source": [
    "### Exercise: Replace back\n",
    "\n",
    "```\n",
    "original.replace('o', 'w').replace('a', 'o').replace('t', 'a').replace('p', 't').replace('y', 'p')\n",
    "```\n",
    "\n",
    "Result is `tpahwnisao`\n",
    "\n",
    "Restore the original string"
   ]
  },
  {
   "cell_type": "code",
   "execution_count": 53,
   "metadata": {},
   "outputs": [],
   "source": [
    "# your code here"
   ]
  },
  {
   "cell_type": "markdown",
   "metadata": {},
   "source": [
    "### Exercise: Slice and Dice I\n",
    "\n",
    "Get characters from `garbage` given indices, concatenate and print out the result. Indices: **12, 15, 1, 7**"
   ]
  },
  {
   "cell_type": "code",
   "execution_count": 54,
   "metadata": {},
   "outputs": [],
   "source": [
    "garbage = \"kat7ri1ngb22Akklq7mxz^&324nj3ba1Tu9\"\n",
    "\n",
    "# garbage[??] + ..."
   ]
  },
  {
   "cell_type": "markdown",
   "metadata": {},
   "source": [
    "### Exercise: Slice and Dice II\n",
    "\n",
    "Get characters from `garbage` given intervals, concatenate and print out the result. Indices:\n",
    " * starts at position 32 + 2 characters more\n",
    " * 4 + 2\n",
    " * 7 + 2"
   ]
  },
  {
   "cell_type": "code",
   "execution_count": 55,
   "metadata": {},
   "outputs": [],
   "source": [
    "# garbage[??:??] + ..."
   ]
  },
  {
   "cell_type": "markdown",
   "metadata": {},
   "source": [
    "### Exercise: Secret message\n",
    "\n",
    "Given encoded message restore the original string using slicing syntax."
   ]
  },
  {
   "cell_type": "code",
   "execution_count": 56,
   "metadata": {},
   "outputs": [],
   "source": [
    "# This is the secret message\n",
    "secret_message = \"XeXgXaXsXsXeXmX XtXeXrXcXeXs\"\n",
    "\n",
    "# Uncomment and replace ?? with a valid slicing expression to restore the original string\n",
    "# secret_message[??:??:??]"
   ]
  },
  {
   "cell_type": "markdown",
   "metadata": {},
   "source": [
    "## Conditionals"
   ]
  },
  {
   "cell_type": "markdown",
   "metadata": {},
   "source": [
    "### Exercise: Closer to zero\n",
    "\n",
    "Print number closest to zero.\n",
    "\n",
    "Hint: read help on `abs()`"
   ]
  },
  {
   "cell_type": "code",
   "execution_count": 57,
   "metadata": {},
   "outputs": [],
   "source": [
    "# Test with:\n",
    "#x, y, z = 1, 32, -1\n",
    "#x, y, z = 12, 0, 11\n",
    "#x, y, z = -10, -20, -1\n",
    "#\n",
    "# if <something>:\n",
    "#      print"
   ]
  },
  {
   "cell_type": "markdown",
   "metadata": {},
   "source": [
    "Harder task: find a solution using ternary operator"
   ]
  },
  {
   "cell_type": "markdown",
   "metadata": {},
   "source": [
    "### Exercise: Ternary operator\n",
    "\n",
    "Rewrite the code below using the ternary operator:"
   ]
  },
  {
   "cell_type": "code",
   "execution_count": 58,
   "metadata": {},
   "outputs": [],
   "source": [
    "x = \"Yes\"\n",
    "if x == \"Yes\":\n",
    "    y = True\n",
    "else:\n",
    "    y = False"
   ]
  },
  {
   "cell_type": "markdown",
   "metadata": {},
   "source": [
    "### Exercise: Bad looking conditional I\n",
    "\n",
    "Given an ugly piece of code below, rewrite it using boolean operator `and` inside if condition."
   ]
  },
  {
   "cell_type": "code",
   "execution_count": 59,
   "metadata": {},
   "outputs": [
    {
     "name": "stdout",
     "output_type": "stream",
     "text": [
      "Get driving license!\n"
     ]
    }
   ],
   "source": [
    "age = 19\n",
    "driving_hours = 40\n",
    "knows_theory = True\n",
    "\n",
    "if age >= 18:\n",
    "    if driving_hours >= 32:\n",
    "        if knows_theory:\n",
    "            print \"Get driving license!\""
   ]
  },
  {
   "cell_type": "markdown",
   "metadata": {},
   "source": [
    "### Exercise: Bad looking conditional II\n",
    "\n",
    "Now please use `elif` to refactor the code below. Think why it's better now."
   ]
  },
  {
   "cell_type": "code",
   "execution_count": 60,
   "metadata": {},
   "outputs": [
    {
     "name": "stdout",
     "output_type": "stream",
     "text": [
      "Let in!\n"
     ]
    }
   ],
   "source": [
    "pig = \"Nouf-nouf\"\n",
    "\n",
    "if pig == \"Nif-nif\":\n",
    "    print \"Let in!\"\n",
    "    \n",
    "if pig == \"Naf-naf\":\n",
    "    print \"Let in!\"  \n",
    "    \n",
    "if pig == \"Nouf-nouf\":\n",
    "    print \"Let in!\""
   ]
  },
  {
   "cell_type": "markdown",
   "metadata": {},
   "source": [
    "### Exercise: Bad looking conditional III\n",
    "\n",
    "Taking previous example, please refactor it using `or` boolean operator. Doesn't it look even better?"
   ]
  },
  {
   "cell_type": "code",
   "execution_count": 4,
   "metadata": {},
   "outputs": [],
   "source": [
    "# your code here"
   ]
  },
  {
   "attachments": {
    "complex_figure_axes.png": {
     "image/png": "[encoded data removed]"
    }
   },
   "cell_type": "markdown",
   "metadata": {},
   "source": [
    "### Exercise: Hit the area\n",
    "\n",
    "Given figure:\n",
    "\n",
    "![complex_figure_axes.png](attachment:complex_figure_axes.png)\n",
    "\n",
    "Check that coordinates are hitting painted areas. Treat boundaries inclusively."
   ]
  },
  {
   "cell_type": "code",
   "execution_count": 3,
   "metadata": {},
   "outputs": [],
   "source": [
    "# test with values:\n",
    "# x = 0; y = 0 # => True\n",
    "# x = -1; y = -1 # => False\n",
    "# x = 0.3; y = 0.1 # => True\n",
    "# x = 0.5; y = 0.4 # => True\n",
    "# x = 0.5; y = 0.3 # => False\n",
    "# x = 0.3; y = 0.4 # => False\n",
    "# x = 0.3; y = 0.25 # => False\n",
    "# x = 0.6; y = 0.5 # => False\n",
    "\n",
    "# your code here"
   ]
  },
  {
   "cell_type": "markdown",
   "metadata": {},
   "source": [
    "## Loops"
   ]
  },
  {
   "cell_type": "markdown",
   "metadata": {},
   "source": [
    "### Exercise: X / 2 / 3\n",
    "\n",
    "Print numbers from 0 up to 100 divisible by **2 AND 3**"
   ]
  },
  {
   "cell_type": "code",
   "execution_count": 61,
   "metadata": {},
   "outputs": [],
   "source": [
    "for i in range(100):\n",
    "    # replace pass with actual code\n",
    "    pass"
   ]
  },
  {
   "cell_type": "markdown",
   "metadata": {},
   "source": [
    "### Excercise #2: sum of numbers from 20 to 40\n",
    "\n",
    "Using for-loop, sum numbers: 20 + 21 + ... + 40"
   ]
  },
  {
   "cell_type": "code",
   "execution_count": 62,
   "metadata": {},
   "outputs": [
    {
     "data": {
      "text/plain": [
       "0"
      ]
     },
     "execution_count": 62,
     "metadata": {},
     "output_type": "execute_result"
    }
   ],
   "source": [
    "x = 0 # this is your accumulator\n",
    "\n",
    "for i in range(20):\n",
    "    pass\n",
    "\n",
    "x"
   ]
  },
  {
   "cell_type": "markdown",
   "metadata": {},
   "source": [
    "### Exercise: X / 2 / 3 !/ 7\n",
    "\n",
    "Print out **all numbers** divisible by **2 or 3**. Stop when the number is **also** divisible by **7**.\n",
    "\n",
    "Example: 6, 12, "
   ]
  },
  {
   "cell_type": "code",
   "execution_count": 63,
   "metadata": {},
   "outputs": [],
   "source": [
    "#i = 0\n",
    "#while True:\n",
    "#    i += 1\n",
    "#    <your code here>\n",
    "#    if <something>:\n",
    "#        break"
   ]
  },
  {
   "cell_type": "markdown",
   "metadata": {},
   "source": [
    "## Lists"
   ]
  },
  {
   "cell_type": "markdown",
   "metadata": {},
   "source": [
    "### Exercise: All greater then\n",
    "\n",
    "Write a Python program to find all the values in a list are greater than a specified number."
   ]
  },
  {
   "cell_type": "code",
   "execution_count": 8,
   "metadata": {},
   "outputs": [],
   "source": [
    "check = [777, 220, 330, 500, 1211, 200]\n",
    "greater_then = 100\n",
    "\n",
    "# expected result True\n",
    "#\n",
    "# greater_then = 300\n",
    "# expected result False"
   ]
  },
  {
   "cell_type": "markdown",
   "metadata": {},
   "source": [
    "### Exercise: Sum odd/even elements\n",
    "\n",
    "Given a list, find the sum of:\n",
    " * 0th, 2th, 4th, 6th, ... elements\n",
    " * 1th, 3th, 5th, 7th, ... elements"
   ]
  },
  {
   "cell_type": "code",
   "execution_count": 17,
   "metadata": {},
   "outputs": [],
   "source": [
    "elements = [1, 2, 3, 4, 5, 6]\n",
    "\n",
    "# your code here"
   ]
  },
  {
   "cell_type": "markdown",
   "metadata": {},
   "source": [
    "### Exercise: Max sum\n",
    "\n",
    "Write a Python program to find the list in a list of lists whose sum of elements is the highest."
   ]
  },
  {
   "cell_type": "code",
   "execution_count": 9,
   "metadata": {},
   "outputs": [],
   "source": [
    "num = [[1, 2, 3], [4, 5, 6], [10, 11, 12], [7, 8, 9]]\n",
    "\n",
    "# expected output:\n",
    "# [10, 11, 12]"
   ]
  },
  {
   "cell_type": "markdown",
   "metadata": {},
   "source": [
    "### Exercise: Join names and surnames\n",
    "\n",
    "Given two lists of exact sizes produce new list where each corresponding element is the concatenation of both."
   ]
  },
  {
   "cell_type": "code",
   "execution_count": null,
   "metadata": {},
   "outputs": [],
   "source": [
    "names = ['Ridley', 'David', 'James', 'George', 'Christopher']\n",
    "surnames = ['Scott', 'Lynch', 'Cameron', 'Lucas', 'Nolan']\n",
    "\n",
    "# expected result:\n",
    "# ['Ridley Scott', 'David Lynch', 'James Cameron', 'George Lucas', 'Christopher Nolan']"
   ]
  },
  {
   "cell_type": "markdown",
   "metadata": {},
   "source": [
    "### Exercise: Swap Nth and (N+1)th\n",
    "\n",
    "Write a Python program to change the position of every $i_n$ value with the $i_{n+1}$ in a list."
   ]
  },
  {
   "cell_type": "code",
   "execution_count": 11,
   "metadata": {},
   "outputs": [],
   "source": [
    "source = [1, 0, 3, 2, 5, 4, 7, 9]\n",
    "expected = [0, 1, 2, 3, 4, 5, 9, 7]"
   ]
  },
  {
   "cell_type": "markdown",
   "metadata": {},
   "source": [
    "### Exercise: Longest word\n",
    "\n",
    "* `str.replace()` to remove punctuation symbols\n",
    "* `str.split()` to convert string to list of substrings\n",
    "* use `for` and iterate over the list"
   ]
  },
  {
   "cell_type": "code",
   "execution_count": 64,
   "metadata": {},
   "outputs": [],
   "source": [
    "text = 'Words have the power to both destroy and heal. When words are both true and kind, they can change our world'\n",
    "\n",
    "# words = text.replace(?).replace(?).split(?)\n",
    "# longest_word = ''\n",
    "# for word in words:\n",
    "#     if ... > len(longest_word):\n",
    "#         longest_word = word\n",
    "# word"
   ]
  },
  {
   "cell_type": "markdown",
   "metadata": {},
   "source": [
    "### Exercise: Unjitter\n",
    "\n",
    "* interate over the list and put unique words into accumlating array\n",
    "* `str.join()` to join strings from the list using delimiter"
   ]
  },
  {
   "cell_type": "code",
   "execution_count": 65,
   "metadata": {},
   "outputs": [],
   "source": [
    "# firstly make a list from this string\n",
    "text = 'to to every every every action there there there there is is always always opposed opposed opposed an an an an an equal reaction reaction reaction'\n",
    "# words = ...\n",
    "\n",
    "accumulator = []\n",
    "prev_word = ''\n",
    "\n",
    "# for word in words:\n",
    "#     if ...:\n",
    "#         accumulator.append(...)"
   ]
  },
  {
   "cell_type": "markdown",
   "metadata": {},
   "source": [
    "### Exercise: List intersection\n",
    "\n",
    "Find the list of common words:"
   ]
  },
  {
   "cell_type": "code",
   "execution_count": 66,
   "metadata": {},
   "outputs": [],
   "source": [
    "text1 = ('and now instead the clouds that am whole rudely stamped is war '\n",
    "         'more hath than smoothed his the fair proportion house sum to '\n",
    "         'of strut its before a want loured parts upon our discontent')\n",
    "        \n",
    "text2 = 'in deep whole bosom fearful is marches court more ' \\\n",
    "        'an amorous than wreaths the bruised sum arms hung ' \\\n",
    "        'of up for its made glorious parts summer by this wrinkled front'\n",
    "\n",
    "# 1. create two lists from these strings\n",
    "# 2. iterate over one of the lists\n",
    "# 3. if word appears in the second list -- put it into accumulator"
   ]
  },
  {
   "cell_type": "markdown",
   "metadata": {},
   "source": [
    "### Exercise: List of power 3\n",
    "\n",
    "Generate list of numbers from 0 to 10 (inclusive) raised to the power of 3.\n",
    "\n",
    "* Using conventional for-loop\n",
    "* Using list comprehensions"
   ]
  },
  {
   "cell_type": "code",
   "execution_count": 7,
   "metadata": {},
   "outputs": [
    {
     "data": {
      "text/plain": [
       "256"
      ]
     },
     "execution_count": 7,
     "metadata": {},
     "output_type": "execute_result"
    }
   ],
   "source": [
    "# to raise number X to power N\n",
    "2 ** 8"
   ]
  },
  {
   "cell_type": "code",
   "execution_count": 1,
   "metadata": {},
   "outputs": [
    {
     "data": {
      "text/plain": [
       "[]"
      ]
     },
     "execution_count": 1,
     "metadata": {},
     "output_type": "execute_result"
    }
   ],
   "source": [
    "# result is for storing numbers\n",
    "result = []\n",
    "\n",
    "# for something:\n",
    "#     append to list here\n",
    "\n",
    "result"
   ]
  },
  {
   "cell_type": "markdown",
   "metadata": {},
   "source": [
    "Just a reminder. Typical this:\n",
    "```\n",
    "x = []\n",
    "for y in <iterable>:\n",
    "    x.append(<operation_with_y>(y))\n",
    "```\n",
    "\n",
    "Becomes this (using list comprehensions):\n",
    "```\n",
    "x = [<operation_with_y>(y) for y in <iterable>]\n",
    "```"
   ]
  },
  {
   "cell_type": "code",
   "execution_count": 3,
   "metadata": {},
   "outputs": [],
   "source": [
    "# result = [something for something in something]\n",
    "# result"
   ]
  },
  {
   "cell_type": "markdown",
   "metadata": {},
   "source": [
    "### Exercise: Repetitive pattern\n",
    "\n",
    "Generate list filled with pattern: 1 2 3 4 1 2 3 ...\n",
    "\n",
    "Total number of elements: 14\n",
    "\n",
    "Try to use solely list comprehensions."
   ]
  },
  {
   "cell_type": "code",
   "execution_count": 8,
   "metadata": {},
   "outputs": [],
   "source": [
    "# [fill in your code here]"
   ]
  },
  {
   "cell_type": "markdown",
   "metadata": {},
   "source": [
    "### Exercise: Lengths of S-words\n",
    "\n",
    "Given a list of words, produce another list of lengths of each word starting with 's'. Those not starting with 's' must be omitted.\n",
    "\n",
    "* Using conventional for-loop\n",
    "* Using list comprehensions"
   ]
  },
  {
   "cell_type": "code",
   "execution_count": 11,
   "metadata": {},
   "outputs": [],
   "source": [
    "quote = 'it has been said that democracy is the worst form of government except all the others that have been tried'\n",
    "words = quote.split()"
   ]
  },
  {
   "cell_type": "code",
   "execution_count": null,
   "metadata": {},
   "outputs": [],
   "source": [
    "# run the cell above to define `words` list\n",
    "# fill this cell with your code and run\n",
    "\n",
    "lengths = []\n",
    "# for word in words:\n",
    "#     # apply len() here and put result to lengths, don't forget to check for s-word\n",
    "lengths"
   ]
  },
  {
   "cell_type": "markdown",
   "metadata": {},
   "source": [
    "To make a list comprehension expression:\n",
    "```\n",
    "x = []\n",
    "for y in <iterable>:\n",
    "    if <condition>:\n",
    "        x.append(<operation_with_y>(y))\n",
    "```\n",
    "\n",
    "Becomes this:\n",
    "```\n",
    "x = [<operation_with_y>(y) for y in <iterable> if <condition>]\n",
    "```"
   ]
  },
  {
   "cell_type": "markdown",
   "metadata": {},
   "source": [
    "### Exercise: Identity matrix\n",
    "\n",
    "> In linear algebra, the identity matrix, of size n is the n × n square matrix with ones on the main diagonal and zeros elsewhere.\n",
    "\n",
    "Here is the 3x3 identity matrix:\n",
    "\n",
    "```\n",
    "[[1, 0, 0],\n",
    " [0, 1, 0],\n",
    " [0, 0, 1]]\n",
    " ```\n",
    " \n",
    "Now produce a 5x5 matrix like so:\n",
    "\n",
    " * Create a zeroed 5x5 matrix\n",
    " * Using two nested loops (by `i` and `j`), set appropriate elements to `1` where `i == j`\n",
    " * Print out results\n",
    " \n",
    "Think is it enough with just one loop?"
   ]
  },
  {
   "cell_type": "code",
   "execution_count": 10,
   "metadata": {},
   "outputs": [],
   "source": [
    "## first, create a zeroed matrix\n",
    "# matrix = ... \n",
    "#\n",
    "# for i in ...:\n",
    "#     for j in ...:\n",
    "#         if ...:\n",
    "#             ... = 1\n",
    "# \n",
    "# matrix"
   ]
  },
  {
   "cell_type": "markdown",
   "metadata": {},
   "source": [
    "### Exercise: Identity matrix using list comprehension\n",
    "\n",
    "Because this zeroed matrix definition is a list comprehension itself:\n",
    "\n",
    "```\n",
    "[[0] * X for i in range(X)]\n",
    "```\n",
    "\n",
    "We can slightly alter it to produce an identity matrix.\n",
    "\n",
    "Here's the outline:\n",
    "```\n",
    "[[1 if <condition> else 0 for x in <iterable1>] for y in <iterable1>]\n",
    "```"
   ]
  },
  {
   "cell_type": "code",
   "execution_count": 19,
   "metadata": {},
   "outputs": [],
   "source": [
    "# [[1 if ... else 0 for x in ...] for y in ...]"
   ]
  },
  {
   "cell_type": "markdown",
   "metadata": {},
   "source": [
    "### Exercise: Intersection using list comprehensions\n",
    "\n",
    "Rewrite following for-loop using list comprehensions"
   ]
  },
  {
   "cell_type": "code",
   "execution_count": 15,
   "metadata": {},
   "outputs": [
    {
     "data": {
      "text/plain": [
       "['Anna', 'Kate']"
      ]
     },
     "execution_count": 15,
     "metadata": {},
     "output_type": "execute_result"
    }
   ],
   "source": [
    "guests = ['John', 'Brad', 'Anna', 'Kate', 'Jack', 'Antony']\n",
    "girls = ['Tanya', 'Caroline', 'Beverly', 'Kate', 'Anna']\n",
    "\n",
    "girl_guests = []\n",
    "\n",
    "for g in guests:\n",
    "    if g in girls:\n",
    "        girl_guests += [g]\n",
    "        \n",
    "girl_guests"
   ]
  },
  {
   "cell_type": "code",
   "execution_count": 16,
   "metadata": {},
   "outputs": [],
   "source": [
    "# solution outline:\n",
    "# girl_guests = [g for g in guests if ...]"
   ]
  },
  {
   "cell_type": "markdown",
   "metadata": {},
   "source": [
    "### Exercise: Filter capitals\n",
    "\n",
    "Filter out city names using list comprehensions:\n",
    "\n",
    "* Hint: to check if symbol is uppercase use `str.isupper()`"
   ]
  },
  {
   "cell_type": "code",
   "execution_count": 17,
   "metadata": {},
   "outputs": [
    {
     "data": {
      "text/plain": [
       "['Moscow', 'London']"
      ]
     },
     "execution_count": 17,
     "metadata": {},
     "output_type": "execute_result"
    }
   ],
   "source": [
    "words = ['cat', 'Moscow', 'dog', 'mouse', 'London', 'fish']\n",
    "\n",
    "# reference code using simple iterator, rewrite it using list comprehension\n",
    "capitals = []\n",
    "for word in words:\n",
    "    if word[0].isupper():\n",
    "        capitals += [word]\n",
    "\n",
    "capitals"
   ]
  },
  {
   "cell_type": "code",
   "execution_count": 18,
   "metadata": {},
   "outputs": [],
   "source": [
    "# solution outline:\n",
    "# capitals = [...]"
   ]
  },
  {
   "cell_type": "markdown",
   "metadata": {},
   "source": [
    "### Exercise: Filter out even numbers\n",
    "\n",
    "Write a Python program to print the numbers of a specified list after removing even numbers from it.\n",
    "\n",
    "Use a list comprehension please."
   ]
  },
  {
   "cell_type": "code",
   "execution_count": 12,
   "metadata": {},
   "outputs": [],
   "source": [
    "nums = [7, 8, 120, 25, 44, 20, 27]\n",
    "\n",
    "# expected result:\n",
    "# [7, 25, 27]"
   ]
  },
  {
   "cell_type": "markdown",
   "metadata": {},
   "source": [
    "## Tuples"
   ]
  },
  {
   "cell_type": "markdown",
   "metadata": {},
   "source": [
    "### Exercise: Deck of cards\n",
    "\n",
    "Create full deck of cards with the following structure:\n",
    "\n",
    "`[('2', 'H'), ('2', 'C'), ..., ('A', 'D'), ('A', 'S')]`"
   ]
  },
  {
   "cell_type": "code",
   "execution_count": null,
   "metadata": {},
   "outputs": [],
   "source": [
    "suits = [\"H\", \"C\", \"D\", \"S\"]\n",
    "ranks = [\"2\", \"3\", \"4\", \"5\", \"6\", \"7\", \"8\", \"9\", \"10\", \"J\", \"Q\", \"K\", \"A\"]\n",
    "\n",
    "# cards = "
   ]
  },
  {
   "cell_type": "markdown",
   "metadata": {},
   "source": [
    "### Exercise: Deck of cards using zip()\n",
    "\n",
    "Produce same result but using `zip()` function."
   ]
  },
  {
   "cell_type": "code",
   "execution_count": 26,
   "metadata": {},
   "outputs": [
    {
     "data": {
      "text/plain": [
       "[('2', 'H'), ('2', 'C'), ('2', 'D'), ('2', 'S')]"
      ]
     },
     "execution_count": 26,
     "metadata": {},
     "output_type": "execute_result"
    }
   ],
   "source": [
    "# what zip does?\n",
    "zip(['2', '2', '2', '2'], ['H', 'C', 'D', 'S'])"
   ]
  },
  {
   "cell_type": "markdown",
   "metadata": {},
   "source": [
    "You will need two lists:\n",
    " * Each element of ranks repeated 4 times: 52 in total\n",
    " * Suits repeated 13 times"
   ]
  },
  {
   "cell_type": "markdown",
   "metadata": {},
   "source": [
    "## Sets\n",
    "### Exercise: Animals\n",
    "\n",
    "Find omivores (those creatures who eat meat or herbs)."
   ]
  },
  {
   "cell_type": "code",
   "execution_count": 27,
   "metadata": {},
   "outputs": [],
   "source": [
    "herbivores = {'rabbit', 'giraffe', 'horse', 'bear', 'cow', 'human', 'zebra', 'pig', 'chicken', 'kangaroo', 'goat'}\n",
    "carnivores = {'tiger', 'cat', 'shark', 'human', 'eagle', 'wolf', 'pig', 'lion', 'bear', 'python', 'dog', 'owl'}\n",
    "\n",
    "# omnivores = ...."
   ]
  },
  {
   "cell_type": "markdown",
   "metadata": {},
   "source": [
    "### Exercise: Missing and additional elements\n",
    "\n",
    "Write a Python program to find missing and additional values in two lists."
   ]
  },
  {
   "cell_type": "code",
   "execution_count": null,
   "metadata": {},
   "outputs": [],
   "source": [
    "list1 = ['a','b','c','d','e','f']\n",
    "list2 = ['d','e','f','g','h']\n",
    "\n",
    "# Expected output:\n",
    "#\n",
    "# Missing values in second list:  b, c, a  \n",
    "# Additional values in second list:  g, h"
   ]
  },
  {
   "cell_type": "markdown",
   "metadata": {},
   "source": [
    "## Dictionaries\n",
    "### Exercise: Basic dict operations\n",
    "\n",
    "Create a dict given data from the following table and print out\n",
    "\n",
    "| legs | fly? | sound |\n",
    "| --- | --- | --- |\n",
    "| 4 | False | Meow |"
   ]
  },
  {
   "cell_type": "code",
   "execution_count": null,
   "metadata": {},
   "outputs": [],
   "source": [
    "#animal = ..."
   ]
  },
  {
   "cell_type": "markdown",
   "metadata": {},
   "source": [
    "Update (do not create new dict) `animal` dict you've just created. Add key `eyes` => `green`."
   ]
  },
  {
   "cell_type": "code",
   "execution_count": null,
   "metadata": {},
   "outputs": [],
   "source": [
    "#animal[your code]..."
   ]
  },
  {
   "cell_type": "markdown",
   "metadata": {},
   "source": [
    "Merge `animal` dict with another dict `nutrition_facts` by modifying source dict, print result."
   ]
  },
  {
   "cell_type": "code",
   "execution_count": null,
   "metadata": {},
   "outputs": [],
   "source": [
    "nutrition_facts = {\n",
    "    'eats': ['fish', 'meat', 'milk'],\n",
    "    'max_weight_kg': 10\n",
    "}\n",
    "\n",
    "# animal.something(nutrition_facts)"
   ]
  },
  {
   "cell_type": "markdown",
   "metadata": {},
   "source": [
    "### Exercise: Dict of dicts\n",
    "\n",
    "Create a dict of dicts given data from the following table and print out. Here ***key*** column denotes the key for the topmost level.\n",
    "\n",
    "| ***key*** | legs | fly? | sound |\n",
    "| --- | --- | --- | --- |\n",
    "| cat | 4 | False | Meow |\n",
    "| dog | 4 | False | Wow |\n",
    "| pigeon | 2 | True | Coo |\n",
    "| fox | 4 | False | What? |"
   ]
  },
  {
   "cell_type": "code",
   "execution_count": null,
   "metadata": {},
   "outputs": [],
   "source": [
    "animals = {}"
   ]
  },
  {
   "cell_type": "markdown",
   "metadata": {},
   "source": [
    "Now answer the question: what does the fox say? by uncommenting and running next line:"
   ]
  },
  {
   "cell_type": "code",
   "execution_count": 28,
   "metadata": {},
   "outputs": [],
   "source": [
    "# animals['fox']['sound']"
   ]
  },
  {
   "cell_type": "markdown",
   "metadata": {},
   "source": [
    "### Exercise: Merge conflicting dicts\n",
    "\n",
    "Please notice that dict's `update()` method can ovveride data if keys are conflicting."
   ]
  },
  {
   "cell_type": "code",
   "execution_count": 30,
   "metadata": {},
   "outputs": [
    {
     "data": {
      "text/plain": [
       "{'born': 1999, 'edu': {}, 'interests': ['photography'], 'mood': 'happy'}"
      ]
     },
     "execution_count": 30,
     "metadata": {},
     "output_type": "execute_result"
    }
   ],
   "source": [
    "cv = dict(born=1999, interests=['python', 'snowboard', 'pets'], edu={'school': 2016})\n",
    "social = dict(mood='happy', interests=['photography'], edu={})\n",
    "\n",
    "cv.update(social)\n",
    "cv"
   ]
  },
  {
   "cell_type": "markdown",
   "metadata": {},
   "source": [
    "Look, interests from `cv` are lost. Unfortunately there're no built-in method to deal with merge conflicts, each case is unique and must be handled separately.\n",
    "\n",
    "Write a code to merge 2 dictionaries: cv and social without loosing any information.\n",
    "\n",
    "Luckily, our structures are semantically mergeable (interests in both dictionaries are lists, thus can be merged). How do you think, is it possible to merge these two dicts?\n",
    "\n",
    "`dict(name='Yuri')` and `dict(name='Yury')`\n",
    "\n",
    "Definitely there is no universal answer."
   ]
  },
  {
   "cell_type": "code",
   "execution_count": null,
   "metadata": {},
   "outputs": [],
   "source": []
  },
  {
   "cell_type": "markdown",
   "metadata": {},
   "source": [
    "### Exercise: Family income\n",
    "\n",
    "Given the **list of dictionaries**:"
   ]
  },
  {
   "cell_type": "code",
   "execution_count": 31,
   "metadata": {},
   "outputs": [],
   "source": [
    "dataset = [\n",
    "    {'name': 'Grandma', 'salary': 100},\n",
    "    {'name': 'Dad', 'salary': 1000},\n",
    "    {'name': 'Mom', 'salary': 500},\n",
    "    {'name': 'Son'},\n",
    "    {'name': 'Daughter', 'salary': 200},\n",
    "    {'name': 'Cat', 'salary': -50}, \n",
    "]"
   ]
  },
  {
   "cell_type": "markdown",
   "metadata": {},
   "source": [
    "Here, for example, we iterate over the list and collect names of each family member into a list:"
   ]
  },
  {
   "cell_type": "code",
   "execution_count": 32,
   "metadata": {},
   "outputs": [
    {
     "data": {
      "text/plain": [
       "['Grandma', 'Dad', 'Mom', 'Son', 'Daughter', 'Cat']"
      ]
     },
     "execution_count": 32,
     "metadata": {},
     "output_type": "execute_result"
    }
   ],
   "source": [
    "names = []\n",
    "for d in dataset:\n",
    "    names.append(d['name'])\n",
    "names"
   ]
  },
  {
   "cell_type": "markdown",
   "metadata": {},
   "source": [
    "Equivalent code using list comprehension:"
   ]
  },
  {
   "cell_type": "code",
   "execution_count": 33,
   "metadata": {},
   "outputs": [
    {
     "data": {
      "text/plain": [
       "['Grandma', 'Dad', 'Mom', 'Son', 'Daughter', 'Cat']"
      ]
     },
     "execution_count": 33,
     "metadata": {},
     "output_type": "execute_result"
    }
   ],
   "source": [
    "[d['name'] for d in dataset]"
   ]
  },
  {
   "cell_type": "markdown",
   "metadata": {},
   "source": [
    "Sum up salaries of all family members (excluding those who only spend, not earn, e.g. 'salary' > 0).\n",
    "\n",
    "Iterate over the list and take 'salary' key of each dict (if it presents and matches required condition).\n",
    "\n",
    "Hint: use `\"mykey\" in d.keys()` to check if `mykey` exists in dictionary `d` or use `d.get('mykey', 'default')` that returns `default` in case if there are no `mykey` in the dict."
   ]
  },
  {
   "cell_type": "code",
   "execution_count": 34,
   "metadata": {},
   "outputs": [],
   "source": [
    "# [d['salary'] for d in dataset if ? and ? > 0]"
   ]
  },
  {
   "cell_type": "markdown",
   "metadata": {},
   "source": [
    "### Exercise: Reverse dict\n",
    "\n",
    "Make a new dictionary by changing places keys and values of a source dictionary using **for loop**."
   ]
  },
  {
   "cell_type": "code",
   "execution_count": 35,
   "metadata": {},
   "outputs": [
    {
     "data": {
      "text/plain": [
       "{}"
      ]
     },
     "execution_count": 35,
     "metadata": {},
     "output_type": "execute_result"
    }
   ],
   "source": [
    "language_year = dict(\n",
    "    python=1991,\n",
    "    lua=1993,\n",
    "    ruby=1995,\n",
    "    java=1995,\n",
    "    javascript=1995\n",
    ")\n",
    "\n",
    "year_language = dict()\n",
    "\n",
    "# use \n",
    "# for i in language_year:\n",
    "#\n",
    "# it's the same as\n",
    "# for i in language_year.keys():\n",
    "#\n",
    "# but better use\n",
    "# for i in language_year.items():\n",
    "#\n",
    "# experiment with both options\n",
    "\n",
    "year_language"
   ]
  },
  {
   "cell_type": "markdown",
   "metadata": {},
   "source": [
    "### Exercise: reverse using dict comprehension\n",
    "\n",
    "Rewrite code below using dict comprehension:"
   ]
  },
  {
   "cell_type": "code",
   "execution_count": 36,
   "metadata": {},
   "outputs": [
    {
     "data": {
      "text/plain": [
       "{}"
      ]
     },
     "execution_count": 36,
     "metadata": {},
     "output_type": "execute_result"
    }
   ],
   "source": [
    "# year_language = {v: k for k, v in language_year.?}\n",
    "year_language"
   ]
  },
  {
   "cell_type": "markdown",
   "metadata": {},
   "source": [
    "## Functions\n",
    "\n",
    "### Exercise: Closest to zero, 3\n",
    "\n",
    "Define a function `closest_to_zero3(a, b, c)` which accepts 3 numeric arguments and returns the number closest to zero. Numbers can be negative."
   ]
  },
  {
   "cell_type": "code",
   "execution_count": 1,
   "metadata": {},
   "outputs": [],
   "source": [
    "# Uncomment to get a hint:\n",
    "# print abs(-123), abs(123)\n",
    "\n",
    "def closest_to_zero3(a, b, c):\n",
    "    pass\n",
    "\n",
    "# test your solution\n",
    "# assert closest_to_zero4(0, 1, 5) == 0\n",
    "# assert closest_to_zero4(-100, 13, 3) == 3"
   ]
  },
  {
   "cell_type": "markdown",
   "metadata": {},
   "source": [
    "### Exercise: Closest to zero, list\n",
    "\n",
    "Define a function `closest_to_zero_many(a_list)` to find a number closest to zero in a list."
   ]
  },
  {
   "cell_type": "code",
   "execution_count": null,
   "metadata": {},
   "outputs": [],
   "source": [
    "def closest_to_zero_list(numbers):\n",
    "    # replace with your solution\n",
    "    # return number closest to zero\n",
    "    return None\n",
    "\n",
    "my_numbers = [-17, 23, -39, -3, 44, 36, 7, 19, -3]\n",
    "closest_to_zero_list(my_numbers)"
   ]
  },
  {
   "cell_type": "markdown",
   "metadata": {},
   "source": [
    "### Exercise: Closest to zero, variable args\n",
    "\n",
    "Rewrite `closest_to_zero_list(a_list)` to `closest_to_zero_variable(*args)`."
   ]
  },
  {
   "cell_type": "code",
   "execution_count": 2,
   "metadata": {},
   "outputs": [],
   "source": [
    "def closest_to_zero_variable(*args):\n",
    "    # replace with your solution\n",
    "    # return number closest to zero\n",
    "    return None\n",
    "\n",
    "closest_to_zero_variable(-17, 23, -39, -3, 44, 36, 7, 19, -3)"
   ]
  },
  {
   "cell_type": "markdown",
   "metadata": {},
   "source": [
    "### Exercise: Resume\n",
    "\n",
    "Create a function called programmer_resume() that outputs a nicely formatted CV page:\n",
    " * First argument 'name' is required\n",
    " * \\*args contains records about work experience\n",
    " * \\*\\*kwargs contains programming language knowledge levels\n",
    " \n",
    "Example:\n",
    "\n",
    "```\n",
    "programmer_resume('Linus Torvalds',\n",
    "    '1994 Linux kernel', '1997 Transmeta Corp', '2003 OSDL',\n",
    "    c='professional', python='professional', php='poor')\n",
    "```\n",
    "\n",
    "Outputs:\n",
    "\n",
    "```\n",
    "Name: Linus Torvalds\n",
    "=========================\n",
    "\n",
    "* 1994 Linux kernel\n",
    "* 1997 Transmeta Corp\n",
    "* 2003 OSDL\n",
    "\n",
    "Languages:\n",
    "-------------------------\n",
    "C ........ professional\n",
    "Python ... professional\n",
    "Php ...... poor\n",
    "```\n",
    "\n",
    "Hint:\n",
    " * ```'=' * 5``` produces ```'====='```\n",
    " * ```'london'.capitalize()``` produces ```'London'```\n",
    " * ```'Cake'.ljust(21, '*')``` produces 21 symbols long string ```'Cake*****************'```\n"
   ]
  },
  {
   "cell_type": "code",
   "execution_count": null,
   "metadata": {},
   "outputs": [],
   "source": [
    "# Uncomment and implement programmer_resume()\n",
    "#\n",
    "#def programmer_resume(name...):\n",
    "#    pass\n",
    "\n",
    "# Uncomment to see programmer_resume() output\n",
    "#programmer_resume(\n",
    "#    'Linus Torvalds',\n",
    "#    '1994 Linux kernel', '1997 Transmeta Corp', '2003 OSDL',\n",
    "#    c='professional', python='professional', php='poor')"
   ]
  },
  {
   "cell_type": "markdown",
   "metadata": {},
   "source": [
    "### Exercise: Recursive factorial\n",
    "\n",
    "Factorial ```x!``` is:\n",
    "\n",
    "```1 * 2 * 3 * ... * x```\n",
    "\n",
    "Your task is to compute factorial in recursive manner (e.g. when function calls itself until condition is reached):"
   ]
  },
  {
   "cell_type": "code",
   "execution_count": null,
   "metadata": {},
   "outputs": [],
   "source": []
  },
  {
   "cell_type": "markdown",
   "metadata": {},
   "source": [
    "### Excercise: Knight's tour\n",
    "\n",
    "[Knight's tour problem](https://en.wikipedia.org/wiki/Knight%27s_tour)\n",
    "\n",
    "Please ignore the program below, I was too lazy to google for a suitable chessboard image :) "
   ]
  },
  {
   "cell_type": "code",
   "execution_count": 6,
   "metadata": {},
   "outputs": [
    {
     "data": {
      "image/png": "[encoded data removed]",
      "text/plain": [
       "<Figure size 288x288 with 1 Axes>"
      ]
     },
     "metadata": {
      "needs_background": "light"
     },
     "output_type": "display_data"
    }
   ],
   "source": [
    "import matplotlib.pyplot as plt\n",
    "import numpy as np\n",
    "%matplotlib inline\n",
    "\n",
    "nrows, ncols = 8, 8\n",
    "image = np.asarray([(i % 2 + j) % 2 for i in range(nrows) for j in range(ncols)]).reshape(nrows, ncols,)\n",
    "\n",
    "plt.matshow(image)\n",
    "plt.xticks(range(ncols), 'abcdefgh'[0:nrows])\n",
    "plt.yticks(range(nrows), range(1, nrows + 1))\n",
    "plt.show()"
   ]
  },
  {
   "attachments": {
    "moves.png": {
     "image/png": "[encoded data removed]"
    }
   },
   "cell_type": "markdown",
   "metadata": {},
   "source": [
    "Please implement `is_valid_solution(solution)`. You will probably want to implement all the helper functions as well. Illustration for the contents of `moves` variable.\n",
    "\n",
    "![moves.png](attachment:moves.png)"
   ]
  },
  {
   "cell_type": "code",
   "execution_count": null,
   "metadata": {},
   "outputs": [],
   "source": [
    "# list of all possible moves (deltas): 8 items\n",
    "moves = [(-2, -1), (-2, +1), (+2, -1), (+2, +1), (-1, -2), (-1, +2), (+1, -2), (+1, +2)]\n",
    "\n",
    "# 'a1' -> (0, 0)\n",
    "def from_chess_notation(s):\n",
    "    pass\n",
    "\n",
    "# 'a1 b3' -> [(0, 0), (1, 2)]\n",
    "def chess_notation_to_list(s):\n",
    "    pass\n",
    "\n",
    "# 9, 9 -> False\n",
    "# 0, 0 -> True\n",
    "def is_board_hit(x, y):\n",
    "    pass\n",
    "\n",
    "# (0, 0), (1, 2) -> True\n",
    "# (0, 0), (1, 3) -> False\n",
    "def is_valid_move(fr, to):\n",
    "    pass\n",
    "\n",
    "# 'a1 b3 c5 d7 f8 h7 g5 h3 g1 e2 f4 g6 h8 f7 h6 g4 h2 f1 g3 h5 f6 g8 e7 f5 g7 e6 d4 f3 h4 g2 e1 c2 e3 d1 b2 a4 c3 a2 c1 d3 e5 c4 a5 b7 d8 c6 b8 a6 b4 d5 b6 a8 c7 e8 d6 c8 a7 b5 a3 b1 d2 e4 f2 h1'\n",
    "# -> True\n",
    "def is_valid_solution(solution):\n",
    "    pass"
   ]
  }
 ],
 "metadata": {
  "celltoolbar": "Attachments",
  "kernelspec": {
   "display_name": "Python 2",
   "language": "python",
   "name": "python2"
  },
  "language_info": {
   "codemirror_mode": {
    "name": "ipython",
    "version": 2
   },
   "file_extension": ".py",
   "mimetype": "text/x-python",
   "name": "python",
   "nbconvert_exporter": "python",
   "pygments_lexer": "ipython2",
   "version": "2.7.16"
  },
  "toc": {
   "base_numbering": 1,
   "nav_menu": {},
   "number_sections": true,
   "sideBar": true,
   "skip_h1_title": false,
   "title_cell": "Table of Contents",
   "title_sidebar": "Contents",
   "toc_cell": true,
   "toc_position": {},
   "toc_section_display": true,
   "toc_window_display": true
  },
  "varInspector": {
   "cols": {
    "lenName": 16,
    "lenType": 16,
    "lenVar": 40
   },
   "kernels_config": {
    "python": {
     "delete_cmd_postfix": "",
     "delete_cmd_prefix": "del ",
     "library": "var_list.py",
     "varRefreshCmd": "print(var_dic_list())"
    },
    "r": {
     "delete_cmd_postfix": ") ",
     "delete_cmd_prefix": "rm(",
     "library": "var_list.r",
     "varRefreshCmd": "cat(var_dic_list()) "
    }
   },
   "types_to_exclude": [
    "module",
    "function",
    "builtin_function_or_method",
    "instance",
    "_Feature"
   ],
   "window_display": false
  }
 },
 "nbformat": 4,
 "nbformat_minor": 2
}
