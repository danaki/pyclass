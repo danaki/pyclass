{
 "cells": [
  {
   "cell_type": "markdown",
   "metadata": {
    "toc": true
   },
   "source": [
    "<h1>Table of Contents<span class=\"tocSkip\"></span></h1>\n",
    "<div class=\"toc\"><ul class=\"toc-item\"><li><span><a href=\"#Numerics\" data-toc-modified-id=\"Numerics-1\"><span class=\"toc-item-num\">1&nbsp;&nbsp;</span>Numerics</a></span><ul class=\"toc-item\"><li><span><a href=\"#Exercise:-Young-driver\" data-toc-modified-id=\"Exercise:-Young-driver-1.1\"><span class=\"toc-item-num\">1.1&nbsp;&nbsp;</span>Exercise: Young driver</a></span></li><li><span><a href=\"#Exercise:-Three-Little-Pigs\" data-toc-modified-id=\"Exercise:-Three-Little-Pigs-1.2\"><span class=\"toc-item-num\">1.2&nbsp;&nbsp;</span>Exercise: Three Little Pigs</a></span></li><li><span><a href=\"#Exercise:-Numeric-interval\" data-toc-modified-id=\"Exercise:-Numeric-interval-1.3\"><span class=\"toc-item-num\">1.3&nbsp;&nbsp;</span>Exercise: Numeric interval</a></span></li><li><span><a href=\"#Exercise:-Calculate-the-area\" data-toc-modified-id=\"Exercise:-Calculate-the-area-1.4\"><span class=\"toc-item-num\">1.4&nbsp;&nbsp;</span>Exercise: Calculate the area</a></span></li></ul></li><li><span><a href=\"#Strings\" data-toc-modified-id=\"Strings-2\"><span class=\"toc-item-num\">2&nbsp;&nbsp;</span>Strings</a></span><ul class=\"toc-item\"><li><span><a href=\"#Exercise:-speare-Shake\" data-toc-modified-id=\"Exercise:-speare-Shake-2.1\"><span class=\"toc-item-num\">2.1&nbsp;&nbsp;</span>Exercise: speare Shake</a></span></li><li><span><a href=\"#Exercise:-Simple-formatting\" data-toc-modified-id=\"Exercise:-Simple-formatting-2.2\"><span class=\"toc-item-num\">2.2&nbsp;&nbsp;</span>Exercise: Simple formatting</a></span></li><li><span><a href=\"#Exercise:-Ordered-formatting\" data-toc-modified-id=\"Exercise:-Ordered-formatting-2.3\"><span class=\"toc-item-num\">2.3&nbsp;&nbsp;</span>Exercise: Ordered formatting</a></span></li><li><span><a href=\"#Exercise:-String-formating-floats\" data-toc-modified-id=\"Exercise:-String-formating-floats-2.4\"><span class=\"toc-item-num\">2.4&nbsp;&nbsp;</span>Exercise: String formating floats</a></span></li><li><span><a href=\"#Exercise:-make-a-headline-II\" data-toc-modified-id=\"Exercise:-make-a-headline-II-2.5\"><span class=\"toc-item-num\">2.5&nbsp;&nbsp;</span>Exercise: make a headline II</a></span></li><li><span><a href=\"#Exercise:-Reformat-a-string\" data-toc-modified-id=\"Exercise:-Reformat-a-string-2.6\"><span class=\"toc-item-num\">2.6&nbsp;&nbsp;</span>Exercise: Reformat a string</a></span></li><li><span><a href=\"#Exercise:-Replace-back\" data-toc-modified-id=\"Exercise:-Replace-back-2.7\"><span class=\"toc-item-num\">2.7&nbsp;&nbsp;</span>Exercise: Replace back</a></span></li><li><span><a href=\"#Exercise:-Slice-and-Dice-I\" data-toc-modified-id=\"Exercise:-Slice-and-Dice-I-2.8\"><span class=\"toc-item-num\">2.8&nbsp;&nbsp;</span>Exercise: Slice and Dice I</a></span></li><li><span><a href=\"#Exercise:-Slice-and-Dice-II\" data-toc-modified-id=\"Exercise:-Slice-and-Dice-II-2.9\"><span class=\"toc-item-num\">2.9&nbsp;&nbsp;</span>Exercise: Slice and Dice II</a></span></li><li><span><a href=\"#Exercise:-Secret-message\" data-toc-modified-id=\"Exercise:-Secret-message-2.10\"><span class=\"toc-item-num\">2.10&nbsp;&nbsp;</span>Exercise: Secret message</a></span></li></ul></li><li><span><a href=\"#Conditionals\" data-toc-modified-id=\"Conditionals-3\"><span class=\"toc-item-num\">3&nbsp;&nbsp;</span>Conditionals</a></span><ul class=\"toc-item\"><li><span><a href=\"#Exercise:-Closer-to-zero\" data-toc-modified-id=\"Exercise:-Closer-to-zero-3.1\"><span class=\"toc-item-num\">3.1&nbsp;&nbsp;</span>Exercise: Closer to zero</a></span></li><li><span><a href=\"#Exercise:-Ternary-operator\" data-toc-modified-id=\"Exercise:-Ternary-operator-3.2\"><span class=\"toc-item-num\">3.2&nbsp;&nbsp;</span>Exercise: Ternary operator</a></span></li><li><span><a href=\"#Exercise:-Bad-looking-conditional-I\" data-toc-modified-id=\"Exercise:-Bad-looking-conditional-I-3.3\"><span class=\"toc-item-num\">3.3&nbsp;&nbsp;</span>Exercise: Bad looking conditional I</a></span></li><li><span><a href=\"#Exercise:-Bad-looking-conditional-II\" data-toc-modified-id=\"Exercise:-Bad-looking-conditional-II-3.4\"><span class=\"toc-item-num\">3.4&nbsp;&nbsp;</span>Exercise: Bad looking conditional II</a></span></li><li><span><a href=\"#Exercise:-Bad-looking-conditional-III\" data-toc-modified-id=\"Exercise:-Bad-looking-conditional-III-3.5\"><span class=\"toc-item-num\">3.5&nbsp;&nbsp;</span>Exercise: Bad looking conditional III</a></span></li></ul></li><li><span><a href=\"#Loops\" data-toc-modified-id=\"Loops-4\"><span class=\"toc-item-num\">4&nbsp;&nbsp;</span>Loops</a></span><ul class=\"toc-item\"><li><span><a href=\"#Exercise:-X-/-2-/-3\" data-toc-modified-id=\"Exercise:-X-/-2-/-3-4.1\"><span class=\"toc-item-num\">4.1&nbsp;&nbsp;</span>Exercise: X / 2 / 3</a></span></li><li><span><a href=\"#Excercise-#2:-sum-of-numbers-from-20-to-40\" data-toc-modified-id=\"Excercise-#2:-sum-of-numbers-from-20-to-40-4.2\"><span class=\"toc-item-num\">4.2&nbsp;&nbsp;</span>Excercise #2: sum of numbers from 20 to 40</a></span></li><li><span><a href=\"#Exercise:-X-/-2-/-3-!/-7\" data-toc-modified-id=\"Exercise:-X-/-2-/-3-!/-7-4.3\"><span class=\"toc-item-num\">4.3&nbsp;&nbsp;</span>Exercise: X / 2 / 3 !/ 7</a></span></li></ul></li></ul></div>"
   ]
  },
  {
   "cell_type": "markdown",
   "metadata": {},
   "source": [
    "# Practice <a class=\"tocSkip\">\n",
    "\n",
    "## Numerics"
   ]
  },
  {
   "cell_type": "markdown",
   "metadata": {},
   "source": [
    "### Exercise: Young driver\n",
    "\n",
    "Given age, total number of driving hours and the boolean representing if a person knows how to drive a car, produce a boolean expression combining all of the requirements to determine if a person is allowed to take an exam. Requirements: must be older than 18, have at least 32 driving hours and must know how to drive a car.\n",
    "\n",
    "Example data:\n",
    " * age = 19\n",
    " * driving_hours = 40\n",
    " * can_drive = True\n",
    "\n",
    "Expected outcome: True"
   ]
  },
  {
   "cell_type": "code",
   "execution_count": 2,
   "metadata": {},
   "outputs": [
    {
     "data": {
      "text/plain": [
       "False"
      ]
     },
     "execution_count": 2,
     "metadata": {},
     "output_type": "execute_result"
    }
   ],
   "source": [
    "\"\"\"\n",
    "Uncomment these lines and fill in your own data:\n",
    "\n",
    "age = ?\n",
    "driving_hours = ?\n",
    "can_drive = ?\n",
    "\n",
    "A prototype:\n",
    "\n",
    "[test1] [boolean operator] [test2] [boolean operator] [test3]\n",
    "\"\"\"\n",
    "\n",
    "age = 55\n",
    "driving_hours = 10\n",
    "can_drive = True\n",
    "\n",
    "age >= 18 and driving_hours >= 32 and can_drive"
   ]
  },
  {
   "cell_type": "markdown",
   "metadata": {},
   "source": [
    "### Exercise: Three Little Pigs\n",
    "\n",
    "You are about to write the crucial part of a security system. Given a name of a person, check that this particular person is allowed to enter the building. Only these persons are allowed to enter:\n",
    " * Nif-nif\n",
    " * Naf-naf\n",
    " * Nouf-nouf\n",
    " \n",
    "Example data:\n",
    " * name = \"Grey wolf\"\n",
    " \n",
    "Expected outcome: False"
   ]
  },
  {
   "cell_type": "code",
   "execution_count": 3,
   "metadata": {},
   "outputs": [
    {
     "data": {
      "text/plain": [
       "False"
      ]
     },
     "execution_count": 3,
     "metadata": {},
     "output_type": "execute_result"
    }
   ],
   "source": [
    "name = \"Grey wolf\"\n",
    "\n",
    "# [test1] [boolean operator] [test2] [boolean operator] [test3]\n",
    "name == \"Donald Duck\""
   ]
  },
  {
   "cell_type": "markdown",
   "metadata": {},
   "source": [
    "### Exercise: Numeric interval\n",
    "\n",
    "Given interval $(−15,12]\\bigcup(14,17)\\bigcup[19,+\\infty)$\n",
    "\n",
    "Check that numbers -100, 14, 15, 21 fit into the interval.\n",
    "\n",
    " * Here, `(` denotes the start of an interval and the starting number **is not included** into this interval. Same for `)` but it denotes the ending number.\n",
    " * Same with `[` and `]` but numbers **are included** into the interval.\n",
    " \n",
    "Using comparison operators: `>`, `>=`, `<`, `<=` create an expression that results a Boolean showing if a given number hits the interval."
   ]
  },
  {
   "cell_type": "code",
   "execution_count": 9,
   "metadata": {},
   "outputs": [
    {
     "data": {
      "text/plain": [
       "False"
      ]
     },
     "execution_count": 9,
     "metadata": {},
     "output_type": "execute_result"
    }
   ],
   "source": [
    "n = -56\n",
    "n > -15 and n <= 12 or n > 14 and n < 17 or n >= 19"
   ]
  },
  {
   "attachments": {
    "trapeze.jpeg": {
     "image/jpeg": "[encoded data removed]"
    }
   },
   "cell_type": "markdown",
   "metadata": {},
   "source": [
    "### Exercise: Calculate the area\n",
    "\n",
    "Use Python as a calculator.\n",
    "\n",
    "![trapeze.jpeg](attachment:trapeze.jpeg)"
   ]
  },
  {
   "cell_type": "code",
   "execution_count": null,
   "metadata": {},
   "outputs": [],
   "source": [
    "# your code here"
   ]
  },
  {
   "cell_type": "markdown",
   "metadata": {},
   "source": [
    "## Strings\n",
    "### Exercise: speare Shake\n",
    "\n",
    "Concatenate strings in correct order (using \"+\" operator):"
   ]
  },
  {
   "cell_type": "code",
   "execution_count": 2,
   "metadata": {},
   "outputs": [],
   "source": [
    "a = 'to be'\n",
    "b = 'or not'\n",
    "c = 'that is the question'"
   ]
  },
  {
   "cell_type": "markdown",
   "metadata": {},
   "source": [
    "### Exercise: Simple formatting\n",
    "\n",
    "Print out \"London is the capital of Great Britain\" by providing your own template:\n",
    "\n",
    "`<your template here>.format(\"London\", \"Great Britain\")`"
   ]
  },
  {
   "cell_type": "code",
   "execution_count": null,
   "metadata": {},
   "outputs": [],
   "source": []
  },
  {
   "cell_type": "markdown",
   "metadata": {},
   "source": [
    "### Exercise: Ordered formatting\n",
    "\n",
    "Print out \"London is the capital of Great Britain\" by providing your own template:\n",
    "\n",
    "`<your template here>.format(\"Great Britain\", \"London\")`"
   ]
  },
  {
   "cell_type": "code",
   "execution_count": null,
   "metadata": {},
   "outputs": [],
   "source": []
  },
  {
   "cell_type": "markdown",
   "metadata": {},
   "source": [
    "### Exercise: String formating floats\n",
    "\n",
    "Print out \"An approximate value of PI is 3.14\" by providing your own template.\n",
    "\n",
    "`<your template here>.format(3.14159265359)`\n",
    "\n",
    "Hint: use `{:.2f}` to round a number to 2 decimals while printing."
   ]
  },
  {
   "cell_type": "code",
   "execution_count": null,
   "metadata": {},
   "outputs": [],
   "source": []
  },
  {
   "cell_type": "markdown",
   "metadata": {},
   "source": [
    "### Exercise: make a headline II\n",
    "\n",
    "Given a string, produce a newspaper headline:\n",
    "\n",
    "`computer virus spreads to humans`\n",
    "\n",
    "becomes:\n",
    "\n",
    "`Computer Virus Spreads to Humans`\n",
    "\n",
    "Hint: use `str.title()` and `str.replace()`."
   ]
  },
  {
   "cell_type": "markdown",
   "metadata": {},
   "source": [
    "### Exercise: Reformat a string\n",
    "\n",
    "Given a string: `=== python is great ===`, produce a new string: `** Python is Great **` by chaining string methods:\n",
    " * strip\n",
    " * title\n",
    " * replace\n",
    " * center\n",
    " \n",
    "or use your own set of methods!\n",
    "\n",
    "To get a quick help on a string method, put this `?str.method` in an empty code cell and run it!"
   ]
  },
  {
   "cell_type": "code",
   "execution_count": 4,
   "metadata": {},
   "outputs": [],
   "source": [
    "# '=== python is great ==='.something().something().something().something()"
   ]
  },
  {
   "cell_type": "markdown",
   "metadata": {},
   "source": [
    "### Exercise: Replace back\n",
    "\n",
    "```\n",
    "original.replace('o', 'w').replace('a', 'o').replace('t', 'a').replace('p', 't').replace('y', 'p')\n",
    "```\n",
    "\n",
    "Result is `tpahwnisao`\n",
    "\n",
    "Restore the original string"
   ]
  },
  {
   "cell_type": "code",
   "execution_count": null,
   "metadata": {},
   "outputs": [],
   "source": [
    "# your code here"
   ]
  },
  {
   "cell_type": "markdown",
   "metadata": {},
   "source": [
    "### Exercise: Slice and Dice I\n",
    "\n",
    "Get characters from `garbage` given indices, concatenate and print out the result. Indices: **12, 15, 1, 7**"
   ]
  },
  {
   "cell_type": "code",
   "execution_count": 38,
   "metadata": {},
   "outputs": [
    {
     "name": "stdout",
     "output_type": "stream",
     "text": [
      "Alan\n",
      "Turing\n"
     ]
    }
   ],
   "source": [
    "garbage = \"kat7ri1ngb22Akklq7mxz^&324nj3ba1Tu9\"\n",
    "\n",
    "# garbage[??] + ..."
   ]
  },
  {
   "cell_type": "markdown",
   "metadata": {},
   "source": [
    "### Exercise: Slice and Dice II\n",
    "\n",
    "Get characters from `garbage` given intervals, concatenate and print out the result. Indices:\n",
    " * starts at position 32 + 2 characters more\n",
    " * 4 + 2\n",
    " * 7 + 2"
   ]
  },
  {
   "cell_type": "code",
   "execution_count": 40,
   "metadata": {},
   "outputs": [],
   "source": [
    "# garbage[??:??] + ..."
   ]
  },
  {
   "cell_type": "markdown",
   "metadata": {},
   "source": [
    "### Exercise: Secret message\n",
    "\n",
    "Given encoded message restore the original string using slicing syntax."
   ]
  },
  {
   "cell_type": "code",
   "execution_count": 12,
   "metadata": {},
   "outputs": [],
   "source": [
    "# This is the secret message\n",
    "secret_message = \"XeXgXaXsXsXeXmX XtXeXrXcXeXs\"\n",
    "\n",
    "# Uncomment and replace ?? with a valid slicing expression to restore the original string\n",
    "# secret_message[??:??:??]"
   ]
  },
  {
   "cell_type": "markdown",
   "metadata": {},
   "source": [
    "## Conditionals"
   ]
  },
  {
   "cell_type": "markdown",
   "metadata": {},
   "source": [
    "### Exercise: Closer to zero\n",
    "\n",
    "Write a program to print out which number of 3 is closer to zero.\n",
    "\n",
    "Hint: read help on `abs()`"
   ]
  },
  {
   "cell_type": "code",
   "execution_count": 60,
   "metadata": {},
   "outputs": [],
   "source": [
    "# Test with:\n",
    "#x, y, z = 1, 32, -1\n",
    "#x, y, z = 12, 0, 11\n",
    "#x, y, z = -10, -20, -1\n",
    "#\n",
    "# if <something>:\n",
    "#      print"
   ]
  },
  {
   "cell_type": "markdown",
   "metadata": {},
   "source": [
    "Harder task: do the same using ternary operator"
   ]
  },
  {
   "cell_type": "markdown",
   "metadata": {},
   "source": [
    "### Exercise: Ternary operator\n",
    "\n",
    "Rewrite the code below using the ternary operator:"
   ]
  },
  {
   "cell_type": "code",
   "execution_count": 56,
   "metadata": {},
   "outputs": [],
   "source": [
    "x = \"Yes\"\n",
    "if x == \"Yes\":\n",
    "    y = True\n",
    "else:\n",
    "    y = False"
   ]
  },
  {
   "cell_type": "markdown",
   "metadata": {},
   "source": [
    "### Exercise: Bad looking conditional I\n",
    "\n",
    "Given an ugly piece of code below, rewrite it using boolean operator `and` inside if condition."
   ]
  },
  {
   "cell_type": "code",
   "execution_count": 44,
   "metadata": {},
   "outputs": [
    {
     "name": "stdout",
     "output_type": "stream",
     "text": [
      "Get driving license!\n"
     ]
    }
   ],
   "source": [
    "age = 19\n",
    "driving_hours = 40\n",
    "knows_theory = True\n",
    "\n",
    "if age >= 18:\n",
    "    if driving_hours >= 32:\n",
    "        if knows_theory:\n",
    "            print \"Get driving license!\""
   ]
  },
  {
   "cell_type": "markdown",
   "metadata": {},
   "source": [
    "### Exercise: Bad looking conditional II\n",
    "\n",
    "Now please use `elif` to refactor the code below. Think why it's better now."
   ]
  },
  {
   "cell_type": "code",
   "execution_count": 43,
   "metadata": {},
   "outputs": [
    {
     "name": "stdout",
     "output_type": "stream",
     "text": [
      "Let in!\n"
     ]
    }
   ],
   "source": [
    "pig = \"Nouf-nouf\"\n",
    "\n",
    "if pig == \"Nif-nif\":\n",
    "    print \"Let in!\"\n",
    "    \n",
    "if pig == \"Naf-naf\":\n",
    "    print \"Let in!\"  \n",
    "    \n",
    "if pig == \"Nouf-nouf\":\n",
    "    print \"Let in!\""
   ]
  },
  {
   "cell_type": "markdown",
   "metadata": {},
   "source": [
    "### Exercise: Bad looking conditional III\n",
    "\n",
    "Taking previous example, please refactor it using `or` boolean operator. Doesn't it look even better?"
   ]
  },
  {
   "cell_type": "code",
   "execution_count": null,
   "metadata": {},
   "outputs": [],
   "source": []
  },
  {
   "cell_type": "markdown",
   "metadata": {},
   "source": [
    "## Loops"
   ]
  },
  {
   "cell_type": "markdown",
   "metadata": {},
   "source": [
    "### Exercise: X / 2 / 3\n",
    "\n",
    "Print out numbers from 0 up to 100 divisible by **2 AND 3**"
   ]
  },
  {
   "cell_type": "code",
   "execution_count": 58,
   "metadata": {},
   "outputs": [],
   "source": [
    "for i in range(100):\n",
    "    # replace pass with your own code\n",
    "    pass"
   ]
  },
  {
   "cell_type": "markdown",
   "metadata": {},
   "source": [
    "### Excercise #2: sum of numbers from 20 to 40\n",
    "\n",
    "Using for-loop, sum numbers: 20 + 21 + ... + 40"
   ]
  },
  {
   "cell_type": "code",
   "execution_count": 57,
   "metadata": {},
   "outputs": [],
   "source": [
    "x = 0\n",
    "\n",
    "for i in range(20):\n",
    "    pass"
   ]
  },
  {
   "cell_type": "markdown",
   "metadata": {},
   "source": [
    "### Exercise: X / 2 / 3 !/ 7\n",
    "\n",
    "Print out **all numbers** divisible by **2 AND 3**. Stop when the number is **also** divisible by **7**."
   ]
  },
  {
   "cell_type": "code",
   "execution_count": 51,
   "metadata": {},
   "outputs": [],
   "source": [
    "#i = 0\n",
    "#while True:\n",
    "#    i += 1\n",
    "#    <your code here>\n",
    "#    if <something>:\n",
    "#        break"
   ]
  },
  {
   "cell_type": "code",
   "execution_count": null,
   "metadata": {},
   "outputs": [],
   "source": []
  }
 ],
 "metadata": {
  "kernelspec": {
   "display_name": "Python 2",
   "language": "python",
   "name": "python2"
  },
  "language_info": {
   "codemirror_mode": {
    "name": "ipython",
    "version": 2
   },
   "file_extension": ".py",
   "mimetype": "text/x-python",
   "name": "python",
   "nbconvert_exporter": "python",
   "pygments_lexer": "ipython2",
   "version": "2.7.16"
  },
  "toc": {
   "base_numbering": 1,
   "nav_menu": {},
   "number_sections": true,
   "sideBar": true,
   "skip_h1_title": false,
   "title_cell": "Table of Contents",
   "title_sidebar": "Contents",
   "toc_cell": true,
   "toc_position": {},
   "toc_section_display": true,
   "toc_window_display": true
  },
  "varInspector": {
   "cols": {
    "lenName": 16,
    "lenType": 16,
    "lenVar": 40
   },
   "kernels_config": {
    "python": {
     "delete_cmd_postfix": "",
     "delete_cmd_prefix": "del ",
     "library": "var_list.py",
     "varRefreshCmd": "print(var_dic_list())"
    },
    "r": {
     "delete_cmd_postfix": ") ",
     "delete_cmd_prefix": "rm(",
     "library": "var_list.r",
     "varRefreshCmd": "cat(var_dic_list()) "
    }
   },
   "types_to_exclude": [
    "module",
    "function",
    "builtin_function_or_method",
    "instance",
    "_Feature"
   ],
   "window_display": false
  }
 },
 "nbformat": 4,
 "nbformat_minor": 2
}
