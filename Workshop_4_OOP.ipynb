{
 "cells": [
  {
   "cell_type": "markdown",
   "metadata": {
    "slideshow": {
     "slide_type": "slide"
    }
   },
   "source": [
    "# Object Oriented Programming (OOP) in Python"
   ]
  },
  {
   "cell_type": "markdown",
   "metadata": {},
   "source": [
    "> Object-oriented programming (OOP) is a programming paradigm based on the concept of \"**objects**\", which may contain data, in the form of fields, often known as **attributes**; and code, in the form of procedures, often known as **methods**. A feature of objects is that an object's procedures can access and often modify the data fields of the object with which they are associated (objects have a notion of \"self\"). In OOP, computer programs are designed by making them out of objects that interact with one another. There is significant diversity of OOP languages, but the most popular ones are class-based, meaning that objects are instances of classes, which typically also determine their type."
   ]
  },
  {
   "cell_type": "markdown",
   "metadata": {
    "slideshow": {
     "slide_type": "slide"
    }
   },
   "source": [
    "**Abstraction**. Abstraction is a process where you show only “relevant” data and “hide” unnecessary details of an object from the user.\n",
    "\n",
    "**Encapsulation**.\n",
    "  - Binding the data with the code that manipulates it.\n",
    "  - It keeps the data and the code safe from external interference\n",
    "  \n",
    "**Inheritance**.\n",
    "  - Inheritance is the mechanism by which an object acquires the some/all properties of another object.\n",
    "  - It supports the concept of hierarchical classification.\n",
    "  \n",
    "**Polymorphism**. Polymorphism means to process objects differently based on their data type.\n",
    "  - Method overriding"
   ]
  },
  {
   "cell_type": "markdown",
   "metadata": {
    "slideshow": {
     "slide_type": "slide"
    }
   },
   "source": [
    "An example when OOP is natural. Let's say we have two robots: wheeled one and one on trucks.\n",
    "\n",
    "![Wheeled robot](https://cdn.instructables.com/FEP/GAA9/IBNHGS0R/FEPGAA9IBNHGS0R.MEDIUM.jpg)\n",
    "![Trucked robot](http://cdn.ubergizmo.com/photos/2010/7/df-robotshop.jpg)"
   ]
  },
  {
   "cell_type": "markdown",
   "metadata": {
    "slideshow": {
     "slide_type": "slide"
    }
   },
   "source": [
    "Note: this is artificial example. What's wrong with this code?"
   ]
  },
  {
   "cell_type": "code",
   "execution_count": 7,
   "metadata": {
    "slideshow": {
     "slide_type": "-"
    }
   },
   "outputs": [],
   "source": [
    "from math import pi\n",
    "\n",
    "# pretend this is our hardware\n",
    "wheeled = {'drive': 0, 'steering_angle': 0, 'battery': 100}\n",
    "trucked = {'left_drive': 0, 'right_drive': 0, 'battery': 100}\n",
    "\n",
    "# this is an API to access the hardware\n",
    "def move_wheeled(steps):\n",
    "    wheeled['drive'] = steps\n",
    "    \n",
    "def move_trucked(steps):\n",
    "    wheeled['left_drive'] = steps\n",
    "    wheeled['right_drive'] = steps    \n",
    "    \n",
    "def turn_wheeled():\n",
    "    wheeled['steering_angle'] = pi / 4\n",
    "    move(wheeled, 100)\n",
    "    \n",
    "def turn_trucked():\n",
    "    trucked['left_drive'] = 50\n",
    "    trucked['right_drive'] = -50"
   ]
  },
  {
   "cell_type": "markdown",
   "metadata": {
    "slideshow": {
     "slide_type": "slide"
    }
   },
   "source": [
    "Universal \"abstract\" functions would look ugly like these:"
   ]
  },
  {
   "cell_type": "code",
   "execution_count": 9,
   "metadata": {},
   "outputs": [],
   "source": [
    "def get_battery(robot):\n",
    "    return robot['battery']\n",
    "\n",
    "def move(robot, steps):\n",
    "    if 'drive' in robot:\n",
    "        move_wheeled(steps)\n",
    "    else:\n",
    "        move_trucked(steps)        \n",
    "        \n",
    "def turn(robot):\n",
    "    if 'drive' in robot:\n",
    "        turn_wheeled()\n",
    "    else:\n",
    "        turn_trucked()\n",
    "        \n",
    "move(trucked, 100)\n",
    "turn(wheeled)"
   ]
  },
  {
   "cell_type": "markdown",
   "metadata": {
    "slideshow": {
     "slide_type": "slide"
    }
   },
   "source": [
    "## Class definition\n",
    "\n",
    "```\n",
    "class <name>:\n",
    "    [body]\n",
    "```\n",
    "\n",
    "or\n",
    "\n",
    "```\n",
    "class <name>(Base1[, Base2 ... BaseN]):\n",
    "    [body]\n",
    "```"
   ]
  },
  {
   "cell_type": "markdown",
   "metadata": {
    "slideshow": {
     "slide_type": "slide"
    }
   },
   "source": [
    "How do we rewrite robot example?"
   ]
  },
  {
   "cell_type": "code",
   "execution_count": 10,
   "metadata": {},
   "outputs": [],
   "source": [
    "class AbstractRobot:\n",
    "    battery = 100\n",
    "        \n",
    "    def get_battery(self):\n",
    "        return self.battery\n",
    "    \n",
    "    def move(self, steps): # abstract method\n",
    "        pass\n",
    "    \n",
    "    def turn(self): # abstract method\n",
    "        pass"
   ]
  },
  {
   "cell_type": "code",
   "execution_count": 12,
   "metadata": {
    "slideshow": {
     "slide_type": "slide"
    }
   },
   "outputs": [],
   "source": [
    "class TruckedRobot(AbstractRobot):\n",
    "    left_drive = 0\n",
    "    right_drive = 0\n",
    "    \n",
    "    def move(self, steps):\n",
    "        self.left_drive = steps\n",
    "        self.right_drive = steps        \n",
    "        \n",
    "    def turn(self):\n",
    "        self.left_drive = 50\n",
    "        self.right_drive = -50\n",
    "\n",
    "class WheeledRobot(AbstractRobot):\n",
    "    drive = 0\n",
    "    steering_angle = 0\n",
    "    \n",
    "    def move(self, steps):\n",
    "        self.drive = steps\n",
    "        \n",
    "    def turn(self):\n",
    "        self.steering_angle = pi / 4\n",
    "        self.move(100)"
   ]
  },
  {
   "cell_type": "code",
   "execution_count": 11,
   "metadata": {
    "slideshow": {
     "slide_type": "slide"
    }
   },
   "outputs": [],
   "source": [
    "trucked = TruckedRobot()\n",
    "wheeled = WheeledRobot()\n",
    "\n",
    "trucked.move(10)\n",
    "wheeled.move(10)\n",
    "\n",
    "trucked.turn()\n",
    "wheeled.turn()"
   ]
  },
  {
   "cell_type": "markdown",
   "metadata": {
    "slideshow": {
     "slide_type": "slide"
    }
   },
   "source": [
    "Object instantiation:"
   ]
  },
  {
   "cell_type": "code",
   "execution_count": 30,
   "metadata": {},
   "outputs": [],
   "source": [
    "class DoesNothing:\n",
    "    pass\n",
    "\n",
    "nothing_instance = DoesNothing()"
   ]
  },
  {
   "cell_type": "markdown",
   "metadata": {},
   "source": [
    "Notice: object instantiation looks like function call (no \"new\" keyword or smth similar)"
   ]
  },
  {
   "cell_type": "code",
   "execution_count": 21,
   "metadata": {},
   "outputs": [
    {
     "data": {
      "text/plain": [
       "instance"
      ]
     },
     "execution_count": 21,
     "metadata": {},
     "output_type": "execute_result"
    }
   ],
   "source": [
    "type(nothing_instance)"
   ]
  },
  {
   "cell_type": "code",
   "execution_count": 22,
   "metadata": {},
   "outputs": [
    {
     "data": {
      "text/plain": [
       "'DoesNothing'"
      ]
     },
     "execution_count": 22,
     "metadata": {},
     "output_type": "execute_result"
    }
   ],
   "source": [
    "nothing_instance.__class__.__name__"
   ]
  },
  {
   "cell_type": "markdown",
   "metadata": {
    "slideshow": {
     "slide_type": "slide"
    }
   },
   "source": [
    "In Python all classes are inheritted from class 'object' (python3):"
   ]
  },
  {
   "cell_type": "code",
   "execution_count": 26,
   "metadata": {},
   "outputs": [],
   "source": [
    "# DoesNothing.mro()"
   ]
  },
  {
   "cell_type": "markdown",
   "metadata": {},
   "source": [
    "Notice: **class is an object too**, it has methods!\n",
    "\n",
    "MRO means Method Resolution Order."
   ]
  },
  {
   "cell_type": "markdown",
   "metadata": {
    "slideshow": {
     "slide_type": "slide"
    }
   },
   "source": [
    "A note about default object implementation:"
   ]
  },
  {
   "cell_type": "code",
   "execution_count": null,
   "metadata": {},
   "outputs": [],
   "source": [
    "d1 = DoesNothing()\n",
    "d2 = DoesNothing()\n",
    "\n",
    "d1 == d2"
   ]
  },
  {
   "cell_type": "markdown",
   "metadata": {},
   "source": [
    "By default object's \"==\" compares id's. For user defined types a programmer must override rich comparison and all necessary dunder methods."
   ]
  },
  {
   "cell_type": "markdown",
   "metadata": {
    "slideshow": {
     "slide_type": "slide"
    }
   },
   "source": [
    "In Python a method with special name ```__init__``` called after object instantiation. First argument (by convention called ```self```) stores the referrence of the created object."
   ]
  },
  {
   "cell_type": "code",
   "execution_count": 19,
   "metadata": {},
   "outputs": [
    {
     "name": "stdout",
     "output_type": "stream",
     "text": [
      "From consturctor <__main__.ClassWithConstructor instance at 0x104d67e60>\n",
      "From outer scope <__main__.ClassWithConstructor instance at 0x104d67e60>\n"
     ]
    }
   ],
   "source": [
    "class ClassWithConstructor:\n",
    "    def __init__(self):\n",
    "        print \"From consturctor\", self\n",
    "\n",
    "my_object = ClassWithConstructor()\n",
    "print \"From outer scope\", my_object"
   ]
  },
  {
   "cell_type": "markdown",
   "metadata": {
    "slideshow": {
     "slide_type": "slide"
    }
   },
   "source": [
    "### Instance variables & methods\n",
    "\n",
    "Usually ```__init__``` is used to define and initalize instance variables. Instance methods must always have ```self``` as first argument."
   ]
  },
  {
   "cell_type": "code",
   "execution_count": 32,
   "metadata": {},
   "outputs": [
    {
     "name": "stdout",
     "output_type": "stream",
     "text": [
      "200\n",
      "300\n"
     ]
    }
   ],
   "source": [
    "class Rectangle:\n",
    "    def __init__(self, width, height):\n",
    "        self.width = width\n",
    "        self.height = height \n",
    "        \n",
    "    def square(self):\n",
    "        return self.width * self.height\n",
    "    \n",
    "rect_10x20 = Rectangle(10, 20)\n",
    "print rect_10x20.square()\n",
    "\n",
    "rect_30x10 = Rectangle(30, 10)\n",
    "print rect_30x10.square()"
   ]
  },
  {
   "cell_type": "markdown",
   "metadata": {
    "slideshow": {
     "slide_type": "slide"
    }
   },
   "source": [
    "### Class variables & methods\n",
    "\n",
    "Notice ```@classmethod``` and ```cls``` instead of ```self```. Also notice that class variable ```density``` is defined and initialized right in class body. ```cls``` in class body references class object so ```density``` can be accessed."
   ]
  },
  {
   "cell_type": "code",
   "execution_count": null,
   "metadata": {},
   "outputs": [],
   "source": [
    "class ChemicalElement():\n",
    "    @classmethod\n",
    "    def mass(cls, length, width, height):\n",
    "        volume = length * width * height # in cm\n",
    "        return cls.density * volume\n",
    "    \n",
    "class Aluminium(ChemicalElement):\n",
    "    density = 2.70 # g / cm^3\n",
    "    \n",
    "class Ferrum(ChemicalElement):\n",
    "    density = 7.874 # g / cm^3\n",
    "    \n",
    "print(\"Al mass = {} grams\".format(Aluminium.mass(10, 10, 10)))\n",
    "print(\"Fe mass = {} grams\".format(Ferrum.mass(10, 10, 10)))"
   ]
  },
  {
   "cell_type": "markdown",
   "metadata": {
    "slideshow": {
     "slide_type": "slide"
    }
   },
   "source": [
    "### Static methods\n",
    "\n",
    "Usually you use them to hide your functions under a namespace (but this is what modules are for).\n",
    "\n",
    "Notice ```@staticmethod``` and no first required argument."
   ]
  },
  {
   "cell_type": "code",
   "execution_count": null,
   "metadata": {},
   "outputs": [],
   "source": [
    "class SquareCalculator:\n",
    "    @staticmethod\n",
    "    def rectangle(width, height):\n",
    "        return width * height\n",
    "    \n",
    "    @staticmethod\n",
    "    def circle(radius):\n",
    "        return 2 * 3.14 * radius\n",
    "    \n",
    "SquareCalculator.circle(10)"
   ]
  },
  {
   "cell_type": "markdown",
   "metadata": {
    "slideshow": {
     "slide_type": "slide"
    }
   },
   "source": [
    "#### Example"
   ]
  },
  {
   "cell_type": "code",
   "execution_count": null,
   "metadata": {},
   "outputs": [],
   "source": [
    "class BowlingBall:\n",
    "    DENSITY = 0.1\n",
    "    \n",
    "    def __init__(self, radius):\n",
    "        self.radius = radius\n",
    "        \n",
    "    def weight(self):\n",
    "        return self.sphere_volume(self.radius) * self.DENSITY \n",
    "        \n",
    "    @classmethod\n",
    "    def sphere_volume(cls, r):\n",
    "        return (4 / 3) * 3.14 * (r ** 3)\n",
    "    \n",
    "my_ball = BowlingBall(10)\n",
    "my_ball.weight()"
   ]
  },
  {
   "cell_type": "markdown",
   "metadata": {
    "slideshow": {
     "slide_type": "slide"
    }
   },
   "source": [
    "## Classes as structures\n",
    "\n",
    "Class/instance variables/methods can be dynamically assigned. Sometimes people use classes in place of structures (this is what dictionaries are for)."
   ]
  },
  {
   "cell_type": "code",
   "execution_count": 35,
   "metadata": {},
   "outputs": [
    {
     "data": {
      "text/plain": [
       "{'x': 62, 'y': 'Mama'}"
      ]
     },
     "execution_count": 35,
     "metadata": {},
     "output_type": "execute_result"
    }
   ],
   "source": [
    "class MyContainer:\n",
    "    pass\n",
    "\n",
    "cont1 = MyContainer()\n",
    "\n",
    "cont1.x = 62\n",
    "cont1.y = 'Mama'\n",
    "\n",
    "cont1.__dict__"
   ]
  },
  {
   "cell_type": "markdown",
   "metadata": {},
   "source": [
    "Attributes of the class-level can be checked with method `__dict__()` too."
   ]
  },
  {
   "cell_type": "code",
   "execution_count": 34,
   "metadata": {
    "slideshow": {
     "slide_type": "slide"
    }
   },
   "outputs": [
    {
     "data": {
      "text/plain": [
       "{'__doc__': None,\n",
       " '__module__': '__main__',\n",
       " 'my_class_attribute': 'this is class attribute'}"
      ]
     },
     "execution_count": 34,
     "metadata": {},
     "output_type": "execute_result"
    }
   ],
   "source": [
    "MyContainer.my_class_attribute = \"this is class attribute\"\n",
    "\n",
    "MyContainer.__dict__"
   ]
  },
  {
   "cell_type": "markdown",
   "metadata": {
    "slideshow": {
     "slide_type": "slide"
    }
   },
   "source": [
    "This is possible due to default ```__getattribute__()``` implementation, which first searches in instance and then in class variables."
   ]
  },
  {
   "cell_type": "code",
   "execution_count": null,
   "metadata": {},
   "outputs": [],
   "source": [
    "print(cont1.my_class_attribute)"
   ]
  },
  {
   "cell_type": "code",
   "execution_count": null,
   "metadata": {},
   "outputs": [],
   "source": [
    "cont2 = MyContainer()\n",
    "print(cont2.my_class_attribute)"
   ]
  },
  {
   "cell_type": "markdown",
   "metadata": {
    "slideshow": {
     "slide_type": "slide"
    }
   },
   "source": [
    "Btw one more way to access instance attribute:"
   ]
  },
  {
   "cell_type": "code",
   "execution_count": null,
   "metadata": {},
   "outputs": [],
   "source": [
    "getattr(cont1, 'x')"
   ]
  },
  {
   "cell_type": "code",
   "execution_count": null,
   "metadata": {},
   "outputs": [],
   "source": [
    "getattr(cont1, 'my_class_attribute')"
   ]
  },
  {
   "cell_type": "markdown",
   "metadata": {},
   "source": [
    "* [setattr()](https://docs.python.org/3/library/functions.html#setattr)\n",
    "* [hasattr()](https://docs.python.org/3/library/functions.html#hasattr)"
   ]
  },
  {
   "cell_type": "markdown",
   "metadata": {
    "slideshow": {
     "slide_type": "slide"
    }
   },
   "source": [
    "Looks like a prototype-based OOP (Javascript)?\n",
    "\n",
    "Docs on [staticmethod()](https://docs.python.org/3/library/functions.html#staticmethod) see also [classmethod()](https://docs.python.org/3/library/functions.html#classmethod)"
   ]
  },
  {
   "cell_type": "code",
   "execution_count": null,
   "metadata": {
    "slideshow": {
     "slide_type": "-"
    }
   },
   "outputs": [],
   "source": [
    "def my_instance_print_hello(self):\n",
    "    print(\"Hello \" + self.__class__.__name__)\n",
    "    \n",
    "def my_static_print_hello():\n",
    "    print(\"Hello static\")\n",
    "\n",
    "MyContainer.print_instance = my_instance_print_hello\n",
    "MyContainer.print_static = staticmethod(my_static_print_hello)\n",
    "\n",
    "cont2.print_instance()\n",
    "cont2.print_static()"
   ]
  },
  {
   "cell_type": "markdown",
   "metadata": {
    "slideshow": {
     "slide_type": "slide"
    }
   },
   "source": [
    "## Inheritance and polymorphism\n",
    "\n",
    "No surprises: methods can be overriden by superclasses."
   ]
  },
  {
   "cell_type": "code",
   "execution_count": 41,
   "metadata": {},
   "outputs": [
    {
     "name": "stdout",
     "output_type": "stream",
     "text": [
      "100\n",
      "1000\n"
     ]
    }
   ],
   "source": [
    "class Box2D(object):\n",
    "    def __init__(self, side):\n",
    "        self.side = side\n",
    "        \n",
    "    def square(self):\n",
    "        return self.side * self.side\n",
    "    \n",
    "class Box3D(Box2D):\n",
    "    def square(self):\n",
    "        return self.side * super(Box3D, self).square()\n",
    "    \n",
    "box2d = Box2D(10)\n",
    "print box2d.square()\n",
    "\n",
    "box3d = Box3D(10)\n",
    "print box3d.square()"
   ]
  },
  {
   "cell_type": "markdown",
   "metadata": {
    "slideshow": {
     "slide_type": "slide"
    }
   },
   "source": [
    "### Multiple inheritance and the \"deadly diamond of death\"\n",
    "\n",
    "![](https://www.python-course.eu/images/multiple_inheritance_diamond.png)\n",
    "\n",
    "[Read more](https://www.python-course.eu/python3_multiple_inheritance.php)"
   ]
  },
  {
   "cell_type": "markdown",
   "metadata": {
    "slideshow": {
     "slide_type": "slide"
    }
   },
   "source": [
    "Because B goes first in the list of parents."
   ]
  },
  {
   "cell_type": "code",
   "execution_count": 42,
   "metadata": {
    "slideshow": {
     "slide_type": "-"
    }
   },
   "outputs": [
    {
     "name": "stdout",
     "output_type": "stream",
     "text": [
      "m of B called\n"
     ]
    }
   ],
   "source": [
    "class A:\n",
    "    def m(self):\n",
    "        print(\"m of A called\")\n",
    "\n",
    "class B(A):\n",
    "    def m(self):\n",
    "        print(\"m of B called\")\n",
    "    \n",
    "class C(A):\n",
    "    def m(self):\n",
    "        print(\"m of C called\")\n",
    "\n",
    "class D(B, C):\n",
    "    pass\n",
    "\n",
    "x = D()\n",
    "x.m()"
   ]
  },
  {
   "cell_type": "markdown",
   "metadata": {
    "slideshow": {
     "slide_type": "slide"
    }
   },
   "source": [
    "Because C is the closest parent who overrides m()."
   ]
  },
  {
   "cell_type": "code",
   "execution_count": 43,
   "metadata": {
    "slideshow": {
     "slide_type": "-"
    }
   },
   "outputs": [
    {
     "name": "stdout",
     "output_type": "stream",
     "text": [
      "m of A called\n"
     ]
    }
   ],
   "source": [
    "class A:\n",
    "    def m(self):\n",
    "        print(\"m of A called\")\n",
    "\n",
    "class B(A):\n",
    "    pass\n",
    "    \n",
    "class C(A):\n",
    "    def m(self):\n",
    "        print(\"m of C called\")\n",
    "\n",
    "class D(B, C):\n",
    "    pass\n",
    "\n",
    "x = D()\n",
    "x.m()"
   ]
  },
  {
   "cell_type": "markdown",
   "metadata": {
    "slideshow": {
     "slide_type": "slide"
    }
   },
   "source": [
    "Try to avoid multiple inheritance. But it's good for [Mixins](https://en.wikipedia.org/wiki/Mixin):\n",
    "\n",
    "> In object-oriented programming languages, a Mixin is a class that contains methods for use by other classes without having to be the parent class of those other classes. ... Mixins are sometimes described as being \"included\" rather than \"inherited\"."
   ]
  },
  {
   "cell_type": "markdown",
   "metadata": {
    "slideshow": {
     "slide_type": "slide"
    }
   },
   "source": [
    "#### Usefull built-in methods\n",
    "\n",
    "* [isinstance()](https://docs.python.org/3/library/functions.html#isinstance)\n",
    "* [issubclass()](https://docs.python.org/3/library/functions.html#issubclass)"
   ]
  },
  {
   "cell_type": "code",
   "execution_count": null,
   "metadata": {},
   "outputs": [],
   "source": [
    "isinstance(x, D)"
   ]
  },
  {
   "cell_type": "code",
   "execution_count": null,
   "metadata": {},
   "outputs": [],
   "source": [
    "issubclass(D, C)"
   ]
  },
  {
   "cell_type": "markdown",
   "metadata": {
    "slideshow": {
     "slide_type": "slide"
    }
   },
   "source": [
    "## Calling parents\n",
    "\n",
    "* [super()](https://docs.python.org/3/library/functions.html#super)\n",
    "\n",
    "Here's the demo of what an mixin is. Notice that AdminMixin's and ProgrammerMixin's ```__init__``` are not called. This is why typically mixins have no constructors."
   ]
  },
  {
   "cell_type": "code",
   "execution_count": null,
   "metadata": {},
   "outputs": [],
   "source": [
    "class Person:\n",
    "    def __init__(self, name):\n",
    "        self.name = name        \n",
    "        print(\"Person.__init__() called\")\n",
    "        \n",
    "class AdminMixin:\n",
    "    def __init__(self):\n",
    "        self.servers = []\n",
    "        print(\"AdminMixin.__init__() called\")\n",
    "        \n",
    "    def controls(self, servers):\n",
    "        self.servers = servers[:]\n",
    "\n",
    "class ProgrammerMixin:\n",
    "    def __init__(self):\n",
    "        self.languages = ['Python']\n",
    "        print(\"ProgrammerMixin.__init__() called\")\n",
    "\n",
    "    def knows(self, languages):\n",
    "        self.languages = languages[:]\n",
    "\n",
    "class Employee(Person, AdminMixin, ProgrammerMixin):\n",
    "    def __init__(self, name):\n",
    "        super().__init__(name)\n",
    "        \n",
    "vasya = Employee('Vasya')\n",
    "vasya.name"
   ]
  },
  {
   "cell_type": "markdown",
   "metadata": {
    "slideshow": {
     "slide_type": "slide"
    }
   },
   "source": [
    "Another option is to specify parents explicitly."
   ]
  },
  {
   "cell_type": "code",
   "execution_count": null,
   "metadata": {
    "slideshow": {
     "slide_type": "-"
    }
   },
   "outputs": [],
   "source": [
    "class OmniscientEmployee(Person, AdminMixin, ProgrammerMixin):\n",
    "    def __init__(self, name):\n",
    "        Person.__init__(self, name)\n",
    "        AdminMixin.__init__(self)\n",
    "        ProgrammerMixin.__init__(self)\n",
    "        \n",
    "petya = OmniscientEmployee('Petya')"
   ]
  },
  {
   "cell_type": "markdown",
   "metadata": {},
   "source": [
    "But multiple inheritance this way is also bad because you have to follow the correct order of calling methods."
   ]
  },
  {
   "cell_type": "markdown",
   "metadata": {
    "slideshow": {
     "slide_type": "slide"
    }
   },
   "source": [
    "Sometimes in others' code you'll find this way of calling super:"
   ]
  },
  {
   "cell_type": "code",
   "execution_count": null,
   "metadata": {},
   "outputs": [],
   "source": [
    "class OlderEmployee(Person):\n",
    "    def __init__(self, name):\n",
    "        super(self.__class__, self).__init__(name)\n",
    "        \n",
    "masha = OlderEmployee('Masha')"
   ]
  },
  {
   "cell_type": "markdown",
   "metadata": {},
   "source": [
    "This is Python2 style where super() required an argument. In Python3 super() without any arguments understands the calling context."
   ]
  },
  {
   "cell_type": "markdown",
   "metadata": {
    "slideshow": {
     "slide_type": "slide"
    }
   },
   "source": [
    "At least now we see that there're several ways of calling object methods."
   ]
  },
  {
   "cell_type": "code",
   "execution_count": null,
   "metadata": {},
   "outputs": [],
   "source": [
    "class MyPrinter:\n",
    "    def print(self, message):\n",
    "        print(message)\n",
    "        \n",
    "    def woofwoof(self):\n",
    "        self.print('Woof-woof!')\n",
    "        \n",
    "    def moomoo(self):\n",
    "        MyPrinter.print(self, 'Moo-moo!')\n",
    "        \n",
    "my_printer = MyPrinter()\n",
    "\n",
    "my_printer.woofwoof()\n",
    "my_printer.moomoo()\n",
    "\n",
    "# MyPrinter.print is \"bound\" method (it requires an object in \"self\" argument)\n",
    "MyPrinter.print(my_printer, 'Meow-meow!')"
   ]
  },
  {
   "cell_type": "markdown",
   "metadata": {
    "slideshow": {
     "slide_type": "slide"
    }
   },
   "source": [
    "### A note about abstract classes\n",
    "\n",
    "How it's usually done:"
   ]
  },
  {
   "cell_type": "code",
   "execution_count": null,
   "metadata": {},
   "outputs": [],
   "source": [
    "class MyAbstractClass:\n",
    "    def do_the_thing(self): raise NotImplementedError()\n",
    "        \n",
    "class MyRealDoer(MyAbstractClass):\n",
    "    def do_the_thing(self): print(\"Thing is done\")\n",
    "        \n",
    "my_abstract = MyAbstractClass()\n",
    "my_real = MyRealDoer()"
   ]
  },
  {
   "cell_type": "code",
   "execution_count": null,
   "metadata": {},
   "outputs": [],
   "source": [
    "my_real.do_the_thing()"
   ]
  },
  {
   "cell_type": "code",
   "execution_count": null,
   "metadata": {},
   "outputs": [],
   "source": [
    "my_abstract.do_the_thing()"
   ]
  },
  {
   "cell_type": "markdown",
   "metadata": {},
   "source": [
    "Also see [abc module](https://docs.python.org/3/library/abc.html)"
   ]
  },
  {
   "cell_type": "markdown",
   "metadata": {
    "slideshow": {
     "slide_type": "slide"
    }
   },
   "source": [
    "### A note about public, protected and private access modifiers\n",
    "\n",
    "A good [explainer post](http://radek.io/2011/07/21/private-protected-and-public-in-python/)\n",
    "\n",
    "Python doesn’t have any mechanisms, that would effectively restrict you from accessing a variable or calling a member method. All of this is a matter of culture and **convention**.\n",
    "\n",
    "* All member variables and methods are public by default in Python.\n",
    "* The ```_``` prefix means **stay away even if you're not technically prevented from doing so**. This also denotes **protected** member\n",
    "* The ```__``` prefix means **private**, e.g. nobody should be able to access it from outside the class.\n",
    "\n",
    "Pros: since all members are publicly accessible, no need for boilerplate getter/setter code (but still possible using @property)."
   ]
  },
  {
   "cell_type": "markdown",
   "metadata": {
    "slideshow": {
     "slide_type": "slide"
    }
   },
   "source": [
    "Python supports a technique called name mangling (obfuscation). This feature turns every member name prefixed with at least two underscores and suffixed with at most one underscore into ```_<className><memberName>```"
   ]
  },
  {
   "cell_type": "code",
   "execution_count": null,
   "metadata": {
    "slideshow": {
     "slide_type": "-"
    }
   },
   "outputs": [],
   "source": [
    "class PublicProtectedPrivateDemo:\n",
    "    def __init__(self):\n",
    "        self.public     = 'public'\n",
    "        self._protected = 'protected'\n",
    "        self.__private  = 'private'\n",
    "        \n",
    "pppd = PublicProtectedPrivateDemo()\n",
    "pppd.__dict__"
   ]
  },
  {
   "cell_type": "markdown",
   "metadata": {},
   "source": [
    "You can still access ```__private``` member by refererring ```_PublicProtectedPrivateDemo__private```."
   ]
  },
  {
   "cell_type": "code",
   "execution_count": null,
   "metadata": {},
   "outputs": [],
   "source": [
    "pppd._PublicProtectedPrivateDemo__private"
   ]
  },
  {
   "cell_type": "markdown",
   "metadata": {
    "slideshow": {
     "slide_type": "slide"
    }
   },
   "source": [
    "## How to make a property\n",
    "\n",
    "See [property()](https://docs.python.org/3/library/functions.html#property)\n",
    "\n",
    "To fully understand this example, we have to learn about decorators. But don't worry, we'll do it in the next workshop."
   ]
  },
  {
   "cell_type": "code",
   "execution_count": null,
   "metadata": {},
   "outputs": [],
   "source": [
    "class Student:\n",
    "    def __init__(self, name, surname):\n",
    "        self.name = name\n",
    "        self.surname = surname\n",
    "\n",
    "    @property\n",
    "    def fullname(self):\n",
    "        return self.name + ' ' + self.surname\n",
    "    \n",
    "    @fullname.setter\n",
    "    def fullname(self, value):\n",
    "        self.name, self.surname = value.split()\n",
    "        \n",
    "student = Student('John', 'Smith')\n",
    "student.fullname"
   ]
  },
  {
   "cell_type": "code",
   "execution_count": null,
   "metadata": {},
   "outputs": [],
   "source": [
    "student.fullname = 'Ivan Sidorov'\n",
    "student.name, student.surname"
   ]
  },
  {
   "cell_type": "markdown",
   "metadata": {
    "slideshow": {
     "slide_type": "slide"
    }
   },
   "source": [
    "Properties are useful for:\n",
    "* Calculated variables (like in example above)\n",
    "* Read-only or write-only variables\n",
    "* Getter/setter replacement"
   ]
  },
  {
   "cell_type": "markdown",
   "metadata": {
    "slideshow": {
     "slide_type": "slide"
    }
   },
   "source": [
    "## Special method names\n",
    "\n",
    "See [Data model](https://docs.python.org/3/reference/datamodel.html#special-method-names)\n",
    "\n",
    "> A class can implement certain operations that are invoked by special syntax (such as arithmetic operations or subscripting and slicing) by defining methods with special names. This is Python’s approach to operator overloading, allowing classes to define their own behavior with respect to language operators."
   ]
  },
  {
   "cell_type": "markdown",
   "metadata": {
    "slideshow": {
     "slide_type": "slide"
    }
   },
   "source": [
    "Let's learn by example. Imagine we want a class that is a human language representation of number from 0 to 9 and acts like an integer."
   ]
  },
  {
   "cell_type": "code",
   "execution_count": 44,
   "metadata": {},
   "outputs": [
    {
     "name": "stdout",
     "output_type": "stream",
     "text": [
      "one\n"
     ]
    },
    {
     "data": {
      "text/plain": [
       "\"Humanumba('one')\""
      ]
     },
     "execution_count": 44,
     "metadata": {},
     "output_type": "execute_result"
    }
   ],
   "source": [
    "class Humanumba:\n",
    "    words = 'zero', 'one', 'two', 'three', 'four', 'five', 'six', 'seven', 'eight', 'nine'\n",
    "    \n",
    "    def __new__(cls, word):\n",
    "        if word not in cls.words:\n",
    "            raise Exception('Not in vocabulary')\n",
    "            \n",
    "        obj = super().__new__(cls)\n",
    "        \n",
    "        return obj\n",
    "    \n",
    "    def __init__(self, word):\n",
    "        self.index = self.words.index(word)\n",
    "    \n",
    "    def __str__(self):\n",
    "        return self.words[self.index]\n",
    "    \n",
    "    def __repr__(self):\n",
    "        return \"{cls}('{word}')\".format(\n",
    "            cls=self.__class__.__name__,\n",
    "            word=self.words[self.index]\n",
    "        )\n",
    "    \n",
    "one = Humanumba('one')\n",
    "\n",
    "print(one)\n",
    "repr(one)"
   ]
  },
  {
   "cell_type": "markdown",
   "metadata": {
    "slideshow": {
     "slide_type": "slide"
    }
   },
   "source": [
    "Let's now try some basic operations."
   ]
  },
  {
   "cell_type": "code",
   "execution_count": 45,
   "metadata": {},
   "outputs": [
    {
     "data": {
      "text/plain": [
       "False"
      ]
     },
     "execution_count": 45,
     "metadata": {},
     "output_type": "execute_result"
    }
   ],
   "source": [
    "another_one = Humanumba('one')\n",
    "\n",
    "one == another_one"
   ]
  },
  {
   "cell_type": "markdown",
   "metadata": {},
   "source": [
    "But ```one``` and ```another_one``` represent the same entity. Let's fix that."
   ]
  },
  {
   "cell_type": "code",
   "execution_count": null,
   "metadata": {},
   "outputs": [],
   "source": [
    "class Humanumba2(Humanumba):\n",
    "    def __eq__(self, other):\n",
    "        return self.index == other.index\n",
    "    \n",
    "one = Humanumba2('one')\n",
    "another_one = Humanumba2('one')\n",
    "\n",
    "one == another_one"
   ]
  },
  {
   "cell_type": "code",
   "execution_count": null,
   "metadata": {
    "slideshow": {
     "slide_type": "slide"
    }
   },
   "outputs": [],
   "source": [
    "zero = Humanumba2('zero')\n",
    "\n",
    "zero < one"
   ]
  },
  {
   "cell_type": "markdown",
   "metadata": {},
   "source": [
    "Let's fix that too:"
   ]
  },
  {
   "cell_type": "code",
   "execution_count": null,
   "metadata": {},
   "outputs": [],
   "source": [
    "class Humanumba3(Humanumba2):\n",
    "    def __lt__(self, other):\n",
    "        return self.index < other.index\n",
    "    \n",
    "    def __le__(self, other):\n",
    "        return self.index <= other.index    \n",
    "    \n",
    "    def __gt__(self, other):\n",
    "        return self.index > other.index\n",
    "    \n",
    "    def __ge__(self, other):\n",
    "        return self.index >= other.index\n",
    "\n",
    "zero = Humanumba3('zero')\n",
    "one = Humanumba3('one')\n",
    "two = Humanumba3('two')\n",
    "\n",
    "zero < one < two"
   ]
  },
  {
   "cell_type": "markdown",
   "metadata": {
    "slideshow": {
     "slide_type": "slide"
    }
   },
   "source": [
    "Humanumba is actually a number in it's core, let's allow to compare to numeric types:"
   ]
  },
  {
   "cell_type": "code",
   "execution_count": null,
   "metadata": {},
   "outputs": [],
   "source": [
    "class Humanumba4(Humanumba3):\n",
    "    def __lt__(self, other):\n",
    "        index = other if isinstance(other, (int, float)) else other.index    \n",
    "        return self.index < index\n",
    "    \n",
    "    def __le__(self, other):\n",
    "        index = other if isinstance(other, (int, float)) else other.index\n",
    "        return self.index <= index    \n",
    "    \n",
    "    def __gt__(self, other):\n",
    "        index = other if isinstance(other, (int, float)) else other.index\n",
    "        return self.index > index\n",
    "    \n",
    "    def __ge__(self, other):\n",
    "        index = other if isinstance(other, (int, float)) else other.index        \n",
    "        return self.index >= index\n",
    "    \n",
    "one = Humanumba4('one')\n",
    "0 < one < 3.14"
   ]
  }
 ],
 "metadata": {
  "celltoolbar": "Slideshow",
  "kernelspec": {
   "display_name": "Python 2",
   "language": "python",
   "name": "python2"
  },
  "language_info": {
   "codemirror_mode": {
    "name": "ipython",
    "version": 2
   },
   "file_extension": ".py",
   "mimetype": "text/x-python",
   "name": "python",
   "nbconvert_exporter": "python",
   "pygments_lexer": "ipython2",
   "version": "2.7.15"
  },
  "varInspector": {
   "cols": {
    "lenName": 16,
    "lenType": 16,
    "lenVar": 40
   },
   "kernels_config": {
    "python": {
     "delete_cmd_postfix": "",
     "delete_cmd_prefix": "del ",
     "library": "var_list.py",
     "varRefreshCmd": "print(var_dic_list())"
    },
    "r": {
     "delete_cmd_postfix": ") ",
     "delete_cmd_prefix": "rm(",
     "library": "var_list.r",
     "varRefreshCmd": "cat(var_dic_list()) "
    }
   },
   "types_to_exclude": [
    "module",
    "function",
    "builtin_function_or_method",
    "instance",
    "_Feature"
   ],
   "window_display": false
  }
 },
 "nbformat": 4,
 "nbformat_minor": 2
}
