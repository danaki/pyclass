{
 "cells": [
  {
   "cell_type": "markdown",
   "metadata": {
    "slideshow": {
     "slide_type": "slide"
    }
   },
   "source": [
    "# Modules & Packages & Environments\n",
    "\n",
    "## Modules\n",
    "\n",
    " * A module is the way of organizing your code when it grows\n",
    " * In Python modules are just .py-files or directories with .py-files\n",
    " * Some modules are shipped with Python\n",
    " * In order to use code located in modules you have to import it first"
   ]
  },
  {
   "cell_type": "markdown",
   "metadata": {
    "slideshow": {
     "slide_type": "slide"
    }
   },
   "source": [
    "Layout:\n",
    "\n",
    "```\n",
    "├── mymodule\n",
    "|   ├── mysubmodule\n",
    "│   │   ├── __init__.py\n",
    "|   ├── my.py\n",
    "|   ├── __init__.py\n",
    "```\n",
    "\n",
    "Example:\n",
    "\n",
    "```\n",
    "from mymodule.my import myfun\n",
    "from mymodule import mysubmodule\n",
    "\n",
    "myfun()\n",
    "mysubmodule.otherfun()\n",
    "```"
   ]
  },
  {
   "cell_type": "markdown",
   "metadata": {
    "slideshow": {
     "slide_type": "slide"
    }
   },
   "source": [
    "* ```__init__.py``` files are required to make Python treat a directory as a module\n",
    "* ```__init__.py``` can just be an empty file, but it can also execute initialization code for the module or specify what can be imported using special dunder variables, like ```__all__```, for example"
   ]
  },
  {
   "cell_type": "markdown",
   "metadata": {
    "slideshow": {
     "slide_type": "slide"
    }
   },
   "source": [
    "Module aliasing:\n",
    "    \n",
    "```\n",
    "import numpy as np\n",
    "\n",
    "np.zeros((3, 2))\n",
    "```\n",
    "\n",
    "Import several packages:\n",
    "```\n",
    "import os, sys\n",
    "```"
   ]
  },
  {
   "cell_type": "markdown",
   "metadata": {
    "slideshow": {
     "slide_type": "slide"
    }
   },
   "source": [
    "Import statement uses the following convention: if package’s ```__init__.py``` code defines a list named ```__all__```, it is taken to be the list of module names that should be imported when from package import * is encountered.\n",
    "\n",
    "If ```mymodule/mysubmodule/__init__.py``` contains\n",
    "```\n",
    "__all__ = [\"myfun\", \"otherfun\"]\n",
    "```\n",
    "\n",
    "This line:\n",
    "```\n",
    "from mymodule.mysubmodule import *\n",
    "```\n",
    "\n",
    "will import ```myfun``` and ```otherfun``` only. Using wildcard imports **is a bad practice**."
   ]
  },
  {
   "cell_type": "markdown",
   "metadata": {
    "slideshow": {
     "slide_type": "slide"
    }
   },
   "source": [
    "## Packages and environments\n",
    "\n",
    "Terminology first:\n",
    "\n",
    "* **PyPI** is the default Package Index (a repository) for the Python community: [pypi.org](https://pypi.org/)\n",
    "* **Egg**: A Built Distribution format introduced by **setuptools**, which is being replaced by **Wheel**\n",
    "* **Wheel**: A Built Distribution format introduced by PEP 427, which is intended to replace the **Egg** format. Wheel is currently supported by **pip**\n",
    "* **sdist**: A distribution format that provides metadata and the essential source files needed for installing by a tool like pip\n",
    "* **setup.py**: The project specification file for **distutils** and **setuptools**\n",
    "* **requirements.txt**: A file containing a list of requirements (dependencies) that can be installed using pip.\n"
   ]
  },
  {
   "cell_type": "markdown",
   "metadata": {
    "slideshow": {
     "slide_type": "slide"
    }
   },
   "source": [
    "### Packaging tools\n",
    "\n",
    "* **Distutils** is still the standard tool for packaging in Python. It is included in the standard library (Python 2 and Python 3.0 to 3.6). It is useful for simple Python distributions, but lacks features.\n",
    "* **Setuptools** was developed to overcome Distutils' limitations, and is not included in the standard library. It introduced a command-line utility called ```easy_install```.\n",
    "* **Abandoned**: Distribute, Distutils2\n",
    "* **Alpha**: Distlib\n",
    "* **Alternatives**: Bento, Enscons\n",
    "\n",
    "[Stackoverflow](https://stackoverflow.com/questions/6344076/differences-between-distribute-distutils-setuptools-and-distutils2)"
   ]
  },
  {
   "cell_type": "markdown",
   "metadata": {
    "slideshow": {
     "slide_type": "slide"
    }
   },
   "source": [
    "### Package managers\n",
    "\n",
    "* **PyPi/setuptools**:\n",
    "    - ```easy_install```: 2004, install from Eggs, no uninstall packages, no Wheel support\n",
    "    - ```pip```: 2008, no install from Eggs, install from sdist or from Wheel recently, requirement files. Pip uses stanard PyPI repository.\n",
    "* **Anaconda**: ```conda```. Uses it's own Anaconda Cloud repository.\n",
    "* **Spack**: ```spack```"
   ]
  },
  {
   "cell_type": "markdown",
   "metadata": {
    "slideshow": {
     "slide_type": "slide"
    }
   },
   "source": [
    "### Virtual environments\n",
    "\n",
    "* **Virtualenv**\n",
    "* **Pyenv**: forked from rbenv and ruby-build, and modified for Python.\n",
    "* **Anaconda**: package index + package manager + environment manager\n",
    "\n",
    "[Stackoverflow](https://stackoverflow.com/questions/38217545/the-different-between-pyenv-virtualenv-anaconda-in-python)"
   ]
  },
  {
   "cell_type": "markdown",
   "metadata": {
    "slideshow": {
     "slide_type": "slide"
    }
   },
   "source": [
    "### Anatomy of a package\n",
    "\n",
    "```\n",
    "├── foo\n",
    "│   ├── a_module.py\n",
    "│   ├── __init__.py\n",
    "├── README\n",
    "└── setup.py\n",
    "```"
   ]
  },
  {
   "cell_type": "markdown",
   "metadata": {
    "slideshow": {
     "slide_type": "slide"
    }
   },
   "source": [
    "**setup.py:**\n",
    "\n",
    "```\n",
    "from setuptools import setup\n",
    "\n",
    "setup(\n",
    "   name='foo',\n",
    "   version='1.0',\n",
    "   description='A useful module',\n",
    "   author='Man Foo',\n",
    "   author_email='foomail@foo.com',\n",
    "   packages=['foo'],\n",
    "   install_requires=['bar>=1', 'greek>=1,<2']\n",
    ")\n",
    "```\n",
    "\n",
    "To build & install package:\n",
    "\n",
    "```python setup.py build && python setup.py install```"
   ]
  },
  {
   "cell_type": "markdown",
   "metadata": {
    "slideshow": {
     "slide_type": "slide"
    }
   },
   "source": [
    "### Typical application\n",
    "\n",
    "```\n",
    "├── project\n",
    "│   ├── submodule\n",
    "│   │   ├── __init__.py\n",
    "│   │   ├── my.py\n",
    "│   ├── app.py\n",
    "│   ├── __init__.py\n",
    "└── requirements.txt\n",
    "```"
   ]
  },
  {
   "cell_type": "markdown",
   "metadata": {
    "slideshow": {
     "slide_type": "slide"
    }
   },
   "source": [
    "**requirements.txt:**\n",
    "\n",
    "```\n",
    "bar==0.12.2\n",
    "greek>=1\n",
    "-e git+git://github.com/path/to/repo@releases/3.7.1#egg=charlie\n",
    "```\n",
    "\n",
    "To install application dependencies:\n",
    "\n",
    "```pip install -r requirements.txt```"
   ]
  },
  {
   "cell_type": "markdown",
   "metadata": {
    "slideshow": {
     "slide_type": "slide"
    }
   },
   "source": [
    "### PIP in a nutshell\n",
    "\n",
    "[PIP docs](https://pip.pypa.io/en/stable/)\n",
    "\n",
    "* ```pip search <pattern>```\n",
    "* ```pip install <package>```\n",
    "* ```pip uninstall <package>```\n",
    "* Save from env: ```pip freeze > requirements.txt```\n",
    "* List outdated: ```pip list --outdated --format=freeze```\n",
    "* Upgrade all: ```pip freeze --local | grep -v '^\\-e' | cut -d = -f 1  | xargs -n1 pip install -U```"
   ]
  },
  {
   "attachments": {
    "anaconda%20scr.png": {
     "image/png": "[encoded data removed]"
    }
   },
   "cell_type": "markdown",
   "metadata": {
    "slideshow": {
     "slide_type": "slide"
    }
   },
   "source": [
    "Please run a terminal under an environment (most likely `root`):\n",
    "\n",
    " ![anaconda%20scr.png](attachment:anaconda%20scr.png)"
   ]
  },
  {
   "cell_type": "markdown",
   "metadata": {
    "slideshow": {
     "slide_type": "slide"
    }
   },
   "source": [
    "In the opened terminal try to run these commands:\n",
    "\n",
    " * `pip search requests`\n",
    " * `pip install requests`\n",
    " \n",
    " It should install module `requests` under your environment."
   ]
  },
  {
   "cell_type": "markdown",
   "metadata": {
    "slideshow": {
     "slide_type": "slide"
    }
   },
   "source": [
    "## Overview of built-in modules\n",
    "\n",
    "[The Python Standard Library¶](https://docs.python.org/2/library/)"
   ]
  },
  {
   "cell_type": "markdown",
   "metadata": {
    "slideshow": {
     "slide_type": "slide"
    }
   },
   "source": [
    "### time and datetime\n",
    "\n",
    " * The `time` module provides various time-related functions.\n",
    " * The `datetime` module supplies classes for manipulating dates and times.\n",
    " \n",
    "Several formats and containers to represent date and time:\n",
    " * Unix timestamp\n",
    " * time.struct_time\n",
    " * datetime.datetime\n",
    " * datetime.date\n",
    " * datetime.time"
   ]
  },
  {
   "cell_type": "code",
   "execution_count": 34,
   "metadata": {
    "slideshow": {
     "slide_type": "slide"
    }
   },
   "outputs": [],
   "source": [
    "import time\n",
    "import datetime"
   ]
  },
  {
   "cell_type": "markdown",
   "metadata": {
    "slideshow": {
     "slide_type": "slide"
    }
   },
   "source": [
    "`time.time()` returns the time in seconds since *the epoch* as a floating point number.\n",
    "\n",
    "> Unix time (also known as POSIX time or UNIX Epoch time) is a system for describing a point in time. It is the **number of seconds** that have elapsed **since 00:00:00 Thursday, 1 January 1970**, Coordinated Universal Time (UTC), minus leap seconds."
   ]
  },
  {
   "cell_type": "code",
   "execution_count": 38,
   "metadata": {},
   "outputs": [
    {
     "data": {
      "text/plain": [
       "1566427803.744475"
      ]
     },
     "execution_count": 38,
     "metadata": {},
     "output_type": "execute_result"
    }
   ],
   "source": [
    "now = time.time()\n",
    "now"
   ]
  },
  {
   "cell_type": "markdown",
   "metadata": {
    "slideshow": {
     "slide_type": "slide"
    }
   },
   "source": [
    "`time.gmtime([secs])` returns time as a structure. If parameter is ommited returns current time (in UTC)."
   ]
  },
  {
   "cell_type": "code",
   "execution_count": 39,
   "metadata": {},
   "outputs": [
    {
     "data": {
      "text/plain": [
       "time.struct_time(tm_year=2019, tm_mon=8, tm_mday=21, tm_hour=22, tm_min=50, tm_sec=3, tm_wday=2, tm_yday=233, tm_isdst=0)"
      ]
     },
     "execution_count": 39,
     "metadata": {},
     "output_type": "execute_result"
    }
   ],
   "source": [
    "time.gmtime(now)"
   ]
  },
  {
   "cell_type": "markdown",
   "metadata": {},
   "source": [
    "`time.localtime()` is like `time.gmtime()` but returned time is adjusted to local timezone:"
   ]
  },
  {
   "cell_type": "code",
   "execution_count": 40,
   "metadata": {},
   "outputs": [
    {
     "data": {
      "text/plain": [
       "time.struct_time(tm_year=2019, tm_mon=8, tm_mday=22, tm_hour=1, tm_min=50, tm_sec=3, tm_wday=3, tm_yday=234, tm_isdst=1)"
      ]
     },
     "execution_count": 40,
     "metadata": {},
     "output_type": "execute_result"
    }
   ],
   "source": [
    "time.localtime(now)"
   ]
  },
  {
   "cell_type": "markdown",
   "metadata": {
    "slideshow": {
     "slide_type": "slide"
    }
   },
   "source": [
    "Use `time.mktime()` to convert to Unix time:"
   ]
  },
  {
   "cell_type": "code",
   "execution_count": 41,
   "metadata": {},
   "outputs": [
    {
     "data": {
      "text/plain": [
       "1566427837.0"
      ]
     },
     "execution_count": 41,
     "metadata": {},
     "output_type": "execute_result"
    }
   ],
   "source": [
    "time.mktime(time.localtime())"
   ]
  },
  {
   "cell_type": "code",
   "execution_count": 42,
   "metadata": {},
   "outputs": [
    {
     "data": {
      "text/plain": [
       "7200.0"
      ]
     },
     "execution_count": 42,
     "metadata": {},
     "output_type": "execute_result"
    }
   ],
   "source": [
    "timezone_secs = time.mktime(time.localtime()) - time.mktime(time.gmtime())\n",
    "timezone_secs"
   ]
  },
  {
   "cell_type": "markdown",
   "metadata": {
    "slideshow": {
     "slide_type": "slide"
    }
   },
   "source": [
    "`datetime.datetime` is an OOP wrapper for date & time:"
   ]
  },
  {
   "cell_type": "code",
   "execution_count": 46,
   "metadata": {},
   "outputs": [
    {
     "name": "stdout",
     "output_type": "stream",
     "text": [
      "2019-08-21 22:54:08.964950\n",
      "2019-08-22 01:54:08.965604\n"
     ]
    }
   ],
   "source": [
    "# in UTC\n",
    "print datetime.datetime.utcnow()\n",
    "# local time zone\n",
    "print datetime.datetime.now()"
   ]
  },
  {
   "cell_type": "markdown",
   "metadata": {
    "slideshow": {
     "slide_type": "slide"
    }
   },
   "source": [
    "Use `datetime.timedelta()` for date-time arithmetics:"
   ]
  },
  {
   "cell_type": "code",
   "execution_count": 66,
   "metadata": {},
   "outputs": [
    {
     "data": {
      "text/plain": [
       "('2020-08-21 02:17:05.660064', '2018-08-22 02:17:05.660064')"
      ]
     },
     "execution_count": 66,
     "metadata": {},
     "output_type": "execute_result"
    }
   ],
   "source": [
    "now = datetime.datetime.now()\n",
    "year = datetime.timedelta(days=365)\n",
    "\n",
    "next_year = now + year\n",
    "last_year = now - year\n",
    "\n",
    "str(next_year), str(last_year)"
   ]
  },
  {
   "cell_type": "code",
   "execution_count": 65,
   "metadata": {
    "slideshow": {
     "slide_type": "slide"
    }
   },
   "outputs": [
    {
     "name": "stdout",
     "output_type": "stream",
     "text": [
      "730 days, 0:00:00\n",
      "-730 days, 0:00:00\n"
     ]
    }
   ],
   "source": [
    "print next_year - last_year\n",
    "print last_year - next_year"
   ]
  },
  {
   "cell_type": "markdown",
   "metadata": {
    "slideshow": {
     "slide_type": "slide"
    }
   },
   "source": [
    "`datetime.datetime` supports comparison:"
   ]
  },
  {
   "cell_type": "code",
   "execution_count": 62,
   "metadata": {},
   "outputs": [
    {
     "name": "stdout",
     "output_type": "stream",
     "text": [
      "True\n",
      "False\n"
     ]
    }
   ],
   "source": [
    "print next_year > last_year\n",
    "print next_year < last_year"
   ]
  },
  {
   "cell_type": "markdown",
   "metadata": {
    "slideshow": {
     "slide_type": "slide"
    }
   },
   "source": [
    "Use `datetime.strftime()` to customize date formatting:\n",
    "\n",
    "\n",
    "| Directive | Meaning |\n",
    "|-----------|---------|\n",
    "| %d        | Day of the month as a zero-padded decimal number  |\n",
    "| %m        | Month as a zero-padded decimal number. |\n",
    "| %y        | Year without century as a zero-padded decimal number.  |\n",
    "| %Y        | Year with century as a decimal number. |\n",
    "| %H        | Hour (24-hour clock) as a zero-padded decimal number. |\n",
    "| %M        | Minute as a zero-padded decimal number. |\n",
    "| ...       | ... |\n",
    "\n",
    "[Full list](https://docs.python.org/2/library/datetime.html#strftime-strptime-behavior)"
   ]
  },
  {
   "cell_type": "code",
   "execution_count": 59,
   "metadata": {
    "slideshow": {
     "slide_type": "slide"
    }
   },
   "outputs": [
    {
     "data": {
      "text/plain": [
       "'2020/08/21 02~01'"
      ]
     },
     "execution_count": 59,
     "metadata": {},
     "output_type": "execute_result"
    }
   ],
   "source": [
    "next_year.strftime(\"%Y/%m/%d %H~%M\")"
   ]
  },
  {
   "cell_type": "code",
   "execution_count": 67,
   "metadata": {},
   "outputs": [
    {
     "data": {
      "text/plain": [
       "'2020-08-21T02:17:05.660064'"
      ]
     },
     "execution_count": 67,
     "metadata": {},
     "output_type": "execute_result"
    }
   ],
   "source": [
    "# ISO 8601 format -> YYYY-MM-DDTHH:MM:SS.mmmmmm\n",
    "next_year.isoformat()"
   ]
  },
  {
   "cell_type": "markdown",
   "metadata": {
    "slideshow": {
     "slide_type": "slide"
    }
   },
   "source": [
    "### random"
   ]
  },
  {
   "cell_type": "code",
   "execution_count": 146,
   "metadata": {},
   "outputs": [],
   "source": [
    "import random"
   ]
  },
  {
   "cell_type": "markdown",
   "metadata": {
    "slideshow": {
     "slide_type": "slide"
    }
   },
   "source": [
    "Random generator in Python is intentionally **deterministic**. If you need true randomness, find a different source.\n",
    "\n",
    "Initialize random generator:"
   ]
  },
  {
   "cell_type": "code",
   "execution_count": 147,
   "metadata": {},
   "outputs": [],
   "source": [
    "random.seed(123)"
   ]
  },
  {
   "cell_type": "markdown",
   "metadata": {
    "slideshow": {
     "slide_type": "slide"
    }
   },
   "source": [
    "`random.randrange(start, stop[, step])` returns random number from the `range()`"
   ]
  },
  {
   "cell_type": "code",
   "execution_count": 150,
   "metadata": {},
   "outputs": [
    {
     "data": {
      "text/plain": [
       "4"
      ]
     },
     "execution_count": 150,
     "metadata": {},
     "output_type": "execute_result"
    }
   ],
   "source": [
    "random.randrange(0, 9, 2)"
   ]
  },
  {
   "cell_type": "code",
   "execution_count": 151,
   "metadata": {},
   "outputs": [
    {
     "data": {
      "text/plain": [
       "0"
      ]
     },
     "execution_count": 151,
     "metadata": {},
     "output_type": "execute_result"
    }
   ],
   "source": [
    "random.randrange(0, 9, 2)"
   ]
  },
  {
   "cell_type": "code",
   "execution_count": 152,
   "metadata": {},
   "outputs": [
    {
     "data": {
      "text/plain": [
       "8"
      ]
     },
     "execution_count": 152,
     "metadata": {},
     "output_type": "execute_result"
    }
   ],
   "source": [
    "random.randrange(0, 9, 2)"
   ]
  },
  {
   "cell_type": "markdown",
   "metadata": {
    "slideshow": {
     "slide_type": "slide"
    }
   },
   "source": [
    "`random.randint(a, b)`, returns random integer `a <= N <= b`"
   ]
  },
  {
   "cell_type": "code",
   "execution_count": 153,
   "metadata": {},
   "outputs": [
    {
     "data": {
      "text/plain": [
       "100"
      ]
     },
     "execution_count": 153,
     "metadata": {},
     "output_type": "execute_result"
    }
   ],
   "source": [
    "random.randint(100, 110)"
   ]
  },
  {
   "cell_type": "code",
   "execution_count": 154,
   "metadata": {},
   "outputs": [
    {
     "data": {
      "text/plain": [
       "105"
      ]
     },
     "execution_count": 154,
     "metadata": {},
     "output_type": "execute_result"
    }
   ],
   "source": [
    "random.randint(100, 110)"
   ]
  },
  {
   "cell_type": "markdown",
   "metadata": {
    "slideshow": {
     "slide_type": "slide"
    }
   },
   "source": [
    "`random.choice()` takes a random element of a sequence."
   ]
  },
  {
   "cell_type": "code",
   "execution_count": 155,
   "metadata": {},
   "outputs": [
    {
     "data": {
      "text/plain": [
       "'b'"
      ]
     },
     "execution_count": 155,
     "metadata": {},
     "output_type": "execute_result"
    }
   ],
   "source": [
    "random.choice('abcdef')"
   ]
  },
  {
   "cell_type": "markdown",
   "metadata": {
    "slideshow": {
     "slide_type": "slide"
    }
   },
   "source": [
    "`random.shuffle()` randomly rearranges elements of the given list."
   ]
  },
  {
   "cell_type": "code",
   "execution_count": 160,
   "metadata": {},
   "outputs": [
    {
     "data": {
      "text/plain": [
       "['c', 'd', 'b', 'a']"
      ]
     },
     "execution_count": 160,
     "metadata": {},
     "output_type": "execute_result"
    }
   ],
   "source": [
    "mylist = ['a', 'b', 'c', 'd']\n",
    "random.shuffle(mylist)\n",
    "mylist"
   ]
  },
  {
   "cell_type": "markdown",
   "metadata": {
    "slideshow": {
     "slide_type": "slide"
    }
   },
   "source": [
    "`random.gauss(mu, sigma)` returns a random number given Gauss distribution D(my, sigma)"
   ]
  },
  {
   "cell_type": "code",
   "execution_count": 161,
   "metadata": {},
   "outputs": [
    {
     "data": {
      "text/plain": [
       "0.0017570501659745208"
      ]
     },
     "execution_count": 161,
     "metadata": {},
     "output_type": "execute_result"
    }
   ],
   "source": [
    "random.gauss(0, 1)"
   ]
  },
  {
   "cell_type": "code",
   "execution_count": 162,
   "metadata": {},
   "outputs": [
    {
     "data": {
      "text/plain": [
       "0.057799773307379655"
      ]
     },
     "execution_count": 162,
     "metadata": {},
     "output_type": "execute_result"
    }
   ],
   "source": [
    "random.gauss(0, 1)"
   ]
  },
  {
   "cell_type": "code",
   "execution_count": 163,
   "metadata": {},
   "outputs": [
    {
     "data": {
      "text/plain": [
       "-0.39436312062498746"
      ]
     },
     "execution_count": 163,
     "metadata": {},
     "output_type": "execute_result"
    }
   ],
   "source": [
    "random.gauss(0, 1)"
   ]
  },
  {
   "cell_type": "markdown",
   "metadata": {
    "slideshow": {
     "slide_type": "slide"
    }
   },
   "source": [
    "### collections\n",
    "\n",
    "[Docs](https://docs.python.org/2/library/collections.html)"
   ]
  },
  {
   "cell_type": "code",
   "execution_count": 71,
   "metadata": {},
   "outputs": [],
   "source": [
    "import collections"
   ]
  },
  {
   "cell_type": "markdown",
   "metadata": {
    "slideshow": {
     "slide_type": "slide"
    }
   },
   "source": [
    "`collections.deque` is LIFO (stack) and FIFO (queue) implementation"
   ]
  },
  {
   "cell_type": "code",
   "execution_count": 81,
   "metadata": {},
   "outputs": [
    {
     "data": {
      "text/plain": [
       "deque(['a', 'b', 'c'])"
      ]
     },
     "execution_count": 81,
     "metadata": {},
     "output_type": "execute_result"
    }
   ],
   "source": [
    "d = collections.deque('abc')\n",
    "d"
   ]
  },
  {
   "cell_type": "markdown",
   "metadata": {
    "slideshow": {
     "slide_type": "slide"
    }
   },
   "source": [
    "deque is very similar to list (and you can replace it with a list), but sometimes it's a very convenient structure because of these methods:\n",
    " * pop()\n",
    " * popleft()\n",
    " * append()\n",
    " * appendleft()"
   ]
  },
  {
   "cell_type": "code",
   "execution_count": 82,
   "metadata": {
    "slideshow": {
     "slide_type": "slide"
    }
   },
   "outputs": [
    {
     "data": {
      "text/plain": [
       "('c', deque(['a', 'b']))"
      ]
     },
     "execution_count": 82,
     "metadata": {},
     "output_type": "execute_result"
    }
   ],
   "source": [
    "letter = d.pop()\n",
    "letter, d"
   ]
  },
  {
   "cell_type": "code",
   "execution_count": 83,
   "metadata": {},
   "outputs": [
    {
     "data": {
      "text/plain": [
       "('a', deque(['b']))"
      ]
     },
     "execution_count": 83,
     "metadata": {},
     "output_type": "execute_result"
    }
   ],
   "source": [
    "letter = d.popleft()\n",
    "letter, d"
   ]
  },
  {
   "cell_type": "code",
   "execution_count": 84,
   "metadata": {},
   "outputs": [
    {
     "data": {
      "text/plain": [
       "deque(['0', 'b', '1'])"
      ]
     },
     "execution_count": 84,
     "metadata": {},
     "output_type": "execute_result"
    }
   ],
   "source": [
    "d.appendleft('0')\n",
    "d.append('1')\n",
    "d"
   ]
  },
  {
   "cell_type": "markdown",
   "metadata": {
    "slideshow": {
     "slide_type": "slide"
    }
   },
   "source": [
    "Example: use deque to compute moving average.\n",
    "\n",
    "Visualizing Bitcoin price in the last 60 days:"
   ]
  },
  {
   "cell_type": "code",
   "execution_count": 101,
   "metadata": {},
   "outputs": [
    {
     "name": "stdout",
     "output_type": "stream",
     "text": [
      "DEBUG:matplotlib.backends:backend module://ipykernel.pylab.backend_inline version unknown\n"
     ]
    },
    {
     "data": {
      "text/plain": [
       "[<matplotlib.lines.Line2D at 0x10d5f7790>]"
      ]
     },
     "execution_count": 101,
     "metadata": {},
     "output_type": "execute_result"
    },
    {
     "data": {
      "image/png": "[encoded data removed]",
      "text/plain": [
       "<Figure size 720x360 with 1 Axes>"
      ]
     },
     "metadata": {
      "needs_background": "light"
     },
     "output_type": "display_data"
    }
   ],
   "source": [
    "%matplotlib inline\n",
    "import matplotlib\n",
    "\n",
    "matplotlib.rcParams['figure.figsize'] = (10.0, 5.0)\n",
    "\n",
    "bitcoin_price = [10748, 10851, 11314, 12686, 11834, 11665, 11886, 11545, 10690, 10300, 11342, 11779, 11118, 11411, 11310, 11788, 12567, 12668, 11560, 11577, 11412, 10852, 10438, 10300, 9584, 10092, 10455, 10685, 10569, 10449, 10044, 9708, 10021, 9774, 9725, 9500, 9533, 9539, 9873, 10088, 10478, 10790, 10826, 11713, 11759, 11703, 11803, 11816, 11586, 11377, 11397, 11144, 10450, 9988, 10230, 10292, 10295, 10605, 10746, 10169]\n",
    "matplotlib.pyplot.plot(bitcoin_price)"
   ]
  },
  {
   "cell_type": "markdown",
   "metadata": {
    "slideshow": {
     "slide_type": "slide"
    }
   },
   "source": [
    "What if we wanted to smoothen all these peaks to see the trend? "
   ]
  },
  {
   "cell_type": "code",
   "execution_count": 107,
   "metadata": {},
   "outputs": [
    {
     "data": {
      "text/plain": [
       "[<matplotlib.lines.Line2D at 0x1d3d4ece50>]"
      ]
     },
     "execution_count": 107,
     "metadata": {},
     "output_type": "execute_result"
    },
    {
     "data": {
      "image/png": "[encoded data removed]",
      "text/plain": [
       "<Figure size 720x360 with 1 Axes>"
      ]
     },
     "metadata": {
      "needs_background": "light"
     },
     "output_type": "display_data"
    }
   ],
   "source": [
    "bitcoin_price_7avg = []\n",
    "d = collections.deque([bitcoin_price[0]] * 7, 7)\n",
    "for p in bitcoin_price:\n",
    "    d.append(p)\n",
    "    bitcoin_price_7avg.append(sum(d) / 7)\n",
    "    \n",
    "matplotlib.pyplot.plot(bitcoin_price_7avg)"
   ]
  },
  {
   "cell_type": "markdown",
   "metadata": {
    "slideshow": {
     "slide_type": "slide"
    }
   },
   "source": [
    "`collections.OrderedDict` is a dict that remembers the order that keys were first inserted."
   ]
  },
  {
   "cell_type": "code",
   "execution_count": 127,
   "metadata": {},
   "outputs": [
    {
     "name": "stdout",
     "output_type": "stream",
     "text": [
      "orange = 2\n",
      "pear = 1\n",
      "banana = 3\n",
      "apple = 4\n"
     ]
    }
   ],
   "source": [
    "d = dict()\n",
    "d['banana'] = 3\n",
    "d['apple'] = 4\n",
    "d['pear'] = 1\n",
    "d['orange'] = 2\n",
    "for k, v in d.items():\n",
    "    print k, \"=\", v"
   ]
  },
  {
   "cell_type": "markdown",
   "metadata": {
    "slideshow": {
     "slide_type": "slide"
    }
   },
   "source": [
    "Now, using `collections.OrderedDict`:"
   ]
  },
  {
   "cell_type": "code",
   "execution_count": 126,
   "metadata": {},
   "outputs": [
    {
     "name": "stdout",
     "output_type": "stream",
     "text": [
      "banana = 3\n",
      "apple = 4\n",
      "pear = 1\n",
      "orange = 2\n"
     ]
    }
   ],
   "source": [
    "od = collections.OrderedDict()\n",
    "od['banana'] = 3\n",
    "od['apple'] = 4\n",
    "od['pear'] = 1\n",
    "od['orange'] = 2\n",
    "for k, v in od.items():\n",
    "    print k, \"=\", v"
   ]
  },
  {
   "cell_type": "markdown",
   "metadata": {
    "slideshow": {
     "slide_type": "slide"
    }
   },
   "source": [
    "`collections.Counter` is a dict for counting things."
   ]
  },
  {
   "cell_type": "code",
   "execution_count": 128,
   "metadata": {},
   "outputs": [
    {
     "data": {
      "text/plain": [
       "Counter({'a': 5, 'b': 2, 'c': 1, 'd': 1, 'r': 2})"
      ]
     },
     "execution_count": 128,
     "metadata": {},
     "output_type": "execute_result"
    }
   ],
   "source": [
    "collections.Counter('abracadabra')"
   ]
  },
  {
   "cell_type": "markdown",
   "metadata": {
    "slideshow": {
     "slide_type": "slide"
    }
   },
   "source": [
    "### itertools\n",
    "\n",
    "itertools deals with iterators (yield).\n",
    "\n",
    "[Docs](https://docs.python.org/2/library/itertools.html)"
   ]
  },
  {
   "cell_type": "code",
   "execution_count": 130,
   "metadata": {},
   "outputs": [],
   "source": [
    "import itertools"
   ]
  },
  {
   "cell_type": "markdown",
   "metadata": {
    "slideshow": {
     "slide_type": "slide"
    }
   },
   "source": [
    "`itertools.cycle(iterable)` will cycle values indefinitely."
   ]
  },
  {
   "cell_type": "code",
   "execution_count": 134,
   "metadata": {},
   "outputs": [
    {
     "name": "stdout",
     "output_type": "stream",
     "text": [
      ":-)\n",
      ":-D\n",
      ":-)\n",
      ":-D\n",
      ":-)\n",
      ":-D\n",
      ":-)\n",
      ":-D\n"
     ]
    }
   ],
   "source": [
    "i = 0\n",
    "for coin in itertools.cycle([':-)', ':-D']):\n",
    "    print coin\n",
    "    \n",
    "    i += 1\n",
    "    if i == 8:\n",
    "        break"
   ]
  },
  {
   "cell_type": "markdown",
   "metadata": {
    "slideshow": {
     "slide_type": "slide"
    }
   },
   "source": [
    "`itertools.permutations(iterable, r)` returns unique groups of elements respecting the order."
   ]
  },
  {
   "cell_type": "code",
   "execution_count": 144,
   "metadata": {},
   "outputs": [
    {
     "data": {
      "text/plain": [
       "[('A', 'B'), ('A', 'C'), ('B', 'A'), ('B', 'C'), ('C', 'A'), ('C', 'B')]"
      ]
     },
     "execution_count": 144,
     "metadata": {},
     "output_type": "execute_result"
    }
   ],
   "source": [
    "list(itertools.permutations('ABC', 2))"
   ]
  },
  {
   "cell_type": "markdown",
   "metadata": {
    "slideshow": {
     "slide_type": "slide"
    }
   },
   "source": [
    "`itertools.combinations(iterable, r)` creates combinations of length `r`, e.g. permutations disrespecting the order."
   ]
  },
  {
   "cell_type": "code",
   "execution_count": 142,
   "metadata": {},
   "outputs": [
    {
     "data": {
      "text/plain": [
       "[('A', 'B'), ('A', 'C'), ('B', 'C')]"
      ]
     },
     "execution_count": 142,
     "metadata": {},
     "output_type": "execute_result"
    }
   ],
   "source": [
    "list(itertools.combinations('ABC', 2))"
   ]
  },
  {
   "cell_type": "markdown",
   "metadata": {
    "slideshow": {
     "slide_type": "slide"
    }
   },
   "source": [
    "`itertool.product()` computes product of two vectors (lists)"
   ]
  },
  {
   "cell_type": "code",
   "execution_count": 140,
   "metadata": {},
   "outputs": [
    {
     "name": "stdout",
     "output_type": "stream",
     "text": [
      "['2c', '2d', '2h', '2s', '3c', '3d', '3h', '3s', '4c', '4d', '4h', '4s', '5c', '5d', '5h', '5s', '6c', '6d', '6h', '6s', '7c', '7d', '7h', '7s', '8c', '8d', '8h', '8s', '9c', '9d', '9h', '9s', 'Tc', 'Td', 'Th', 'Ts', 'Jc', 'Jd', 'Jh', 'Js', 'Qc', 'Qd', 'Qh', 'Qs', 'Kc', 'Kd', 'Kh', 'Ks', 'Ac', 'Ad', 'Ah', 'As']\n"
     ]
    }
   ],
   "source": [
    "print [face + suit for face, suit in itertools.product('23456789TJQKA', 'cdhs')]"
   ]
  },
  {
   "cell_type": "code",
   "execution_count": null,
   "metadata": {},
   "outputs": [],
   "source": []
  }
 ],
 "metadata": {
  "celltoolbar": "Slideshow",
  "kernelspec": {
   "display_name": "Python 2",
   "language": "python",
   "name": "python2"
  },
  "language_info": {
   "codemirror_mode": {
    "name": "ipython",
    "version": 2
   },
   "file_extension": ".py",
   "mimetype": "text/x-python",
   "name": "python",
   "nbconvert_exporter": "python",
   "pygments_lexer": "ipython2",
   "version": "2.7.16"
  },
  "toc": {
   "base_numbering": 1,
   "nav_menu": {},
   "number_sections": true,
   "sideBar": true,
   "skip_h1_title": true,
   "title_cell": "Table of Contents",
   "title_sidebar": "Contents",
   "toc_cell": false,
   "toc_position": {
    "height": "calc(100% - 180px)",
    "left": "10px",
    "top": "150px",
    "width": "688px"
   },
   "toc_section_display": true,
   "toc_window_display": true
  },
  "varInspector": {
   "cols": {
    "lenName": 16,
    "lenType": 16,
    "lenVar": 40
   },
   "kernels_config": {
    "python": {
     "delete_cmd_postfix": "",
     "delete_cmd_prefix": "del ",
     "library": "var_list.py",
     "varRefreshCmd": "print(var_dic_list())"
    },
    "r": {
     "delete_cmd_postfix": ") ",
     "delete_cmd_prefix": "rm(",
     "library": "var_list.r",
     "varRefreshCmd": "cat(var_dic_list()) "
    }
   },
   "types_to_exclude": [
    "module",
    "function",
    "builtin_function_or_method",
    "instance",
    "_Feature"
   ],
   "window_display": false
  }
 },
 "nbformat": 4,
 "nbformat_minor": 2
}
