{
 "cells": [
  {
   "cell_type": "markdown",
   "metadata": {
    "slideshow": {
     "slide_type": "slide"
    }
   },
   "source": [
    "# Dictionaries\n",
    "\n",
    "A key-value storage (synonims: mapping, association). Highly efficient data structure. Key order not guaranteed (if you need order, checkout [OrderedDict](https://docs.python.org/3/library/collections.html#collections.OrderedDict)). Keys must be hashable."
   ]
  },
  {
   "cell_type": "code",
   "execution_count": null,
   "metadata": {
    "slideshow": {
     "slide_type": "slide"
    }
   },
   "outputs": [],
   "source": [
    "dict(name='Yuri', surname='Pimenov')"
   ]
  },
  {
   "cell_type": "markdown",
   "metadata": {},
   "source": [
    "Same result using {} syntax"
   ]
  },
  {
   "cell_type": "code",
   "execution_count": null,
   "metadata": {},
   "outputs": [],
   "source": [
    "{'name': 'Yuri', 'surname': 'Pimenov'}"
   ]
  },
  {
   "cell_type": "markdown",
   "metadata": {
    "slideshow": {
     "slide_type": "slide"
    }
   },
   "source": [
    "To access a value stored in a dictionary using the key:"
   ]
  },
  {
   "cell_type": "code",
   "execution_count": null,
   "metadata": {},
   "outputs": [],
   "source": [
    "car = {\n",
    "    'brand': 'BMW',\n",
    "    'mileage': 100000,\n",
    "}\n",
    "\n",
    "car['brand']"
   ]
  },
  {
   "cell_type": "markdown",
   "metadata": {},
   "source": [
    "To see how many elements are stored in a dictionary:"
   ]
  },
  {
   "cell_type": "code",
   "execution_count": null,
   "metadata": {},
   "outputs": [],
   "source": [
    "len(car)"
   ]
  },
  {
   "cell_type": "markdown",
   "metadata": {
    "slideshow": {
     "slide_type": "slide"
    }
   },
   "source": [
    "If key doesn't exist, produces exception `KeyError: 'weight'`"
   ]
  },
  {
   "cell_type": "code",
   "execution_count": null,
   "metadata": {},
   "outputs": [],
   "source": [
    "car['weight']"
   ]
  },
  {
   "cell_type": "markdown",
   "metadata": {
    "slideshow": {
     "slide_type": "slide"
    }
   },
   "source": [
    "\"Safe\" version of element access, returns second parameter if key not found:"
   ]
  },
  {
   "cell_type": "code",
   "execution_count": null,
   "metadata": {},
   "outputs": [],
   "source": [
    "car.get('weight', 1000)"
   ]
  },
  {
   "cell_type": "markdown",
   "metadata": {
    "slideshow": {
     "slide_type": "slide"
    }
   },
   "source": [
    "To check if key exists:"
   ]
  },
  {
   "cell_type": "code",
   "execution_count": null,
   "metadata": {},
   "outputs": [],
   "source": [
    "'brand' in car"
   ]
  },
  {
   "cell_type": "code",
   "execution_count": null,
   "metadata": {},
   "outputs": [],
   "source": [
    "'weight' in car"
   ]
  },
  {
   "cell_type": "markdown",
   "metadata": {
    "slideshow": {
     "slide_type": "slide"
    }
   },
   "source": [
    "Keys must be hashable, this won't work: `TypeError: unhashable type: 'list'`\n",
    "\n",
    "[Why Lists Can't Be Dictionary Keys](https://wiki.python.org/moin/DictionaryKeys)"
   ]
  },
  {
   "cell_type": "code",
   "execution_count": null,
   "metadata": {
    "slideshow": {
     "slide_type": "-"
    }
   },
   "outputs": [],
   "source": [
    "d = {}\n",
    "x = [1]\n",
    "d[x] = 'value'"
   ]
  },
  {
   "cell_type": "markdown",
   "metadata": {
    "slideshow": {
     "slide_type": "slide"
    }
   },
   "source": [
    "However this works:"
   ]
  },
  {
   "cell_type": "code",
   "execution_count": null,
   "metadata": {},
   "outputs": [],
   "source": [
    "d = {}\n",
    "x = (1, )\n",
    "d[x] = 'value'\n",
    "d"
   ]
  },
  {
   "cell_type": "markdown",
   "metadata": {
    "slideshow": {
     "slide_type": "slide"
    }
   },
   "source": [
    "Can be created from [key-value-pair, ...] list like so:"
   ]
  },
  {
   "cell_type": "code",
   "execution_count": null,
   "metadata": {},
   "outputs": [],
   "source": [
    "list_of_pairs = [\n",
    "    ('A', 1),\n",
    "    ('B', 2),\n",
    "    ('C', 3)\n",
    "]\n",
    "\n",
    "dict(list_of_pairs)"
   ]
  },
  {
   "cell_type": "markdown",
   "metadata": {
    "slideshow": {
     "slide_type": "slide"
    }
   },
   "source": [
    "This is where we usually use `zip()`"
   ]
  },
  {
   "cell_type": "code",
   "execution_count": null,
   "metadata": {},
   "outputs": [],
   "source": [
    "print list(zip('ABCDE', 'VWXYZ'))\n",
    "print dict(zip('ABCDE', 'VWXYZ'))"
   ]
  },
  {
   "cell_type": "markdown",
   "metadata": {
    "slideshow": {
     "slide_type": "slide"
    }
   },
   "source": [
    "Btw, this is where `enumerate()` is also useful:"
   ]
  },
  {
   "cell_type": "code",
   "execution_count": null,
   "metadata": {},
   "outputs": [],
   "source": [
    "print list(enumerate(['apple', 'orange', 'tomato']))\n",
    "print dict(enumerate(['apple', 'orange', 'tomato']))"
   ]
  },
  {
   "cell_type": "markdown",
   "metadata": {
    "slideshow": {
     "slide_type": "slide"
    }
   },
   "source": [
    "Reverse operation. Coerce dict to list of pairs."
   ]
  },
  {
   "cell_type": "code",
   "execution_count": null,
   "metadata": {},
   "outputs": [],
   "source": [
    "d = {'A': 0, 'C': 2, 'B': 1, 'E': 4, 'D': 3}\n",
    "\n",
    "d.items()"
   ]
  },
  {
   "cell_type": "markdown",
   "metadata": {
    "slideshow": {
     "slide_type": "slide"
    }
   },
   "source": [
    "Coercing to list returns keys"
   ]
  },
  {
   "cell_type": "code",
   "execution_count": null,
   "metadata": {
    "slideshow": {
     "slide_type": "-"
    }
   },
   "outputs": [],
   "source": [
    "car = {\n",
    "    'brand': 'BMW',\n",
    "    'mileage': 100000,\n",
    "}\n",
    "\n",
    "list(car)"
   ]
  },
  {
   "cell_type": "markdown",
   "metadata": {
    "slideshow": {
     "slide_type": "slide"
    }
   },
   "source": [
    "Same effect can be achieved by calling dict's method `keys()`"
   ]
  },
  {
   "cell_type": "code",
   "execution_count": null,
   "metadata": {
    "slideshow": {
     "slide_type": "-"
    }
   },
   "outputs": [],
   "source": [
    "car.keys()"
   ]
  },
  {
   "cell_type": "markdown",
   "metadata": {},
   "source": [
    "Dict's method `values()` returns the list of values accordingly."
   ]
  },
  {
   "cell_type": "code",
   "execution_count": null,
   "metadata": {},
   "outputs": [],
   "source": [
    "car.values()"
   ]
  },
  {
   "cell_type": "markdown",
   "metadata": {
    "slideshow": {
     "slide_type": "slide"
    }
   },
   "source": [
    "To add or update an item use `d[key] = new_value` syntax. Here, 'color' key with value 'blue' is added. If key exists in the dict, value will be replaced."
   ]
  },
  {
   "cell_type": "code",
   "execution_count": null,
   "metadata": {},
   "outputs": [],
   "source": [
    "car['color'] = 'blue'\n",
    "car"
   ]
  },
  {
   "cell_type": "markdown",
   "metadata": {},
   "source": [
    "To merge two dictionaries (update multiple items)"
   ]
  },
  {
   "cell_type": "code",
   "execution_count": null,
   "metadata": {},
   "outputs": [],
   "source": [
    "car.update({'year': 2007, 'doors': 2})\n",
    "car"
   ]
  },
  {
   "cell_type": "markdown",
   "metadata": {
    "slideshow": {
     "slide_type": "slide"
    }
   },
   "source": [
    "To delete an item"
   ]
  },
  {
   "cell_type": "code",
   "execution_count": null,
   "metadata": {},
   "outputs": [],
   "source": [
    "del car['brand']\n",
    "car"
   ]
  },
  {
   "cell_type": "markdown",
   "metadata": {
    "slideshow": {
     "slide_type": "slide"
    }
   },
   "source": [
    "## Exercise #1: basic dict operations\n",
    "\n",
    "Create a dict given data from the following table and print out\n",
    "\n",
    "| legs | fly? | sound |\n",
    "| --- | --- | --- |\n",
    "| 4 | False | Meow |"
   ]
  },
  {
   "cell_type": "code",
   "execution_count": null,
   "metadata": {},
   "outputs": [],
   "source": [
    "#animal = ..."
   ]
  },
  {
   "cell_type": "markdown",
   "metadata": {},
   "source": [
    "Update (do not create new dict) `animal` dict you've just created. Add key `eyes` => `green`."
   ]
  },
  {
   "cell_type": "code",
   "execution_count": null,
   "metadata": {},
   "outputs": [],
   "source": [
    "#animal[your code]..."
   ]
  },
  {
   "cell_type": "markdown",
   "metadata": {
    "slideshow": {
     "slide_type": "slide"
    }
   },
   "source": [
    "Merge `animal` dict with another dict `nutrition_facts` by modifying source dict, print result."
   ]
  },
  {
   "cell_type": "code",
   "execution_count": null,
   "metadata": {},
   "outputs": [],
   "source": [
    "nutrition_facts = {\n",
    "    'eats': ['fish', 'meat', 'milk'],\n",
    "    'max_weight_kg': 10\n",
    "}"
   ]
  },
  {
   "cell_type": "markdown",
   "metadata": {
    "slideshow": {
     "slide_type": "slide"
    }
   },
   "source": [
    "## Exercise #2: list of dicts\n",
    "\n",
    "Create a list of dicts given data from the following table and print out\n",
    "\n",
    "| legs | fly? | sound |\n",
    "| --- | --- | --- |\n",
    "| 4 | False | Meow |\n",
    "| 4 | False | Wow |\n",
    "| 2 | True | Coo |"
   ]
  },
  {
   "cell_type": "code",
   "execution_count": null,
   "metadata": {},
   "outputs": [],
   "source": [
    "animal_list = []"
   ]
  },
  {
   "cell_type": "markdown",
   "metadata": {
    "slideshow": {
     "slide_type": "slide"
    }
   },
   "source": [
    "## Exercise #3: dict of dicts\n",
    "\n",
    "Create a dict of dicts given data from the following table and print out. Here ***key*** column denotes the key for the topmost level.\n",
    "\n",
    "| ***key*** | legs | fly? | sound |\n",
    "| --- | --- | --- | --- |\n",
    "| cat | 4 | False | Meow |\n",
    "| dog | 4 | False | Wow |\n",
    "| pigeon | 2 | True | Coo |\n",
    "| fox | 4 | True | What? |"
   ]
  },
  {
   "cell_type": "code",
   "execution_count": null,
   "metadata": {},
   "outputs": [],
   "source": [
    "animals = {}"
   ]
  },
  {
   "cell_type": "markdown",
   "metadata": {},
   "source": [
    "Now answer the question: what does the fox say? by uncommenting and running next line:"
   ]
  },
  {
   "cell_type": "code",
   "execution_count": null,
   "metadata": {},
   "outputs": [],
   "source": [
    "# animals['fox']['sound']"
   ]
  },
  {
   "cell_type": "markdown",
   "metadata": {
    "slideshow": {
     "slide_type": "slide"
    }
   },
   "source": [
    "## Exercise #4: intersection of two dictionaries\n",
    "\n",
    "Find:\n",
    "\n",
    " 1. list of keys that are in common (ignore values) -> produce list\n",
    " 2. only if keys AND values are the same -> produce dict\n",
    "\n",
    "Hint: use `d.keys()` to get dictionary keys, use `d.items()` to get key-value pairs."
   ]
  },
  {
   "cell_type": "code",
   "execution_count": null,
   "metadata": {},
   "outputs": [],
   "source": [
    "pythonistas = {'Johnston': 'Zoe', 'Smith': 'John', 'Jackson': 'Ronald', 'Brown': 'Lisa', 'Perls': 'Fritz'}\n",
    "girls = {'Brown': 'Lisa', 'Crook': 'Sarah', 'Johnston': 'Zoe', 'Johns': 'Amanda'}"
   ]
  },
  {
   "cell_type": "markdown",
   "metadata": {
    "slideshow": {
     "slide_type": "slide"
    }
   },
   "source": [
    "## Exercise #5: merge conflicting dicts\n",
    "\n",
    "Please notice that dict's `update()` method can ovveride data if keys are conflicting."
   ]
  },
  {
   "cell_type": "code",
   "execution_count": null,
   "metadata": {},
   "outputs": [],
   "source": [
    "cv = dict(born=1999, interests=['python', 'snowboard', 'pets'], edu={'school': 2016})\n",
    "social = dict(mood='happy', interests=['photography'], edu={})\n",
    "\n",
    "cv.update(social)\n",
    "cv"
   ]
  },
  {
   "cell_type": "markdown",
   "metadata": {
    "slideshow": {
     "slide_type": "slide"
    }
   },
   "source": [
    "Sometimes this is not what you want. Unfortunately there're no built-in method to deal with merge conflicts, each case is unique and must be handled separately.\n",
    "\n",
    "Write a code to merge 2 dictionaries: cv and social without loosing any information.\n",
    "\n",
    "Luckily, our structures are semantically mergeable. How do you think, is it possible to merge these two dicts?\n",
    "\n",
    "`dict(name='Yuri')` and `dict(name='Juri')`\n",
    "\n",
    "Well, it depends, but definitely there is no universal correct answer."
   ]
  },
  {
   "cell_type": "markdown",
   "metadata": {
    "slideshow": {
     "slide_type": "slide"
    }
   },
   "source": [
    "## Dict comprehensions\n",
    "\n",
    "Just like list or tuple comprehensions, but:\n",
    " * denoted with figure brackets: `{ ... }`\n",
    " * requires key and value to create an item\n",
    " * syntax is `{ key: value ... }`"
   ]
  },
  {
   "cell_type": "code",
   "execution_count": null,
   "metadata": {},
   "outputs": [],
   "source": [
    "guests = {\n",
    "    'John': 'boy',\n",
    "    'Brad': 'boy',\n",
    "    'Anna': 'girl',\n",
    "    'Kate': 'girl',\n",
    "    'Tom': 'cat',\n",
    "    'Jerry': 'mouse'\n",
    "}\n",
    "\n",
    "# girl_guests is the new dict created from the guests dict by using dict comprehensions\n",
    "girl_guests = {k: v for k, v in guests.items() if v == 'girl'}\n",
    "girl_guests"
   ]
  },
  {
   "cell_type": "markdown",
   "metadata": {
    "slideshow": {
     "slide_type": "slide"
    }
   },
   "source": [
    "## Complex structures\n",
    "\n",
    "List, dict etc are containers and can contain about anything and of course other containers as well representing complex structures. Level of nesting is unlimited and depends only on how much memory is available.\n",
    "\n",
    "For example: list of dict's:"
   ]
  },
  {
   "cell_type": "code",
   "execution_count": null,
   "metadata": {},
   "outputs": [],
   "source": [
    "d1 = dict(legs=4, sounds='Meow')\n",
    "d2 = dict(in_water=True, sounds=None)\n",
    "d3 = dict(legs=2, sounds='Blabla')\n",
    "\n",
    "animals = [d1, d2, d3]\n",
    "animals"
   ]
  },
  {
   "cell_type": "markdown",
   "metadata": {
    "slideshow": {
     "slide_type": "slide"
    }
   },
   "source": [
    "Or dict of dicts:"
   ]
  },
  {
   "cell_type": "code",
   "execution_count": null,
   "metadata": {},
   "outputs": [],
   "source": [
    "zoo = {\n",
    "    'cat': d1,\n",
    "    'fish': d2,\n",
    "    'human': d3\n",
    "}\n",
    "\n",
    "zoo"
   ]
  },
  {
   "cell_type": "markdown",
   "metadata": {
    "slideshow": {
     "slide_type": "slide"
    }
   },
   "source": [
    "## Exercise #6: family income\n",
    "\n",
    "Given the **list of dictionaries**:"
   ]
  },
  {
   "cell_type": "code",
   "execution_count": null,
   "metadata": {},
   "outputs": [],
   "source": [
    "dataset = [\n",
    "    {'name': 'Grandma', 'salary': 100},\n",
    "    {'name': 'Dad', 'salary': 1000},\n",
    "    {'name': 'Mom', 'salary': 500},\n",
    "    {'name': 'Son'},\n",
    "    {'name': 'Daughter', 'salary': 200},\n",
    "    {'name': 'Cat', 'salary': -50}, \n",
    "]"
   ]
  },
  {
   "cell_type": "markdown",
   "metadata": {
    "slideshow": {
     "slide_type": "slide"
    }
   },
   "source": [
    "Here, for example, we iterate over the list and collect names of each family member into a list:"
   ]
  },
  {
   "cell_type": "code",
   "execution_count": null,
   "metadata": {},
   "outputs": [],
   "source": [
    "names = []\n",
    "for d in dataset:\n",
    "    names.append(d['name'])\n",
    "names"
   ]
  },
  {
   "cell_type": "markdown",
   "metadata": {
    "slideshow": {
     "slide_type": "slide"
    }
   },
   "source": [
    "Equivalent code using list comprehension:"
   ]
  },
  {
   "cell_type": "code",
   "execution_count": null,
   "metadata": {},
   "outputs": [],
   "source": [
    "[d['name'] for d in dataset]"
   ]
  },
  {
   "cell_type": "markdown",
   "metadata": {},
   "source": [
    "Sum up salaries of all family members (excluding those who only spend, not earn, e.g. 'salary' > 0).\n",
    "\n",
    "Iterate over the list and take 'salary' key of each dict (if it presents and matches required condition).\n",
    "\n",
    "Hint: use `\"mykey\" in d.keys()` to check if `mykey` exists in dictionary `d` or use `d.get('mykey', 'default')` that returns `default` in case if there are no `mykey` in the dict."
   ]
  },
  {
   "cell_type": "code",
   "execution_count": null,
   "metadata": {},
   "outputs": [],
   "source": [
    "# [d['salary'] for d in dataset if ? and ? > 0]"
   ]
  },
  {
   "cell_type": "markdown",
   "metadata": {
    "slideshow": {
     "slide_type": "slide"
    }
   },
   "source": [
    "## Exercise #7: reverse dict\n",
    "\n",
    "Make a new dictionary by changing places keys and values of a source dictionary using **for loop**."
   ]
  },
  {
   "cell_type": "code",
   "execution_count": null,
   "metadata": {},
   "outputs": [],
   "source": [
    "language_year = dict(\n",
    "    python=1991,\n",
    "    lua=1993,\n",
    "    ruby=1995,\n",
    "    java=1995,\n",
    "    javascript=1995\n",
    ")\n",
    "\n",
    "year_language = dict()\n",
    "\n",
    "# use \n",
    "# for i in language_year:\n",
    "#\n",
    "# it's the same as\n",
    "# for i in language_year.keys():\n",
    "#\n",
    "# but better use\n",
    "# for i in language_year.items():\n",
    "#\n",
    "# experiment with both options\n",
    "\n",
    "year_language"
   ]
  },
  {
   "cell_type": "markdown",
   "metadata": {
    "slideshow": {
     "slide_type": "slide"
    }
   },
   "source": [
    "## Exercise #8: reverse using dict comprehension\n",
    "\n",
    "Rewrite code below using dict comprehension:"
   ]
  },
  {
   "cell_type": "code",
   "execution_count": null,
   "metadata": {},
   "outputs": [],
   "source": [
    "# year_language = {v: k for k, v in language_year.?}\n",
    "year_language"
   ]
  },
  {
   "cell_type": "markdown",
   "metadata": {
    "slideshow": {
     "slide_type": "slide"
    }
   },
   "source": [
    "## Excercise #9: Anna\n",
    "\n",
    "text = [number of words delimited with [space, ;, ., -- etc]\n",
    "\n",
    "task:\n",
    "* Make text lowercase.\n",
    "* Remove punctuation.\n",
    "* Split the string.\n",
    "* Count the number of appeareance of each word\n",
    "\n",
    "__What word is used most often?__"
   ]
  },
  {
   "cell_type": "code",
   "execution_count": null,
   "metadata": {},
   "outputs": [],
   "source": [
    "anna = \"\"\"Happy families are all alike; every unhappy family is unhappy in its own way.\n",
    "Everything was in confusion in the Oblonskys' house. The wife had discovered that the husband was carrying on an intrigue with a French girl, who had been a governess in their family, and she had announced to her husband that she could not go on living in the same house with him. This position of affairs had now lasted three days, and not only the husband and wife themselves, but all the members of their family and household, were painfully conscious of it. Every person in the house felt that there was so sense in their living together, and that the stray people brought together by chance in any inn had more in common with one another than they, the members of the family and household of the Oblonskys. The wife did not leave her own room, the husband had not been at home for three days. The children ran wild all over the house; the English governess quarreled with the housekeeper, and wrote to a friend asking her to look out for a new situation for her; the man-cook had walked off the day before just at dinner time; the kitchen-maid, and the coachman had given warning.\n",
    "Three days after the quarrel, Prince Stepan Arkadyevitch Oblonsky--Stiva, as he was called in the fashionable world-- woke up at his usual hour, that is, at eight o'clock in the morning, not in his wife's bedroom, but on the leather-covered sofa in his study. He turned over his stout, well-cared-for person on the springy sofa, as though he would sink into a long sleep again; he vigorously embraced the pillow on the other side and buried his face in it; but all at once he jumped up, sat up on the sofa, and opened his eyes.\n",
    "\"Yes, yes, how was it now?\" he thought, going over his dream. \"Now, how was it? To be sure! Alabin was giving a dinner at Darmstadt; no, not Darmstadt, but something American. Yes, but then, Darmstadt was in America. Yes, Alabin was giving a dinner on glass tables, and the tables sang, Il mio tesoro--not Il mio tesoro though, but something better, and there were some sort of little decanters on the table, and they were women, too,\" he remembered.\n",
    "Stepan Arkadyevitch's eyes twinkled gaily, and he pondered with a smile. \"Yes, it was nice, very nice. There was a great deal more that was delightful, only there's no putting it into words, or even expressing it in one's thoughts awake.\" And noticing a gleam of light peeping in beside one of the serge curtains, he cheerfully dropped his feet over the edge of the sofa, and felt about with them for his slippers, a present on his last birthday, worked for him by his wife on gold-colored morocco. And, as he had done every day for the last nine years, he stretched out his hand, without getting up, towards the place where his dressing-gown always hung in his bedroom. And thereupon he suddenly remembered that he was not sleeping in his wife's room, but in his study, and why: the smile vanished from his face, he knitted his brows.\n",
    "\"Ah, ah, ah! Oo!...\" he muttered, recalling everything that had happened. And again every detail of his quarrel with his wife was present to his imagination, all the hopelessness of his position, and worst of all, his own fault.\n",
    "\"Yes, she won't forgive me, and she can't forgive me. And the most awful thing about it is that it's all my fault--all my fault, though I'm not to blame. That's the point of the whole situation,\" he reflected. \"Oh, oh, oh!\" he kept repeating in despair, as he remembered the acutely painful sensations caused him by this quarrel.\n",
    "Most unpleasant of all was the first minute when, on coming, happy and good-humored, from the theater, with a huge pear in his hand for his wife, he had not found his wife in the drawing-room, to his surprise had not found her in the study either, and saw her at last in her bedroom with the unlucky letter that revealed everything in her hand.\n",
    "She, his Dolly, forever fussing and worrying over household details, and limited in her ideas, as he considered, was sitting perfectly still with the letter in her hand, looking at him with an expression of horror, despair, and indignation.\n",
    "\"What's this? this?\" she asked, pointing to the letter.\n",
    "\"\"\""
   ]
  },
  {
   "cell_type": "markdown",
   "metadata": {},
   "source": [
    "Hint:\n",
    " * 'ASD'.lower()\n",
    " * 'red fox jumps'.split()\n",
    " * [1, 1, 1, 2].count(2)\n",
    " \n",
    "If you want to remove all non-alphabetic symbols at once, use the following code:"
   ]
  },
  {
   "cell_type": "code",
   "execution_count": null,
   "metadata": {},
   "outputs": [],
   "source": [
    "import re\n",
    "\n",
    "text = \"She asked: What's your name? My name is Yuri!\"\n",
    "\n",
    "re.sub('[^a-zA-Z ]', '', text)"
   ]
  },
  {
   "cell_type": "code",
   "execution_count": null,
   "metadata": {},
   "outputs": [],
   "source": []
  }
 ],
 "metadata": {
  "celltoolbar": "Slideshow",
  "kernelspec": {
   "display_name": "Python 2",
   "language": "python",
   "name": "python2"
  },
  "language_info": {
   "codemirror_mode": {
    "name": "ipython",
    "version": 2
   },
   "file_extension": ".py",
   "mimetype": "text/x-python",
   "name": "python",
   "nbconvert_exporter": "python",
   "pygments_lexer": "ipython2",
   "version": "2.7.15"
  },
  "livereveal": {
   "theme": "white",
   "transition": "fast"
  },
  "varInspector": {
   "cols": {
    "lenName": 16,
    "lenType": 16,
    "lenVar": 40
   },
   "kernels_config": {
    "python": {
     "delete_cmd_postfix": "",
     "delete_cmd_prefix": "del ",
     "library": "var_list.py",
     "varRefreshCmd": "print(var_dic_list())"
    },
    "r": {
     "delete_cmd_postfix": ") ",
     "delete_cmd_prefix": "rm(",
     "library": "var_list.r",
     "varRefreshCmd": "cat(var_dic_list()) "
    }
   },
   "types_to_exclude": [
    "module",
    "function",
    "builtin_function_or_method",
    "instance",
    "_Feature"
   ],
   "window_display": false
  }
 },
 "nbformat": 4,
 "nbformat_minor": 2
}
