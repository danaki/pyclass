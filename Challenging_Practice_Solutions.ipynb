{
 "cells": [
  {
   "cell_type": "markdown",
   "metadata": {
    "toc": true
   },
   "source": [
    "<h1>Table of Contents<span class=\"tocSkip\"></span></h1>\n",
    "<div class=\"toc\"><ul class=\"toc-item\"><li><span><a href=\"#Exercise:-space-age\" data-toc-modified-id=\"Exercise:-space-age-1\"><span class=\"toc-item-num\">1&nbsp;&nbsp;</span>Exercise: space age</a></span></li><li><span><a href=\"#Exercise:-last-word\" data-toc-modified-id=\"Exercise:-last-word-2\"><span class=\"toc-item-num\">2&nbsp;&nbsp;</span>Exercise: last word</a></span></li><li><span><a href=\"#Exercise:-make-a-headline\" data-toc-modified-id=\"Exercise:-make-a-headline-3\"><span class=\"toc-item-num\">3&nbsp;&nbsp;</span>Exercise: make a headline</a></span></li><li><span><a href=\"#Exercise:-&quot;pretty-string&quot;\" data-toc-modified-id=\"Exercise:-&quot;pretty-string&quot;-4\"><span class=\"toc-item-num\">4&nbsp;&nbsp;</span>Exercise: \"pretty string\"</a></span></li><li><span><a href=\"#Exercise:-grep\" data-toc-modified-id=\"Exercise:-grep-5\"><span class=\"toc-item-num\">5&nbsp;&nbsp;</span>Exercise: grep</a></span></li><li><span><a href=\"#Exercise:-unpopular-blog-posts\" data-toc-modified-id=\"Exercise:-unpopular-blog-posts-6\"><span class=\"toc-item-num\">6&nbsp;&nbsp;</span>Exercise: unpopular blog posts</a></span></li><li><span><a href=\"#Exercise:-Anagram\" data-toc-modified-id=\"Exercise:-Anagram-7\"><span class=\"toc-item-num\">7&nbsp;&nbsp;</span>Exercise: Anagram</a></span></li><li><span><a href=\"#Exercise:-Fibonacci-numbers\" data-toc-modified-id=\"Exercise:-Fibonacci-numbers-8\"><span class=\"toc-item-num\">8&nbsp;&nbsp;</span>Exercise: Fibonacci numbers</a></span></li><li><span><a href=\"#Exercise:-Christmas-tree\" data-toc-modified-id=\"Exercise:-Christmas-tree-9\"><span class=\"toc-item-num\">9&nbsp;&nbsp;</span>Exercise: Christmas tree</a></span></li><li><span><a href=\"#Exercise:-darts\" data-toc-modified-id=\"Exercise:-darts-10\"><span class=\"toc-item-num\">10&nbsp;&nbsp;</span>Exercise: darts</a></span></li><li><span><a href=\"#Exercise:-Layman's-Histogram-II\" data-toc-modified-id=\"Exercise:-Layman's-Histogram-II-11\"><span class=\"toc-item-num\">11&nbsp;&nbsp;</span>Exercise: Layman's Histogram II</a></span></li><li><span><a href=\"#Exercise:-hangman-I\" data-toc-modified-id=\"Exercise:-hangman-I-12\"><span class=\"toc-item-num\">12&nbsp;&nbsp;</span>Exercise: hangman I</a></span></li><li><span><a href=\"#Exercise:-hangman-II\" data-toc-modified-id=\"Exercise:-hangman-II-13\"><span class=\"toc-item-num\">13&nbsp;&nbsp;</span>Exercise: hangman II</a></span></li><li><span><a href=\"#Exercise:-transpose-matrix\" data-toc-modified-id=\"Exercise:-transpose-matrix-14\"><span class=\"toc-item-num\">14&nbsp;&nbsp;</span>Exercise: transpose matrix</a></span></li><li><span><a href=\"#Exercise:-Cows-and-Bulls\" data-toc-modified-id=\"Exercise:-Cows-and-Bulls-15\"><span class=\"toc-item-num\">15&nbsp;&nbsp;</span>Exercise: Cows and Bulls</a></span></li><li><span><a href=\"#Exercise:-prime-numbers\" data-toc-modified-id=\"Exercise:-prime-numbers-16\"><span class=\"toc-item-num\">16&nbsp;&nbsp;</span>Exercise: prime numbers</a></span></li><li><span><a href=\"#Exercise:-random-password\" data-toc-modified-id=\"Exercise:-random-password-17\"><span class=\"toc-item-num\">17&nbsp;&nbsp;</span>Exercise: random password</a></span></li><li><span><a href=\"#Exercise:-check-password-security\" data-toc-modified-id=\"Exercise:-check-password-security-18\"><span class=\"toc-item-num\">18&nbsp;&nbsp;</span>Exercise: check password security</a></span></li><li><span><a href=\"#Exercise:-poker-I\" data-toc-modified-id=\"Exercise:-poker-I-19\"><span class=\"toc-item-num\">19&nbsp;&nbsp;</span>Exercise: poker I</a></span></li><li><span><a href=\"#Exercise:-poker-II\" data-toc-modified-id=\"Exercise:-poker-II-20\"><span class=\"toc-item-num\">20&nbsp;&nbsp;</span>Exercise: poker II</a></span></li><li><span><a href=\"#Exercise:-spiral-matrix\" data-toc-modified-id=\"Exercise:-spiral-matrix-21\"><span class=\"toc-item-num\">21&nbsp;&nbsp;</span>Exercise: spiral matrix</a></span></li><li><span><a href=\"#Exercise:-diamond\" data-toc-modified-id=\"Exercise:-diamond-22\"><span class=\"toc-item-num\">22&nbsp;&nbsp;</span>Exercise: diamond</a></span></li><li><span><a href=\"#Exercise:-Tic-Tac-Toe-draw\" data-toc-modified-id=\"Exercise:-Tic-Tac-Toe-draw-23\"><span class=\"toc-item-num\">23&nbsp;&nbsp;</span>Exercise: Tic Tac Toe draw</a></span></li><li><span><a href=\"#Exercise:-Tic-Tac-Toe-winner\" data-toc-modified-id=\"Exercise:-Tic-Tac-Toe-winner-24\"><span class=\"toc-item-num\">24&nbsp;&nbsp;</span>Exercise: Tic Tac Toe winner</a></span></li><li><span><a href=\"#Exercise:-sum-of-its-parts\" data-toc-modified-id=\"Exercise:-sum-of-its-parts-25\"><span class=\"toc-item-num\">25&nbsp;&nbsp;</span>Exercise: sum of its parts</a></span></li><li><span><a href=\"#Exercise:-change\" data-toc-modified-id=\"Exercise:-change-26\"><span class=\"toc-item-num\">26&nbsp;&nbsp;</span>Exercise: change</a></span></li></ul></div>"
   ]
  },
  {
   "cell_type": "markdown",
   "metadata": {},
   "source": [
    "# Practice: Solutions <a class=\"tocSkip\">"
   ]
  },
  {
   "cell_type": "markdown",
   "metadata": {},
   "source": [
    "## Exercise: space age"
   ]
  },
  {
   "cell_type": "code",
   "execution_count": 1,
   "metadata": {},
   "outputs": [],
   "source": [
    "secs_in_earth_year = 60 * 60 * 24 * 365.25\n",
    "\n",
    "def space_age(age, planet):\n",
    "    periods = dict(\n",
    "        earth=1,\n",
    "        mercury=0.2408467,\n",
    "        venus=0.61519726,\n",
    "        mars=1.8808158,\n",
    "        jupiter=11.862615,\n",
    "        saturn=29.447498\n",
    "    )\n",
    "    \n",
    "    secs_in_planet_year = dict()\n",
    "    for k, v in periods.items():\n",
    "        secs_in_planet_year[k] = secs_in_earth_year * v\n",
    "  \n",
    "    return round(age / secs_in_planet_year[planet], 2)"
   ]
  },
  {
   "cell_type": "markdown",
   "metadata": {},
   "source": [
    "## Exercise: last word"
   ]
  },
  {
   "cell_type": "code",
   "execution_count": 2,
   "metadata": {},
   "outputs": [],
   "source": [
    "given = 'without,hello,bag,world,cat'"
   ]
  },
  {
   "cell_type": "code",
   "execution_count": 3,
   "metadata": {},
   "outputs": [
    {
     "data": {
      "text/plain": [
       "'world'"
      ]
     },
     "execution_count": 3,
     "metadata": {},
     "output_type": "execute_result"
    }
   ],
   "source": [
    "sorted(given.split(','))[-1]"
   ]
  },
  {
   "cell_type": "code",
   "execution_count": 4,
   "metadata": {},
   "outputs": [
    {
     "data": {
      "text/plain": [
       "'world'"
      ]
     },
     "execution_count": 4,
     "metadata": {},
     "output_type": "execute_result"
    }
   ],
   "source": [
    "sorted(given.split(','), reverse=True)[0]"
   ]
  },
  {
   "cell_type": "code",
   "execution_count": 5,
   "metadata": {},
   "outputs": [
    {
     "data": {
      "text/plain": [
       "'world'"
      ]
     },
     "execution_count": 5,
     "metadata": {},
     "output_type": "execute_result"
    }
   ],
   "source": [
    "splitted = given.split(',')\n",
    "splitted.sort()\n",
    "splitted[-1]"
   ]
  },
  {
   "cell_type": "markdown",
   "metadata": {},
   "source": [
    "## Exercise: make a headline"
   ]
  },
  {
   "cell_type": "code",
   "execution_count": 6,
   "metadata": {},
   "outputs": [],
   "source": [
    "virus = 'computer virus spreads to humans'"
   ]
  },
  {
   "cell_type": "markdown",
   "metadata": {},
   "source": [
    "This version concatenates the string using previous string version, word and a space in the end. We have to remove trailing space symbol using `str.strip()`"
   ]
  },
  {
   "cell_type": "code",
   "execution_count": 7,
   "metadata": {},
   "outputs": [
    {
     "data": {
      "text/plain": [
       "'Computer Virus Spreads to Humans'"
      ]
     },
     "execution_count": 7,
     "metadata": {},
     "output_type": "execute_result"
    }
   ],
   "source": [
    "result = ''\n",
    "for word in virus.split():\n",
    "    if word != 'to':\n",
    "        word = word.capitalize()\n",
    "        \n",
    "    result += word + ' '\n",
    "\n",
    "result.strip()"
   ]
  },
  {
   "cell_type": "markdown",
   "metadata": {},
   "source": [
    "Using list to collect words and then join them with space symbol (e.g. no need for strip() call)."
   ]
  },
  {
   "cell_type": "code",
   "execution_count": 8,
   "metadata": {},
   "outputs": [
    {
     "data": {
      "text/plain": [
       "'Computer Virus Spreads to Humans'"
      ]
     },
     "execution_count": 8,
     "metadata": {},
     "output_type": "execute_result"
    }
   ],
   "source": [
    "result = []\n",
    "for word in virus.split():\n",
    "    if word != 'to':\n",
    "        word = word.capitalize()\n",
    "        \n",
    "    result.append(word)\n",
    "    \n",
    "' '.join(result)"
   ]
  },
  {
   "cell_type": "markdown",
   "metadata": {},
   "source": [
    "List comprehension equvalent of the code above."
   ]
  },
  {
   "cell_type": "code",
   "execution_count": 9,
   "metadata": {},
   "outputs": [
    {
     "data": {
      "text/plain": [
       "'Computer Virus Spreads to Humans'"
      ]
     },
     "execution_count": 9,
     "metadata": {},
     "output_type": "execute_result"
    }
   ],
   "source": [
    "result = [word.capitalize() if word != 'to' else word for word in virus.split()]\n",
    "' '.join(result)"
   ]
  },
  {
   "cell_type": "markdown",
   "metadata": {},
   "source": [
    "Notice here that you can skip list creation syntax `[...]` if you pass comprehension as a parameter to the next function, thus creating a tuple comprehension. Brackets `(...)` are assumed."
   ]
  },
  {
   "cell_type": "code",
   "execution_count": 10,
   "metadata": {},
   "outputs": [
    {
     "data": {
      "text/plain": [
       "'Computer Virus Spreads to Humans'"
      ]
     },
     "execution_count": 10,
     "metadata": {},
     "output_type": "execute_result"
    }
   ],
   "source": [
    "' '.join(word.capitalize() if word != 'to' else word for word in virus.split())"
   ]
  },
  {
   "cell_type": "markdown",
   "metadata": {},
   "source": [
    "## Exercise: \"pretty string\""
   ]
  },
  {
   "cell_type": "code",
   "execution_count": 3,
   "metadata": {},
   "outputs": [
    {
     "data": {
      "text/plain": [
       "'Apple today posted quarterly revenue of $53.3 billion, an increase of 18% from the year-ago quarter.'"
      ]
     },
     "execution_count": 3,
     "metadata": {},
     "output_type": "execute_result"
    }
   ],
   "source": [
    "'{} today posted quarterly revenue of ${:.1f} billion, an increase of {:.0%} from the year-ago quarter.' \\\n",
    "    .format('Apple', 53.34, 0.1764)"
   ]
  },
  {
   "cell_type": "markdown",
   "metadata": {},
   "source": [
    "## Exercise: grep"
   ]
  },
  {
   "cell_type": "code",
   "execution_count": 11,
   "metadata": {},
   "outputs": [],
   "source": [
    "text = \"\"\"\n",
    "The diamond kata takes as its input a letter, and outputs it in a diamond shape. Given a letter, it prints a diamond starting with 'A', with the supplied letter at the widest point.\n",
    "\n",
    "Requirements:\n",
    " * The first row contains one 'A'.\n",
    " * The last row contains one 'A'.\n",
    " * All rows, except the first and last, have exactly two identical letters.\n",
    " * All rows have as many trailing spaces as leading spaces. (This might be 0).\n",
    " * The diamond is horizontally symmetric.\n",
    " * The diamond is vertically symmetric.\n",
    " * The diamond has a square shape (width equals height).\n",
    " * The letters form a diamond shape.\n",
    " * The top half has the letters in ascending order.\n",
    " * The bottom half has the letters in descending order.\n",
    " * The four corners (containing the spaces) are triangles.\n",
    "\"\"\""
   ]
  },
  {
   "cell_type": "markdown",
   "metadata": {},
   "source": [
    "If you let Jupyter output `text` contents, like so: "
   ]
  },
  {
   "cell_type": "code",
   "execution_count": 12,
   "metadata": {},
   "outputs": [
    {
     "data": {
      "text/plain": [
       "\"\\nThe diamond kata takes as its input a letter, and outputs it in a diamond shape. Given a letter, it prints a diamond starting with 'A', with the supplied letter at the widest point.\\n\\nRequirements:\\n * The first row contains one 'A'.\\n * The last row contains one 'A'.\\n * All rows, except the first and last, have exactly two identical letters.\\n * All rows have as many trailing spaces as leading spaces. (This might be 0).\\n * The diamond is horizontally symmetric.\\n * The diamond is vertically symmetric.\\n * The diamond has a square shape (width equals height).\\n * The letters form a diamond shape.\\n * The top half has the letters in ascending order.\\n * The bottom half has the letters in descending order.\\n * The four corners (containing the spaces) are triangles.\\n\""
      ]
     },
     "execution_count": 12,
     "metadata": {},
     "output_type": "execute_result"
    }
   ],
   "source": [
    "text"
   ]
  },
  {
   "cell_type": "markdown",
   "metadata": {},
   "source": [
    "You will notice strange `\\n` symbol combinations. These are [**newlines** or **end of line** symbols](https://en.wikipedia.org/wiki/Carriage_return) or sometimes incorrectly called **carriage return** symbols. When you print this symbol with `print`, it will move current printing position to the next line. Example:"
   ]
  },
  {
   "cell_type": "code",
   "execution_count": 13,
   "metadata": {},
   "outputs": [
    {
     "name": "stdout",
     "output_type": "stream",
     "text": [
      "I\n",
      "like\n",
      "Python!\n",
      "And programming too!\n"
     ]
    }
   ],
   "source": [
    "print \"I\\nlike\\nPython!\"\n",
    "print \"And programming too!\""
   ]
  },
  {
   "cell_type": "markdown",
   "metadata": {},
   "source": [
    "Please notice that `print` adds newline character at the end of your string by default (after \"...Python!\"). To suppress this behaviour, please use `print` like so (notice comma symbol after the argument in the first `print` call):"
   ]
  },
  {
   "cell_type": "code",
   "execution_count": 14,
   "metadata": {},
   "outputs": [
    {
     "name": "stdout",
     "output_type": "stream",
     "text": [
      "My name is Muzzy. I like clocks.\n"
     ]
    }
   ],
   "source": [
    "print \"My name is Muzzy.\",\n",
    "print \"I like clocks.\""
   ]
  },
  {
   "cell_type": "markdown",
   "metadata": {},
   "source": [
    "You can use this \"invisible\" `\\n` symbol to, for example, find out how many lines in a multiline string:"
   ]
  },
  {
   "cell_type": "code",
   "execution_count": 15,
   "metadata": {},
   "outputs": [
    {
     "data": {
      "text/plain": [
       "15"
      ]
     },
     "execution_count": 15,
     "metadata": {},
     "output_type": "execute_result"
    }
   ],
   "source": [
    "text.count(\"\\n\")"
   ]
  },
  {
   "cell_type": "markdown",
   "metadata": {},
   "source": [
    "Or use it to split mutliline string to a list of lines:"
   ]
  },
  {
   "cell_type": "code",
   "execution_count": 16,
   "metadata": {},
   "outputs": [
    {
     "data": {
      "text/plain": [
       "['',\n",
       " \"The diamond kata takes as its input a letter, and outputs it in a diamond shape. Given a letter, it prints a diamond starting with 'A', with the supplied letter at the widest point.\",\n",
       " '',\n",
       " 'Requirements:',\n",
       " \" * The first row contains one 'A'.\",\n",
       " \" * The last row contains one 'A'.\",\n",
       " ' * All rows, except the first and last, have exactly two identical letters.',\n",
       " ' * All rows have as many trailing spaces as leading spaces. (This might be 0).',\n",
       " ' * The diamond is horizontally symmetric.',\n",
       " ' * The diamond is vertically symmetric.',\n",
       " ' * The diamond has a square shape (width equals height).',\n",
       " ' * The letters form a diamond shape.',\n",
       " ' * The top half has the letters in ascending order.',\n",
       " ' * The bottom half has the letters in descending order.',\n",
       " ' * The four corners (containing the spaces) are triangles.',\n",
       " '']"
      ]
     },
     "execution_count": 16,
     "metadata": {},
     "output_type": "execute_result"
    }
   ],
   "source": [
    "text.split(\"\\n\")"
   ]
  },
  {
   "cell_type": "markdown",
   "metadata": {},
   "source": [
    "To `grep` a list as usual:"
   ]
  },
  {
   "cell_type": "code",
   "execution_count": 17,
   "metadata": {},
   "outputs": [
    {
     "name": "stdout",
     "output_type": "stream",
     "text": [
      "The diamond kata takes as its input a letter, and outputs it in a diamond shape. Given a letter, it prints a diamond starting with 'A', with the supplied letter at the widest point.\n",
      " * The diamond is horizontally symmetric.\n",
      " * The diamond is vertically symmetric.\n",
      " * The diamond has a square shape (width equals height).\n",
      " * The letters form a diamond shape.\n"
     ]
    }
   ],
   "source": [
    "grepped = []\n",
    "\n",
    "for line in text.split(\"\\n\"):\n",
    "    if 'diamond' in line:\n",
    "        grepped.append(line)\n",
    "    \n",
    "print '\\n'.join(grepped)"
   ]
  },
  {
   "cell_type": "markdown",
   "metadata": {},
   "source": [
    "Same result using comprehension:"
   ]
  },
  {
   "cell_type": "code",
   "execution_count": 18,
   "metadata": {},
   "outputs": [
    {
     "name": "stdout",
     "output_type": "stream",
     "text": [
      "The diamond kata takes as its input a letter, and outputs it in a diamond shape. Given a letter, it prints a diamond starting with 'A', with the supplied letter at the widest point.\n",
      " * The diamond is horizontally symmetric.\n",
      " * The diamond is vertically symmetric.\n",
      " * The diamond has a square shape (width equals height).\n",
      " * The letters form a diamond shape.\n"
     ]
    }
   ],
   "source": [
    "print '\\n'.join(line for line in text.split(\"\\n\") if 'diamond' in line)"
   ]
  },
  {
   "cell_type": "markdown",
   "metadata": {},
   "source": [
    "## Exercise: unpopular blog posts\n",
    "\n",
    "Set is the natural type for finding intersection or difference or any other possible set operation between two lists. For example:\n",
    "\n",
    " * `s1 & s2` where **\\&** reads like **and**, e.g. find elements that are in s1 **and** s2, e.g. find **intersection**\n",
    " * `s1 | s2` where **\\|** reasds like **or**, e.g. **union**\n",
    " * `s1 - s2` -- leave only **s1** elements that do not exist in **s2**, e.g. find **difference**\n",
    " * [and so on](https://docs.python.org/2/library/sets.html).\n",
    " \n",
    "Also remember, that coercing list to set also removes duplicate elements.\n",
    "\n",
    "Since `published` is the superset and `views` is the subset of `published`, we can easily find what elements of `published` never viewed by our site visitors:"
   ]
  },
  {
   "cell_type": "code",
   "execution_count": 19,
   "metadata": {},
   "outputs": [
    {
     "data": {
      "text/plain": [
       "{'Annual ninja parade once again passes through town unnoticed',\n",
       " 'Brain-dead teen, only capable of rolling her eyes and texting, to be euthanised',\n",
       " 'Bridge closure date: Thursday or October',\n",
       " 'Child bankrupts make-a-wish foundation with wish for unlimited wishes',\n",
       " 'Goat accused of robbery',\n",
       " 'Man accused of killing lawyer receives a new attorney',\n",
       " 'Mayor Parris to homeless: go home',\n",
       " 'Missippi\\xe2\\x80\\x99s literacy program shows improvement',\n",
       " 'Standard deviation not enough for perverted statistician'}"
      ]
     },
     "execution_count": 19,
     "metadata": {},
     "output_type": "execute_result"
    }
   ],
   "source": [
    "published = [\n",
    "    \"Child bankrupts make-a-wish foundation with wish for unlimited wishes\",\n",
    "    \"Archaeological dig uncovers ancient race of skeleton people\",\n",
    "    \"Standard deviation not enough for perverted statistician\",\n",
    "    \"Annual ninja parade once again passes through town unnoticed\",\n",
    "    \"Brain-dead teen, only capable of rolling her eyes and texting, to be euthanised\",\n",
    "    \"Cows lose their jobs as milk prices drop\",\n",
    "    \"Man accused of killing lawyer receives a new attorney\",\n",
    "    \"Missippi’s literacy program shows improvement\",\n",
    "    \"Breathing oxygen linked to staying alive\",\n",
    "    \"Bridge closure date: Thursday or October\",\n",
    "    \"Most earthquake damage is caused by shaking\",\n",
    "    \"Federal agents raid gun shop, find weapons\",\n",
    "    \"Voters to vote on whether to vote\",\n",
    "    \"Goat accused of robbery\",\n",
    "    \"One-armed man applauds the kindness of strangers\",\n",
    "    \"Marijuana issue sent to a joint committee\",\n",
    "    \"Mayor Parris to homeless: go home\"\n",
    "]\n",
    "\n",
    "views = [\n",
    "    \"Most earthquake damage is caused by shaking\",    \n",
    "    \"Archaeological dig uncovers ancient race of skeleton people\",    \n",
    "    \"Cows lose their jobs as milk prices drop\",\n",
    "    \"Voters to vote on whether to vote\",    \n",
    "    \"Breathing oxygen linked to staying alive\",\n",
    "    \"Most earthquake damage is caused by shaking\",\n",
    "    \"One-armed man applauds the kindness of strangers\",\n",
    "    \"Breathing oxygen linked to staying alive\",    \n",
    "    \"Voters to vote on whether to vote\",\n",
    "    \"Breathing oxygen linked to staying alive\",\n",
    "    \"Federal agents raid gun shop, find weapons\",\n",
    "    \"Voters to vote on whether to vote\",    \n",
    "    \"Marijuana issue sent to a joint committee\",\n",
    "    \"Breathing oxygen linked to staying alive\",    \n",
    "]\n",
    "\n",
    "set(published) - set(views)"
   ]
  },
  {
   "cell_type": "markdown",
   "metadata": {},
   "source": [
    "## Exercise: Anagram\n",
    "\n",
    "Natural pythonic way to track number of different \"things\" is to use dictionaries.\n",
    "\n",
    "Two phrases are called **anagram** when a phrase contains exactly the same count of particular letters as an another phrase. Spaces are ignored. Here we create two dictionaries like so:\n",
    "\n",
    "- **d1**:\n",
    " * `letter1` => `number of occuriences in phrase1`\n",
    " * `letter2` => `number of occuriences in phrase1`\n",
    " * ...\n",
    "- **d2**:\n",
    " * `letter1` => `number of occuriences in phrase2`\n",
    " * `letter2` => `number of occuriences in phrase2`\n",
    " * ...\n",
    "\n",
    "And assume that two phrases are mutual anagrams if **d1** == **d2**."
   ]
  },
  {
   "cell_type": "code",
   "execution_count": 20,
   "metadata": {},
   "outputs": [
    {
     "data": {
      "text/plain": [
       "{'a': 3, 'g': 1, 'm': 1, 'n': 1, 'r': 1}"
      ]
     },
     "execution_count": 20,
     "metadata": {},
     "output_type": "execute_result"
    }
   ],
   "source": [
    "def count_letters(phrase):\n",
    "    result = {}\n",
    "    for letter in phrase:\n",
    "        if letter in result:\n",
    "            result[letter] += 1\n",
    "        else:\n",
    "            result[letter] = 1\n",
    "            \n",
    "        # same if-else but using ternary if:\n",
    "        # result[letter] = result[letter] + 1 if letter in result else 1\n",
    "        \n",
    "    return result\n",
    "\n",
    "count_letters('anagram')"
   ]
  },
  {
   "cell_type": "markdown",
   "metadata": {},
   "source": [
    "In the code above we are preventing `KeyError` with if-else but there's more convinient method `dict.get()` (if there are no such key return second argument) to achieve the same effect:"
   ]
  },
  {
   "cell_type": "code",
   "execution_count": 21,
   "metadata": {},
   "outputs": [
    {
     "data": {
      "text/plain": [
       "{'a': 3, 'g': 1, 'm': 1, 'n': 1, 'r': 1}"
      ]
     },
     "execution_count": 21,
     "metadata": {},
     "output_type": "execute_result"
    }
   ],
   "source": [
    "def count_letters(phrase):\n",
    "    result = {}\n",
    "    for letter in phrase:\n",
    "        result[letter] = result.get(letter, 0) + 1\n",
    "        \n",
    "    return result\n",
    "\n",
    "count_letters('anagram')"
   ]
  },
  {
   "cell_type": "markdown",
   "metadata": {},
   "source": [
    "It appears there's a type called [Counter](https://docs.python.org/2/library/collections.html#collections.Counter) from module `collections` which is very similar to `dict` and is perfect for this task:"
   ]
  },
  {
   "cell_type": "code",
   "execution_count": 22,
   "metadata": {},
   "outputs": [
    {
     "data": {
      "text/plain": [
       "Counter({'a': 3, 'g': 1, 'm': 1, 'n': 1, 'r': 1})"
      ]
     },
     "execution_count": 22,
     "metadata": {},
     "output_type": "execute_result"
    }
   ],
   "source": [
    "from collections import Counter\n",
    "\n",
    "# you can coerce it to dict if you want like: dict(Counter('anagram'))\n",
    "# but you really need not to, Counter has really the same look-and-feel, e.g. same interface as dictionary\n",
    "Counter('anagram')"
   ]
  },
  {
   "cell_type": "markdown",
   "metadata": {},
   "source": [
    "Let's compare two phrases now:"
   ]
  },
  {
   "cell_type": "code",
   "execution_count": 23,
   "metadata": {},
   "outputs": [],
   "source": [
    "def anagram(phrase1, phrase2):\n",
    "    # you can use count_letters() here as well\n",
    "    c1 = Counter(phrase1)\n",
    "    c2 = Counter(phrase2)\n",
    "    \n",
    "    # don't forget to remove spaces\n",
    "    del c1[' ']\n",
    "    del c2[' ']\n",
    "        \n",
    "    return c1 == c2\n",
    "\n",
    "assert anagram('anagram', 'nag a ram')\n",
    "assert anagram('binary', 'brainy')\n",
    "assert anagram('funeral', 'real fun')"
   ]
  },
  {
   "cell_type": "markdown",
   "metadata": {},
   "source": [
    "## Exercise: Fibonacci numbers\n",
    "\n",
    "By definition:\n",
    "\n",
    "\\begin{equation*}\n",
    "F_n = \\begin{cases}\n",
    "  0, & \\mbox{if } n\\mbox{=0} \\\\\n",
    "  1, & \\mbox{if } n\\mbox{=1} \\\\\n",
    "  F_{n-1} + F_{n-2}, & \\mbox{if } n\\mbox{>1}  \n",
    " \\end{cases}\n",
    "\\end{equation*}"
   ]
  },
  {
   "cell_type": "code",
   "execution_count": 24,
   "metadata": {},
   "outputs": [
    {
     "data": {
      "text/plain": [
       "[0, 1, 1, 2, 3, 5, 8, 13, 21, 34]"
      ]
     },
     "execution_count": 24,
     "metadata": {},
     "output_type": "execute_result"
    }
   ],
   "source": [
    "def fibonacci(N):\n",
    "    result = [0, 1]\n",
    "\n",
    "    for i in range(2, N):\n",
    "        result += [result[-1] + result[-2]]\n",
    "\n",
    "    return result[:N]\n",
    "\n",
    "fibonacci(10)"
   ]
  },
  {
   "cell_type": "markdown",
   "metadata": {},
   "source": [
    "It appears that Fibonacci uses a [Recursive definition](https://en.wikipedia.org/wiki/Recursive_definition), e.g. next value can be computed from a number of previous values. Thus we can create a recursive function that will be more close to definition and more clear:"
   ]
  },
  {
   "cell_type": "code",
   "execution_count": 25,
   "metadata": {},
   "outputs": [
    {
     "data": {
      "text/plain": [
       "[0, 1, 1, 2, 3, 5, 8, 13, 21, 34]"
      ]
     },
     "execution_count": 25,
     "metadata": {},
     "output_type": "execute_result"
    }
   ],
   "source": [
    "def fibonacci(N):\n",
    "    if N <= 2:\n",
    "        return [0, 1][:N]\n",
    "\n",
    "    f = fibonacci(N - 1)\n",
    "    \n",
    "    return f + [f[-1] + f[-2]]\n",
    "\n",
    "fibonacci(10)"
   ]
  },
  {
   "cell_type": "markdown",
   "metadata": {},
   "source": [
    "Btw it's a good place to use memoize pattern and decorators to avoid unnecessary computations:"
   ]
  },
  {
   "cell_type": "code",
   "execution_count": 26,
   "metadata": {},
   "outputs": [
    {
     "name": "stdout",
     "output_type": "stream",
     "text": [
      "Compute: fibonacci(1) = 1\n",
      "Compute: fibonacci(0) = 0\n",
      "Compute: fibonacci(2) = 1\n",
      "Take cached: fibonacci(1) = 1\n",
      "Compute: fibonacci(3) = 2\n",
      "Take cached: fibonacci(2) = 1\n",
      "Compute: fibonacci(4) = 3\n",
      "Take cached: fibonacci(3) = 2\n",
      "Compute: fibonacci(5) = 5\n",
      "Take cached: fibonacci(4) = 3\n",
      "Compute: fibonacci(6) = 8\n",
      "Take cached: fibonacci(5) = 5\n",
      "Compute: fibonacci(7) = 13\n",
      "Take cached: fibonacci(6) = 8\n",
      "Compute: fibonacci(8) = 21\n",
      "Take cached: fibonacci(7) = 13\n",
      "Compute: fibonacci(9) = 34\n",
      "Take cached: fibonacci(8) = 21\n",
      "Compute: fibonacci(10) = 55\n"
     ]
    },
    {
     "data": {
      "text/plain": [
       "55"
      ]
     },
     "execution_count": 26,
     "metadata": {},
     "output_type": "execute_result"
    }
   ],
   "source": [
    "cache = {}\n",
    "\n",
    "def memoize(f):\n",
    "    def wrapper(N):\n",
    "        if N in cache:\n",
    "            print \"Take cached: fibonacci({}) = {}\".format(N, cache[N])\n",
    "            return cache[N]\n",
    "\n",
    "        result = f(N)\n",
    "        cache[N] = result\n",
    "        print \"Compute: fibonacci({}) = {}\".format(N, result)\n",
    "        return result\n",
    "    \n",
    "    return wrapper\n",
    "\n",
    "@memoize\n",
    "def fibonacci_number(N):\n",
    "    if N <= 1:\n",
    "        return N\n",
    "\n",
    "    return fibonacci_number(N - 1) + fibonacci_number(N - 2)\n",
    "\n",
    "fibonacci_number(10)"
   ]
  },
  {
   "cell_type": "markdown",
   "metadata": {},
   "source": [
    "Fibonacci numbers using iterators:"
   ]
  },
  {
   "cell_type": "code",
   "execution_count": 30,
   "metadata": {},
   "outputs": [],
   "source": [
    "def fibonacci_iter():\n",
    "    x_1, x_2 = 0, -1\n",
    "\n",
    "    while x_1 <= 0: \n",
    "        x_2, x_1 = 0, x_2 + 1\n",
    "        yield x_1\n",
    "\n",
    "    while True:\n",
    "        x = x_2 + x_1\n",
    "        x_2, x_1 = x_1, x\n",
    "        yield x"
   ]
  },
  {
   "cell_type": "code",
   "execution_count": 31,
   "metadata": {},
   "outputs": [
    {
     "data": {
      "text/plain": [
       "[0, 1, 1, 2, 3, 5, 8, 13, 21, 34]"
      ]
     },
     "execution_count": 31,
     "metadata": {},
     "output_type": "execute_result"
    }
   ],
   "source": [
    "f = fibonacci_iter()\n",
    "\n",
    "[next(f) for i in range(10)]"
   ]
  },
  {
   "cell_type": "markdown",
   "metadata": {},
   "source": [
    "## Exercise: Christmas tree"
   ]
  },
  {
   "cell_type": "code",
   "execution_count": 1,
   "metadata": {},
   "outputs": [
    {
     "name": "stdout",
     "output_type": "stream",
     "text": [
      "!!!!!!!*!!!!!!!\n",
      "!!!!!!***!!!!!!\n",
      "!!!!!*****!!!!!\n",
      "!!!!*******!!!!\n",
      "!!!*********!!!\n",
      "!!***********!!\n",
      "!*************!\n",
      "\n"
     ]
    }
   ],
   "source": [
    "s = ''\n",
    "for i in range(1, 14, 2):\n",
    "    s += '!' * ((15 - i) // 2) + (i * '*') + '!' * ((15 - i) // 2) + '\\n'\n",
    "\n",
    "print s"
   ]
  },
  {
   "cell_type": "markdown",
   "metadata": {},
   "source": [
    "## Exercise: darts\n",
    "\n",
    "Pythagorean theorem:\n",
    "\n",
    "$$a^2 + b^2 = r^2$$\n",
    "\n",
    "or\n",
    "\n",
    "$$r = \\sqrt{a^2 + b^2}$$\n",
    "\n",
    "`sqrt()` is available in module `math`\n",
    "\n",
    "Run this cell to see illustrating picture:"
   ]
  },
  {
   "cell_type": "code",
   "execution_count": 59,
   "metadata": {},
   "outputs": [
    {
     "data": {
      "image/png": "[encoded data removed]",
      "text/plain": [
       "<Figure size 1440x720 with 1 Axes>"
      ]
     },
     "metadata": {
      "needs_background": "light"
     },
     "output_type": "display_data"
    }
   ],
   "source": [
    "import matplotlib.pyplot as plt\n",
    "from matplotlib.patches import Circle\n",
    "%matplotlib inline\n",
    "\n",
    "fig, ax = plt.subplots(subplot_kw={'aspect': 'equal'}, figsize=(20, 10))\n",
    "ax.add_patch(Circle((0, 0), radius=10, fc=\"b\"))\n",
    "ax.add_patch(Circle((0, 0), radius=5, fc=\"w\"))\n",
    "ax.add_patch(Circle((0, 0), radius=1, fc=\"r\"))\n",
    "\n",
    "ax.annotate('10 points', xy=(0, 0), xytext=(10, 10), arrowprops=dict(facecolor='black', shrink=0.05), fontsize=20)\n",
    "ax.annotate('5 points', xy=(2.5, -2.5), xytext=(10, -10), arrowprops=dict(facecolor='black', shrink=0), fontsize=20)\n",
    "ax.annotate('1 point', xy=(-5, -5), xytext=(-15, -10), arrowprops=dict(facecolor='black', shrink=0), fontsize=20)\n",
    "\n",
    "ax.set_xlim(-20, 20)\n",
    "ax.set_ylim(-15, 15)\n",
    "\n",
    "plt.show()"
   ]
  },
  {
   "cell_type": "code",
   "execution_count": 28,
   "metadata": {},
   "outputs": [],
   "source": [
    "from math import sqrt\n",
    "\n",
    "def score(x, y):\n",
    "    r = sqrt(x ** 2 + y ** 2)\n",
    "    \n",
    "    if r <= 1:\n",
    "        return 10\n",
    "    \n",
    "    if r <= 5:\n",
    "        return 5\n",
    "    \n",
    "    if r <= 10:\n",
    "        return 1\n",
    "    \n",
    "    return 0\n",
    "\n",
    "assert score(-9, 9) == 0\n",
    "assert score(0, 10) == 1\n",
    "assert score(4, 4) == 1\n",
    "assert score(5, 0) == 5\n",
    "assert score(0.8, -0.8) == 5\n",
    "assert score(0, -1) == 10\n",
    "assert score(-0.1, -0.1) == 10"
   ]
  },
  {
   "cell_type": "markdown",
   "metadata": {},
   "source": [
    "## Exercise: Layman's Histogram II\n",
    "\n",
    "This solution uses `itertools.groupby`"
   ]
  },
  {
   "cell_type": "code",
   "execution_count": 1,
   "metadata": {},
   "outputs": [],
   "source": [
    "import random\n",
    "\n",
    "random.seed(1)\n",
    "data = [random.gauss(100, 10) for i in range(100)]"
   ]
  },
  {
   "cell_type": "code",
   "execution_count": 2,
   "metadata": {},
   "outputs": [
    {
     "name": "stdout",
     "output_type": "stream",
     "text": [
      "0 1 2 3 4 5 6 7 8 9\n",
      "0 1 2 3 4 5 6 7    \n",
      "    2 3 4 5 6 7    \n",
      "    2 3 4 5 6 7    \n",
      "    2 3 4 5 6 7    \n",
      "    2 3 4 5 6 7    \n",
      "    2 3 4 5 6 7    \n",
      "    2 3 4 5 6 7    \n",
      "    2 3 4 5 6 7    \n",
      "      3 4 5 6      \n",
      "      3 4 5 6      \n",
      "      3 4 5 6      \n",
      "      3 4 5        \n",
      "      3 4 5        \n",
      "        4 5        \n",
      "        4 5        \n",
      "        4 5        \n",
      "        4 5        \n",
      "        4 5        \n",
      "        4 5        \n",
      "        4 5        \n",
      "        4 5        \n",
      "        4 5        \n",
      "        4 5        \n",
      "        4          \n",
      "        4          \n"
     ]
    }
   ],
   "source": [
    "data_min = min(data)\n",
    "data_max = max(data)\n",
    "spread = data_max - data_min\n",
    "bins = 9\n",
    "binw = spread / bins\n",
    "\n",
    "d = [int((d - data_min) / binw) for d in data]\n",
    "\n",
    "from itertools import groupby\n",
    "dd = []\n",
    "for b, g in groupby(sorted(d)):\n",
    "    dd += [(b, len(list(g)))]\n",
    "    \n",
    "dd\n",
    "\n",
    "maxh = max(j for i, j in dd) \n",
    "\n",
    "for y in range(1, maxh + 1):\n",
    "    for b, x in dd:\n",
    "        print (b if x >= y else ' '),\n",
    "    print"
   ]
  },
  {
   "cell_type": "markdown",
   "metadata": {},
   "source": [
    "## Exercise: hangman I\n",
    "\n",
    "Using string concatenation:"
   ]
  },
  {
   "cell_type": "code",
   "execution_count": 29,
   "metadata": {},
   "outputs": [
    {
     "data": {
      "text/plain": [
       "'__A___A__'"
      ]
     },
     "execution_count": 29,
     "metadata": {},
     "output_type": "execute_result"
    }
   ],
   "source": [
    "def guessing_hangman(letter):\n",
    "    secret = \"EVAPORATE\"\n",
    "    \n",
    "    result = ''\n",
    "    for s in secret:\n",
    "        if s == letter:\n",
    "            result += letter\n",
    "        else:\n",
    "            result += '_'\n",
    "            \n",
    "        # ternary if-else version\n",
    "        # result += letter if s == letter else '_'\n",
    "\n",
    "    return result\n",
    "\n",
    "guessing_hangman('A')"
   ]
  },
  {
   "cell_type": "markdown",
   "metadata": {},
   "source": [
    "Altering list:"
   ]
  },
  {
   "cell_type": "code",
   "execution_count": 30,
   "metadata": {},
   "outputs": [
    {
     "data": {
      "text/plain": [
       "'__A___A__'"
      ]
     },
     "execution_count": 30,
     "metadata": {},
     "output_type": "execute_result"
    }
   ],
   "source": [
    "def guessing_hangman(letter):\n",
    "    secret = \"EVAPORATE\"\n",
    "    \n",
    "    result = ['_'] * len(secret)\n",
    "    for i, s in enumerate(secret):\n",
    "        if s == letter:\n",
    "            result[i] = letter\n",
    "            \n",
    "    return ''.join(result)\n",
    "\n",
    "guessing_hangman('A')"
   ]
  },
  {
   "cell_type": "markdown",
   "metadata": {},
   "source": [
    "List comprehension:"
   ]
  },
  {
   "cell_type": "code",
   "execution_count": 31,
   "metadata": {},
   "outputs": [
    {
     "data": {
      "text/plain": [
       "'__A___A__'"
      ]
     },
     "execution_count": 31,
     "metadata": {},
     "output_type": "execute_result"
    }
   ],
   "source": [
    "def guessing_hangman(letter):\n",
    "    secret = \"EVAPORATE\"\n",
    "    \n",
    "    return ''.join(letter if s == letter else '_' for s in secret)\n",
    "\n",
    "guessing_hangman('A')"
   ]
  },
  {
   "cell_type": "markdown",
   "metadata": {},
   "source": [
    "## Exercise: hangman II"
   ]
  },
  {
   "cell_type": "code",
   "execution_count": 32,
   "metadata": {},
   "outputs": [
    {
     "data": {
      "text/plain": [
       "'E_A___A_E'"
      ]
     },
     "execution_count": 32,
     "metadata": {},
     "output_type": "execute_result"
    }
   ],
   "source": [
    "def hangman_joiner(string1, string2):\n",
    "    result = ''\n",
    "    \n",
    "    for i, s1 in enumerate(string1):\n",
    "        s2 = string2[i]\n",
    "        \n",
    "        if s1 != '_':\n",
    "            result += s1\n",
    "        elif s2 != '_':\n",
    "            result += s2\n",
    "        else:\n",
    "            result += '_'\n",
    "            \n",
    "    return result\n",
    "\n",
    "hangman_joiner('__A___A__', 'E_______E')"
   ]
  },
  {
   "cell_type": "markdown",
   "metadata": {},
   "source": [
    "Sometimes universal solution is shorter:"
   ]
  },
  {
   "cell_type": "code",
   "execution_count": 33,
   "metadata": {},
   "outputs": [
    {
     "data": {
      "text/plain": [
       "'EVAP_RA_E'"
      ]
     },
     "execution_count": 33,
     "metadata": {},
     "output_type": "execute_result"
    }
   ],
   "source": [
    "def universal_hangman_joiner(*args):\n",
    "    result = ['_'] * len(args[0])\n",
    "    \n",
    "    for s in args:\n",
    "        for i, c in enumerate(s):\n",
    "            if c != '_':\n",
    "                result[i] = c\n",
    "        \n",
    "    return ''.join(result)\n",
    "\n",
    "universal_hangman_joiner('__A______', 'E_______E', '_V_P_R___', '______A__')"
   ]
  },
  {
   "cell_type": "markdown",
   "metadata": {},
   "source": [
    "## Exercise: transpose matrix"
   ]
  },
  {
   "cell_type": "code",
   "execution_count": 34,
   "metadata": {},
   "outputs": [],
   "source": [
    "def transpose(matrix):\n",
    "    height = len(matrix)\n",
    "    width = len(matrix[0])\n",
    "\n",
    "    result = [[None for i in range(height)] for j in range(width)]\n",
    "    \n",
    "    for i, row in enumerate(matrix):\n",
    "        for j, cell in enumerate(row):\n",
    "            result[j][i] = cell\n",
    "            \n",
    "    return result\n",
    "\n",
    "assert transpose([[1, 2, 3],\n",
    "                  [0, 0, 3],\n",
    "                  [9, 0, 3]]) \\\n",
    "                     == \\\n",
    "                 [[1, 0, 9],\n",
    "                  [2, 0, 0],\n",
    "                  [3, 3, 3]]\n",
    "\n",
    "assert transpose([[1, 2, 3, 0],\n",
    "                  [0, 0, 3, 0],\n",
    "                  [9, 0, 3, 0]]) \\\n",
    "                     == \\\n",
    "                 [[1, 0, 9],\n",
    "                  [2, 0, 0],\n",
    "                  [3, 3, 3],\n",
    "                  [0, 0, 0]]"
   ]
  },
  {
   "cell_type": "markdown",
   "metadata": {},
   "source": [
    "## Exercise: Cows and Bulls\n",
    "\n",
    "**Algorithm:**\n",
    "\n",
    "Firstly, convert both numbers to strings just because it's easier to access elements at arbitrary positions when it's a string or a list-alike."
   ]
  },
  {
   "cell_type": "code",
   "execution_count": 35,
   "metadata": {},
   "outputs": [
    {
     "data": {
      "text/plain": [
       "('1224', '1400')"
      ]
     },
     "execution_count": 35,
     "metadata": {},
     "output_type": "execute_result"
    }
   ],
   "source": [
    "guess = 1224\n",
    "guessed = 1400\n",
    "\n",
    "guess = str(guess)\n",
    "guessed = str(guessed)\n",
    "\n",
    "guess, guessed"
   ]
  },
  {
   "cell_type": "markdown",
   "metadata": {},
   "source": [
    "Let's first count all guessed numbers disregarding position.\n",
    "\n",
    "\"Cows\" are guessed numbers with respect of position. If so, correct number of \"bulls\" is the number of all guessed numbers minus number of \"cows\".\n",
    "\n",
    "We store number of occuriences of each number in a dictionary:"
   ]
  },
  {
   "cell_type": "code",
   "execution_count": 36,
   "metadata": {},
   "outputs": [
    {
     "data": {
      "text/plain": [
       "({'1': 1, '2': 2, '4': 1}, {'0': 2, '1': 1, '4': 1})"
      ]
     },
     "execution_count": 36,
     "metadata": {},
     "output_type": "execute_result"
    }
   ],
   "source": [
    "guess_counter = {}\n",
    "for number in guess:\n",
    "    guess_counter[number] = guess_counter.get(number, 0) + 1\n",
    "\n",
    "guessed_counter = {}\n",
    "for number in guessed:\n",
    "    guessed_counter[number] = guessed_counter.get(number, 0) + 1\n",
    "    \n",
    "guess_counter, guessed_counter"
   ]
  },
  {
   "cell_type": "markdown",
   "metadata": {},
   "source": [
    "or just use `collections.Counter()`:"
   ]
  },
  {
   "cell_type": "code",
   "execution_count": 37,
   "metadata": {},
   "outputs": [
    {
     "data": {
      "text/plain": [
       "(Counter({'1': 1, '2': 2, '4': 1}), Counter({'0': 2, '1': 1, '4': 1}))"
      ]
     },
     "execution_count": 37,
     "metadata": {},
     "output_type": "execute_result"
    }
   ],
   "source": [
    "guess_counter = Counter(guess)\n",
    "guessed_counter = Counter(guessed)\n",
    "\n",
    "guess_counter, guessed_counter"
   ]
  },
  {
   "cell_type": "markdown",
   "metadata": {},
   "source": [
    "Now, the number of bulls is the sum of all numbers guessed correctly:"
   ]
  },
  {
   "cell_type": "code",
   "execution_count": 38,
   "metadata": {},
   "outputs": [
    {
     "data": {
      "text/plain": [
       "2"
      ]
     },
     "execution_count": 38,
     "metadata": {},
     "output_type": "execute_result"
    }
   ],
   "source": [
    "bulls = 0\n",
    "for number, count in guessed_counter.items():\n",
    "    bulls += min(guess_counter[number], count)\n",
    "\n",
    "bulls"
   ]
  },
  {
   "cell_type": "markdown",
   "metadata": {},
   "source": [
    "We use `min()` because:\n",
    " * If guessed number has N occuriences of a number and guess has less then N, then bulls = guess\n",
    " * If guessed number has N occuriences of a number and guess has more then N, then bulls = guessed\n",
    " \n",
    "For example:\n",
    "  * Guessed is 4444 and guess is 4400 then min(4, 2) = 2\n",
    "  * Guessed is 4400 and guess is 4444 then min(2, 4) = 2\n",
    "  \n",
    "Shorter version of the loop above using `sum()` and list comprehensions:"
   ]
  },
  {
   "cell_type": "code",
   "execution_count": 39,
   "metadata": {},
   "outputs": [
    {
     "data": {
      "text/plain": [
       "2"
      ]
     },
     "execution_count": 39,
     "metadata": {},
     "output_type": "execute_result"
    }
   ],
   "source": [
    "bulls = sum(min(guessed_counter[number], guess_counter[number]) for number in guessed_counter)\n",
    "bulls"
   ]
  },
  {
   "cell_type": "markdown",
   "metadata": {},
   "source": [
    "Now, some of these \"bulls\" are \"cows\" actually.\n",
    "\n",
    "Cows are elements with the same value AND position. Value-position make an unique pair and `tuple()` and `set()` are natural types to deal with them.\n",
    "\n",
    "Converting both numbers to value-position pairs can be easily achieved with `enumerate()`"
   ]
  },
  {
   "cell_type": "code",
   "execution_count": 40,
   "metadata": {},
   "outputs": [
    {
     "name": "stdout",
     "output_type": "stream",
     "text": [
      "[(0, '1'), (1, '2'), (2, '2'), (3, '4')]\n",
      "[(0, '1'), (1, '4'), (2, '0'), (3, '0')]\n"
     ]
    }
   ],
   "source": [
    "guess_pairs = list(enumerate(guess))\n",
    "guessed_pairs = list(enumerate(guessed))\n",
    "\n",
    "print guess_pairs\n",
    "print guessed_pairs"
   ]
  },
  {
   "cell_type": "markdown",
   "metadata": {},
   "source": [
    "To find \"cows\", e.g. elements with the same value-position pairs we use `set()` and it's convenient operation of intersection:"
   ]
  },
  {
   "cell_type": "code",
   "execution_count": 41,
   "metadata": {},
   "outputs": [
    {
     "name": "stdout",
     "output_type": "stream",
     "text": [
      "set([(0, '1')])\n"
     ]
    }
   ],
   "source": [
    "guessed_pairs = set(guessed_pairs)\n",
    "guess_pairs = set(guess_pairs)\n",
    "\n",
    "cows_pairs = guessed_pairs & guess_pairs\n",
    "print cows_pairs"
   ]
  },
  {
   "cell_type": "markdown",
   "metadata": {},
   "source": [
    "Now, \"bulls\" are determined as the number of \"bulls\" minus \"cows\", but \"cows\" is just the number of elements in a set."
   ]
  },
  {
   "cell_type": "code",
   "execution_count": 42,
   "metadata": {},
   "outputs": [
    {
     "data": {
      "text/plain": [
       "(1, 1)"
      ]
     },
     "execution_count": 42,
     "metadata": {},
     "output_type": "execute_result"
    }
   ],
   "source": [
    "cows = len(cows_pairs)\n",
    "bulls = bulls - len(cows_pairs)\n",
    "\n",
    "cows, bulls"
   ]
  },
  {
   "cell_type": "markdown",
   "metadata": {},
   "source": [
    "Complete solution:"
   ]
  },
  {
   "cell_type": "code",
   "execution_count": 43,
   "metadata": {},
   "outputs": [],
   "source": [
    "from collections import Counter\n",
    "\n",
    "def cows_and_bulls(guessed, guess):\n",
    "    cows = bulls = 0\n",
    "    \n",
    "    guess = str(guess)\n",
    "    guessed = str(guessed)\n",
    "\n",
    "    guess_counter = Counter(guess)\n",
    "    guessed_counter = Counter(guessed)\n",
    "    \n",
    "    bulls = sum(min(guessed_counter[number], guess_counter[number]) for number in guessed_counter)\n",
    "            \n",
    "    guessed_pairs, guess_pairs = set(enumerate(str(guessed))), set(enumerate(str(guess)))\n",
    "\n",
    "    cows_pairs = guessed_pairs & guess_pairs\n",
    "            \n",
    "    return len(cows_pairs), bulls - len(cows_pairs)\n",
    "\n",
    "assert cows_and_bulls(1111, 2222) == (0, 0)\n",
    "assert cows_and_bulls(1111, 1111) == (4, 0)\n",
    "assert cows_and_bulls(1234, 4321) == (0, 4)\n",
    "assert cows_and_bulls(1234, 1439) == (2, 1)"
   ]
  },
  {
   "cell_type": "markdown",
   "metadata": {},
   "source": [
    "## Exercise: prime numbers"
   ]
  },
  {
   "cell_type": "code",
   "execution_count": null,
   "metadata": {},
   "outputs": [],
   "source": [
    "def is_prime(number):\n",
    "    return False"
   ]
  },
  {
   "cell_type": "markdown",
   "metadata": {},
   "source": [
    "## Exercise: random password"
   ]
  },
  {
   "cell_type": "code",
   "execution_count": null,
   "metadata": {},
   "outputs": [],
   "source": [
    "import string\n",
    "\n",
    "settings = {\n",
    "    'min_length': 10,\n",
    "    'must_have_uppercase': True,\n",
    "    'must_have_special': True,\n",
    "    'alpha_less_then_percent': 0.7\n",
    "}\n",
    "\n",
    "def generate_password(settings):\n",
    "    return ''"
   ]
  },
  {
   "cell_type": "markdown",
   "metadata": {},
   "source": [
    "## Exercise: check password security"
   ]
  },
  {
   "cell_type": "code",
   "execution_count": null,
   "metadata": {},
   "outputs": [],
   "source": [
    "settings = {\n",
    "    'min_length': 10,\n",
    "    'must_have_uppercase': True,\n",
    "    'must_have_special': True,\n",
    "    'alpha_less_then_percent': 0.7\n",
    "}\n",
    "\n",
    "def test_password_security(settings, password):\n",
    "    return False"
   ]
  },
  {
   "cell_type": "markdown",
   "metadata": {},
   "source": [
    "## Exercise: poker I"
   ]
  },
  {
   "cell_type": "code",
   "execution_count": null,
   "metadata": {},
   "outputs": [],
   "source": [
    "def generate_poker_hand():\n",
    "    return []"
   ]
  },
  {
   "cell_type": "markdown",
   "metadata": {},
   "source": [
    "## Exercise: poker II"
   ]
  },
  {
   "cell_type": "code",
   "execution_count": 1,
   "metadata": {},
   "outputs": [],
   "source": [
    "def best_hand_ranking(hand):\n",
    "    return None"
   ]
  },
  {
   "cell_type": "markdown",
   "metadata": {},
   "source": [
    "## Exercise: spiral matrix\n",
    "\n",
    " * 0 -- left\n",
    " * 1 -- down\n",
    " * 2 -- right\n",
    " * 3 -- up"
   ]
  },
  {
   "cell_type": "code",
   "execution_count": 44,
   "metadata": {},
   "outputs": [],
   "source": [
    "def pretty_matrix_print(matrix):\n",
    "    print '\\n'.join([\n",
    "            ''.join([\n",
    "                '{:3}'.format(item) for item in row\n",
    "                ]) for row in matrix\n",
    "        ])\n"
   ]
  },
  {
   "cell_type": "code",
   "execution_count": 45,
   "metadata": {},
   "outputs": [
    {
     "name": "stdout",
     "output_type": "stream",
     "text": [
      "  1  2  3  4\n",
      " 12 13 14  5\n",
      " 11 16 15  6\n",
      " 10  9  8  7\n"
     ]
    }
   ],
   "source": [
    "def spiral_matrix(size):\n",
    "    def can_move(x, y):\n",
    "        return x < size \\\n",
    "            and x >= 0 \\\n",
    "            and y < size \\\n",
    "            and y >= 0 \\\n",
    "            and result[y][x] == 0\n",
    "    \n",
    "    result = [[0 for i in range(size)] for j in range(size)]\n",
    "    direction_to_vector = [(1, 0), (0, 1), (-1, 0), (0, -1)]\n",
    "    \n",
    "    x = y = 0\n",
    "    direction = 0\n",
    "    vector = direction_to_vector[0]    \n",
    "    for i in range(size ** 2):\n",
    "        if not can_move(x + vector[0], y + vector[1]):\n",
    "            direction += 1\n",
    "            \n",
    "        vector = direction_to_vector[direction % 4]            \n",
    "        \n",
    "        result[y][x] = i + 1\n",
    "        \n",
    "        x += vector[0]\n",
    "        y += vector[1]        \n",
    "    \n",
    "    return result\n",
    "    \n",
    "pretty_matrix_print(spiral_matrix(4))"
   ]
  },
  {
   "cell_type": "markdown",
   "metadata": {},
   "source": [
    "We can get rid of `direction` variable by using `itertools.cycle()` function that will cycle thru values endlessly."
   ]
  },
  {
   "cell_type": "code",
   "execution_count": 46,
   "metadata": {},
   "outputs": [
    {
     "name": "stdout",
     "output_type": "stream",
     "text": [
      "0\n",
      "10\n",
      "0\n",
      "10\n"
     ]
    }
   ],
   "source": [
    "from itertools import cycle\n",
    "\n",
    "it = cycle([0, 10])\n",
    "print next(it)\n",
    "print next(it)\n",
    "print next(it)\n",
    "print next(it)"
   ]
  },
  {
   "cell_type": "code",
   "execution_count": 47,
   "metadata": {},
   "outputs": [
    {
     "name": "stdout",
     "output_type": "stream",
     "text": [
      "  1  2  3  4\n",
      " 12 13 14  5\n",
      " 11 16 15  6\n",
      " 10  9  8  7\n"
     ]
    }
   ],
   "source": [
    "from itertools import cycle\n",
    "\n",
    "def spiral_matrix(size):\n",
    "    def can_move(x, y):\n",
    "        return x < size \\\n",
    "            and x >= 0 \\\n",
    "            and y < size \\\n",
    "            and y >= 0 \\\n",
    "            and result[y][x] == 0\n",
    "    \n",
    "    result = [[0 for i in range(size)] for j in range(size)]\n",
    "    \n",
    "    x = y = 0\n",
    "\n",
    "    it = cycle([(1, 0), (0, 1), (-1, 0), (0, -1)])\n",
    "    vector = next(it)\n",
    "    \n",
    "    for i in range(1, size ** 2 + 1):\n",
    "        if not can_move(x + vector[0], y + vector[1]):\n",
    "            vector = next(it)\n",
    "        \n",
    "        result[y][x] = i\n",
    "        \n",
    "        x += vector[0]\n",
    "        y += vector[1]        \n",
    "    \n",
    "    return result\n",
    "    \n",
    "pretty_matrix_print(spiral_matrix(4))"
   ]
  },
  {
   "cell_type": "markdown",
   "metadata": {},
   "source": [
    "## Exercise: diamond\n",
    "\n",
    "Please notice `abs()` inside `print_diamond()`. It is used to have one for-loop not two."
   ]
  },
  {
   "cell_type": "code",
   "execution_count": 48,
   "metadata": {},
   "outputs": [
    {
     "name": "stdout",
     "output_type": "stream",
     "text": [
      "0 1 2 3 4 5 4 3 2 1 0\n"
     ]
    }
   ],
   "source": [
    "for i in range(11):\n",
    "    print 5 - abs(5 - i),"
   ]
  },
  {
   "cell_type": "markdown",
   "metadata": {},
   "source": [
    "Solution to problem:"
   ]
  },
  {
   "cell_type": "code",
   "execution_count": 49,
   "metadata": {},
   "outputs": [
    {
     "name": "stdout",
     "output_type": "stream",
     "text": [
      "...A...\n",
      "..B.B..\n",
      ".C...C.\n",
      "D.....D\n",
      ".C...C.\n",
      "..B.B..\n",
      "...A...\n"
     ]
    }
   ],
   "source": [
    "from string import ascii_uppercase as alphabet\n",
    "\n",
    "def print_diamond(letter):\n",
    "    last = alphabet.index(letter) + 1\n",
    "    side = last * 2 - 1\n",
    "\n",
    "    for i in range(side):\n",
    "        line = ['.'] * side\n",
    "        position = side / 2 - abs(side / 2 - i)\n",
    "        letter = alphabet[position]\n",
    "        \n",
    "        line[side / 2 - position] = letter\n",
    "        line[side - side / 2 + position - 1] = letter\n",
    "        \n",
    "        print ''.join(line)\n",
    "\n",
    "print_diamond('D')"
   ]
  },
  {
   "cell_type": "markdown",
   "metadata": {},
   "source": [
    "## Exercise: Tic Tac Toe draw"
   ]
  },
  {
   "cell_type": "code",
   "execution_count": 50,
   "metadata": {},
   "outputs": [
    {
     "name": "stdout",
     "output_type": "stream",
     "text": [
      "_O_|___|_X_\n",
      "___|_X_|_O_\n",
      " X |   |   \n"
     ]
    }
   ],
   "source": [
    "game = [[2, 0, 1],\n",
    "        [0, 1, 2],\n",
    "        [1, 0, 0]]\n",
    "\n",
    "def cell(cell, bottom_line):\n",
    "    return [bottom_line, 'X', 'O'][cell]\n",
    "\n",
    "def row(row, bottom_line):\n",
    "    cells = []\n",
    "    for i in range(3):\n",
    "        cells.append(bottom_line + cell(row[i], bottom_line) + bottom_line)\n",
    "    \n",
    "    return '|'.join(cells)\n",
    "\n",
    "def board(game):\n",
    "    rows = []\n",
    "    for i in range(3):\n",
    "        rows.append(row(game[i], '_' if i < 2 else ' '))\n",
    "    \n",
    "    return '\\n'.join(rows)\n",
    "\n",
    "print board(game)\n"
   ]
  },
  {
   "cell_type": "markdown",
   "metadata": {},
   "source": [
    "## Exercise: Tic Tac Toe winner\n",
    "\n",
    "Here we are reusing solution to **#11: transpose** problem. `transpose()` is used to rotate game 90 degrees so we can keep looking for identical in rows only.\n",
    "\n",
    "We use `set()` feauture to keep only unique elements of a sequence. If resulting set contains only one element -- this row contains equal elements. Take a look [at other](https://thispointer.com/python-check-if-all-elements-in-a-list-are-same-or-matches-a-condition/) ways to find equal elements of a list.\n",
    "\n",
    "Take a look at `check_winner()` and notice how boolean operators threat truish values:"
   ]
  },
  {
   "cell_type": "code",
   "execution_count": 51,
   "metadata": {},
   "outputs": [
    {
     "data": {
      "text/plain": [
       "1"
      ]
     },
     "execution_count": 51,
     "metadata": {},
     "output_type": "execute_result"
    }
   ],
   "source": [
    "False or 1"
   ]
  },
  {
   "cell_type": "code",
   "execution_count": 52,
   "metadata": {},
   "outputs": [
    {
     "data": {
      "text/plain": [
       "'I love'"
      ]
     },
     "execution_count": 52,
     "metadata": {},
     "output_type": "execute_result"
    }
   ],
   "source": [
    "None or \"I love\" or \"Python\" or False"
   ]
  },
  {
   "cell_type": "markdown",
   "metadata": {},
   "source": [
    " * **or** will try to evaluate condition until it finds **first truish** value, then it will return it.\n",
    " * **and** will try to evaluate condition until it finds **first falsish** value, then it will return it. If all values are truish, the last one will be returned"
   ]
  },
  {
   "cell_type": "code",
   "execution_count": 53,
   "metadata": {},
   "outputs": [
    {
     "data": {
      "text/plain": [
       "'I love Python'"
      ]
     },
     "execution_count": 53,
     "metadata": {},
     "output_type": "execute_result"
    }
   ],
   "source": [
    "True and 1 and \"I love Python\""
   ]
  },
  {
   "cell_type": "code",
   "execution_count": 54,
   "metadata": {},
   "outputs": [
    {
     "data": {
      "text/plain": [
       "False"
      ]
     },
     "execution_count": 54,
     "metadata": {},
     "output_type": "execute_result"
    }
   ],
   "source": [
    "True and 1 and \"I love Python\" and False"
   ]
  },
  {
   "cell_type": "markdown",
   "metadata": {},
   "source": [
    "This trick is usually used to give a variable some default value if falsish value passed:"
   ]
  },
  {
   "cell_type": "code",
   "execution_count": 55,
   "metadata": {},
   "outputs": [
    {
     "name": "stdout",
     "output_type": "stream",
     "text": [
      "Default value\n",
      "Defined value\n"
     ]
    }
   ],
   "source": [
    "def myfun(param):\n",
    "    param = param or \"Default value\"\n",
    "    return param\n",
    "\n",
    "print myfun(None)\n",
    "print myfun(\"Defined value\")"
   ]
  },
  {
   "cell_type": "markdown",
   "metadata": {},
   "source": [
    "Solution to problem:"
   ]
  },
  {
   "cell_type": "code",
   "execution_count": 56,
   "metadata": {},
   "outputs": [],
   "source": [
    "# run solution for 11'th problem to define transpose() function\n",
    "\n",
    "def check_row(row):\n",
    "    variability = list(set(row))\n",
    "    \n",
    "    return variability[0] if len(variability) == 1 else None\n",
    "\n",
    "def check_horizonals(game):\n",
    "    # make list of sets containing only unique elements of each row\n",
    "    rows_result = [check_row(game[i]) for i in range(3)]\n",
    "    \n",
    "    # filter out winning rows, e.g. throw away None results\n",
    "    winners = [result for result in rows_result if not result is None]\n",
    "\n",
    "    if len(winners) == 0:\n",
    "        return None\n",
    "    \n",
    "    return winners[0]\n",
    "\n",
    "def check_verticals(game):\n",
    "    return check_horizonals(transpose(game))\n",
    "\n",
    "def get_diagonal(game, row_calculator):\n",
    "    return [game[i][row_calculator(i)] for i in range(3)]\n",
    "\n",
    "# lambda i: i        -> left-top to right-bottom\n",
    "# lambda i: 2 - i    -> left-bottom to right-top\n",
    "def check_winner(game):\n",
    "    return check_horizonals(game) \\\n",
    "        or check_verticals(game) \\\n",
    "        or check_row(get_diagonal(game, lambda i: i)) \\\n",
    "        or check_row(get_diagonal(game, lambda i: 2 - i))\n",
    "\n",
    "winner_is_2 = [[2, 2, 0],\n",
    "               [2, 1, 0],\n",
    "               [2, 1, 1]]\n",
    "\n",
    "winner_is_1 = [[1, 2, 0],\n",
    "               [2, 1, 0],\n",
    "               [2, 1, 1]]\n",
    "\n",
    "winner_is_also_1 = [[0, 1, 0],\n",
    "                    [2, 1, 0],\n",
    "                    [2, 1, 1]]\n",
    "\n",
    "no_winner = [[1, 2, 0],\n",
    "             [2, 1, 0],\n",
    "             [2, 1, 2]]\n",
    "\n",
    "also_no_winner = [[1, 2, 0],\n",
    "                  [2, 1, 0],\n",
    "                  [2, 1, 0]]\n",
    "\n",
    "assert check_winner(winner_is_2) == 2\n",
    "assert check_winner(winner_is_1) == 1\n",
    "assert check_winner(winner_is_also_1) == 1\n",
    "assert check_winner(no_winner) == None\n",
    "assert check_winner(also_no_winner) == None"
   ]
  },
  {
   "cell_type": "markdown",
   "metadata": {},
   "source": [
    "## Exercise: sum of its parts"
   ]
  },
  {
   "cell_type": "code",
   "execution_count": 57,
   "metadata": {},
   "outputs": [
    {
     "data": {
      "text/plain": [
       "[[1, 1, 1], [1, 2], [2, 1], [3]]"
      ]
     },
     "execution_count": 57,
     "metadata": {},
     "output_type": "execute_result"
    }
   ],
   "source": [
    "def sum_combinations(N):\n",
    "    if N == 0:\n",
    "        return [[]]\n",
    "\n",
    "    if N == 1:\n",
    "        return [[1]]\n",
    "    \n",
    "    results = []\n",
    "    for i in range(1, N + 1):\n",
    "        subcombinations = sum_combinations(N - i)\n",
    "        for s in subcombinations:\n",
    "            results.append([i] + s)\n",
    "\n",
    "    return results\n",
    "\n",
    "sum_combinations(3)"
   ]
  },
  {
   "cell_type": "markdown",
   "metadata": {},
   "source": [
    "## Exercise: change\n",
    "\n",
    "Since we don't know how much iterations it will take to calculate the result, this is the case where **while** is convinient."
   ]
  },
  {
   "cell_type": "code",
   "execution_count": null,
   "metadata": {},
   "outputs": [],
   "source": [
    "def coin_combinations(total, coins):\n",
    "#     print total\n",
    "    \n",
    "    if total == 0:\n",
    "        return [[]]\n",
    "    \n",
    "    if total == 1:\n",
    "        return [[1]]\n",
    "    \n",
    "    results = []\n",
    "    for coin in coins:\n",
    "        if coin <= total:\n",
    "            x = coin_combinations(total - coin, coins)\n",
    "\n",
    "            for s in x:\n",
    "                results.append([coin] + s)\n",
    "            \n",
    "    return results\n",
    "\n",
    "def find_minimum_coins(total, coins):\n",
    "    d = ((len(s), s) for s in coin_combinations(total, coins))\n",
    "    \n",
    "    return sorted(d, key=lambda x: x[0])[0][1]\n",
    "\n",
    "assert find_minimum_coins(25, [1, 5, 10, 25, 100]) == [25]\n",
    "assert find_minimum_coins(15, [1, 5, 10, 25, 100]) == [5, 10]\n",
    "assert find_minimum_coins(23, [1, 4, 15, 20, 50]) == [4, 4, 15]\n",
    "assert find_minimum_coins(63, [1, 5, 10, 21, 25]) == [21, 21, 21]\n",
    "assert find_minimum_coins(999, [1, 2, 5, 10, 20, 50, 100]) == [2, 2, 5, 20, 20, 50, 100, 100, 100, 100, 100, 100, 100, 100, 100]\n",
    "assert find_minimum_coins(21, [2, 5, 10, 20, 50]) == [2, 2, 2, 5, 10]\n",
    "assert find_minimum_coins(27, [4, 5]) == [4, 4, 4, 5, 5, 5]\n",
    "assert find_minimum_coins(0, [1, 5, 10, 21, 25]) == []"
   ]
  },
  {
   "cell_type": "code",
   "execution_count": null,
   "metadata": {},
   "outputs": [],
   "source": []
  }
 ],
 "metadata": {
  "kernelspec": {
   "display_name": "Python 2",
   "language": "python",
   "name": "python2"
  },
  "language_info": {
   "codemirror_mode": {
    "name": "ipython",
    "version": 2
   },
   "file_extension": ".py",
   "mimetype": "text/x-python",
   "name": "python",
   "nbconvert_exporter": "python",
   "pygments_lexer": "ipython2",
   "version": "2.7.16"
  },
  "toc": {
   "base_numbering": 1,
   "nav_menu": {},
   "number_sections": true,
   "sideBar": true,
   "skip_h1_title": false,
   "title_cell": "Table of Contents",
   "title_sidebar": "Contents",
   "toc_cell": true,
   "toc_position": {},
   "toc_section_display": true,
   "toc_window_display": true
  },
  "varInspector": {
   "cols": {
    "lenName": 16,
    "lenType": 16,
    "lenVar": 40
   },
   "kernels_config": {
    "python": {
     "delete_cmd_postfix": "",
     "delete_cmd_prefix": "del ",
     "library": "var_list.py",
     "varRefreshCmd": "print(var_dic_list())"
    },
    "r": {
     "delete_cmd_postfix": ") ",
     "delete_cmd_prefix": "rm(",
     "library": "var_list.r",
     "varRefreshCmd": "cat(var_dic_list()) "
    }
   },
   "types_to_exclude": [
    "module",
    "function",
    "builtin_function_or_method",
    "instance",
    "_Feature"
   ],
   "window_display": false
  }
 },
 "nbformat": 4,
 "nbformat_minor": 2
}
