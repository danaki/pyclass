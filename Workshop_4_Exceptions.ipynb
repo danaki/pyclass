{
 "cells": [
  {
   "cell_type": "markdown",
   "metadata": {
    "slideshow": {
     "slide_type": "slide"
    }
   },
   "source": [
    "# Exceptions\n",
    "## Rationale\n",
    "\n",
    "How to create socket server in C (pseudocode):\n",
    "```\n",
    "#include <errno.h>\n",
    "\n",
    "sock = socket(AF_INET, SOCK_STREAM, 0);\n",
    "if (sock < 0)\n",
    "    return -1;\n",
    "\n",
    "if (bind(sock, ...) < 0)\n",
    "    return -1;\n",
    "\n",
    "if (listen(sock, 1) < 0)\n",
    "    return -1;\n",
    "\n",
    "client = accept(sock, ...);\n",
    "if (client < 0)\n",
    "    return -1;\n",
    "```"
   ]
  },
  {
   "cell_type": "markdown",
   "metadata": {
    "slideshow": {
     "slide_type": "slide"
    }
   },
   "source": [
    "## What is an Exception?\n",
    "\n",
    "> The term exception is shorthand for the phrase \"exceptional event.\"\n",
    "\n",
    ">> Definition: An exception is an event, which occurs during the execution of a program, that disrupts the normal flow of the program's instructions."
   ]
  },
  {
   "cell_type": "markdown",
   "metadata": {
    "slideshow": {
     "slide_type": "slide"
    }
   },
   "source": [
    "## Exceptions in Python\n",
    "\n",
    "See [Errors](https://docs.python.org/3/tutorial/errors.html)\n",
    "\n",
    "Throw:\n",
    "\n",
    "```raise <ExceptionInstance>```\n",
    "\n",
    "or\n",
    "\n",
    "```raise <ExceptionClass>```\n",
    "\n",
    "exception will be automatically instantiated."
   ]
  },
  {
   "cell_type": "markdown",
   "metadata": {
    "slideshow": {
     "slide_type": "slide"
    }
   },
   "source": [
    "Catch:\n",
    "\n",
    "```\n",
    "try:\n",
    "    [block of code]\n",
    "except:\n",
    "    [exception handling code]\n",
    "```\n",
    "\n",
    "(wildcard, please never use)"
   ]
  },
  {
   "cell_type": "markdown",
   "metadata": {
    "slideshow": {
     "slide_type": "slide"
    }
   },
   "source": [
    "\n",
    "or\n",
    "\n",
    "```\n",
    "try:\n",
    "    [block of code]\n",
    "except <ExceptionClass>:\n",
    "    [exception handling code]\n",
    "```\n"
   ]
  },
  {
   "cell_type": "markdown",
   "metadata": {
    "slideshow": {
     "slide_type": "slide"
    }
   },
   "source": [
    "if you need exception details, you can provide the name of variable of exception instance:\n",
    "\n",
    "```\n",
    "try:\n",
    "    [block of code]\n",
    "except <ExceptionClass> as <exception_instance>:\n",
    "    [exception handling code]\n",
    "```"
   ]
  },
  {
   "cell_type": "markdown",
   "metadata": {
    "slideshow": {
     "slide_type": "slide"
    }
   },
   "source": [
    "or\n",
    "\n",
    "```\n",
    "try:\n",
    "    [block of code]\n",
    "except (<ExceptionClass1>, <ExceptionClass2>, ..., <ExceptionClassN>):\n",
    "    [exception handling code]\n",
    "```"
   ]
  },
  {
   "cell_type": "markdown",
   "metadata": {
    "slideshow": {
     "slide_type": "slide"
    }
   },
   "source": [
    "or\n",
    "\n",
    "```\n",
    "try:\n",
    "    [block of code]\n",
    "except <ExceptionClass1>:\n",
    "    [exception handling code]\n",
    "except <ExceptionClass2>:\n",
    "    [exception handling code]\n",
    "...\n",
    "except <ExceptionClassN>:\n",
    "    [exception handling code]\n",
    "except:\n",
    "    [exception handling code]\n",
    "```"
   ]
  },
  {
   "cell_type": "markdown",
   "metadata": {
    "slideshow": {
     "slide_type": "slide"
    }
   },
   "source": [
    "The full syntax:\n",
    "\n",
    "```\n",
    "try:\n",
    "    [block of code]\n",
    "except:\n",
    "    [exception handling code]\n",
    "else:\n",
    "    [code if no exception were raised]\n",
    "finally:\n",
    "    [clean-up code, runs always]\n",
    "```"
   ]
  },
  {
   "cell_type": "code",
   "execution_count": null,
   "metadata": {
    "slideshow": {
     "slide_type": "slide"
    }
   },
   "outputs": [],
   "source": [
    "def divide(x, y):\n",
    "    try:\n",
    "        result = x / y\n",
    "    except ZeroDivisionError:\n",
    "        print(\"division by zero!\")\n",
    "    except TypeError:\n",
    "        print(\"messed with types\")\n",
    "        raise\n",
    "    else:\n",
    "        print(\"result is\", result)\n",
    "    finally:\n",
    "        print(\"executing finally clause\")"
   ]
  },
  {
   "cell_type": "code",
   "execution_count": null,
   "metadata": {
    "slideshow": {
     "slide_type": "slide"
    }
   },
   "outputs": [],
   "source": [
    "divide(2, 1)"
   ]
  },
  {
   "cell_type": "code",
   "execution_count": null,
   "metadata": {
    "slideshow": {
     "slide_type": "slide"
    }
   },
   "outputs": [],
   "source": [
    "divide(2, 0)"
   ]
  },
  {
   "cell_type": "code",
   "execution_count": null,
   "metadata": {
    "slideshow": {
     "slide_type": "slide"
    }
   },
   "outputs": [],
   "source": [
    "divide(\"2\", \"1\")"
   ]
  },
  {
   "cell_type": "markdown",
   "metadata": {
    "slideshow": {
     "slide_type": "slide"
    }
   },
   "source": [
    "### When to use exceptions\n",
    "\n",
    "[Good Exception Management Rules of Thumb](http://www.hanselman.com/blog/GoodExceptionManagementRulesOfThumb.aspx)\n",
    "\n",
    "> You shouldn't throw exceptions for things that happen all the time. Then they'd be \"ordinaries\".\n",
    "\n",
    "[Idioms and Anti-Idioms in Python](https://docs.python.org/3.0/howto/doanddont.html#exceptions)\n",
    "\n",
    "> Exceptions are a useful feature of Python. You should learn to raise them whenever something unexpected occurs, and catch them only where you can do something about them.\n",
    "\n",
    "[Samurai Principle](http://wiki.c2.com/?SamuraiPrinciple)\n",
    "\n",
    "> Return victorious, or not at all."
   ]
  },
  {
   "cell_type": "markdown",
   "metadata": {
    "slideshow": {
     "slide_type": "slide"
    }
   },
   "source": [
    "### Defensive programming\n",
    "\n",
    "[Defensive programming in Python](https://www.pluralsight.com/guides/python/defensive-programming-in-python)"
   ]
  },
  {
   "cell_type": "code",
   "execution_count": null,
   "metadata": {},
   "outputs": [],
   "source": [
    "assert True is True"
   ]
  },
  {
   "cell_type": "code",
   "execution_count": null,
   "metadata": {},
   "outputs": [],
   "source": [
    "assert True is False"
   ]
  },
  {
   "cell_type": "code",
   "execution_count": null,
   "metadata": {},
   "outputs": [],
   "source": [
    "def defensive_divide(x, y):\n",
    "    assert y > 0\n",
    "    return x / y\n",
    "\n",
    "defensive_divide(5, 2)"
   ]
  },
  {
   "cell_type": "code",
   "execution_count": null,
   "metadata": {},
   "outputs": [],
   "source": [
    "defensive_divide(5, 0)"
   ]
  },
  {
   "cell_type": "markdown",
   "metadata": {
    "slideshow": {
     "slide_type": "slide"
    }
   },
   "source": [
    "#### Problems of asserts\n",
    "\n",
    "> It's very easy to overuse asserts and quickly make your code difficult to read. This can make your code very noisy and bury the real functionality in a series of error checks and conditions.\n",
    "    \n",
    "> Typically, for both technical and practical reasons, assert statements aren't meant for production code. Asserts are only enabled when the hidden debug  constant is True. However, the default value for this constant is True, which means your code is most likely currently shipping in debug mode.\n",
    "\n",
    "Just cover your code with Unit Tests!"
   ]
  },
  {
   "cell_type": "markdown",
   "metadata": {
    "slideshow": {
     "slide_type": "slide"
    }
   },
   "source": [
    "### Built-in exceptions\n",
    "\n",
    "Reuse [Built-in Exceptions](https://docs.python.org/3/library/exceptions.html) in context, or create your own [User-defined Exceptions](https://docs.python.org/3/tutorial/errors.html#user-defined-exceptions):\n",
    "\n",
    "> [User-defined] Exceptions should typically be derived from the Exception class, either directly or indirectly."
   ]
  },
  {
   "cell_type": "code",
   "execution_count": null,
   "metadata": {
    "slideshow": {
     "slide_type": "slide"
    }
   },
   "outputs": [],
   "source": [
    "class Error(Exception):\n",
    "    \"\"\"Base class for exceptions in this module.\"\"\"\n",
    "    pass\n",
    "\n",
    "class InputError(Error):\n",
    "    \"\"\"Exception raised for errors in the input.\n",
    "\n",
    "    Attributes:\n",
    "        expression -- input expression in which the error occurred\n",
    "        message -- explanation of the error\n",
    "    \"\"\"\n",
    "\n",
    "    def __init__(self, expression, message):\n",
    "        self.expression = expression\n",
    "        self.message = message\n",
    "        \n",
    "raise InputError('erroneous input', 'A user entered something wrong')"
   ]
  },
  {
   "cell_type": "markdown",
   "metadata": {
    "slideshow": {
     "slide_type": "slide"
    }
   },
   "source": [
    "#### Advice\n",
    "\n",
    "When building your own exception hierarchy don't allow abstraction leak. Catch an exception from the lower level of abstraction and if you don't know how to deal with it, rethrow (pop it) wraping on the current level of abstraction.\n",
    "\n",
    "A silly example of exception layers (let's say we have a database in json, csv, xml etc files):\n",
    " * File access layer (throws FileNotFound)\n",
    " * File format abstraction layer (catches FileNotFound throws MissingTableData)\n",
    " * Database layer (catches MissingTableData throws EmptyDataset)\n",
    " * ORM layer (catches EmptyDataset)"
   ]
  }
 ],
 "metadata": {
  "celltoolbar": "Slideshow",
  "kernelspec": {
   "display_name": "Python 2",
   "language": "python",
   "name": "python2"
  },
  "language_info": {
   "codemirror_mode": {
    "name": "ipython",
    "version": 2
   },
   "file_extension": ".py",
   "mimetype": "text/x-python",
   "name": "python",
   "nbconvert_exporter": "python",
   "pygments_lexer": "ipython2",
   "version": "2.7.15"
  },
  "varInspector": {
   "cols": {
    "lenName": 16,
    "lenType": 16,
    "lenVar": 40
   },
   "kernels_config": {
    "python": {
     "delete_cmd_postfix": "",
     "delete_cmd_prefix": "del ",
     "library": "var_list.py",
     "varRefreshCmd": "print(var_dic_list())"
    },
    "r": {
     "delete_cmd_postfix": ") ",
     "delete_cmd_prefix": "rm(",
     "library": "var_list.r",
     "varRefreshCmd": "cat(var_dic_list()) "
    }
   },
   "types_to_exclude": [
    "module",
    "function",
    "builtin_function_or_method",
    "instance",
    "_Feature"
   ],
   "window_display": false
  }
 },
 "nbformat": 4,
 "nbformat_minor": 2
}
