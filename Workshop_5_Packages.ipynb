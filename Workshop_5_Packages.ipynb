{
 "cells": [
  {
   "cell_type": "markdown",
   "metadata": {
    "slideshow": {
     "slide_type": "slide"
    }
   },
   "source": [
    "## Packages and environments\n",
    "\n",
    "It's the real pain, some terminology first:\n",
    "\n",
    "* **PyPI** is the default Package Index for the Python community: [pypi.org](https://pypi.org/)\n",
    "* **Egg**: A Built Distribution format introduced by **setuptools**, which is being replaced by **Wheel**\n",
    "* **Wheel**: A Built Distribution format introduced by PEP 427, which is intended to replace the **Egg** format. Wheel is currently supported by **pip**\n",
    "* **sdist**: A distribution format that provides metadata and the essential source files needed for installing by a tool like pip\n",
    "* **setup.py**: The project specification file for **distutils** and **setuptools**\n",
    "* **requirements.txt**: A file containing a list of requirements (dependencies) that can be installed using pip.\n",
    "\n",
    "\n",
    "\n"
   ]
  },
  {
   "cell_type": "markdown",
   "metadata": {
    "slideshow": {
     "slide_type": "slide"
    }
   },
   "source": [
    "### Packaging tools\n",
    "\n",
    "* **Distutils** is still the standard tool for packaging in Python. It is included in the standard library (Python 2 and Python 3.0 to 3.6). It is useful for simple Python distributions, but lacks features. It introduces the ```distutils``` Python package that can be imported in your setup.py script.\n",
    "* **Setuptools** was developed to overcome Distutils' limitations, and is not included in the standard library. It introduced a command-line utility called ```easy_install```. It also introduced the ```setuptools``` Python package that can be imported in your setup.py script, and the pkg_resources Python package that can be imported in your code to locate data files installed with a distribution. One of its gotchas is that it monkey-patches the ```distutils``` Python package. It should work well with ```pip```. It sees regular releases.\n",
    "* **Abandoned**: Distribute, Distutils2\n",
    "* **Alpha**: Distlib\n",
    "* **Alternatives**: Bento, Enscons\n",
    "\n",
    "[Stackoverflow](https://stackoverflow.com/questions/6344076/differences-between-distribute-distutils-setuptools-and-distutils2)"
   ]
  },
  {
   "cell_type": "markdown",
   "metadata": {
    "slideshow": {
     "slide_type": "slide"
    }
   },
   "source": [
    "### Package managers\n",
    "\n",
    "* **PyPi/setuptools**:\n",
    "    - ```easy_install```: 2004, install from Eggs, no uninstall packages, no Wheel support\n",
    "    - ```pip```: 2008, no install from Eggs, install from sdist or from Wheel recently, requirement files \n",
    "* **Anaconda**: ```conda```\n",
    "* **Spack**: ```spack```"
   ]
  },
  {
   "cell_type": "markdown",
   "metadata": {
    "slideshow": {
     "slide_type": "slide"
    }
   },
   "source": [
    "### Virtual environments\n",
    "\n",
    "* **Virtualenv**\n",
    "* **Pyenv**: forked from rbenv and ruby-build, and modified for Python.\n",
    "* **Anaconda**: package index + package manager + environment manager\n",
    "\n",
    "Alternatives:\n",
    "* docker\n",
    "* vagrant\n",
    "\n",
    "[Stackoverflow](https://stackoverflow.com/questions/38217545/the-different-between-pyenv-virtualenv-anaconda-in-python)"
   ]
  },
  {
   "cell_type": "markdown",
   "metadata": {
    "slideshow": {
     "slide_type": "slide"
    }
   },
   "source": [
    "## Anatomy of a package\n",
    "\n",
    "```\n",
    "├── foo\n",
    "│   ├── a_module.py\n",
    "│   ├── __init__.py\n",
    "├── README\n",
    "└── setup.py\n",
    "```\n",
    "\n",
    "setup.py:\n",
    "\n",
    "```\n",
    "from setuptools import setup\n",
    "\n",
    "setup(\n",
    "   name='foo',\n",
    "   version='1.0',\n",
    "   description='A useful module',\n",
    "   author='Man Foo',\n",
    "   author_email='foomail@foo.com',\n",
    "   packages=['foo'],\n",
    "   install_requires=['bar>=1', 'greek>=1,<2']\n",
    ")\n",
    "```\n",
    "\n",
    "To build & install package:\n",
    "\n",
    "```python setup.py build && python setup.py install```"
   ]
  },
  {
   "cell_type": "markdown",
   "metadata": {
    "slideshow": {
     "slide_type": "slide"
    }
   },
   "source": [
    "## Typical application\n",
    "\n",
    "```\n",
    "├── project\n",
    "│   ├── submodule\n",
    "│   │   ├── __init__.py\n",
    "│   │   ├── my.py\n",
    "│   ├── app.py\n",
    "│   ├── __init__.py\n",
    "└── requirements.txt\n",
    "```\n",
    "\n",
    "requirements.txt:\n",
    "\n",
    "```\n",
    "bar==0.12.2\n",
    "greek>=1\n",
    "-e git+git://github.com/path/to/repo@releases/3.7.1#egg=charlie\n",
    "```\n",
    "\n",
    "To install application dependencies:\n",
    "\n",
    "```pip install -r requirements.txt```"
   ]
  },
  {
   "cell_type": "markdown",
   "metadata": {
    "slideshow": {
     "slide_type": "slide"
    }
   },
   "source": [
    "## PIP guide\n",
    "\n",
    "[PIP docs](https://pip.pypa.io/en/stable/)\n",
    "\n",
    "* ```pip install <package>```\n",
    "* ```pip uninstall <package>```\n",
    "* Save from env: ```pip freeze > requirements.txt```\n",
    "* List outdated: ```pip list --outdated --format=freeze```\n",
    "* Upgrade all: ```pip freeze --local | grep -v '^\\-e' | cut -d = -f 1  | xargs -n1 pip install -U```"
   ]
  },
  {
   "cell_type": "markdown",
   "metadata": {
    "slideshow": {
     "slide_type": "slide"
    }
   },
   "source": [
    "## Anaconda\n",
    "\n",
    "* Environment manager\n",
    "* Binary packages (for any arch)\n",
    "* Community packages [Conda-Forge](https://conda-forge.org/)\n",
    "* Comes with scientific packages (or use miniconda)\n",
    "* Anaconda Navigator\n",
    "* Supports Python, R and Julia"
   ]
  },
  {
   "cell_type": "markdown",
   "metadata": {
    "slideshow": {
     "slide_type": "slide"
    }
   },
   "source": [
    "### environment.yml\n",
    "\n",
    "```\n",
    "name: myapp\n",
    "\n",
    "channels:\n",
    "  - conda-forge\n",
    "\n",
    "dependencies:\n",
    "  - python=3.6\n",
    "  - foo\n",
    "  - bar\n",
    "  - pip:\n",
    "    - pip-foo\n",
    "    - pip-bar\n",
    "    - git+git://github.com/path/to/repo@releases/3.7.1#egg=charlie\n",
    "```"
   ]
  },
  {
   "cell_type": "markdown",
   "metadata": {
    "slideshow": {
     "slide_type": "slide"
    }
   },
   "source": [
    "### Conda guide\n",
    "\n",
    "[Conda docs](https://conda.io/docs/user-guide/)\n",
    "\n",
    "* To create an environment with a specific version of Python and package foo:\n",
    "```conda create -n myenv python=3.6 foo```\n",
    "* Install package bar under myenv:\n",
    "```conda install -n myenv bar```\n",
    "* Create the environment from the environment.yml file:\n",
    "```conda env create -f environment.yml```\n",
    "* List packages installed under myenv:\n",
    "```conda list -n myenv```\n",
    "* List local environments:\n",
    "```conda env list```\n",
    "* Activate environment myenv:\n",
    "```source activate myenv```\n",
    "\n",
    "Once the environment is activated, you can skip specifying -n myenv. Pip will install packages under current env."
   ]
  }
 ],
 "metadata": {
  "kernelspec": {
   "display_name": "Python 2",
   "language": "python",
   "name": "python2"
  },
  "language_info": {
   "codemirror_mode": {
    "name": "ipython",
    "version": 2
   },
   "file_extension": ".py",
   "mimetype": "text/x-python",
   "name": "python",
   "nbconvert_exporter": "python",
   "pygments_lexer": "ipython2",
   "version": "2.7.15"
  },
  "varInspector": {
   "cols": {
    "lenName": 16,
    "lenType": 16,
    "lenVar": 40
   },
   "kernels_config": {
    "python": {
     "delete_cmd_postfix": "",
     "delete_cmd_prefix": "del ",
     "library": "var_list.py",
     "varRefreshCmd": "print(var_dic_list())"
    },
    "r": {
     "delete_cmd_postfix": ") ",
     "delete_cmd_prefix": "rm(",
     "library": "var_list.r",
     "varRefreshCmd": "cat(var_dic_list()) "
    }
   },
   "types_to_exclude": [
    "module",
    "function",
    "builtin_function_or_method",
    "instance",
    "_Feature"
   ],
   "window_display": false
  }
 },
 "nbformat": 4,
 "nbformat_minor": 2
}
