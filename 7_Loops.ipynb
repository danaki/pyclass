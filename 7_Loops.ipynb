{
 "cells": [
  {
   "cell_type": "markdown",
   "metadata": {
    "slideshow": {
     "slide_type": "slide"
    }
   },
   "source": [
    "# Loops"
   ]
  },
  {
   "cell_type": "markdown",
   "metadata": {
    "slideshow": {
     "slide_type": "slide"
    }
   },
   "source": [
    "## for loop\n",
    "\n",
    "```\n",
    "for <value> in <iterable>:\n",
    "    [block]\n",
    "```"
   ]
  },
  {
   "cell_type": "code",
   "execution_count": 1,
   "metadata": {
    "slideshow": {
     "slide_type": "slide"
    }
   },
   "outputs": [
    {
     "name": "stdout",
     "output_type": "stream",
     "text": [
      "0\n",
      "1\n",
      "2\n",
      "3\n",
      "4\n"
     ]
    }
   ],
   "source": [
    "for i in range(5):\n",
    "    print i"
   ]
  },
  {
   "cell_type": "markdown",
   "metadata": {
    "slideshow": {
     "slide_type": "slide"
    }
   },
   "source": [
    "Range produces a sequence of numbers:\n",
    "\n",
    "* range(stop)\n",
    "* range(start, stop[, step])\n",
    "\n",
    "For curious: why `xrange()` is prefered? Type `?xrange` in an empty cell to find out."
   ]
  },
  {
   "cell_type": "code",
   "execution_count": 6,
   "metadata": {
    "slideshow": {
     "slide_type": "slide"
    }
   },
   "outputs": [
    {
     "data": {
      "text/plain": [
       "[0, 1, 2, 3, 4, 5, 6, 7, 8, 9]"
      ]
     },
     "execution_count": 6,
     "metadata": {},
     "output_type": "execute_result"
    }
   ],
   "source": [
    "range(10)"
   ]
  },
  {
   "cell_type": "code",
   "execution_count": 8,
   "metadata": {},
   "outputs": [
    {
     "data": {
      "text/plain": [
       "[0, 1, 2, 3, 4, 5, 6, 7, 8, 9]"
      ]
     },
     "execution_count": 8,
     "metadata": {},
     "output_type": "execute_result"
    }
   ],
   "source": [
    "range(0, 10)"
   ]
  },
  {
   "cell_type": "code",
   "execution_count": 9,
   "metadata": {},
   "outputs": [
    {
     "data": {
      "text/plain": [
       "[0, 2, 4, 6, 8]"
      ]
     },
     "execution_count": 9,
     "metadata": {},
     "output_type": "execute_result"
    }
   ],
   "source": [
    "range(0, 10, 2)"
   ]
  },
  {
   "cell_type": "markdown",
   "metadata": {
    "slideshow": {
     "slide_type": "slide"
    }
   },
   "source": [
    "This is how we usually make loops in Python: "
   ]
  },
  {
   "cell_type": "code",
   "execution_count": 56,
   "metadata": {
    "slideshow": {
     "slide_type": "-"
    }
   },
   "outputs": [
    {
     "name": "stdout",
     "output_type": "stream",
     "text": [
      "3\n",
      "4\n",
      "5\n",
      "6\n",
      "7\n"
     ]
    }
   ],
   "source": [
    "for i in range(3, 8):\n",
    "    print i"
   ]
  },
  {
   "cell_type": "markdown",
   "metadata": {
    "slideshow": {
     "slide_type": "slide"
    }
   },
   "source": [
    "Step also can be negative:"
   ]
  },
  {
   "cell_type": "code",
   "execution_count": 57,
   "metadata": {
    "slideshow": {
     "slide_type": "-"
    }
   },
   "outputs": [
    {
     "name": "stdout",
     "output_type": "stream",
     "text": [
      "20\n",
      "18\n",
      "16\n",
      "14\n",
      "12\n"
     ]
    }
   ],
   "source": [
    "for i in range(20, 10, -2):\n",
    "    print i"
   ]
  },
  {
   "cell_type": "markdown",
   "metadata": {
    "slideshow": {
     "slide_type": "slide"
    }
   },
   "source": [
    "To break the loop earlier, use `break` from the body. It will immediately exit the loop (and skip further block contents)."
   ]
  },
  {
   "cell_type": "code",
   "execution_count": 26,
   "metadata": {},
   "outputs": [
    {
     "name": "stdout",
     "output_type": "stream",
     "text": [
      "-2\n",
      "-1\n",
      "Ended\n"
     ]
    }
   ],
   "source": [
    "for i in range(-2, 3):  \n",
    "    if i == 0:\n",
    "        break\n",
    "    print i\n",
    "\n",
    "print \"Ended\""
   ]
  },
  {
   "cell_type": "markdown",
   "metadata": {
    "slideshow": {
     "slide_type": "slide"
    }
   },
   "source": [
    "Let's unwrap the loop:\n",
    " 1. `i = -2` range() produces `[-2, -1, 0, 1, 2]`\n",
    " 1. `if i == 0` = False\n",
    " 1. `print i`\n",
    " 1. `i = -1` next value from the list produced by range()\n",
    " 1. `if i == 0` = False\n",
    " 1. `print i` \n",
    " 1. `i = 0` next value\n",
    " 1. `if i == 0` = True \n",
    " 1. `break` exit the loop. Full stop"
   ]
  },
  {
   "cell_type": "markdown",
   "metadata": {
    "slideshow": {
     "slide_type": "slide"
    }
   },
   "source": [
    "`continue` will immidiately start next iteration, skipping further block contents."
   ]
  },
  {
   "cell_type": "code",
   "execution_count": 59,
   "metadata": {},
   "outputs": [
    {
     "name": "stdout",
     "output_type": "stream",
     "text": [
      "0\n",
      "2\n",
      "4\n",
      "6\n",
      "8\n"
     ]
    }
   ],
   "source": [
    "for i in range(0, 10):\n",
    "    if i % 2:\n",
    "        continue\n",
    "    print i"
   ]
  },
  {
   "cell_type": "markdown",
   "metadata": {},
   "source": [
    "Unwrapping the loop:\n",
    " 1. `i = 0`\n",
    " 1. `if i % 2` = bool(0) is False\n",
    " 1. `print i`\n",
    " 1. `i = 1`\n",
    " 1. `if i % 2` = bool(1) is True\n",
    " 1. `continue` go back to loop definition and take another value\n",
    " 1. `i = 2`\n",
    " 1. `if i % 2` = bool(0) is False\n",
    " 1. `...` and so on"
   ]
  },
  {
   "cell_type": "markdown",
   "metadata": {
    "slideshow": {
     "slide_type": "slide"
    }
   },
   "source": [
    "Be careful, in the example below `print` inside the loop is meaningless, that's probably a bug in if-condition."
   ]
  },
  {
   "cell_type": "code",
   "execution_count": 14,
   "metadata": {
    "slideshow": {
     "slide_type": "-"
    }
   },
   "outputs": [
    {
     "name": "stdout",
     "output_type": "stream",
     "text": [
      "Started\n",
      "Exited\n"
     ]
    }
   ],
   "source": [
    "print \"Started\"\n",
    "\n",
    "for i in range(0, 10):\n",
    "    if i >= 0:\n",
    "        continue\n",
    "    print \"Never reached\"\n",
    "\n",
    "print \"Exited\""
   ]
  },
  {
   "cell_type": "markdown",
   "metadata": {
    "slideshow": {
     "slide_type": "slide"
    }
   },
   "source": [
    "Loops can be nested"
   ]
  },
  {
   "cell_type": "code",
   "execution_count": 60,
   "metadata": {},
   "outputs": [
    {
     "name": "stdout",
     "output_type": "stream",
     "text": [
      "0 10\n",
      "0 11\n",
      "0 12\n",
      "1 10\n",
      "1 11\n",
      "1 12\n"
     ]
    }
   ],
   "source": [
    "for i in range(0, 2):\n",
    "    for j in range(10, 13):\n",
    "        print i, j"
   ]
  },
  {
   "cell_type": "markdown",
   "metadata": {
    "slideshow": {
     "slide_type": "slide"
    }
   },
   "source": [
    "But both `break` and `continue` only affect control flow of the block where they are defined. Example:"
   ]
  },
  {
   "cell_type": "code",
   "execution_count": 24,
   "metadata": {},
   "outputs": [
    {
     "name": "stdout",
     "output_type": "stream",
     "text": [
      "1\n",
      "A\n",
      "1\n",
      "B\n",
      "1\n",
      "C\n"
     ]
    }
   ],
   "source": [
    "# string is a sequential type, we can iterate it over\n",
    "for i in 'ABC':\n",
    "    for j in range(1, 1000):\n",
    "        if j > 1:\n",
    "            break\n",
    "        print j\n",
    "    print i"
   ]
  },
  {
   "cell_type": "markdown",
   "metadata": {
    "slideshow": {
     "slide_type": "slide"
    }
   },
   "source": [
    "Unwrapping:\n",
    " 1. `i = 'A'` outer for loop\n",
    " 1. `j = 1`   inner loop \n",
    " 1. `if j > 1` = False\n",
    " 1. `print j`\n",
    " 1. `j = 2` inner loop\n",
    " 1. `if j > 1` = True\n",
    " 1. `break` go to the line right after inner loop\n",
    " 1. `print i`\n",
    " 1. `i = 'B'` outer for loop\n",
    " 1. `...`"
   ]
  },
  {
   "cell_type": "markdown",
   "metadata": {
    "slideshow": {
     "slide_type": "slide"
    }
   },
   "source": [
    "## while loop\n",
    "\n",
    "```\n",
    "while <conditional>:\n",
    "    [block]\n",
    "```\n",
    "\n",
    "Often used when exact number of iterations is prevously unknown. Use `break` or `return` to finish the loop when exit conditions are met.\n",
    "\n",
    "We can use `while` to emulate `for` loop (C-style), but better use `for`."
   ]
  },
  {
   "cell_type": "code",
   "execution_count": 61,
   "metadata": {},
   "outputs": [
    {
     "name": "stdout",
     "output_type": "stream",
     "text": [
      "5\n",
      "4\n",
      "3\n",
      "2\n",
      "1\n"
     ]
    }
   ],
   "source": [
    "i = 5\n",
    "while i > 0:\n",
    "    print i\n",
    "    i -= 1"
   ]
  },
  {
   "cell_type": "markdown",
   "metadata": {
    "slideshow": {
     "slide_type": "slide"
    }
   },
   "source": [
    "Control flow keywords `break` and `continue` also can be used.\n",
    "\n",
    "Common pattern is `while True`:"
   ]
  },
  {
   "cell_type": "code",
   "execution_count": 62,
   "metadata": {},
   "outputs": [
    {
     "name": "stdout",
     "output_type": "stream",
     "text": [
      "2\n",
      "4\n",
      "6\n",
      "8\n",
      "10\n"
     ]
    }
   ],
   "source": [
    "i = 0\n",
    "while True:\n",
    "    i += 1\n",
    "    if i % 2:\n",
    "        continue\n",
    "    if i > 10:\n",
    "        break\n",
    "    print i"
   ]
  },
  {
   "cell_type": "markdown",
   "metadata": {
    "slideshow": {
     "slide_type": "slide"
    }
   },
   "source": [
    "**Be careful:** `while True` without a proper break conditional will create an infinite loop.\n",
    "\n",
    "Try to uncomment these two lines and run:"
   ]
  },
  {
   "cell_type": "code",
   "execution_count": 30,
   "metadata": {},
   "outputs": [],
   "source": [
    "# while True:\n",
    "#    pass"
   ]
  },
  {
   "attachments": {
    "Screenshot%202019-07-17%20at%2000.49.12.png": {
     "image/png": "[encoded data removed]"
    },
    "Screenshot%202019-07-17%20at%2000.49.27.png": {
     "image/png": "[encoded data removed]"
    },
    "Screenshot%202019-07-17%20at%2000.50.09.png": {
     "image/png": "[encoded data removed]"
    }
   },
   "cell_type": "markdown",
   "metadata": {},
   "source": [
    "You'll notice that the cell runs endlessly:\n",
    "\n",
    "![Screenshot%202019-07-17%20at%2000.50.09.png](attachment:Screenshot%202019-07-17%20at%2000.50.09.png)\n",
    "\n",
    "Interpreter becomes busy (an indicator in the top right corner):\n",
    "\n",
    "![Screenshot%202019-07-17%20at%2000.49.12.png](attachment:Screenshot%202019-07-17%20at%2000.49.12.png)\n",
    "\n",
    "Interrupt it by pressing \"Stop\" button to the right of the \"Run\" button.\n",
    "\n",
    "![Screenshot%202019-07-17%20at%2000.49.27.png](attachment:Screenshot%202019-07-17%20at%2000.49.27.png)\n",
    "\n",
    "Or `Kernel` > `Interrupt` in the menu."
   ]
  },
  {
   "cell_type": "code",
   "execution_count": null,
   "metadata": {},
   "outputs": [],
   "source": []
  }
 ],
 "metadata": {
  "celltoolbar": "Slideshow",
  "kernelspec": {
   "display_name": "Python 2",
   "language": "python",
   "name": "python2"
  },
  "language_info": {
   "codemirror_mode": {
    "name": "ipython",
    "version": 2
   },
   "file_extension": ".py",
   "mimetype": "text/x-python",
   "name": "python",
   "nbconvert_exporter": "python",
   "pygments_lexer": "ipython2",
   "version": "2.7.16"
  },
  "livereveal": {
   "theme": "white",
   "transition": "fast"
  },
  "toc": {
   "base_numbering": 1,
   "nav_menu": {},
   "number_sections": true,
   "sideBar": true,
   "skip_h1_title": true,
   "title_cell": "Table of Contents",
   "title_sidebar": "Contents",
   "toc_cell": false,
   "toc_position": {},
   "toc_section_display": true,
   "toc_window_display": true
  },
  "varInspector": {
   "cols": {
    "lenName": 16,
    "lenType": 16,
    "lenVar": 40
   },
   "kernels_config": {
    "python": {
     "delete_cmd_postfix": "",
     "delete_cmd_prefix": "del ",
     "library": "var_list.py",
     "varRefreshCmd": "print(var_dic_list())"
    },
    "r": {
     "delete_cmd_postfix": ") ",
     "delete_cmd_prefix": "rm(",
     "library": "var_list.r",
     "varRefreshCmd": "cat(var_dic_list()) "
    }
   },
   "types_to_exclude": [
    "module",
    "function",
    "builtin_function_or_method",
    "instance",
    "_Feature"
   ],
   "window_display": false
  }
 },
 "nbformat": 4,
 "nbformat_minor": 2
}
