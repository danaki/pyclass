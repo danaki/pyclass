{
 "cells": [
  {
   "cell_type": "markdown",
   "metadata": {
    "slideshow": {
     "slide_type": "slide"
    }
   },
   "source": [
    "# Homework 2\n",
    "\n",
    "You are free to use for-loops and if-else conditions or list/dict comprehensions."
   ]
  },
  {
   "cell_type": "markdown",
   "metadata": {
    "slideshow": {
     "slide_type": "slide"
    }
   },
   "source": [
    "## Problem: Flatten list"
   ]
  },
  {
   "cell_type": "markdown",
   "metadata": {},
   "source": [
    "Given list of lists:\n",
    "```\n",
    "[['Winnie-the-Pooh', 'Eeyore', 'Piglet', 'Kanga'], ['Karlsson', 'Lillebror'], ['Moomintroll', 'Snufkin', 'Hemulen'], []]\n",
    "```\n",
    "\n",
    "Result is one-dimensional list:\n",
    "```\n",
    "['Winnie-the-Pooh', 'Eeyore', 'Piglet', 'Kanga', 'Karlsson', 'Lillebror', 'Moomintroll', 'Snufkin', 'Hemulen']\n",
    "```\n",
    "\n",
    "Please keep the order of elements.\n",
    "\n",
    "*You are my hero if you chose to use list comprehensions for this task.*"
   ]
  },
  {
   "cell_type": "code",
   "execution_count": 1,
   "metadata": {},
   "outputs": [],
   "source": [
    "t = [['Winnie-the-Pooh', 'Eeyore', 'Piglet', 'Kanga'], ['Karlsson', 'Lillebror'], ['Moomintroll', 'Snufkin', 'Hemulen'], []]"
   ]
  },
  {
   "cell_type": "markdown",
   "metadata": {
    "slideshow": {
     "slide_type": "slide"
    }
   },
   "source": [
    "## Problem: Numeric sequence\n",
    "\n",
    "Generate this sequence of numbers for any given `n`:\n",
    "\n",
    "```\n",
    "[1, 2, 2, 3, 3, 3, 4, 4, 4, 4, ... 10, 10, 10, 10, 10, 10, 10, 10, 10, 10, 10]\n",
    "```"
   ]
  },
  {
   "cell_type": "code",
   "execution_count": 65,
   "metadata": {},
   "outputs": [],
   "source": [
    "n = 10\n",
    "# your code here"
   ]
  },
  {
   "cell_type": "markdown",
   "metadata": {
    "slideshow": {
     "slide_type": "slide"
    }
   },
   "source": [
    "## Problem: Robotic car\n",
    "\n",
    "Robotic car can move in 8 directions:\n",
    "* north (n)\n",
    "* north-east (ne)\n",
    "* east (e)\n",
    "* south-east (se)\n",
    "* south (s)\n",
    "* south-west (sw)\n",
    "* west (w)\n",
    "* north-west (nw)\n",
    "\n",
    "Get finishing coordinates given starting position at (0, 0). Example of a command: `('ne', 17)` means 17 steps north-east (= +1 step up and +1 step right).\n",
    "\n",
    "```\n",
    "[('ne', 17), ('e', 7), ('w', 1), ('nw', 4), ('s', 6), ('e', 3), ('n', 13), ('nw', 11), ('ne', 20), ('se', 7), ('s', 7), ('e', 4)]\n",
    "```\n",
    "\n",
    "Hint: your first attempt will probably look like a for-loop with if-else's inside of it. Think how to use dictionaries to make your code look cleaner and more concise."
   ]
  },
  {
   "cell_type": "code",
   "execution_count": 2,
   "metadata": {},
   "outputs": [],
   "source": [
    "# your solution here"
   ]
  },
  {
   "cell_type": "markdown",
   "metadata": {
    "slideshow": {
     "slide_type": "slide"
    }
   },
   "source": [
    "## Problem: Dolch analyzer\n",
    "\n",
    "This task is creative. Write a program to check if a text is suitable for children.\n",
    "\n",
    "* Use [Dolch word list](https://en.wikipedia.org/wiki/Dolch_word_list)\n",
    "* Prototype [Dolch analyzer](https://app.readable.io/text/dolch/)\n",
    "\n",
    "Hint: you can use `in` to check if an element is inside a list, but using dictionaries is preferable (because it's faster in average, (`in` loops until it finds the desired element or end of the list, while dictionaries are using hashes))"
   ]
  },
  {
   "cell_type": "code",
   "execution_count": 3,
   "metadata": {},
   "outputs": [],
   "source": [
    "# your solution here"
   ]
  }
 ],
 "metadata": {
  "celltoolbar": "Slideshow",
  "kernelspec": {
   "display_name": "Python 2",
   "language": "python",
   "name": "python2"
  },
  "language_info": {
   "codemirror_mode": {
    "name": "ipython",
    "version": 2
   },
   "file_extension": ".py",
   "mimetype": "text/x-python",
   "name": "python",
   "nbconvert_exporter": "python",
   "pygments_lexer": "ipython2",
   "version": "2.7.16"
  },
  "toc": {
   "base_numbering": 1,
   "nav_menu": {},
   "number_sections": true,
   "sideBar": true,
   "skip_h1_title": true,
   "title_cell": "Table of Contents",
   "title_sidebar": "Contents",
   "toc_cell": false,
   "toc_position": {},
   "toc_section_display": true,
   "toc_window_display": true
  },
  "varInspector": {
   "cols": {
    "lenName": 16,
    "lenType": 16,
    "lenVar": 40
   },
   "kernels_config": {
    "python": {
     "delete_cmd_postfix": "",
     "delete_cmd_prefix": "del ",
     "library": "var_list.py",
     "varRefreshCmd": "print(var_dic_list())"
    },
    "r": {
     "delete_cmd_postfix": ") ",
     "delete_cmd_prefix": "rm(",
     "library": "var_list.r",
     "varRefreshCmd": "cat(var_dic_list()) "
    }
   },
   "types_to_exclude": [
    "module",
    "function",
    "builtin_function_or_method",
    "instance",
    "_Feature"
   ],
   "window_display": false
  }
 },
 "nbformat": 4,
 "nbformat_minor": 2
}
