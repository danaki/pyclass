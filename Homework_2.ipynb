{
 "cells": [
  {
   "cell_type": "markdown",
   "metadata": {
    "slideshow": {
     "slide_type": "slide"
    }
   },
   "source": [
    "# Homework 2\n",
    "\n",
    "__List, dict, tuple etc comprehensions are not required for this homework.__\n",
    "\n",
    "You can use normal convinient for-loops and if-else conditions if you're not familiar with comprehensions."
   ]
  },
  {
   "cell_type": "markdown",
   "metadata": {
    "slideshow": {
     "slide_type": "slide"
    }
   },
   "source": [
    "## Task #1: flatten list"
   ]
  },
  {
   "cell_type": "markdown",
   "metadata": {},
   "source": [
    "You are my hero if you use list comprehensions for this task ([hint](https://stackoverflow.com/questions/14807689/python-list-comprehension-to-join-list-of-lists) if you choose this path)\n",
    "\n",
    "Given list of lists:\n",
    "```\n",
    "[['Winnie-the-Pooh', 'Eeyore', 'Piglet', 'Kanga'], ['Karlsson', 'Lillebror'], ['Moomintroll', 'Snufkin', 'Hemulen'], []]\n",
    "```\n",
    "\n",
    "Result is one-dimensional list:\n",
    "```\n",
    "['Winnie-the-Pooh', 'Eeyore', 'Piglet', 'Kanga', 'Karlsson', 'Lillebror', 'Moomintroll', 'Snufkin', 'Hemulen']\n",
    "```\n",
    "\n",
    "Please keep the order of elements."
   ]
  },
  {
   "cell_type": "code",
   "execution_count": 4,
   "metadata": {},
   "outputs": [],
   "source": [
    "t = [['Winnie-the-Pooh', 'Eeyore', 'Piglet', 'Kanga'], ['Karlsson', 'Lillebror'], ['Moomintroll', 'Snufkin', 'Hemulen'], []]"
   ]
  },
  {
   "cell_type": "markdown",
   "metadata": {
    "slideshow": {
     "slide_type": "slide"
    }
   },
   "source": [
    "## Task #2: numeric sequence\n",
    "\n",
    "Generate this sequence of numbers (in a list):\n",
    "\n",
    "```\n",
    "[1, 2, 2, 3, 3, 3, 4, 4, 4, 4, ... 10, 10, 10, 10, 10, 10, 10, 10, 10, 10, 10]\n",
    "```"
   ]
  },
  {
   "cell_type": "code",
   "execution_count": 65,
   "metadata": {},
   "outputs": [],
   "source": [
    "n = 10\n",
    "# your code here"
   ]
  },
  {
   "cell_type": "markdown",
   "metadata": {
    "slideshow": {
     "slide_type": "slide"
    }
   },
   "source": [
    "## Task #3: robotic car\n",
    "\n",
    "Robotic car can move in 8 directions:\n",
    "* north (n)\n",
    "* north-east (ne)\n",
    "* east (e)\n",
    "* south-east (se)\n",
    "* south (s)\n",
    "* south-west (sw)\n",
    "* west (w)\n",
    "* north-west (nw)\n",
    "\n",
    "Get finishing coordinates given starting position at (0, 0). Example of a command: `('ne', 17)` means 17 steps north-east (= +1 step up and +1 step right).\n",
    "\n",
    "```\n",
    "[('ne', 17), ('e', 7), ('w', 1), ('nw', 4), ('s', 6), ('e', 3), ('n', 13), ('nw', 11), ('ne', 20), ('se', 7), ('s', 7), ('e', 4)]\n",
    "```\n",
    "\n",
    "Hint: your first attempt will probably look like a for-loop with if-else's inside of it. Think how to use dictionaries to make your code look cleaner and more concise."
   ]
  },
  {
   "cell_type": "markdown",
   "metadata": {
    "slideshow": {
     "slide_type": "slide"
    }
   },
   "source": [
    "## Task #4: Dolch analyzer\n",
    "\n",
    "This task is creative. Write a program to check if a text is suitable for children.\n",
    "\n",
    "* Use [Dolch word list](https://en.wikipedia.org/wiki/Dolch_word_list)\n",
    "* Prototype [Dolch analyzer](https://app.readable.io/text/dolch/)\n",
    "\n",
    "Hint: you can use `in` to check if an element is inside a list, but using dictionaries is preferable (because it's faster in average, (`in` loops until it finds the desired element or end of the list, while dictionaries are using hashes))"
   ]
  },
  {
   "cell_type": "markdown",
   "metadata": {
    "slideshow": {
     "slide_type": "slide"
    }
   },
   "source": [
    "# OPTIONAL HARD Task #5: [Vigenère cipher](https://en.wikipedia.org/wiki/Vigen%C3%A8re_cipher)\n",
    "\n",
    "> In a Caesar cipher, each letter of the alphabet is shifted along some number of places; for example, in a Caesar cipher of shift 3, A would become D, B would become E, Y would become B and so on. The Vigenère cipher consists of several Caesar ciphers in sequence with different shift values.\n",
    "\n",
    "Key has length 3. Filter out results that contain no word 'cheap'.\n",
    "\n",
    "Hint: encryption key you will be looking for is either __kid__ or __qsx__ (depending on if you add or subtract symbol positions), but please get the original message."
   ]
  },
  {
   "cell_type": "code",
   "execution_count": 48,
   "metadata": {},
   "outputs": [],
   "source": [
    "vigenere_message = 'gm gqov pksh mookwbqfsbb ar kkois bkkb yvoi wrm bqfr zsto jxbv miqnthc'"
   ]
  },
  {
   "cell_type": "markdown",
   "metadata": {
    "slideshow": {
     "slide_type": "slide"
    }
   },
   "source": [
    "Some notes to help you solve this problem. First, let's decompose the problem.\n",
    "\n",
    "Your task is to [brutforce the cyphertext](https://inventwithpython.com/hacking/chapter7.html), e.g. find all possible decription keys and apply to cyphertext, e.g. to `vigenere_message`.\n",
    "\n",
    "First let's define the alphabet."
   ]
  },
  {
   "cell_type": "code",
   "execution_count": 2,
   "metadata": {},
   "outputs": [
    {
     "data": {
      "text/plain": [
       "'abcdefghijklmnopqrstuvwxyz'"
      ]
     },
     "execution_count": 2,
     "metadata": {},
     "output_type": "execute_result"
    }
   ],
   "source": [
    "import string\n",
    "\n",
    "alphabet = string.ascii_lowercase\n",
    "alphabet"
   ]
  },
  {
   "cell_type": "markdown",
   "metadata": {
    "slideshow": {
     "slide_type": "slide"
    }
   },
   "source": [
    "Latin alphabet has 26 symbols but it has been said that key length is only 3 symbols. We must check all 3-symbol combinations (this is called exhaustive search). So, the total number of keys is:"
   ]
  },
  {
   "cell_type": "code",
   "execution_count": 53,
   "metadata": {},
   "outputs": [
    {
     "data": {
      "text/plain": [
       "17576"
      ]
     },
     "execution_count": 53,
     "metadata": {},
     "output_type": "execute_result"
    }
   ],
   "source": [
    "26 ** 3"
   ]
  },
  {
   "cell_type": "markdown",
   "metadata": {
    "slideshow": {
     "slide_type": "slide"
    }
   },
   "source": [
    "These keys look like: \"aaa\", \"aab\", \"aac\", ..., \"xzz\", \"yzz\", \"zzz\".\n",
    "\n",
    "Therefore, if we apply all these keys to our `vigenere_message` in result we will get exact the same number of 'decrypted' messages. However all of them except the right one will contain garbage. Luckily we've been given a hint -- we must check for the word \"cheap\" and it must be there.\n",
    "\n",
    "So your **Step 1** is to generate the list of all possible 3-letter combinations given the alphabet.\n",
    "\n",
    "Next,"
   ]
  },
  {
   "cell_type": "code",
   "execution_count": 27,
   "metadata": {
    "slideshow": {
     "slide_type": "slide"
    }
   },
   "outputs": [
    {
     "data": {
      "text/plain": [
       "70"
      ]
     },
     "execution_count": 27,
     "metadata": {},
     "output_type": "execute_result"
    }
   ],
   "source": [
    "len(vigenere_message)"
   ]
  },
  {
   "cell_type": "markdown",
   "metadata": {
    "slideshow": {
     "slide_type": "-"
    }
   },
   "source": [
    "Our encrypted message is 70 symbols long. We must somehow apply all these 3-letter keys to a 70-letter long string. By the definition of Viginere's cypher, keys must be repeated as many times as long is the encrypted string. That means on **Step 2** we must generate a new list with \"stretched\" keys like:\n",
    " * aaaaaaaaaaaa...\n",
    " * aabaabaabaab...\n",
    " * aacaacaacaac...\n",
    " * ...\n",
    " * xzzxzzxzzxzz...\n",
    " * yzzyzzyzzyzz...\n",
    " * zzzzzzzzzzzz...\n",
    "\n",
    "All are 70-symbols long.\n",
    "\n",
    "Hint: you can generate a string that exceeds the required length and use list's slicing syntax to make it fit.\n",
    "\n",
    "Example:"
   ]
  },
  {
   "cell_type": "code",
   "execution_count": 58,
   "metadata": {},
   "outputs": [
    {
     "data": {
      "text/plain": [
       "'pythonpyth'"
      ]
     },
     "execution_count": 58,
     "metadata": {},
     "output_type": "execute_result"
    }
   ],
   "source": [
    "required_length = 10\n",
    "\n",
    "'python' * (required_length // len('python')) + 'python'[:required_length % len('python')]"
   ]
  },
  {
   "cell_type": "markdown",
   "metadata": {
    "slideshow": {
     "slide_type": "slide"
    }
   },
   "source": [
    "In **Step 3** we iterate with for-loop over the list of keys and apply each of them to the `vigenere_message`. Some hints to help you get started:\n",
    "  * There must be an internal loop to apply each letter of the key to each letter of the original message in appropriate position\n",
    "  * Check for space symbol like so `if letter == ' ': ...`. It's not in the alphabet and your code will probably fail to find it there\n",
    "  * Use `alphabet.index(a)` to check for symbol position in the alphabet\n",
    "  * Check resulting message for 'cheap' substring and filter out results where it can't be found.\n",
    "  * You might want to use convenient `enumerate()` function to get each list item along with it's position\n",
    "  * It doesn't really matter if you shift right (sum positions) or left (subtract positions). We are exhaustively trying all of the possible keys and Python predictably deals with negative indexes of sequences (it takes from the end). \n",
    "  * __Experiment and debug on each step!__"
   ]
  },
  {
   "cell_type": "code",
   "execution_count": 63,
   "metadata": {
    "slideshow": {
     "slide_type": "slide"
    }
   },
   "outputs": [],
   "source": [
    "import string\n",
    "\n",
    "alphabet = string.ascii_lowercase\n",
    "\n",
    "# Step 1: keys3 is the list of all 3-letter combinations\n",
    "keys3 = []\n",
    "# your code here\n",
    "\n",
    "# Step 2: \"stretch\" keys3 to the length of vigenere_message\n",
    "keys = []\n",
    "# your code here\n",
    "\n",
    "# Step 3: decrypt with each key and filter out undesired results\n",
    "for key in keys:\n",
    "    # your code here\n",
    "    pass"
   ]
  },
  {
   "cell_type": "markdown",
   "metadata": {
    "slideshow": {
     "slide_type": "slide"
    }
   },
   "source": [
    "## Advanced topic: module itertools\n",
    "\n",
    "__Don't read below, it is not required to solve the problem...__ but if you're curious...\n",
    "\n",
    "You can use module [itertools](https://docs.python.org/2/library/itertools.html) to reduce the number of lines in your solution."
   ]
  },
  {
   "cell_type": "code",
   "execution_count": 46,
   "metadata": {
    "slideshow": {
     "slide_type": "slide"
    }
   },
   "outputs": [
    {
     "data": {
      "text/plain": [
       "[(1, 1, 1),\n",
       " (1, 1, 2),\n",
       " (1, 2, 1),\n",
       " (1, 2, 2),\n",
       " (2, 1, 1),\n",
       " (2, 1, 2),\n",
       " (2, 2, 1),\n",
       " (2, 2, 2)]"
      ]
     },
     "execution_count": 46,
     "metadata": {},
     "output_type": "execute_result"
    }
   ],
   "source": [
    "import itertools\n",
    "\n",
    "# this will give you the list of all possible combinations of items in the list with guaranteed length = 3\n",
    "list(itertools.product([1, 2], repeat=3))"
   ]
  },
  {
   "cell_type": "code",
   "execution_count": 45,
   "metadata": {
    "slideshow": {
     "slide_type": "slide"
    }
   },
   "outputs": [
    {
     "data": {
      "text/plain": [
       "[1, 2, 3, 1, 2, 3, 1, 2, 3, 1]"
      ]
     },
     "execution_count": 45,
     "metadata": {},
     "output_type": "execute_result"
    }
   ],
   "source": [
    "# this will cycle your list until given lenght 10\n",
    "# copy-paste of take() see https://docs.python.org/2/library/itertools.html#recipes\n",
    "list(itertools.islice(itertools.cycle([1, 2, 3]), 10))"
   ]
  }
 ],
 "metadata": {
  "celltoolbar": "Slideshow",
  "kernelspec": {
   "display_name": "Python 2",
   "language": "python",
   "name": "python2"
  },
  "language_info": {
   "codemirror_mode": {
    "name": "ipython",
    "version": 2
   },
   "file_extension": ".py",
   "mimetype": "text/x-python",
   "name": "python",
   "nbconvert_exporter": "python",
   "pygments_lexer": "ipython2",
   "version": "2.7.15"
  }
 },
 "nbformat": 4,
 "nbformat_minor": 2
}
