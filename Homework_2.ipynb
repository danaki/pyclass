{
 "cells": [
  {
   "cell_type": "markdown",
   "metadata": {
    "slideshow": {
     "slide_type": "slide"
    }
   },
   "source": [
    "# Homework 2\n"
   ]
  },
  {
   "cell_type": "markdown",
   "metadata": {
    "slideshow": {
     "slide_type": "slide"
    }
   },
   "source": [
    "## Task #1: flatten list"
   ]
  },
  {
   "cell_type": "markdown",
   "metadata": {},
   "source": [
    "You are my hero if you use list comprehensions for this task. [Hint](https://stackoverflow.com/questions/14807689/python-list-comprehension-to-join-list-of-lists)\n",
    "\n",
    "Given list of lists:\n",
    "```\n",
    "[['Winnie-the-Pooh', 'Eeyore', 'Piglet', 'Kanga'], ['Karlsson', 'Lillebror'], ['Moomintroll', 'Snufkin', 'Hemulen'], []]\n",
    "```\n",
    "\n",
    "Result is one-dimensional list:\n",
    "```\n",
    "['Winnie-the-Pooh', 'Eeyore', 'Piglet', 'Kanga', 'Karlsson', 'Lillebror', 'Moomintroll', 'Snufkin', 'Hemulen']\n",
    "```\n",
    "\n",
    "Please keep the order of elements."
   ]
  },
  {
   "cell_type": "code",
   "execution_count": null,
   "metadata": {},
   "outputs": [],
   "source": [
    "t = [['Winnie-the-Pooh', 'Eeyore', 'Piglet', 'Kanga'], ['Karlsson', 'Lillebror'], ['Moomintroll', 'Snufkin', 'Hemulen'], []]\n",
    "\n",
    "[i for i in t for ]"
   ]
  },
  {
   "cell_type": "markdown",
   "metadata": {
    "slideshow": {
     "slide_type": "slide"
    }
   },
   "source": [
    "## Task #2: numeric sequence\n",
    "\n",
    "Generate this sequence of numbers (in a list):\n",
    "\n",
    "```\n",
    "[1, 2, 2, 3, 3, 3, 4, 4, 4, 4, ... 10, 10, 10, 10, 10, 10, 10, 10, 10, 10, 10]\n",
    "```\n",
    "\n",
    "You may wish to integrate Task #1 into this task. Again, list comprehensions are preffered solution."
   ]
  },
  {
   "cell_type": "markdown",
   "metadata": {
    "slideshow": {
     "slide_type": "slide"
    }
   },
   "source": [
    "## Task #3: robotic car\n",
    "\n",
    "Robotic car can move in 8 directions:\n",
    "* north (n)\n",
    "* north-east (ne)\n",
    "* east (e)\n",
    "* south-east (se)\n",
    "* south (s)\n",
    "* south-west (sw)\n",
    "* west (w)\n",
    "* north-west (nw)\n",
    "\n",
    "Get finish coordinates given starting position at (0, 0). Example of a command: `('ne', 17)` means 17 steps north-east (= +1 step up and +1 step right).\n",
    "\n",
    "```\n",
    "[('ne', 17), ('e', 7), ('w', 1), ('nw', 4), ('s', 6), ('e', 3), ('n', 13), ('nw', 11), ('ne', 20), ('se', 7), ('s', 7), ('e', 4)]\n",
    "```"
   ]
  },
  {
   "cell_type": "markdown",
   "metadata": {
    "slideshow": {
     "slide_type": "slide"
    }
   },
   "source": [
    "## Task #4: Dolch analyzer\n",
    "\n",
    "This task is creative. Write a program to check if a text is suitable for children.\n",
    "\n",
    "* Use [Dolch word list](https://en.wikipedia.org/wiki/Dolch_word_list)\n",
    "* Prototype [Dolch analyzer](https://app.readable.io/text/dolch/)"
   ]
  },
  {
   "cell_type": "markdown",
   "metadata": {
    "slideshow": {
     "slide_type": "slide"
    }
   },
   "source": [
    "# OPTIONAL HARD Task #5: [Vigenère cipher](https://en.wikipedia.org/wiki/Vigen%C3%A8re_cipher)\n",
    "\n",
    "> In a Caesar cipher, each letter of the alphabet is shifted along some number of places; for example, in a Caesar cipher of shift 3, A would become D, B would become E, Y would become B and so on. The Vigenère cipher consists of several Caesar ciphers in sequence with different shift values.\n",
    "\n",
    "Key has length 3. Filter out results that contain no word 'cheap'."
   ]
  },
  {
   "cell_type": "code",
   "execution_count": null,
   "metadata": {},
   "outputs": [],
   "source": [
    "vigenere_message = 'gm gqov pksh mookwbqfsbb ar kkois bkkb yvoi wrm bqfr zsto jxbv miqnthc'"
   ]
  }
 ],
 "metadata": {
  "celltoolbar": "Slideshow",
  "kernelspec": {
   "display_name": "Python 2",
   "language": "python",
   "name": "python2"
  },
  "language_info": {
   "codemirror_mode": {
    "name": "ipython",
    "version": 2
   },
   "file_extension": ".py",
   "mimetype": "text/x-python",
   "name": "python",
   "nbconvert_exporter": "python",
   "pygments_lexer": "ipython2",
   "version": "2.7.15"
  }
 },
 "nbformat": 4,
 "nbformat_minor": 2
}
