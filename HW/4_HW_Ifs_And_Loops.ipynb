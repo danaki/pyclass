{
 "cells": [
  {
   "cell_type": "markdown",
   "metadata": {},
   "source": [
    "# HW: IF, FOR and WHILE\n",
    "## Cycle\n",
    "\n",
    "Using a `for` loop, for each number from 10 up to 20 (excluding 20), print \"X is even\" or \"X is odd\".\n",
    "\n",
    "Example output (50 to 55):\n",
    "```\n",
    "50 is even\n",
    "51 is odd\n",
    "52 is even\n",
    "53 is odd\n",
    "54 is even\n",
    "```\n",
    "\n",
    "Hint:\n",
    "  * Use modulo `%` operator to get the remainder of division\n",
    "  * You might want to use ternary if to make your code slightly shorter"
   ]
  },
  {
   "cell_type": "code",
   "execution_count": 1,
   "metadata": {},
   "outputs": [],
   "source": [
    "# your solution here"
   ]
  },
  {
   "cell_type": "markdown",
   "metadata": {},
   "source": [
    "## Cycle while forever\n",
    "\n",
    "Implement algorithm from the previous exercise but this time use inifinite `while True` loop.\n",
    "\n",
    "* initialize variable `i` with `10`. It's your iteration counter.\n",
    "* create a `while True` loop\n",
    "* make a condition that prints \"X is even\" or \"X is odd\"\n",
    "* check the iteration counter value and `break` if iteration ending condition is reached\n",
    "\n",
    "Hints:\n",
    "  * without exit condition `while True` will iterate forever -- press **Stop** button in toolbar or select **Kernel > Interrupt**"
   ]
  },
  {
   "cell_type": "code",
   "execution_count": null,
   "metadata": {},
   "outputs": [],
   "source": [
    "#i = starting_number\n",
    "#while True:\n",
    "#    pass"
   ]
  },
  {
   "cell_type": "markdown",
   "metadata": {},
   "source": [
    "## $\\pi$ with Monte Carlo method\n",
    "\n",
    "In this exercise we will prove that $\\pi$=3.14 using random sampling method called [Monte Carlo method](https://en.wikipedia.org/wiki/Monte_Carlo_method).\n",
    "\n",
    "Read [this article](https://academo.org/demos/estimating-pi-monte-carlo/) and play with animation to get the idea of what we're going to build.\n",
    "\n",
    "For this task we will need `random.random()` ([docs](https://docs.python.org/2/library/random.html#random.random)):\n",
    "> Return the next random floating point number in the range [0.0, 1.0).\n",
    "\n",
    "Step-by-step guide:\n",
    " * create variable `inner`, initialize it to 0\n",
    " * create variable `iterations`, initialize with 1000\n",
    " * generate a random number using `random.random()`, save it to variable `x`\n",
    " * generate a random number using `random.random()`, save it to variable `y`\n",
    " * calculate `r` using formula $r = \\sqrt{x^2 + y^2}$\n",
    " * if `r` is less or equal to 1, increment `inner`\n",
    " * when loop is finished, calculate $4 \\cdot \\frac{inner}{iterations}$\n",
    " * set `iterations` to 1 million ($10^6$), run your code one more time\n",
    " * print the result rounded to 2 digits after decimal point, see [round()](https://docs.python.org/2/library/functions.html#round)\n",
    " \n",
    "Hints:\n",
    " * if devision results to 0, recall that in Python 2 to get the float result of division at least one of the arguments must be of type float"
   ]
  },
  {
   "cell_type": "code",
   "execution_count": 19,
   "metadata": {},
   "outputs": [],
   "source": [
    "import random, math\n",
    "\n",
    "inner = 0\n",
    "iterations = 10 ** 3\n",
    "\n",
    "for i in range(iterations):\n",
    "    # your code here\n",
    "    pass"
   ]
  },
  {
   "cell_type": "markdown",
   "metadata": {},
   "source": [
    "## $\\pi$ with Leibniz formula\n",
    "\n",
    "[Leibniz formula](https://en.wikipedia.org/wiki/Leibniz_formula_for_%CF%80) is a good way to approximate PI value for a particular precision:\n",
    "\n",
    "${\\frac {\\pi }{4}} = 1\\,-\\,{\\frac {1}{3}}\\,+\\,{\\frac {1}{5}}\\,-\\,{\\frac {1}{7}}\\,+\\,{\\frac {1}{9}}\\,-\\,\\cdots$\n",
    "\n",
    "Look attentively at this formula and notice some patterns:\n",
    " * Odd quantites are negative (assuming that 1st element has index 0 thus it's even)\n",
    " * Each element of the sum is a fraction $\\frac{1}{?}$ where $?$ is an odd number 1, 3, 5, 7, 9, ...\n",
    "\n",
    "Because Leibniz formula is an infinite [series](https://en.wikipedia.org/wiki/Series_(mathematics)) of quantities, condition for loop definition must be choosen wisely and it's better to use `while` loop for this purpose.\n",
    "\n",
    "Step-by-step solution:\n",
    "\n",
    "* create variable `acc` for accumulating formula result, innitialize with zero\n",
    "* create variable `i` holding the current iteration counter, innitialize with zero\n",
    "* create variable `x` to store current element of the sum, innitialize with `1`\n",
    "* define `epsilon` variable to control the precision and loop exit condition, set it to `0.01`\n",
    "* arrange a `while` loop testing if absolute value of `x` is greater then `epsilon`\n",
    "* inside the loop:\n",
    "  * calculate new `x`: $x = \\frac{1}{2 \\cdot (i + 1) - 1} = \\frac{1}{2 \\cdot i + 1}$\n",
    "  * if `i` is an odd number then make `x` negative\n",
    "  * add `x` to `acc`\n",
    "  * increment `i`\n",
    "* print `4 * acc` on exit the loop\n",
    "\n",
    "Hints:\n",
    "  * Remember about floats and integers in divisions (convert argument(s) to float)\n",
    "  * Use modulo `%` operator to check for odd or even number\n",
    "  * Be careful not to make an infinite loop. If you notice that your notebook became unresponsive, interrupt or restart the kernel.\n",
    "  \n",
    "Solution is partially given to you. Uncomment commented lines and fill them with your own code.\n",
    "\n",
    "When you are done experiment with different values for `epsilon` (`0.01`, `0.001`, `0.0001` and so on) to get better approximation for PI."
   ]
  },
  {
   "cell_type": "code",
   "execution_count": 21,
   "metadata": {},
   "outputs": [
    {
     "name": "stdout",
     "output_type": "stream",
     "text": [
      "0\n"
     ]
    }
   ],
   "source": [
    "acc = 0\n",
    "i = 0\n",
    "x = 1\n",
    "epsilon = 0.001\n",
    "\n",
    "while abs(x) > epsilon:\n",
    "    # x = ...\n",
    "    # if i ...:\n",
    "    #    x = ...\n",
    "\n",
    "    acc += x\n",
    "    i += 1\n",
    "    \n",
    "print acc * 4"
   ]
  },
  {
   "attachments": {
    "pi-converge.png": {
     "image/png": "[encoded data removed]"
    }
   },
   "cell_type": "markdown",
   "metadata": {},
   "source": [
    "Additional reading: [Google employee calculates pi to record 31 trillion digits](https://www.theverge.com/2019/3/14/18265358/pi-calculation-record-31-trillion-google)\n",
    "\n",
    "For curious:\n",
    "\n",
    "Look how fast Leibniz series converge to $\\pi$:\n",
    "\n",
    "![pi-converge.png](attachment:pi-converge.png)"
   ]
  }
 ],
 "metadata": {
  "kernelspec": {
   "display_name": "Python 2",
   "language": "python",
   "name": "python2"
  },
  "language_info": {
   "codemirror_mode": {
    "name": "ipython",
    "version": 2
   },
   "file_extension": ".py",
   "mimetype": "text/x-python",
   "name": "python",
   "nbconvert_exporter": "python",
   "pygments_lexer": "ipython2",
   "version": "2.7.16"
  },
  "toc": {
   "base_numbering": 1,
   "nav_menu": {},
   "number_sections": true,
   "sideBar": true,
   "skip_h1_title": true,
   "title_cell": "Table of Contents",
   "title_sidebar": "Contents",
   "toc_cell": false,
   "toc_position": {},
   "toc_section_display": true,
   "toc_window_display": true
  },
  "varInspector": {
   "cols": {
    "lenName": 16,
    "lenType": 16,
    "lenVar": 40
   },
   "kernels_config": {
    "python": {
     "delete_cmd_postfix": "",
     "delete_cmd_prefix": "del ",
     "library": "var_list.py",
     "varRefreshCmd": "print(var_dic_list())"
    },
    "r": {
     "delete_cmd_postfix": ") ",
     "delete_cmd_prefix": "rm(",
     "library": "var_list.r",
     "varRefreshCmd": "cat(var_dic_list()) "
    }
   },
   "types_to_exclude": [
    "module",
    "function",
    "builtin_function_or_method",
    "instance",
    "_Feature"
   ],
   "window_display": false
  }
 },
 "nbformat": 4,
 "nbformat_minor": 2
}
