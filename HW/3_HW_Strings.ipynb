{
 "cells": [
  {
   "cell_type": "markdown",
   "metadata": {},
   "source": [
    "# HW: Strings <a class=\"tocSkip\">\n",
    "\n",
    "Find solutions to **all** problems.\n",
    "\n",
    "## Middle three\n",
    "\n",
    "Given a string of odd length, return a string made of the middle three chars. Your solution must be universal, e.g. work for a different `string` too.\n",
    "\n",
    "Hints:\n",
    " * len(<string>) for string length\n",
    " * use slicing"
   ]
  },
  {
   "cell_type": "code",
   "execution_count": 31,
   "metadata": {},
   "outputs": [],
   "source": [
    "string = \"One doesn't discover new lands without losing sight of the shore.\"\n",
    "\n",
    "# your code here\n",
    "# expected result: 'wit'"
   ]
  },
  {
   "cell_type": "markdown",
   "metadata": {},
   "source": [
    "## Occurrences\n",
    "\n",
    "Find the number of occurrences of a substring in given string ignoring the case. Your solution must work for an arbitrary `string`."
   ]
  },
  {
   "cell_type": "code",
   "execution_count": 32,
   "metadata": {},
   "outputs": [],
   "source": [
    "string = 'There is one rule for the industrialist and that is: Make the best quality of goods possible at the lowest cost possible, paying the highest wage possible.'\n",
    "substring = 'The'\n",
    "\n",
    "# your code here\n",
    "# expected result: 5"
   ]
  },
  {
   "cell_type": "markdown",
   "metadata": {},
   "source": [
    "## Chaining\n",
    "\n",
    "Using [string method](https://docs.python.org/2/library/stdtypes.html#string-methods) chaining convert given string to another string.\n",
    "\n",
    "Example:\n",
    " * Given: `*****===As to diseases make a habit of seventy four things - to help, or at least, to do no harm.===******`\n",
    " * Convert to: `As to diseases make a habit of two things - to help, or at least, to do no harm.`\n",
    " * Your answer: `s.strip('*=').replace('seventy four', 'two')`\n",
    " \n",
    "Rules and hints:\n",
    " * Look thru string methods and find suitable for this task\n",
    " * You are allowed to use chaining string methods only"
   ]
  },
  {
   "cell_type": "code",
   "execution_count": 30,
   "metadata": {},
   "outputs": [],
   "source": [
    "s = 'The Earth Is The Cradle Of The Mind But One Cannot Eternally Live In A CradleTTTTTTT'\n",
    "\n",
    "# Result must be exactly this:\n",
    "# The Earth is the cradle of the mind, but one cannot eternally live in a cradle\n",
    "#\n",
    "# your code here"
   ]
  },
  {
   "cell_type": "markdown",
   "metadata": {},
   "source": [
    "## Formatting\n",
    "\n",
    "Create a template string for calling `string.format()` method to produce required output.\n",
    "\n",
    "Example:\n",
    "  * Input: `s.format(2, 2, 1)`\n",
    "  * Expected output: `2 + 2 = { 100% }`\n",
    "  * Your answer: `'{} + {} = {{ {:.0%} }}'.format(2, 2, 1)`\n",
    "  \n",
    "Hint:\n",
    "  * [Docs](https://docs.python.org/2/library/string.html#formatstrings)"
   ]
  },
  {
   "cell_type": "code",
   "execution_count": 29,
   "metadata": {},
   "outputs": [
    {
     "data": {
      "text/plain": [
       "\"Think of a number between XXX and XXX. Multiply it by XXX and subtract XXX. Now XXX your eyes. It's dark isn't it?\""
      ]
     },
     "execution_count": 29,
     "metadata": {},
     "output_type": "execute_result"
    }
   ],
   "source": [
    "# Replace XXX with correct “replacement fields”\n",
    "template = \"Think of a number between XXX and XXX. Multiply it by XXX and subtract XXX. Now XXX your eyes. It's dark isn't it?\"\n",
    " \n",
    "# Don't change anything in this line\n",
    "template.format(1, 10, 9, action='close')\n",
    "\n",
    "# Expected exact output:\n",
    "# Think of a number between 1 and 10. Multiply it by 9 and subtract 1. Now close your eyes. It's dark isn't it?"
   ]
  }
 ],
 "metadata": {
  "kernelspec": {
   "display_name": "Python 2",
   "language": "python",
   "name": "python2"
  },
  "language_info": {
   "codemirror_mode": {
    "name": "ipython",
    "version": 2
   },
   "file_extension": ".py",
   "mimetype": "text/x-python",
   "name": "python",
   "nbconvert_exporter": "python",
   "pygments_lexer": "ipython2",
   "version": "2.7.16"
  },
  "toc": {
   "base_numbering": 1,
   "nav_menu": {},
   "number_sections": true,
   "sideBar": true,
   "skip_h1_title": false,
   "title_cell": "Table of Contents",
   "title_sidebar": "Contents",
   "toc_cell": false,
   "toc_position": {},
   "toc_section_display": true,
   "toc_window_display": false
  },
  "varInspector": {
   "cols": {
    "lenName": 16,
    "lenType": 16,
    "lenVar": 40
   },
   "kernels_config": {
    "python": {
     "delete_cmd_postfix": "",
     "delete_cmd_prefix": "del ",
     "library": "var_list.py",
     "varRefreshCmd": "print(var_dic_list())"
    },
    "r": {
     "delete_cmd_postfix": ") ",
     "delete_cmd_prefix": "rm(",
     "library": "var_list.r",
     "varRefreshCmd": "cat(var_dic_list()) "
    }
   },
   "types_to_exclude": [
    "module",
    "function",
    "builtin_function_or_method",
    "instance",
    "_Feature"
   ],
   "window_display": false
  }
 },
 "nbformat": 4,
 "nbformat_minor": 2
}
