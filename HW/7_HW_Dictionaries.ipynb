{
 "cells": [
  {
   "cell_type": "markdown",
   "metadata": {
    "slideshow": {
     "slide_type": "slide"
    }
   },
   "source": [
    "# HW: Dictionaries\n",
    "\n",
    "You are free to use for-loops and if-else conditions or list/dict comprehensions."
   ]
  },
  {
   "cell_type": "markdown",
   "metadata": {
    "slideshow": {
     "slide_type": "slide"
    }
   },
   "source": [
    "## Problem: Robotic car II\n",
    "\n",
    "Look in \"HW: Sets and Tuples\", Problem: Robotic car. You're about to find a better solution to the same problem then using if/else blocks. \n",
    "\n",
    "Sometimes programmers use dictionaries to replace if/else blocks, when it comes to comparing static values. It can make you code more concise and easier to read.\n",
    "\n",
    "Your task is to rewrite your previous solution to this problem given:\n",
    " * Make use of dict() to define a direction to vector mapping\n",
    " * Vector is a pair of coordinates. For example (-1, -1) describes 'sw' direction\n",
    " * Use this dict to update coordinates in a loop\n",
    " * Don't use if/else\n",
    " * Start at (0, 0)\n",
    " * Print resulting x and y, result should not differ from that you've received in the previous homework assignment"
   ]
  },
  {
   "cell_type": "code",
   "execution_count": 2,
   "metadata": {},
   "outputs": [],
   "source": [
    "# your solution here"
   ]
  },
  {
   "cell_type": "markdown",
   "metadata": {
    "slideshow": {
     "slide_type": "slide"
    }
   },
   "source": [
    "## Problem: Complex structure\n",
    "\n",
    "First run the next cell."
   ]
  },
  {
   "cell_type": "code",
   "execution_count": 12,
   "metadata": {},
   "outputs": [],
   "source": [
    "with open('hw_dicts.pickle', 'rb') as f:\n",
    "    data = pickle.load(f)"
   ]
  },
  {
   "cell_type": "markdown",
   "metadata": {},
   "source": [
    "Now `data` is a variable containing a complex data structure. It's a typical output of a web API. You might want to take a glance at this data and learn about it's structure."
   ]
  },
  {
   "cell_type": "code",
   "execution_count": 13,
   "metadata": {},
   "outputs": [],
   "source": [
    "# data"
   ]
  },
  {
   "cell_type": "markdown",
   "metadata": {},
   "source": [
    "**Task**: programmatically find and print all friend names."
   ]
  },
  {
   "cell_type": "code",
   "execution_count": null,
   "metadata": {},
   "outputs": [],
   "source": [
    "# your code here"
   ]
  },
  {
   "cell_type": "markdown",
   "metadata": {},
   "source": [
    "## Problem: Group'em\n",
    "\n",
    "Iterate thru `cities` and collect cities to a dictionary with keys corresponding to country name.\n",
    "\n",
    "Expected result (order does not matter):\n",
    "```\n",
    "{'Estonia': ['Tartu', 'Parnu', 'Tallinn'],\n",
    " 'Latvia': ['Riga', 'Jelgava', 'Cesis'],\n",
    " 'Lithuania': ['Vilnius']}\n",
    "```\n",
    "\n",
    "Hints:\n",
    "  * `dict.get(key, value)` returns `value` if appropriate `key` not found"
   ]
  },
  {
   "cell_type": "code",
   "execution_count": 34,
   "metadata": {},
   "outputs": [
    {
     "data": {
      "text/plain": [
       "{}"
      ]
     },
     "execution_count": 34,
     "metadata": {},
     "output_type": "execute_result"
    }
   ],
   "source": [
    "cities = [\n",
    "    ('Latvia', 'Riga'),\n",
    "    ('Latvia', 'Jelgava'),    \n",
    "    ('Latvia', 'Cesis'),\n",
    "    ('Estonia', 'Tartu'),\n",
    "    ('Estonia', 'Parnu'),\n",
    "    ('Estonia', 'Tallinn'),\n",
    "    ('Lithuania', 'Vilnius'),\n",
    "]\n",
    "\n",
    "result = {}\n",
    "for state, city in cities:\n",
    "    # replace `pass` with your code: fill the result dictionary\n",
    "    pass\n",
    "    \n",
    "result"
   ]
  },
  {
   "cell_type": "markdown",
   "metadata": {},
   "source": [
    "## Problem: Join'em\n",
    "\n",
    "Add to solution from the previous problem (or make use of results) and create a new dictionary:\n",
    "  * Key is the country name\n",
    "  * Value is a dictionary with keys:\n",
    "    * cities (list)\n",
    "    * population (float)\n",
    "\n",
    "Expected result (order not significant):\n",
    "```\n",
    "{'Estonia': {'cities': ['Tartu', 'Parnu', 'Tallinn'], 'population': 1.31},\n",
    " 'Latvia': {'cities': ['Riga', 'Jelgava', 'Cesis'], 'population': 1.95},\n",
    " 'Lithuania': {'cities': ['Vilnius'], 'population': 2.84}}\n",
    "```\n",
    "\n",
    "Hints:\n",
    "  * Use `dict.items()` (preferred) or `dict.keys()` to iterate the dictionary"
   ]
  },
  {
   "cell_type": "code",
   "execution_count": 40,
   "metadata": {},
   "outputs": [
    {
     "data": {
      "text/plain": [
       "{}"
      ]
     },
     "execution_count": 40,
     "metadata": {},
     "output_type": "execute_result"
    }
   ],
   "source": [
    "populations = {\n",
    "    'Latvia': 1.95,\n",
    "    'Estonia': 1.31,\n",
    "    'Lithuania': 2.84\n",
    "}\n",
    "\n",
    "result = {}\n",
    "\n",
    "# you code that modifies the result dictionary here\n",
    "\n",
    "result"
   ]
  }
 ],
 "metadata": {
  "celltoolbar": "Slideshow",
  "kernelspec": {
   "display_name": "Python 2",
   "language": "python",
   "name": "python2"
  },
  "language_info": {
   "codemirror_mode": {
    "name": "ipython",
    "version": 2
   },
   "file_extension": ".py",
   "mimetype": "text/x-python",
   "name": "python",
   "nbconvert_exporter": "python",
   "pygments_lexer": "ipython2",
   "version": "2.7.16"
  },
  "toc": {
   "base_numbering": 1,
   "nav_menu": {},
   "number_sections": true,
   "sideBar": true,
   "skip_h1_title": true,
   "title_cell": "Table of Contents",
   "title_sidebar": "Contents",
   "toc_cell": false,
   "toc_position": {},
   "toc_section_display": true,
   "toc_window_display": true
  },
  "varInspector": {
   "cols": {
    "lenName": 16,
    "lenType": 16,
    "lenVar": 40
   },
   "kernels_config": {
    "python": {
     "delete_cmd_postfix": "",
     "delete_cmd_prefix": "del ",
     "library": "var_list.py",
     "varRefreshCmd": "print(var_dic_list())"
    },
    "r": {
     "delete_cmd_postfix": ") ",
     "delete_cmd_prefix": "rm(",
     "library": "var_list.r",
     "varRefreshCmd": "cat(var_dic_list()) "
    }
   },
   "types_to_exclude": [
    "module",
    "function",
    "builtin_function_or_method",
    "instance",
    "_Feature"
   ],
   "window_display": false
  }
 },
 "nbformat": 4,
 "nbformat_minor": 2
}
