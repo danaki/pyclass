{
 "cells": [
  {
   "cell_type": "markdown",
   "metadata": {},
   "source": [
    "# HW: Functions\n",
    "## Problem: Prod except \n",
    "\n",
    "Implement a function `prod_except(list) -> list`. The function should accept any list of numbers and return another list of numbers with the same number of elements.\n",
    "\n",
    "Elements of the resulting vector should be produced as follows. The first element of the result should equal to the product of all the elements of the original vector except for the first one, the second element of the result should equal to the product of all the elements of the original vector except for the second one etc. etc."
   ]
  },
  {
   "cell_type": "code",
   "execution_count": null,
   "metadata": {},
   "outputs": [],
   "source": [
    "def prod_except(*items):\n",
    "    return []\n",
    "\n",
    "# Uncomment and test your solution:\n",
    "\n",
    "## 24 = 2 * 3 * 4\n",
    "## 12 = 1 * 3 * 4\n",
    "##  8 = 1 * 2 * 4\n",
    "##  6 = 1 * 2 * 3\n",
    "# assert prod_except(1, 2, 3, 4) == [24, 12, 8, 6]\n",
    "\n",
    "# assert prod_except(-0.5, 100, 20) == [2000, -10, -50]\n",
    "# assert prod_except() == []"
   ]
  },
  {
   "cell_type": "markdown",
   "metadata": {},
   "source": [
    "## Problem: DIY Fax machine\n",
    "\n",
    "Implement encode() and decode() functions for [modified Huffman encoding](https://en.wikipedia.org/wiki/Modified_Huffman_coding)\n",
    "\n",
    "Hint:\n",
    "  * Decide comparing against previous character in the row\n",
    "  * `itertools.groupby()` for impatient"
   ]
  },
  {
   "cell_type": "code",
   "execution_count": null,
   "metadata": {},
   "outputs": [],
   "source": [
    "# accept list of pairs (count, symbol) -> string\n",
    "def encode(items):\n",
    "    return \"\"\n",
    "\n",
    "# accept string, return list of pairs\n",
    "def decode(string):\n",
    "    return []\n",
    "\n",
    "assert encode([(12, 'W'), (1, 'B'), (12, 'W'), (3, 'B'), (4, 'W')]) == 'WWWWWWWWWWWWBWWWWWWWWWWWWBBBWWWW'\n",
    "assert decode('BBBWWWWWBWWWBBBBBWWWWWWW') == [(3, 'B'), (5, 'W'), (1, 'B'), (3, 'W'), (5, 'B'), (7, 'W')]"
   ]
  },
  {
   "cell_type": "markdown",
   "metadata": {},
   "source": [
    "## Problem: Resume\n",
    "\n",
    "Create a function called programmer_resume() that outputs a nicely formatted CV page:\n",
    " * First argument 'name' is required\n",
    " * \\*args contains records about work experience\n",
    " * \\*\\*kwargs contains programming language knowledge levels\n",
    " \n",
    "Example:\n",
    "\n",
    "```\n",
    "programmer_resume('Linus Torvalds',\n",
    "    '1994 Linux kernel', '1997 Transmeta Corp', '2003 OSDL',\n",
    "    c='professional', python='professional', php='poor')\n",
    "```\n",
    "\n",
    "Outputs:\n",
    "\n",
    "```\n",
    "Name: Linus Torvalds\n",
    "=========================\n",
    "\n",
    "* 1994 Linux kernel\n",
    "* 1997 Transmeta Corp\n",
    "* 2003 OSDL\n",
    "\n",
    "Languages:\n",
    "-------------------------\n",
    "C ........ professional\n",
    "Python ... professional\n",
    "Php ...... poor\n",
    "```\n",
    "\n",
    "Hint:\n",
    " * ```'=' * 5``` produces ```'====='```\n",
    " * ```'london'.capitalize()``` produces ```'London'```\n",
    " * ```'Cake'.ljust(21, '*')``` produces 21 symbols long string ```'Cake*****************'```\n"
   ]
  },
  {
   "cell_type": "code",
   "execution_count": null,
   "metadata": {},
   "outputs": [],
   "source": [
    "# Uncomment and implement programmer_resume()\n",
    "#\n",
    "#def programmer_resume(name...):\n",
    "#    pass\n",
    "\n",
    "# Uncomment to see programmer_resume() output\n",
    "#programmer_resume(\n",
    "#    'Linus Torvalds',\n",
    "#    '1994 Linux kernel', '1997 Transmeta Corp', '2003 OSDL',\n",
    "#    c='professional', python='professional', php='poor')"
   ]
  },
  {
   "cell_type": "markdown",
   "metadata": {},
   "source": [
    "## Problem: Recursive sum\n",
    "\n",
    "Recursion is dead on perfect for solving problems requiring recursion.\n",
    "Instructions:\n",
    "  * Create function `recursive_sum()` accepting a list as an argument and returning sum of all elemenents of all nested lists.\n",
    "  * Loop thru that list and check each element:\n",
    "    * If it's a list -- call `recursive_sum()` again passing this nested list, thus entering deeper level of nesting.\n",
    "    * If it's not a list -- add to current sum\n",
    "    * On loop exit return the current sum\n",
    "    * Result returned by `recursive_sum()` is the sum of deeper elements -- add it to current level sum.\n",
    "  * **You are not allowed to modify any variable outside function body**: data must be passed in arguments and returned as values\n",
    "\n",
    "Hint:\n",
    "  * `isinstance(variable, type) -> bool` to check if __variable__ is of __type__\n",
    "  * Test with a simplier structure first: `data = [1, [1]]`\n",
    "  \n",
    "Can you make a one-liner version of `recursive_sum()` using list comprehensions?"
   ]
  },
  {
   "cell_type": "code",
   "execution_count": 11,
   "metadata": {},
   "outputs": [
    {
     "data": {
      "text/plain": [
       "0"
      ]
     },
     "execution_count": 11,
     "metadata": {},
     "output_type": "execute_result"
    }
   ],
   "source": [
    "# expected result: 66\n",
    "data = [1, 2, [1, 2, 3, [1, [[8, 8, 8, [1], [2, 2], [3, 3, 3], [[[4, 4, 4, []]]]], 4, 2]]]]\n",
    "\n",
    "def recursive_sum(d):\n",
    "    cur_sum = 0\n",
    "    for i in d:\n",
    "        # replace pass with your solution\n",
    "        pass\n",
    "\n",
    "    return cur_sum\n",
    "\n",
    "recursive_sum(data)\n",
    "    "
   ]
  }
 ],
 "metadata": {
  "kernelspec": {
   "display_name": "Python 2",
   "language": "python",
   "name": "python2"
  },
  "language_info": {
   "codemirror_mode": {
    "name": "ipython",
    "version": 2
   },
   "file_extension": ".py",
   "mimetype": "text/x-python",
   "name": "python",
   "nbconvert_exporter": "python",
   "pygments_lexer": "ipython2",
   "version": "2.7.16"
  },
  "toc": {
   "base_numbering": 1,
   "nav_menu": {},
   "number_sections": true,
   "sideBar": true,
   "skip_h1_title": true,
   "title_cell": "Table of Contents",
   "title_sidebar": "Contents",
   "toc_cell": false,
   "toc_position": {},
   "toc_section_display": true,
   "toc_window_display": true
  },
  "varInspector": {
   "cols": {
    "lenName": 16,
    "lenType": 16,
    "lenVar": 40
   },
   "kernels_config": {
    "python": {
     "delete_cmd_postfix": "",
     "delete_cmd_prefix": "del ",
     "library": "var_list.py",
     "varRefreshCmd": "print(var_dic_list())"
    },
    "r": {
     "delete_cmd_postfix": ") ",
     "delete_cmd_prefix": "rm(",
     "library": "var_list.r",
     "varRefreshCmd": "cat(var_dic_list()) "
    }
   },
   "types_to_exclude": [
    "module",
    "function",
    "builtin_function_or_method",
    "instance",
    "_Feature"
   ],
   "window_display": false
  }
 },
 "nbformat": 4,
 "nbformat_minor": 2
}
