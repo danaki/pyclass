{
 "cells": [
  {
   "cell_type": "markdown",
   "metadata": {},
   "source": [
    "# Homework 3\n",
    "\n",
    "Find a solution to at least one of provided problems.\n",
    "\n",
    "## Problem: Prod except \n",
    "\n",
    "Implement a function `prod_except(list) -> list`. The function should accept any list of numbers and return another list of numbers with the same number of elements.\n",
    "\n",
    "Elements of the resulting vector should be produced as follows. The first element of the result should equal to the product of all the elements of the original vector except for the first one, the second element of the result should equal to the product of all the elements of the original vector except for the second one etc. etc."
   ]
  },
  {
   "cell_type": "code",
   "execution_count": null,
   "metadata": {},
   "outputs": [],
   "source": [
    "def prod_except(*items):\n",
    "    return []\n",
    "\n",
    "# Uncomment and test your solution:\n",
    "\n",
    "## 24 = 2 * 3 * 4\n",
    "## 12 = 1 * 3 * 4\n",
    "##  8 = 1 * 2 * 4\n",
    "##  6 = 1 * 2 * 3\n",
    "# assert prod_except(1, 2, 3, 4) == [24, 12, 8, 6]\n",
    "\n",
    "# assert prod_except(-0.5, 100, 20) == [2000, -10, -50]\n",
    "# assert prod_except() == []"
   ]
  },
  {
   "cell_type": "markdown",
   "metadata": {},
   "source": [
    "## Problem: DIY Fax machine\n",
    "\n",
    "Implement encode() and decode() functions for [modified Huffman encoding](https://en.wikipedia.org/wiki/Modified_Huffman_coding)"
   ]
  },
  {
   "cell_type": "code",
   "execution_count": null,
   "metadata": {},
   "outputs": [],
   "source": [
    "# accept list of pairs (count, symbol) -> string\n",
    "def encode(items):\n",
    "    return \"\"\n",
    "\n",
    "# accept string, return list of pairs\n",
    "def decode(string):\n",
    "    return []\n",
    "\n",
    "assert encode([(12, 'W'), (1, 'B'), (12, 'W'), (3, 'B'), (4, 'W')]) == 'WWWWWWWWWWWWBWWWWWWWWWWWWBBBWWWW'\n",
    "assert decode('BBBWWWWWBWWWBBBBBWWWWWWW') == [(3, 'B'), (5, 'W'), (1, 'B'), (3, 'W'), (5, 'B'), (7, 'W')]"
   ]
  },
  {
   "cell_type": "markdown",
   "metadata": {},
   "source": [
    "## Problem: Brackets\n",
    "\n",
    "Given a string made of brackets \"(\", \")\", \"{\", \"}\", \"[\", \"]\", make sure opening and closing brackets are matched and nested correctly. See asserts below for example.\n",
    "\n",
    "Note: using recursion gives more beautiful solution."
   ]
  },
  {
   "cell_type": "code",
   "execution_count": null,
   "metadata": {},
   "outputs": [],
   "source": [
    "# replace \"return False\" with working solution\n",
    "def match(string):\n",
    "    return False\n",
    "\n",
    "assert match(\"[]\")\n",
    "assert not match(\"[[\")\n",
    "assert match(\"{[]}\")\n",
    "assert match(\"{[]()}\")\n",
    "assert not match(\"{[)][]}\")\n",
    "assert match(\"([{}({}[])])\")"
   ]
  }
 ],
 "metadata": {
  "kernelspec": {
   "display_name": "Python 2",
   "language": "python",
   "name": "python2"
  },
  "language_info": {
   "codemirror_mode": {
    "name": "ipython",
    "version": 2
   },
   "file_extension": ".py",
   "mimetype": "text/x-python",
   "name": "python",
   "nbconvert_exporter": "python",
   "pygments_lexer": "ipython2",
   "version": "2.7.16"
  },
  "toc": {
   "base_numbering": 1,
   "nav_menu": {},
   "number_sections": true,
   "sideBar": true,
   "skip_h1_title": true,
   "title_cell": "Table of Contents",
   "title_sidebar": "Contents",
   "toc_cell": false,
   "toc_position": {},
   "toc_section_display": true,
   "toc_window_display": true
  },
  "varInspector": {
   "cols": {
    "lenName": 16,
    "lenType": 16,
    "lenVar": 40
   },
   "kernels_config": {
    "python": {
     "delete_cmd_postfix": "",
     "delete_cmd_prefix": "del ",
     "library": "var_list.py",
     "varRefreshCmd": "print(var_dic_list())"
    },
    "r": {
     "delete_cmd_postfix": ") ",
     "delete_cmd_prefix": "rm(",
     "library": "var_list.r",
     "varRefreshCmd": "cat(var_dic_list()) "
    }
   },
   "types_to_exclude": [
    "module",
    "function",
    "builtin_function_or_method",
    "instance",
    "_Feature"
   ],
   "window_display": false
  }
 },
 "nbformat": 4,
 "nbformat_minor": 2
}
