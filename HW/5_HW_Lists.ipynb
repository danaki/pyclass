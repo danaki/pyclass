{
 "cells": [
  {
   "cell_type": "markdown",
   "metadata": {},
   "source": [
    "# HW: Lists\n",
    "## Divide and conquer\n",
    "\n",
    "Given input string of combination of regular and capitalized words, put them into two separate lists.\n",
    "\n",
    "Example:\n",
    " * Given: `\"London is the capital of Great Britain\"`\n",
    " * Result:\n",
    "   * List 1: `[\"London\", \"Great\", \"Britain\"]`\n",
    "   * List 2: `[\"is\", \"the\", \"capital\", \"of\"]`\n",
    "   \n",
    "Order of elements does not matter. You can leave punctuation untouched because it has no effect on result.\n",
    "\n",
    "Hits:\n",
    "  * use `str.split()`\n",
    "  * use `for` loop to iterate the list"
   ]
  },
  {
   "cell_type": "code",
   "execution_count": 5,
   "metadata": {},
   "outputs": [],
   "source": [
    "given = \"If the radiance of a thousand suns were to burst at once into the sky, that would be like the splendor of the Mighty One... I am become Death, the Shatterer of Worlds.\"\n",
    "capitalized_words = []\n",
    "regular_words = []\n",
    "\n",
    "# your solution here"
   ]
  },
  {
   "cell_type": "markdown",
   "metadata": {},
   "source": [
    "## Mean, Median, Mode and Range\n",
    "\n",
    "Given a list of salaries, compute mean, median, mode and salary range.\n",
    "\n",
    "Hints:\n",
    "  * No hints, conduct your own research please"
   ]
  },
  {
   "cell_type": "code",
   "execution_count": 1,
   "metadata": {},
   "outputs": [],
   "source": [
    "salaries = [1000, 1250, 1000, 2400, 3000, 1115, 905, 1000, 999, 905, 3050, 1000, 815, 678, 1010]\n",
    "\n",
    "# your code here"
   ]
  },
  {
   "cell_type": "markdown",
   "metadata": {},
   "source": [
    "## Loop to list comprehension\n",
    "\n",
    "Convert code below to a list comprehension."
   ]
  },
  {
   "cell_type": "code",
   "execution_count": 30,
   "metadata": {},
   "outputs": [
    {
     "data": {
      "text/plain": [
       "\"alice: have I GONE MAD? the mad hatter: I'M AFRAID SO, BUT LET ME TELL YOU SOMETHING, THE BEST PEOPLE USUALLY ARE.\""
      ]
     },
     "execution_count": 30,
     "metadata": {},
     "output_type": "execute_result"
    }
   ],
   "source": [
    "quote = \"Alice: Have i gone mad? The Mad Hatter: I'm afraid so, but let me tell you something, the best people usually are.\"\n",
    "\n",
    "result = []\n",
    "for word in quote.split():\n",
    "    if word.istitle():\n",
    "        result.append(word.lower())\n",
    "    else:\n",
    "        result.append(word.upper())\n",
    "        \n",
    "' '.join(result)"
   ]
  },
  {
   "cell_type": "markdown",
   "metadata": {},
   "source": [
    "Hints:\n",
    "  * Use \"ternary if\""
   ]
  },
  {
   "cell_type": "code",
   "execution_count": 34,
   "metadata": {},
   "outputs": [
    {
     "data": {
      "text/plain": [
       "\"alice: have I GONE MAD? the mad hatter: I'M AFRAID SO, BUT LET ME TELL YOU SOMETHING, THE BEST PEOPLE USUALLY ARE.\""
      ]
     },
     "execution_count": 34,
     "metadata": {},
     "output_type": "execute_result"
    }
   ],
   "source": [
    "quote = \"Alice: Have i gone mad? The Mad Hatter: I'm afraid so, but let me tell you something, the best people usually are.\"\n",
    "\n",
    "# result = [your list comprehension inside these brackets]\n",
    "\n",
    "' '.join(result)"
   ]
  },
  {
   "cell_type": "markdown",
   "metadata": {},
   "source": [
    "## Flatten list\n",
    "\n",
    "Given list of lists:\n",
    "```\n",
    "[['Winnie-the-Pooh', 'Eeyore', 'Piglet', 'Kanga'], ['Karlsson', 'Lillebror'], ['Moomintroll', 'Snufkin', 'Hemulen'], []]\n",
    "```\n",
    "\n",
    "Result is one-dimensional list:\n",
    "```\n",
    "['Winnie-the-Pooh', 'Eeyore', 'Piglet', 'Kanga', 'Karlsson', 'Lillebror', 'Moomintroll', 'Snufkin', 'Hemulen']\n",
    "```\n",
    "\n",
    "Please keep the order of elements.\n",
    "\n",
    "\n",
    "While it's no required, but you can chose to use list comprehensions for this task."
   ]
  },
  {
   "cell_type": "code",
   "execution_count": 8,
   "metadata": {},
   "outputs": [],
   "source": [
    "t = [\n",
    "    ['Winnie-the-Pooh', 'Eeyore', 'Piglet', 'Kanga'],\n",
    "    ['Karlsson', 'Lillebror'],\n",
    "    ['Moomintroll', 'Snufkin', 'Hemulen'],\n",
    "    []\n",
    "]\n",
    "\n",
    "# your code here"
   ]
  },
  {
   "cell_type": "markdown",
   "metadata": {},
   "source": [
    "## Numeric sequence\n",
    "\n",
    "Generate this sequence of numbers for any given `n`:\n",
    "\n",
    "```\n",
    "[1, 2, 2, 3, 3, 3, 4, 4, 4, 4, ... 10, 10, 10, 10, 10, 10, 10, 10, 10, 10, 10]\n",
    "```"
   ]
  },
  {
   "cell_type": "code",
   "execution_count": 9,
   "metadata": {},
   "outputs": [],
   "source": [
    "n = 10\n",
    "# your code here"
   ]
  },
  {
   "cell_type": "markdown",
   "metadata": {},
   "source": [
    "## Permutations\n",
    "\n",
    "Given two lists of names and surnames, create a list of tuples with exhaustive list of name-surname pairs.\n",
    "\n",
    "Example:\n",
    "  * Given:\n",
    "    * Names: `['Engelbert', 'Arnold', 'George']`\n",
    "    * Surnames: `['Humperdinck', 'Dorsey']`\n",
    "  * Result:\n",
    "  \n",
    "```\n",
    "[('Engelbert', 'Humperdinck'),\n",
    " ('Engelbert', 'Dorsey'),\n",
    " ('Arnold', 'Humperdinck'),\n",
    " ('Arnold', 'Dorsey'),\n",
    " ('George', 'Humperdinck'),\n",
    " ('George', 'Dorsey')]\n",
    "```\n",
    " \n",
    "Try to use list comprehensions for this task."
   ]
  },
  {
   "cell_type": "code",
   "execution_count": 37,
   "metadata": {},
   "outputs": [],
   "source": [
    "names = ['Michael', 'La Toya', 'Randy', 'Janet', 'Tito']\n",
    "surnames = ['Jackson', 'Johnson', 'Jobs']\n",
    "\n",
    "# your code here"
   ]
  },
  {
   "cell_type": "markdown",
   "metadata": {},
   "source": [
    "## Dot product\n",
    "\n",
    "Compute the **dot product** $a \\cdot b$ of two vectors.\n",
    "\n",
    "[Examples](https://mathinsight.org/dot_product_examples)\n",
    "\n",
    "You are not allowed to use any external modules here.\n",
    "\n",
    "Hints:\n",
    "  * You might want to use `zip()` or `enumerate()` and a list comprehension"
   ]
  },
  {
   "cell_type": "code",
   "execution_count": 2,
   "metadata": {},
   "outputs": [],
   "source": [
    "a = [1, 2, 3]\n",
    "b = [4, -5, 6]\n",
    "\n",
    "# and the dot product is..."
   ]
  }
 ],
 "metadata": {
  "kernelspec": {
   "display_name": "Python 2",
   "language": "python",
   "name": "python2"
  },
  "language_info": {
   "codemirror_mode": {
    "name": "ipython",
    "version": 2
   },
   "file_extension": ".py",
   "mimetype": "text/x-python",
   "name": "python",
   "nbconvert_exporter": "python",
   "pygments_lexer": "ipython2",
   "version": "2.7.16"
  },
  "toc": {
   "base_numbering": 1,
   "nav_menu": {},
   "number_sections": true,
   "sideBar": true,
   "skip_h1_title": true,
   "title_cell": "Table of Contents",
   "title_sidebar": "Contents",
   "toc_cell": false,
   "toc_position": {},
   "toc_section_display": true,
   "toc_window_display": true
  },
  "varInspector": {
   "cols": {
    "lenName": 16,
    "lenType": 16,
    "lenVar": 40
   },
   "kernels_config": {
    "python": {
     "delete_cmd_postfix": "",
     "delete_cmd_prefix": "del ",
     "library": "var_list.py",
     "varRefreshCmd": "print(var_dic_list())"
    },
    "r": {
     "delete_cmd_postfix": ") ",
     "delete_cmd_prefix": "rm(",
     "library": "var_list.r",
     "varRefreshCmd": "cat(var_dic_list()) "
    }
   },
   "types_to_exclude": [
    "module",
    "function",
    "builtin_function_or_method",
    "instance",
    "_Feature"
   ],
   "window_display": false
  }
 },
 "nbformat": 4,
 "nbformat_minor": 2
}
