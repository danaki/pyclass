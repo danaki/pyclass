{
 "cells": [
  {
   "cell_type": "markdown",
   "metadata": {
    "slideshow": {
     "slide_type": "slide"
    }
   },
   "source": [
    "# Control structures"
   ]
  },
  {
   "cell_type": "markdown",
   "metadata": {},
   "source": [
    "Python programs get structured through indentation, i.e. code blocks are defined by their indentation. Example:    "
   ]
  },
  {
   "cell_type": "code",
   "execution_count": null,
   "metadata": {},
   "outputs": [],
   "source": [
    "x = 2\n",
    "if x > 1:\n",
    "    print \"Good!\"\n",
    "    x = 0"
   ]
  },
  {
   "cell_type": "markdown",
   "metadata": {
    "slideshow": {
     "slide_type": "slide"
    }
   },
   "source": [
    "Other languages use special syntax for blocks:\n",
    "\n",
    "```\n",
    "x = 2;\n",
    "if (x > 1) {\n",
    "    printf(\"Good!\");\n",
    "    x = 0;\n",
    "}\n",
    "```\n",
    "\n",
    "or\n",
    "\n",
    "```\n",
    "x := 2;\n",
    "if x > 1 then begin\n",
    "    writeln(\"Good!\");\n",
    "    x := 0;\n",
    "end\n",
    "```"
   ]
  },
  {
   "cell_type": "markdown",
   "metadata": {
    "slideshow": {
     "slide_type": "slide"
    }
   },
   "source": [
    "## PEP 8 -- Style Guide for Python Code\n",
    "\n",
    "[PEP 8](https://www.python.org/dev/peps/pep-0008/)"
   ]
  },
  {
   "cell_type": "markdown",
   "metadata": {
    "slideshow": {
     "slide_type": "slide"
    }
   },
   "source": [
    "### PEP 8: Naming conventions\n",
    "\n",
    "Descriptive: Naming Styles\n",
    "\n",
    "There are a lot of different naming styles. It helps to be able to recognize what naming style is being used, independently from what they are used for.\n",
    "\n",
    "The following naming styles are commonly distinguished:\n",
    "\n",
    "* b (single lowercase letter)\n",
    "* B (single uppercase letter)\n",
    "* lowercase\n",
    "* lower_case_with_underscores\n",
    "* UPPERCASE\n",
    "* UPPER_CASE_WITH_UNDERSCORES\n",
    "* CapitalizedWords (or CapWords, or CamelCase -- so named because of the bumpy look of its letters). This is also sometimes known as StudlyCaps.\n",
    "\n",
    "Note: When using abbreviations in CapWords, capitalize all the letters of the abbreviation. Thus HTTPServerError is better than HttpServerError.\n",
    "\n",
    "* mixedCase (differs from CapitalizedWords by initial lowercase character!)\n",
    "* Capitalized_Words_With_Underscores (ugly!)"
   ]
  },
  {
   "cell_type": "markdown",
   "metadata": {
    "slideshow": {
     "slide_type": "slide"
    }
   },
   "source": [
    "[Myths about Indentation](http://www.secnetix.de/olli/Python/block_indentation.hawk)\n",
    "\n",
    "* Spaces do really matter only inside blocks. You can format everything else as you wish.\n",
    "* You can mix tabs and spaces (but please don't)\n",
    "* Python doesn't care how many spaces you use, it cares only if spaces are not aligned inside a block. Example:"
   ]
  },
  {
   "cell_type": "code",
   "execution_count": null,
   "metadata": {},
   "outputs": [],
   "source": [
    "if True:\n",
    "    print \"***\"\n",
    "    print dict(\n",
    "        ok='Good boy!',\n",
    "  not_ok='This is stupid'\n",
    "    )"
   ]
  },
  {
   "cell_type": "markdown",
   "metadata": {
    "slideshow": {
     "slide_type": "slide"
    }
   },
   "source": [
    "![](http://i.imgur.com/uglqmy5.gif)\n"
   ]
  },
  {
   "cell_type": "markdown",
   "metadata": {
    "slideshow": {
     "slide_type": "slide"
    }
   },
   "source": [
    "### PEP 8: Indentation\n",
    "* Use 4 spaces per indentation level.\n",
    "* Spaces are the preferred indentation method.\n",
    "* Python 3 disallows mixing the use of tabs and spaces for indentation."
   ]
  },
  {
   "cell_type": "markdown",
   "metadata": {
    "slideshow": {
     "slide_type": "slide"
    }
   },
   "source": [
    "You can do this in Python:"
   ]
  },
  {
   "cell_type": "code",
   "execution_count": null,
   "metadata": {},
   "outputs": [],
   "source": [
    "if True: print \"Good\""
   ]
  },
  {
   "cell_type": "markdown",
   "metadata": {},
   "source": [
    "This hurts me much:"
   ]
  },
  {
   "cell_type": "code",
   "execution_count": null,
   "metadata": {},
   "outputs": [],
   "source": [
    "if True:\n",
    "    print \"Very\"; print \"Very\"; print \"Bad\""
   ]
  },
  {
   "cell_type": "markdown",
   "metadata": {
    "slideshow": {
     "slide_type": "slide"
    }
   },
   "source": [
    "### PEP 8: Compound statements\n",
    "\n",
    "Compound statements (multiple statements on the same line) are generally discouraged.\n",
    "\n",
    "Yes:\n",
    "\n",
    "```\n",
    "if foo == 'blah':\n",
    "    do_blah_thing()\n",
    "do_one()\n",
    "do_two()\n",
    "do_three()\n",
    "```\n",
    "\n",
    "Rather not:\n",
    "\n",
    "```\n",
    "if foo == 'blah': do_blah_thing()\n",
    "do_one(); do_two(); do_three()\n",
    "```"
   ]
  },
  {
   "cell_type": "markdown",
   "metadata": {
    "slideshow": {
     "slide_type": "slide"
    }
   },
   "source": [
    "Sometimes you want it on multiple lines, use \"\\\" in the end of the line:"
   ]
  },
  {
   "cell_type": "code",
   "execution_count": null,
   "metadata": {},
   "outputs": [],
   "source": [
    "x = y = z = True\n",
    "if x is True \\\n",
    "       and y is True \\\n",
    "       and z is True:\n",
    "   print \"True true true\""
   ]
  },
  {
   "cell_type": "markdown",
   "metadata": {
    "slideshow": {
     "slide_type": "slide"
    }
   },
   "source": [
    "If you have nothing to say yet, use **pass**:"
   ]
  },
  {
   "cell_type": "code",
   "execution_count": null,
   "metadata": {},
   "outputs": [],
   "source": [
    "if True:\n",
    "    pass"
   ]
  },
  {
   "cell_type": "markdown",
   "metadata": {
    "slideshow": {
     "slide_type": "slide"
    }
   },
   "source": [
    "## if-elif-else\n",
    "\n",
    "```\n",
    "if <conditional>:\n",
    "    [block if true]\n",
    "else:\n",
    "    [block if false]\n",
    "```\n",
    "\n",
    "Bad example (to make sure \"else\" also works):"
   ]
  },
  {
   "cell_type": "code",
   "execution_count": null,
   "metadata": {},
   "outputs": [],
   "source": [
    "dogs = 100\n",
    "\n",
    "if dogs == 101:\n",
    "    print(\"dalmatians\")\n",
    "else:\n",
    "    print(\"Not dalmatians\")    "
   ]
  },
  {
   "cell_type": "markdown",
   "metadata": {
    "slideshow": {
     "slide_type": "slide"
    }
   },
   "source": [
    "Sometimes you have to check several conditions in a row (or emulate switch/case):"
   ]
  },
  {
   "cell_type": "code",
   "execution_count": null,
   "metadata": {},
   "outputs": [],
   "source": [
    "movie = 'Terminator'\n",
    "\n",
    "if movie == 'Alien':\n",
    "    director = 'Ridley Scott'\n",
    "elif movie == 'Twin Peaks':\n",
    "    director = 'David Lynch'\n",
    "elif movie == 'Terminator':\n",
    "    director = 'James Cameron'\n",
    "else:\n",
    "    director = 'I GIVE UP'\n",
    "\n",
    "director"
   ]
  },
  {
   "cell_type": "markdown",
   "metadata": {
    "slideshow": {
     "slide_type": "slide"
    }
   },
   "source": [
    "## for loop\n",
    "\n",
    "```\n",
    "for <value> in <iterable>:\n",
    "    [block]\n",
    "```"
   ]
  },
  {
   "cell_type": "code",
   "execution_count": null,
   "metadata": {},
   "outputs": [],
   "source": [
    "for i in range(5):\n",
    "    print i"
   ]
  },
  {
   "cell_type": "markdown",
   "metadata": {
    "slideshow": {
     "slide_type": "slide"
    }
   },
   "source": [
    "> Rather than being a function, range is actually an immutable sequence type\n",
    "\n",
    "* range(stop)\n",
    "* range(start, stop[, step])"
   ]
  },
  {
   "cell_type": "code",
   "execution_count": null,
   "metadata": {
    "slideshow": {
     "slide_type": "slide"
    }
   },
   "outputs": [],
   "source": [
    "for i in range(3, 8):\n",
    "    print i"
   ]
  },
  {
   "cell_type": "code",
   "execution_count": null,
   "metadata": {
    "slideshow": {
     "slide_type": "slide"
    }
   },
   "outputs": [],
   "source": [
    "for i in range(20, 10, -2):\n",
    "    print i"
   ]
  },
  {
   "cell_type": "markdown",
   "metadata": {
    "slideshow": {
     "slide_type": "slide"
    }
   },
   "source": [
    "To break the loop earlier, use \"break\" from the body:"
   ]
  },
  {
   "cell_type": "code",
   "execution_count": null,
   "metadata": {},
   "outputs": [],
   "source": [
    "for i in range(-5, 10):  \n",
    "    if i == 0:\n",
    "        break\n",
    "    print i        "
   ]
  },
  {
   "cell_type": "markdown",
   "metadata": {
    "slideshow": {
     "slide_type": "slide"
    }
   },
   "source": [
    "To continue interation (skip block contents) use \"continue\": "
   ]
  },
  {
   "cell_type": "code",
   "execution_count": null,
   "metadata": {},
   "outputs": [],
   "source": [
    "for i in range(0, 10):\n",
    "    if i % 2:\n",
    "        continue\n",
    "    print i"
   ]
  },
  {
   "cell_type": "markdown",
   "metadata": {
    "slideshow": {
     "slide_type": "slide"
    }
   },
   "source": [
    "Loops can be nested"
   ]
  },
  {
   "cell_type": "code",
   "execution_count": null,
   "metadata": {},
   "outputs": [],
   "source": [
    "for i in range(0, 2):\n",
    "    for j in range(10, 13):\n",
    "        print i, j"
   ]
  },
  {
   "cell_type": "markdown",
   "metadata": {
    "slideshow": {
     "slide_type": "slide"
    }
   },
   "source": [
    "## while loop\n",
    "\n",
    "```\n",
    "while <conditional>:\n",
    "    [block]\n",
    "```\n",
    "\n",
    "Use it when you don't know the exact number of iterations."
   ]
  },
  {
   "cell_type": "code",
   "execution_count": null,
   "metadata": {},
   "outputs": [],
   "source": [
    "i = 5\n",
    "while i > 0:\n",
    "    print i\n",
    "    i -= 1"
   ]
  },
  {
   "cell_type": "markdown",
   "metadata": {
    "slideshow": {
     "slide_type": "slide"
    }
   },
   "source": [
    "Loop control keywords \"break\" and \"continue\" also can be used. Common pattern \"while True\":"
   ]
  },
  {
   "cell_type": "code",
   "execution_count": null,
   "metadata": {},
   "outputs": [],
   "source": [
    "i = 0\n",
    "while True:\n",
    "    i += 1\n",
    "    if i % 2:\n",
    "        continue\n",
    "    if i > 10:\n",
    "        break\n",
    "    print i"
   ]
  },
  {
   "cell_type": "markdown",
   "metadata": {
    "slideshow": {
     "slide_type": "slide"
    }
   },
   "source": [
    "## In class work\n",
    "\n",
    "### Excercise #1: odd numbers\n",
    "\n",
    "Print all odd numbers from interval 3 ... 33. Use `%` to check if a number is odd."
   ]
  },
  {
   "cell_type": "markdown",
   "metadata": {
    "slideshow": {
     "slide_type": "slide"
    }
   },
   "source": [
    "### Excercise #2: sum of numbers from 20 to 40\n",
    "\n",
    "Using for-loop, sum numbers: 20 + 21 + ... + 40"
   ]
  },
  {
   "cell_type": "code",
   "execution_count": null,
   "metadata": {},
   "outputs": [],
   "source": [
    "x = 0\n",
    "\n",
    "for i in range(20):\n",
    "    pass"
   ]
  },
  {
   "cell_type": "markdown",
   "metadata": {
    "slideshow": {
     "slide_type": "slide"
    }
   },
   "source": [
    "### Excercise #3: print all Fibonacci numbers less then 200\n",
    "\n",
    "Using while-loop, Fibonaci numbers is the sequence: 0, 1, 1, 2, 3, 5, 8, 13 ..., e.g. $F_n = F_{n-1} + F_{n-2}$"
   ]
  },
  {
   "cell_type": "code",
   "execution_count": null,
   "metadata": {},
   "outputs": [],
   "source": [
    "f_2 = 0\n",
    "f_1 = 1\n",
    "f = 0\n",
    "\n",
    "while True:\n",
    "    break"
   ]
  },
  {
   "cell_type": "markdown",
   "metadata": {
    "slideshow": {
     "slide_type": "slide"
    }
   },
   "source": [
    "### Excercise #4: print 10x10 triangle\n",
    "\n",
    "```\n",
    "*!!!!!!!!!\n",
    "**!!!!!!!!\n",
    "***!!!!!!!\n",
    "****!!!!!!\n",
    "*****!!!!!\n",
    "******!!!!\n",
    "*******!!!\n",
    "********!!\n",
    "*********!\n",
    "```"
   ]
  },
  {
   "cell_type": "code",
   "execution_count": null,
   "metadata": {},
   "outputs": [],
   "source": [
    "'@' * 5"
   ]
  },
  {
   "cell_type": "code",
   "execution_count": null,
   "metadata": {},
   "outputs": [],
   "source": [
    "'Py' + 'th' + 'on'"
   ]
  }
 ],
 "metadata": {
  "celltoolbar": "Slideshow",
  "kernelspec": {
   "display_name": "Python 2",
   "language": "python",
   "name": "python2"
  },
  "language_info": {
   "codemirror_mode": {
    "name": "ipython",
    "version": 2
   },
   "file_extension": ".py",
   "mimetype": "text/x-python",
   "name": "python",
   "nbconvert_exporter": "python",
   "pygments_lexer": "ipython2",
   "version": "2.7.15"
  },
  "livereveal": {
   "theme": "white",
   "transition": "fast"
  },
  "varInspector": {
   "cols": {
    "lenName": 16,
    "lenType": 16,
    "lenVar": 40
   },
   "kernels_config": {
    "python": {
     "delete_cmd_postfix": "",
     "delete_cmd_prefix": "del ",
     "library": "var_list.py",
     "varRefreshCmd": "print(var_dic_list())"
    },
    "r": {
     "delete_cmd_postfix": ") ",
     "delete_cmd_prefix": "rm(",
     "library": "var_list.r",
     "varRefreshCmd": "cat(var_dic_list()) "
    }
   },
   "types_to_exclude": [
    "module",
    "function",
    "builtin_function_or_method",
    "instance",
    "_Feature"
   ],
   "window_display": false
  }
 },
 "nbformat": 4,
 "nbformat_minor": 2
}
