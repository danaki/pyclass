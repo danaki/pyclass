{
 "cells": [
  {
   "cell_type": "code",
   "execution_count": null,
   "metadata": {},
   "outputs": [],
   "source": [
    "secs_in_earth_year = 60 * 60 * 24 * 365.25\n",
    "\n",
    "def space_age(age, planet):\n",
    "    periods = dict(\n",
    "        earth=1,\n",
    "        mercury=0.2408467,\n",
    "        venus=0.61519726,\n",
    "        mars=1.8808158,\n",
    "        jupiter=11.862615,\n",
    "        saturn=29.447498\n",
    "    )\n",
    "    \n",
    "    secs_in_planet_year = dict()\n",
    "    for k, v in periods.items():\n",
    "        secs_in_planet_year[k] = secs_in_earth_year * v\n",
    "  \n",
    "    return round(age / secs_in_planet_year[planet], 2)"
   ]
  }
 ],
 "metadata": {
  "kernelspec": {
   "display_name": "Python 2",
   "language": "python",
   "name": "python2"
  },
  "language_info": {
   "codemirror_mode": {
    "name": "ipython",
    "version": 2
   },
   "file_extension": ".py",
   "mimetype": "text/x-python",
   "name": "python",
   "nbconvert_exporter": "python",
   "pygments_lexer": "ipython2",
   "version": "2.7.15"
  }
 },
 "nbformat": 4,
 "nbformat_minor": 2
}
