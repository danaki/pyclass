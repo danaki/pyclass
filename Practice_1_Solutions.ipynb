{
 "cells": [
  {
   "cell_type": "markdown",
   "metadata": {},
   "source": [
    "# Practice: Solutions"
   ]
  },
  {
   "cell_type": "markdown",
   "metadata": {},
   "source": [
    "## Exercise #1: space age"
   ]
  },
  {
   "cell_type": "code",
   "execution_count": null,
   "metadata": {},
   "outputs": [],
   "source": [
    "secs_in_earth_year = 60 * 60 * 24 * 365.25\n",
    "\n",
    "def space_age(age, planet):\n",
    "    periods = dict(\n",
    "        earth=1,\n",
    "        mercury=0.2408467,\n",
    "        venus=0.61519726,\n",
    "        mars=1.8808158,\n",
    "        jupiter=11.862615,\n",
    "        saturn=29.447498\n",
    "    )\n",
    "    \n",
    "    secs_in_planet_year = dict()\n",
    "    for k, v in periods.items():\n",
    "        secs_in_planet_year[k] = secs_in_earth_year * v\n",
    "  \n",
    "    return round(age / secs_in_planet_year[planet], 2)"
   ]
  },
  {
   "cell_type": "markdown",
   "metadata": {},
   "source": [
    "## Exercise #2: last word"
   ]
  },
  {
   "cell_type": "code",
   "execution_count": null,
   "metadata": {},
   "outputs": [],
   "source": [
    "given = 'without,hello,bag,world,cat'"
   ]
  },
  {
   "cell_type": "code",
   "execution_count": null,
   "metadata": {},
   "outputs": [],
   "source": [
    "sorted(given.split(','))[-1]"
   ]
  },
  {
   "cell_type": "code",
   "execution_count": null,
   "metadata": {},
   "outputs": [],
   "source": [
    "sorted(given.split(','), reverse=True)[0]"
   ]
  },
  {
   "cell_type": "code",
   "execution_count": null,
   "metadata": {},
   "outputs": [],
   "source": [
    "splitted = given.split(',')\n",
    "splitted.sort()\n",
    "splitted[-1]"
   ]
  },
  {
   "cell_type": "markdown",
   "metadata": {},
   "source": [
    "## Exercise #3: make a headline"
   ]
  },
  {
   "cell_type": "code",
   "execution_count": null,
   "metadata": {},
   "outputs": [],
   "source": [
    "virus = 'computer virus spreads to humans'"
   ]
  },
  {
   "cell_type": "markdown",
   "metadata": {},
   "source": [
    "This version concatenates the string using previous string version, word and a space in the end. We have to remove trailing space symbol using `str.strip()`"
   ]
  },
  {
   "cell_type": "code",
   "execution_count": null,
   "metadata": {},
   "outputs": [],
   "source": [
    "result = ''\n",
    "for word in virus.split():\n",
    "    if word != 'to':\n",
    "        word = word.capitalize()\n",
    "        \n",
    "    result += word + ' '\n",
    "\n",
    "result.strip()"
   ]
  },
  {
   "cell_type": "markdown",
   "metadata": {},
   "source": [
    "Using list to collect words and then join them with space symbol (e.g. no need for strip() call)."
   ]
  },
  {
   "cell_type": "code",
   "execution_count": null,
   "metadata": {},
   "outputs": [],
   "source": [
    "result = []\n",
    "for word in virus.split():\n",
    "    if word != 'to':\n",
    "        word = word.capitalize()\n",
    "        \n",
    "    result.append(word)\n",
    "    \n",
    "' '.join(result)"
   ]
  },
  {
   "cell_type": "markdown",
   "metadata": {},
   "source": [
    "List comprehension equvalent of the code above."
   ]
  },
  {
   "cell_type": "code",
   "execution_count": null,
   "metadata": {},
   "outputs": [],
   "source": [
    "result = [word.capitalize() if word != 'to' else word for word in virus.split()]\n",
    "' '.join(result)"
   ]
  },
  {
   "cell_type": "markdown",
   "metadata": {},
   "source": [
    "Notice here that you can skip list creation syntax `[...]` if you pass comprehension as a parameter to the next function, thus creating a tuple comprehension. Brackets `(...)` are assumed."
   ]
  },
  {
   "cell_type": "code",
   "execution_count": null,
   "metadata": {},
   "outputs": [],
   "source": [
    "' '.join(word.capitalize() if word != 'to' else word for word in virus.split())"
   ]
  },
  {
   "cell_type": "markdown",
   "metadata": {},
   "source": [
    "## Exercise #4: grep"
   ]
  },
  {
   "cell_type": "code",
   "execution_count": null,
   "metadata": {},
   "outputs": [],
   "source": [
    "text = \"\"\"\n",
    "The diamond kata takes as its input a letter, and outputs it in a diamond shape. Given a letter, it prints a diamond starting with 'A', with the supplied letter at the widest point.\n",
    "\n",
    "Requirements:\n",
    " * The first row contains one 'A'.\n",
    " * The last row contains one 'A'.\n",
    " * All rows, except the first and last, have exactly two identical letters.\n",
    " * All rows have as many trailing spaces as leading spaces. (This might be 0).\n",
    " * The diamond is horizontally symmetric.\n",
    " * The diamond is vertically symmetric.\n",
    " * The diamond has a square shape (width equals height).\n",
    " * The letters form a diamond shape.\n",
    " * The top half has the letters in ascending order.\n",
    " * The bottom half has the letters in descending order.\n",
    " * The four corners (containing the spaces) are triangles.\n",
    "\"\"\""
   ]
  },
  {
   "cell_type": "markdown",
   "metadata": {},
   "source": [
    "If you let Jupyter output `text` contents, like so: "
   ]
  },
  {
   "cell_type": "code",
   "execution_count": null,
   "metadata": {},
   "outputs": [],
   "source": [
    "text"
   ]
  },
  {
   "cell_type": "markdown",
   "metadata": {},
   "source": [
    "You will notice strange `\\n` symbol combinations. These are [**newlines** or **end of line** symbols](https://en.wikipedia.org/wiki/Carriage_return) or sometimes incorrectly called **carriage return** symbols. When you print this symbol with `print`, it will move current printing position to the next line. Example:"
   ]
  },
  {
   "cell_type": "code",
   "execution_count": null,
   "metadata": {},
   "outputs": [],
   "source": [
    "print \"I\\nlike\\nPython!\"\n",
    "print \"And programming too!\""
   ]
  },
  {
   "cell_type": "markdown",
   "metadata": {},
   "source": [
    "Please notice that `print` adds newline character at the end of your string by default (after \"...Python!\"). To suppress this behaviour, please use `print` like so (notice comma symbol after the argument in the first `print` call):"
   ]
  },
  {
   "cell_type": "code",
   "execution_count": null,
   "metadata": {},
   "outputs": [],
   "source": [
    "print \"My name is Muzzy.\",\n",
    "print \"I like clocks.\""
   ]
  },
  {
   "cell_type": "markdown",
   "metadata": {},
   "source": [
    "You can use this \"invisible\" `\\n` symbol to, for example, find out how many lines in a multiline string:"
   ]
  },
  {
   "cell_type": "code",
   "execution_count": null,
   "metadata": {},
   "outputs": [],
   "source": [
    "text.count(\"\\n\")"
   ]
  },
  {
   "cell_type": "markdown",
   "metadata": {},
   "source": [
    "Or use it to split mutliline string to a list of lines:"
   ]
  },
  {
   "cell_type": "code",
   "execution_count": null,
   "metadata": {},
   "outputs": [],
   "source": [
    "text.split(\"\\n\")"
   ]
  },
  {
   "cell_type": "markdown",
   "metadata": {},
   "source": [
    "To `grep` a list as usual:"
   ]
  },
  {
   "cell_type": "code",
   "execution_count": null,
   "metadata": {},
   "outputs": [],
   "source": [
    "grepped = []\n",
    "\n",
    "for line in text.split(\"\\n\"):\n",
    "    if 'diamond' in line:\n",
    "        grepped.append(line)\n",
    "    \n",
    "print '\\n'.join(grepped)"
   ]
  },
  {
   "cell_type": "markdown",
   "metadata": {},
   "source": [
    "Same result using comprehension:"
   ]
  },
  {
   "cell_type": "code",
   "execution_count": null,
   "metadata": {},
   "outputs": [],
   "source": [
    "print '\\n'.join(line for line in text.split(\"\\n\") if 'diamond' in line)"
   ]
  },
  {
   "cell_type": "markdown",
   "metadata": {},
   "source": [
    "## Exercise #5: unpopular blog posts\n",
    "\n",
    "Set is the natural type for finding intersection or difference or any other possible set operation between two lists. For example:\n",
    "\n",
    " * `s1 & s2` where **\\&** reads like **and**, e.g. find elements that are in s1 **and** s2, e.g. find **intersection**\n",
    " * `s1 | s2` where **\\|** reasds like **or**, e.g. **union**\n",
    " * `s1 - s2` -- leave only **s1** elements that do not exist in **s2**, e.g. find **difference**\n",
    " * [and so on](https://docs.python.org/2/library/sets.html).\n",
    " \n",
    "Also remember, that coercing list to set also removes duplicate elements.\n",
    "\n",
    "Since `published` is the superset and `views` is the subset of `published`, we can easily find what elements of `published` never viewed by our site visitors:"
   ]
  },
  {
   "cell_type": "code",
   "execution_count": null,
   "metadata": {},
   "outputs": [],
   "source": [
    "published = [\n",
    "    \"Child bankrupts make-a-wish foundation with wish for unlimited wishes\",\n",
    "    \"Archaeological dig uncovers ancient race of skeleton people\",\n",
    "    \"Standard deviation not enough for perverted statistician\",\n",
    "    \"Annual ninja parade once again passes through town unnoticed\",\n",
    "    \"Brain-dead teen, only capable of rolling her eyes and texting, to be euthanised\",\n",
    "    \"Cows lose their jobs as milk prices drop\",\n",
    "    \"Man accused of killing lawyer receives a new attorney\",\n",
    "    \"Missippi’s literacy program shows improvement\",\n",
    "    \"Breathing oxygen linked to staying alive\",\n",
    "    \"Bridge closure date: Thursday or October\",\n",
    "    \"Most earthquake damage is caused by shaking\",\n",
    "    \"Federal agents raid gun shop, find weapons\",\n",
    "    \"Voters to vote on whether to vote\",\n",
    "    \"Goat accused of robbery\",\n",
    "    \"One-armed man applauds the kindness of strangers\",\n",
    "    \"Marijuana issue sent to a joint committee\",\n",
    "    \"Mayor Parris to homeless: go home\"\n",
    "]\n",
    "\n",
    "views = [\n",
    "    \"Most earthquake damage is caused by shaking\",    \n",
    "    \"Archaeological dig uncovers ancient race of skeleton people\",    \n",
    "    \"Cows lose their jobs as milk prices drop\",\n",
    "    \"Voters to vote on whether to vote\",    \n",
    "    \"Breathing oxygen linked to staying alive\",\n",
    "    \"Most earthquake damage is caused by shaking\",\n",
    "    \"One-armed man applauds the kindness of strangers\",\n",
    "    \"Breathing oxygen linked to staying alive\",    \n",
    "    \"Voters to vote on whether to vote\",\n",
    "    \"Breathing oxygen linked to staying alive\",\n",
    "    \"Federal agents raid gun shop, find weapons\",\n",
    "    \"Voters to vote on whether to vote\",    \n",
    "    \"Marijuana issue sent to a joint committee\",\n",
    "    \"Breathing oxygen linked to staying alive\",    \n",
    "]\n",
    "\n",
    "set(published) - set(views)"
   ]
  },
  {
   "cell_type": "markdown",
   "metadata": {},
   "source": [
    "## Exercise #6: Anagram\n",
    "\n",
    "Natural pythonic way to track number of different \"things\" is to use dictionaries.\n",
    "\n",
    "Two phrases are called **anagram** when a phrase contains exactly the same count of particular letters as an another phrase. Spaces are ignored. Here we create two dictionaries like so:\n",
    "\n",
    "- **d1**:\n",
    " * `letter1` => `number of occuriences in phrase1`\n",
    " * `letter2` => `number of occuriences in phrase1`\n",
    " * ...\n",
    "- **d2**:\n",
    " * `letter1` => `number of occuriences in phrase2`\n",
    " * `letter2` => `number of occuriences in phrase2`\n",
    " * ...\n",
    "\n",
    "And assume that two phrases are mutual anagrams if **d1** == **d2**."
   ]
  },
  {
   "cell_type": "code",
   "execution_count": null,
   "metadata": {},
   "outputs": [],
   "source": [
    "def count_letters(phrase):\n",
    "    result = {}\n",
    "    for letter in phrase:\n",
    "        if letter in result:\n",
    "            result[letter] += 1\n",
    "        else:\n",
    "            result[letter] = 1\n",
    "            \n",
    "        # same if-else but using ternary if:\n",
    "        # result[letter] = result[letter] + 1 if letter in result else 1\n",
    "        \n",
    "    return result\n",
    "\n",
    "count_letters('anagram')"
   ]
  },
  {
   "cell_type": "markdown",
   "metadata": {},
   "source": [
    "In the code above we are preventing `KeyError` with if-else but there's more convinient method `dict.get()` (if there are no such key return second argument) to achieve the same effect:"
   ]
  },
  {
   "cell_type": "code",
   "execution_count": null,
   "metadata": {},
   "outputs": [],
   "source": [
    "def count_letters(phrase):\n",
    "    result = {}\n",
    "    for letter in phrase:\n",
    "        result[letter] = result.get(letter, 0) + 1\n",
    "        \n",
    "    return result\n",
    "\n",
    "count_letters('anagram')"
   ]
  },
  {
   "cell_type": "markdown",
   "metadata": {},
   "source": [
    "It appears there's a type called [Counter](https://docs.python.org/2/library/collections.html#collections.Counter) from module `collections` which is very similar to `dict` and is perfect for this task:"
   ]
  },
  {
   "cell_type": "code",
   "execution_count": null,
   "metadata": {},
   "outputs": [],
   "source": [
    "from collections import Counter\n",
    "\n",
    "# you can coerce it to dict if you want like: dict(Counter('anagram'))\n",
    "# but you really need not to, Counter has really the same look-and-feel, e.g. same interface as dictionary\n",
    "Counter('anagram')"
   ]
  },
  {
   "cell_type": "markdown",
   "metadata": {},
   "source": [
    "Let's compare two phrases now:"
   ]
  },
  {
   "cell_type": "code",
   "execution_count": null,
   "metadata": {},
   "outputs": [],
   "source": [
    "def anagram(phrase1, phrase2):\n",
    "    # you can use count_letters() here as well\n",
    "    c1 = Counter(phrase1)\n",
    "    c2 = Counter(phrase2)\n",
    "    \n",
    "    # don't forget to remove spaces\n",
    "    del c1[' ']\n",
    "    del c2[' ']\n",
    "        \n",
    "    return c1 == c2\n",
    "\n",
    "assert anagram('anagram', 'nag a ram')\n",
    "assert anagram('binary', 'brainy')\n",
    "assert anagram('funeral', 'real fun')"
   ]
  },
  {
   "cell_type": "markdown",
   "metadata": {},
   "source": [
    "## Exercise #7: Fibonacci numbers\n",
    "\n",
    "By definition:\n",
    "\n",
    "\\begin{equation*}\n",
    "F_n = \\begin{cases}\n",
    "  0, & \\mbox{if } n\\mbox{=0} \\\\\n",
    "  1, & \\mbox{if } n\\mbox{=1} \\\\\n",
    "  F_{n-1} + F_{n-2}, & \\mbox{if } n\\mbox{>1}  \n",
    " \\end{cases}\n",
    "\\end{equation*}"
   ]
  },
  {
   "cell_type": "code",
   "execution_count": null,
   "metadata": {},
   "outputs": [],
   "source": [
    "def fibonacci(N):\n",
    "    result = [0, 1]\n",
    "\n",
    "    for i in range(2, N):\n",
    "        result += [result[-1] + result[-2]]\n",
    "\n",
    "    return result[:N]\n",
    "\n",
    "fibonacci(10)"
   ]
  },
  {
   "cell_type": "markdown",
   "metadata": {},
   "source": [
    "It appears that Fibonacci uses a [Recursive definition](https://en.wikipedia.org/wiki/Recursive_definition), e.g. next value can be computed from a number of previous values. Thus we can create a recursive function that will be more close to definition and more clear:"
   ]
  },
  {
   "cell_type": "code",
   "execution_count": null,
   "metadata": {},
   "outputs": [],
   "source": [
    "def fibonacci(N):\n",
    "    if N <= 2:\n",
    "        return [0, 1][:N]\n",
    "\n",
    "    f = fibonacci(N - 1)\n",
    "    \n",
    "    return f + [f[-1] + f[-2]]\n",
    "\n",
    "fibonacci(10)"
   ]
  },
  {
   "cell_type": "markdown",
   "metadata": {},
   "source": [
    "Btw it's a good place to use memoize pattern and decorators to avoid unnecessary computations:"
   ]
  },
  {
   "cell_type": "code",
   "execution_count": null,
   "metadata": {},
   "outputs": [],
   "source": [
    "cache = {}\n",
    "\n",
    "def memoize(f):\n",
    "    def wrapper(N):\n",
    "        if N in cache:\n",
    "            print \"Take cached: fibonacci({}) = {}\".format(N, cache[N])\n",
    "            return cache[N]\n",
    "\n",
    "        result = f(N)\n",
    "        cache[N] = result\n",
    "        print \"Compute: fibonacci({}) = {}\".format(N, result)\n",
    "        return result\n",
    "    \n",
    "    return wrapper\n",
    "\n",
    "@memoize\n",
    "def fibonacci_number(N):\n",
    "    if N <= 1:\n",
    "        return N\n",
    "\n",
    "    return fibonacci_number(N - 1) + fibonacci_number(N - 2)\n",
    "\n",
    "fibonacci_number(10)"
   ]
  },
  {
   "cell_type": "markdown",
   "metadata": {},
   "source": [
    "## Exercise #8: darts\n",
    "\n",
    "Pythagorean theorem:\n",
    "\n",
    "$$a^2 + b^2 = r^2$$\n",
    "\n",
    "or\n",
    "\n",
    "$$r = \\sqrt{a^2 + b^2}$$\n",
    "\n",
    "`sqrt()` is available in module `math`\n",
    "\n",
    "Run this cell to see illustrating picture:"
   ]
  },
  {
   "cell_type": "code",
   "execution_count": null,
   "metadata": {},
   "outputs": [],
   "source": [
    "import matplotlib.pyplot as plt\n",
    "from matplotlib.patches import Circle\n",
    "\n",
    "fig, ax = plt.subplots(subplot_kw={'aspect': 'equal'}, figsize=(20, 10))\n",
    "ax.add_patch(Circle((0, 0), radius=10, fc=\"b\"))\n",
    "ax.add_patch(Circle((0, 0), radius=5, fc=\"w\"))\n",
    "ax.add_patch(Circle((0, 0), radius=1, fc=\"r\"))\n",
    "\n",
    "ax.annotate('10 points', xy=(0, 0), xytext=(10, 10), arrowprops=dict(facecolor='black', shrink=0.05), fontsize=20)\n",
    "ax.annotate('5 points', xy=(2.5, -2.5), xytext=(10, -10), arrowprops=dict(facecolor='black', shrink=0), fontsize=20)\n",
    "ax.annotate('1 point', xy=(-5, -5), xytext=(-15, -10), arrowprops=dict(facecolor='black', shrink=0), fontsize=20)\n",
    "\n",
    "ax.set_xlim(-20, 20)\n",
    "ax.set_ylim(-15, 15)\n",
    "\n",
    "plt.show()"
   ]
  },
  {
   "cell_type": "code",
   "execution_count": null,
   "metadata": {},
   "outputs": [],
   "source": [
    "from math import sqrt\n",
    "\n",
    "def score(x, y):\n",
    "    r = sqrt(x ** 2 + y ** 2)\n",
    "    \n",
    "    if r <= 1:\n",
    "        return 10\n",
    "    \n",
    "    if r <= 5:\n",
    "        return 5\n",
    "    \n",
    "    if r <= 10:\n",
    "        return 1\n",
    "    \n",
    "    return 0\n",
    "\n",
    "assert score(-9, 9) == 0\n",
    "assert score(0, 10) == 1\n",
    "assert score(4, 4) == 1\n",
    "assert score(5, 0) == 5\n",
    "assert score(0.8, -0.8) == 5\n",
    "assert score(0, -1) == 10\n",
    "assert score(-0.1, -0.1) == 10"
   ]
  },
  {
   "cell_type": "markdown",
   "metadata": {},
   "source": [
    "## Exercise #9: hangman I\n",
    "\n",
    "Using string concatenation:"
   ]
  },
  {
   "cell_type": "code",
   "execution_count": null,
   "metadata": {},
   "outputs": [],
   "source": [
    "def guessing_hangman(letter):\n",
    "    secret = \"EVAPORATE\"\n",
    "    \n",
    "    result = ''\n",
    "    for s in secret:\n",
    "        if s == letter:\n",
    "            result += letter\n",
    "        else:\n",
    "            result += '_'\n",
    "            \n",
    "        # ternary if-else version\n",
    "        # result += letter if s == letter else '_'\n",
    "\n",
    "    return result\n",
    "\n",
    "guessing_hangman('A')"
   ]
  },
  {
   "cell_type": "markdown",
   "metadata": {},
   "source": [
    "Altering list:"
   ]
  },
  {
   "cell_type": "code",
   "execution_count": null,
   "metadata": {},
   "outputs": [],
   "source": [
    "def guessing_hangman(letter):\n",
    "    secret = \"EVAPORATE\"\n",
    "    \n",
    "    result = ['_'] * len(secret)\n",
    "    for i, s in enumerate(secret):\n",
    "        if s == letter:\n",
    "            result[i] = letter\n",
    "            \n",
    "    return ''.join(result)\n",
    "\n",
    "guessing_hangman('A')"
   ]
  },
  {
   "cell_type": "markdown",
   "metadata": {},
   "source": [
    "List comprehension:"
   ]
  },
  {
   "cell_type": "code",
   "execution_count": null,
   "metadata": {},
   "outputs": [],
   "source": [
    "def guessing_hangman(letter):\n",
    "    secret = \"EVAPORATE\"\n",
    "    \n",
    "    return ''.join(letter if s == letter else '_' for s in secret)\n",
    "\n",
    "guessing_hangman('A')"
   ]
  },
  {
   "cell_type": "markdown",
   "metadata": {},
   "source": [
    "## Exercise #10: hangman II"
   ]
  },
  {
   "cell_type": "code",
   "execution_count": null,
   "metadata": {},
   "outputs": [],
   "source": [
    "def hangman_joiner(string1, string2):\n",
    "    result = ''\n",
    "    \n",
    "    for i, s1 in enumerate(string1):\n",
    "        s2 = string2[i]\n",
    "        \n",
    "        if s1 != '_':\n",
    "            result += s1\n",
    "        elif s2 != '_':\n",
    "            result += s2\n",
    "        else:\n",
    "            result += '_'\n",
    "            \n",
    "    return result\n",
    "\n",
    "hangman_joiner('__A___A__', 'E_______E')"
   ]
  },
  {
   "cell_type": "markdown",
   "metadata": {},
   "source": [
    "Sometimes universal solution is shorter:"
   ]
  },
  {
   "cell_type": "code",
   "execution_count": null,
   "metadata": {},
   "outputs": [],
   "source": [
    "def universal_hangman_joiner(*args):\n",
    "    result = ['_'] * len(args[0])\n",
    "    \n",
    "    for s in args:\n",
    "        for i, c in enumerate(s):\n",
    "            if c != '_':\n",
    "                result[i] = c\n",
    "        \n",
    "    return ''.join(result)\n",
    "\n",
    "universal_hangman_joiner('__A______', 'E_______E', '_V_P_R___', '______A__')"
   ]
  },
  {
   "cell_type": "markdown",
   "metadata": {},
   "source": [
    "## Exercise #11: transpose matrix"
   ]
  },
  {
   "cell_type": "code",
   "execution_count": 80,
   "metadata": {},
   "outputs": [],
   "source": [
    "def transpose(matrix):\n",
    "    height = len(matrix)\n",
    "    width = len(matrix[0])\n",
    "\n",
    "    result = [[None for i in range(height)] for j in range(width)]\n",
    "    \n",
    "    for i, row in enumerate(matrix):\n",
    "        for j, cell in enumerate(row):\n",
    "            result[j][i] = cell\n",
    "            \n",
    "    return result\n",
    "\n",
    "assert transpose([[1, 2, 3],\n",
    "                  [0, 0, 3],\n",
    "                  [9, 0, 3]]) \\\n",
    "                     == \\\n",
    "                 [[1, 0, 9],\n",
    "                  [2, 0, 0],\n",
    "                  [3, 3, 3]]\n",
    "\n",
    "assert transpose([[1, 2, 3, 0],\n",
    "                  [0, 0, 3, 0],\n",
    "                  [9, 0, 3, 0]]) \\\n",
    "                     == \\\n",
    "                 [[1, 0, 9],\n",
    "                  [2, 0, 0],\n",
    "                  [3, 3, 3],\n",
    "                  [0, 0, 0]]"
   ]
  },
  {
   "cell_type": "markdown",
   "metadata": {},
   "source": [
    "## Exercise #12: Cows and Bulls\n",
    "\n",
    "### Algorithm:\n",
    "\n",
    "Firstly, convert both numbers to strings just because it's easier to access elements at arbitrary positions when it's a string or a list-alike."
   ]
  },
  {
   "cell_type": "code",
   "execution_count": null,
   "metadata": {},
   "outputs": [],
   "source": [
    "guess = 1224\n",
    "guessed = 1400\n",
    "\n",
    "guess = str(guess)\n",
    "guessed = str(guessed)\n",
    "\n",
    "guess, guessed"
   ]
  },
  {
   "cell_type": "markdown",
   "metadata": {},
   "source": [
    "Let's first count all guessed numbers disregarding position.\n",
    "\n",
    "\"Cows\" are guessed numbers with respect of position. If so, correct number of \"bulls\" is the number of all guessed numbers minus number of \"cows\".\n",
    "\n",
    "We store number of occuriences of each number in a dictionary:"
   ]
  },
  {
   "cell_type": "code",
   "execution_count": null,
   "metadata": {},
   "outputs": [],
   "source": [
    "guess_counter = {}\n",
    "for number in guess:\n",
    "    guess_counter[number] = guess_counter.get(number, 0) + 1\n",
    "\n",
    "guessed_counter = {}\n",
    "for number in guessed:\n",
    "    guessed_counter[number] = guessed_counter.get(number, 0) + 1\n",
    "    \n",
    "guess_counter, guessed_counter"
   ]
  },
  {
   "cell_type": "markdown",
   "metadata": {},
   "source": [
    "or just use `collections.Counter()`:"
   ]
  },
  {
   "cell_type": "code",
   "execution_count": null,
   "metadata": {},
   "outputs": [],
   "source": [
    "guess_counter = Counter(guess)\n",
    "guessed_counter = Counter(guessed)\n",
    "\n",
    "guess_counter, guessed_counter"
   ]
  },
  {
   "cell_type": "markdown",
   "metadata": {},
   "source": [
    "Now, the number of bulls is the sum of all numbers guessed correctly:"
   ]
  },
  {
   "cell_type": "code",
   "execution_count": null,
   "metadata": {},
   "outputs": [],
   "source": [
    "bulls = 0\n",
    "for number, count in guessed_counter.items():\n",
    "    bulls += min(guess_counter[number], count)\n",
    "\n",
    "bulls"
   ]
  },
  {
   "cell_type": "markdown",
   "metadata": {},
   "source": [
    "We use `min()` because:\n",
    " * If guessed number has N occuriences of a number and guess has less then N, then bulls = guess\n",
    " * If guessed number has N occuriences of a number and guess has more then N, then bulls = guessed\n",
    " \n",
    "For example:\n",
    "  * Guessed is 4444 and guess is 4400 then min(4, 2) = 2\n",
    "  * Guessed is 4400 and guess is 4444 then min(2, 4) = 2\n",
    "  \n",
    "Shorter version of the loop above using `sum()` and list comprehensions:"
   ]
  },
  {
   "cell_type": "code",
   "execution_count": null,
   "metadata": {},
   "outputs": [],
   "source": [
    "bulls = sum(min(guessed_counter[number], guess_counter[number]) for number in guessed_counter)\n",
    "bulls"
   ]
  },
  {
   "cell_type": "markdown",
   "metadata": {},
   "source": [
    "Now, some of these \"bulls\" are \"cows\" actually.\n",
    "\n",
    "Cows are elements with the same value AND position. Value-position make an unique pair and `tuple()` and `set()` are natural types to deal with them.\n",
    "\n",
    "Converting both numbers to value-position pairs can be easily achieved with `enumerate()`"
   ]
  },
  {
   "cell_type": "code",
   "execution_count": null,
   "metadata": {},
   "outputs": [],
   "source": [
    "guess_pairs = list(enumerate(guess))\n",
    "guessed_pairs = list(enumerate(guessed))\n",
    "\n",
    "print guess_pairs\n",
    "print guessed_pairs"
   ]
  },
  {
   "cell_type": "markdown",
   "metadata": {},
   "source": [
    "To find \"cows\", e.g. elements with the same value-position pairs we use `set()` and it's convenient operation of intersection:"
   ]
  },
  {
   "cell_type": "code",
   "execution_count": null,
   "metadata": {},
   "outputs": [],
   "source": [
    "guessed_pairs = set(guessed_pairs)\n",
    "guess_pairs = set(guess_pairs)\n",
    "\n",
    "cows_pairs = guessed_pairs & guess_pairs\n",
    "print cows_pairs"
   ]
  },
  {
   "cell_type": "markdown",
   "metadata": {},
   "source": [
    "Now, \"bulls\" are determined as the number of \"bulls\" minus \"cows\", but \"cows\" is just the number of elements in a set."
   ]
  },
  {
   "cell_type": "code",
   "execution_count": null,
   "metadata": {},
   "outputs": [],
   "source": [
    "cows = len(cows_pairs)\n",
    "bulls = bulls - len(cows_pairs)\n",
    "\n",
    "cows, bulls"
   ]
  },
  {
   "cell_type": "markdown",
   "metadata": {},
   "source": [
    "Complete solution:"
   ]
  },
  {
   "cell_type": "code",
   "execution_count": null,
   "metadata": {},
   "outputs": [],
   "source": [
    "from collections import Counter\n",
    "\n",
    "def cows_and_bulls(guessed, guess):\n",
    "    cows = bulls = 0\n",
    "    \n",
    "    guess = str(guess)\n",
    "    guessed = str(guessed)\n",
    "\n",
    "    guess_counter = Counter(guess)\n",
    "    guessed_counter = Counter(guessed)\n",
    "    \n",
    "    bulls = sum(min(guessed_counter[number], guess_counter[number]) for number in guessed_counter)\n",
    "            \n",
    "    guessed_pairs, guess_pairs = set(enumerate(str(guessed))), set(enumerate(str(guess)))\n",
    "\n",
    "    cows_pairs = guessed_pairs & guess_pairs\n",
    "            \n",
    "    return len(cows_pairs), bulls - len(cows_pairs)\n",
    "\n",
    "assert cows_and_bulls(1111, 2222) == (0, 0)\n",
    "assert cows_and_bulls(1111, 1111) == (4, 0)\n",
    "assert cows_and_bulls(1234, 4321) == (0, 4)\n",
    "assert cows_and_bulls(1234, 1439) == (2, 1)"
   ]
  },
  {
   "cell_type": "markdown",
   "metadata": {},
   "source": [
    "## Exercise #13: spiral matrix\n",
    "\n",
    " * 0 -- left\n",
    " * 1 -- down\n",
    " * 2 -- right\n",
    " * 3 -- up"
   ]
  },
  {
   "cell_type": "code",
   "execution_count": 3,
   "metadata": {},
   "outputs": [],
   "source": [
    "def pretty_matrix_print(matrix):\n",
    "    print '\\n'.join([\n",
    "            ''.join([\n",
    "                '{:3}'.format(item) for item in row\n",
    "                ]) for row in matrix\n",
    "        ])\n"
   ]
  },
  {
   "cell_type": "code",
   "execution_count": 7,
   "metadata": {},
   "outputs": [
    {
     "name": "stdout",
     "output_type": "stream",
     "text": [
      "  1  2  3  4\n",
      " 12 13 14  5\n",
      " 11 16 15  6\n",
      " 10  9  8  7\n"
     ]
    }
   ],
   "source": [
    "def spiral_matrix(size):\n",
    "    def can_move(x, y):\n",
    "        return x < size \\\n",
    "            and x >= 0 \\\n",
    "            and y < size \\\n",
    "            and y >= 0 \\\n",
    "            and result[y][x] == 0\n",
    "    \n",
    "    result = [[0 for i in range(size)] for j in range(size)]\n",
    "    direction_to_vector = [(1, 0), (0, 1), (-1, 0), (0, -1)]\n",
    "    \n",
    "    x = y = 0\n",
    "    direction = 0\n",
    "    vector = direction_to_vector[0]    \n",
    "    for i in range(size ** 2):\n",
    "        if not can_move(x + vector[0], y + vector[1]):\n",
    "            direction += 1\n",
    "            \n",
    "        vector = direction_to_vector[direction % 4]            \n",
    "        \n",
    "        result[y][x] = i + 1\n",
    "        \n",
    "        x += vector[0]\n",
    "        y += vector[1]        \n",
    "    \n",
    "    return result\n",
    "    \n",
    "pretty_matrix_print(spiral_matrix(4))"
   ]
  },
  {
   "cell_type": "markdown",
   "metadata": {},
   "source": [
    "We can get rid of `direction` variable by using `itertools.cycle()` function that will cycle thru values endlessly."
   ]
  },
  {
   "cell_type": "code",
   "execution_count": 14,
   "metadata": {},
   "outputs": [
    {
     "name": "stdout",
     "output_type": "stream",
     "text": [
      "0\n",
      "10\n",
      "0\n",
      "10\n"
     ]
    }
   ],
   "source": [
    "from itertools import cycle\n",
    "\n",
    "it = cycle([0, 10])\n",
    "print next(it)\n",
    "print next(it)\n",
    "print next(it)\n",
    "print next(it)"
   ]
  },
  {
   "cell_type": "code",
   "execution_count": 18,
   "metadata": {},
   "outputs": [
    {
     "name": "stdout",
     "output_type": "stream",
     "text": [
      "  1  2  3  4\n",
      " 12 13 14  5\n",
      " 11 16 15  6\n",
      " 10  9  8  7\n"
     ]
    }
   ],
   "source": [
    "from itertools import cycle\n",
    "\n",
    "def spiral_matrix(size):\n",
    "    def can_move(x, y):\n",
    "        return x < size \\\n",
    "            and x >= 0 \\\n",
    "            and y < size \\\n",
    "            and y >= 0 \\\n",
    "            and result[y][x] == 0\n",
    "    \n",
    "    result = [[0 for i in range(size)] for j in range(size)]\n",
    "    \n",
    "    x = y = 0\n",
    "\n",
    "    it = cycle([(1, 0), (0, 1), (-1, 0), (0, -1)])\n",
    "    vector = next(it)\n",
    "    \n",
    "    for i in range(1, size ** 2 + 1):\n",
    "        if not can_move(x + vector[0], y + vector[1]):\n",
    "            vector = next(it)\n",
    "        \n",
    "        result[y][x] = i\n",
    "        \n",
    "        x += vector[0]\n",
    "        y += vector[1]        \n",
    "    \n",
    "    return result\n",
    "    \n",
    "pretty_matrix_print(spiral_matrix(4))"
   ]
  },
  {
   "cell_type": "markdown",
   "metadata": {},
   "source": [
    "## Exercise #14: diamond\n",
    "\n",
    "Please notice `abs()` inside `print_diamond()`. It is used to have one for-loop not two."
   ]
  },
  {
   "cell_type": "code",
   "execution_count": 125,
   "metadata": {},
   "outputs": [
    {
     "name": "stdout",
     "output_type": "stream",
     "text": [
      "0 1 2 3 4 5 4 3 2 1 0\n"
     ]
    }
   ],
   "source": [
    "for i in range(11):\n",
    "    print 5 - abs(5 - i),"
   ]
  },
  {
   "cell_type": "markdown",
   "metadata": {},
   "source": [
    "Solution to problem:"
   ]
  },
  {
   "cell_type": "code",
   "execution_count": 75,
   "metadata": {},
   "outputs": [
    {
     "name": "stdout",
     "output_type": "stream",
     "text": [
      "...A...\n",
      "..B.B..\n",
      ".C...C.\n",
      "D.....D\n",
      ".C...C.\n",
      "..B.B..\n",
      "...A...\n"
     ]
    }
   ],
   "source": [
    "from string import ascii_uppercase as alphabet\n",
    "\n",
    "def print_diamond(letter):\n",
    "    last = alphabet.index(letter) + 1\n",
    "    side = last * 2 - 1\n",
    "\n",
    "    for i in range(side):\n",
    "        line = ['.'] * side\n",
    "        position = side / 2 - abs(side / 2 - i)\n",
    "        letter = alphabet[position]\n",
    "        \n",
    "        line[side / 2 - position] = letter\n",
    "        line[side - side / 2 + position - 1] = letter\n",
    "        \n",
    "        print ''.join(line)\n",
    "\n",
    "print_diamond('D')"
   ]
  },
  {
   "cell_type": "markdown",
   "metadata": {},
   "source": [
    "## Exercise #15: Tic Tac Toe draw"
   ]
  },
  {
   "cell_type": "code",
   "execution_count": 79,
   "metadata": {},
   "outputs": [
    {
     "name": "stdout",
     "output_type": "stream",
     "text": [
      "_O_|___|_X_\n",
      "___|_X_|_O_\n",
      " X |   |   \n"
     ]
    }
   ],
   "source": [
    "game = [[2, 0, 1],\n",
    "        [0, 1, 2],\n",
    "        [1, 0, 0]]\n",
    "\n",
    "def cell(cell, bottom_line):\n",
    "    return [bottom_line, 'X', 'O'][cell]\n",
    "\n",
    "def row(row, bottom_line):\n",
    "    cells = []\n",
    "    for i in range(3):\n",
    "        cells.append(bottom_line + cell(row[i], bottom_line) + bottom_line)\n",
    "    \n",
    "    return '|'.join(cells)\n",
    "\n",
    "def board(game):\n",
    "    rows = []\n",
    "    for i in range(3):\n",
    "        rows.append(row(game[i], '_' if i < 2 else ' '))\n",
    "    \n",
    "    return '\\n'.join(rows)\n",
    "\n",
    "print board(game)\n"
   ]
  },
  {
   "cell_type": "markdown",
   "metadata": {},
   "source": [
    "## Exercise #16: Tic Tac Toe winner\n",
    "\n",
    "Here we are reusing solution to **#11: transpose** problem. `transpose()` is used to rotate game 90 degrees so we can keep looking for identical in rows only.\n",
    "\n",
    "We use `set()` feauture to keep only unique elements of a sequence. If resulting set contains only one element -- this row contains equal elements. Take a look [at other](https://thispointer.com/python-check-if-all-elements-in-a-list-are-same-or-matches-a-condition/) ways to find equal elements of a list.\n",
    "\n",
    "Take a look at `check_winner()` and notice how boolean operators threat truish values:"
   ]
  },
  {
   "cell_type": "code",
   "execution_count": 117,
   "metadata": {},
   "outputs": [
    {
     "data": {
      "text/plain": [
       "1"
      ]
     },
     "execution_count": 117,
     "metadata": {},
     "output_type": "execute_result"
    }
   ],
   "source": [
    "False or 1"
   ]
  },
  {
   "cell_type": "code",
   "execution_count": 119,
   "metadata": {},
   "outputs": [
    {
     "data": {
      "text/plain": [
       "'I love'"
      ]
     },
     "execution_count": 119,
     "metadata": {},
     "output_type": "execute_result"
    }
   ],
   "source": [
    "None or \"I love\" or \"Python\" or False"
   ]
  },
  {
   "cell_type": "markdown",
   "metadata": {},
   "source": [
    " * **or** will try to evaluate condition until it finds **first truish** value, then it will return it.\n",
    " * **and** will try to evaluate condition until it finds **first falsish** value, then it will return it. If all values are truish, the last one will be returned"
   ]
  },
  {
   "cell_type": "code",
   "execution_count": 129,
   "metadata": {},
   "outputs": [
    {
     "data": {
      "text/plain": [
       "'I love Python'"
      ]
     },
     "execution_count": 129,
     "metadata": {},
     "output_type": "execute_result"
    }
   ],
   "source": [
    "True and 1 and \"I love Python\""
   ]
  },
  {
   "cell_type": "code",
   "execution_count": 130,
   "metadata": {},
   "outputs": [
    {
     "data": {
      "text/plain": [
       "False"
      ]
     },
     "execution_count": 130,
     "metadata": {},
     "output_type": "execute_result"
    }
   ],
   "source": [
    "True and 1 and \"I love Python\" and False"
   ]
  },
  {
   "cell_type": "markdown",
   "metadata": {},
   "source": [
    "This trick is usually used to give a variable some default value if falsish value passed:"
   ]
  },
  {
   "cell_type": "code",
   "execution_count": 126,
   "metadata": {},
   "outputs": [
    {
     "name": "stdout",
     "output_type": "stream",
     "text": [
      "Default value\n",
      "Defined value\n"
     ]
    }
   ],
   "source": [
    "def myfun(param):\n",
    "    param = param or \"Default value\"\n",
    "    return param\n",
    "\n",
    "print myfun(None)\n",
    "print myfun(\"Defined value\")"
   ]
  },
  {
   "cell_type": "markdown",
   "metadata": {},
   "source": [
    "Solution to problem:"
   ]
  },
  {
   "cell_type": "code",
   "execution_count": 116,
   "metadata": {},
   "outputs": [],
   "source": [
    "# run solution for 11'th problem to define transpose() function\n",
    "\n",
    "def check_row(row):\n",
    "    variability = list(set(row))\n",
    "    \n",
    "    return variability[0] if len(variability) == 1 else None\n",
    "\n",
    "def check_horizonals(game):\n",
    "    # make list of sets containing only unique elements of each row\n",
    "    rows_result = [check_row(game[i]) for i in range(3)]\n",
    "    \n",
    "    # filter out winning rows, e.g. throw away None results\n",
    "    winners = [result for result in rows_result if not result is None]\n",
    "\n",
    "    if len(winners) == 0:\n",
    "        return None\n",
    "    \n",
    "    return winners[0]\n",
    "\n",
    "def check_verticals(game):\n",
    "    return check_horizonals(transpose(game))\n",
    "\n",
    "def get_diagonal(game, row_calculator):\n",
    "    return [game[i][row_calculator(i)] for i in range(3)]\n",
    "\n",
    "# lambda i: i        -> left-top to right-bottom\n",
    "# lambda i: 2 - i    -> left-bottom to right-top\n",
    "def check_winner(game):\n",
    "    return check_horizonals(game) \\\n",
    "        or check_verticals(game) \\\n",
    "        or check_row(get_diagonal(game, lambda i: i)) \\\n",
    "        or check_row(get_diagonal(game, lambda i: 2 - i))\n",
    "\n",
    "winner_is_2 = [[2, 2, 0],\n",
    "               [2, 1, 0],\n",
    "               [2, 1, 1]]\n",
    "\n",
    "winner_is_1 = [[1, 2, 0],\n",
    "               [2, 1, 0],\n",
    "               [2, 1, 1]]\n",
    "\n",
    "winner_is_also_1 = [[0, 1, 0],\n",
    "                    [2, 1, 0],\n",
    "                    [2, 1, 1]]\n",
    "\n",
    "no_winner = [[1, 2, 0],\n",
    "             [2, 1, 0],\n",
    "             [2, 1, 2]]\n",
    "\n",
    "also_no_winner = [[1, 2, 0],\n",
    "                  [2, 1, 0],\n",
    "                  [2, 1, 0]]\n",
    "\n",
    "assert check_winner(winner_is_2) == 2\n",
    "assert check_winner(winner_is_1) == 1\n",
    "assert check_winner(winner_is_also_1) == 1\n",
    "assert check_winner(no_winner) == None\n",
    "assert check_winner(also_no_winner) == None"
   ]
  },
  {
   "cell_type": "markdown",
   "metadata": {},
   "source": [
    "## Exercise #17: sum of its parts"
   ]
  },
  {
   "cell_type": "code",
   "execution_count": 364,
   "metadata": {},
   "outputs": [
    {
     "data": {
      "text/plain": [
       "[[1, 1, 1], [1, 2], [2, 1], [3]]"
      ]
     },
     "execution_count": 364,
     "metadata": {},
     "output_type": "execute_result"
    }
   ],
   "source": [
    "def sum_combinations(N):\n",
    "    if N == 0:\n",
    "        return [[]]\n",
    "\n",
    "    if N == 1:\n",
    "        return [[1]]\n",
    "    \n",
    "    results = []\n",
    "    for i in range(1, N + 1):\n",
    "        subcombinations = sum_combinations(N - i)\n",
    "        for s in subcombinations:\n",
    "            results.append([i] + s)\n",
    "\n",
    "    return results\n",
    "\n",
    "sum_combinations(3)"
   ]
  },
  {
   "cell_type": "markdown",
   "metadata": {},
   "source": [
    "## Exercise #17: change\n",
    "\n",
    "Since we don't know how much iterations it will take to calculate the result, this is the case where **while** is convinient."
   ]
  },
  {
   "cell_type": "code",
   "execution_count": 383,
   "metadata": {},
   "outputs": [
    {
     "ename": "KeyboardInterrupt",
     "evalue": "",
     "output_type": "error",
     "traceback": [
      "\u001b[0;31m---------------------------------------------------------------------------\u001b[0m",
      "\u001b[0;31mKeyboardInterrupt\u001b[0m                         Traceback (most recent call last)",
      "\u001b[0;32m<ipython-input-383-04772701e30e>\u001b[0m in \u001b[0;36m<module>\u001b[0;34m()\u001b[0m\n\u001b[1;32m     26\u001b[0m \u001b[0;32massert\u001b[0m \u001b[0mfind_minimum_coins\u001b[0m\u001b[0;34m(\u001b[0m\u001b[0;36m15\u001b[0m\u001b[0;34m,\u001b[0m \u001b[0;34m[\u001b[0m\u001b[0;36m1\u001b[0m\u001b[0;34m,\u001b[0m \u001b[0;36m5\u001b[0m\u001b[0;34m,\u001b[0m \u001b[0;36m10\u001b[0m\u001b[0;34m,\u001b[0m \u001b[0;36m25\u001b[0m\u001b[0;34m,\u001b[0m \u001b[0;36m100\u001b[0m\u001b[0;34m]\u001b[0m\u001b[0;34m)\u001b[0m \u001b[0;34m==\u001b[0m \u001b[0;34m[\u001b[0m\u001b[0;36m5\u001b[0m\u001b[0;34m,\u001b[0m \u001b[0;36m10\u001b[0m\u001b[0;34m]\u001b[0m\u001b[0;34m\u001b[0m\u001b[0m\n\u001b[1;32m     27\u001b[0m \u001b[0;32massert\u001b[0m \u001b[0mfind_minimum_coins\u001b[0m\u001b[0;34m(\u001b[0m\u001b[0;36m23\u001b[0m\u001b[0;34m,\u001b[0m \u001b[0;34m[\u001b[0m\u001b[0;36m1\u001b[0m\u001b[0;34m,\u001b[0m \u001b[0;36m4\u001b[0m\u001b[0;34m,\u001b[0m \u001b[0;36m15\u001b[0m\u001b[0;34m,\u001b[0m \u001b[0;36m20\u001b[0m\u001b[0;34m,\u001b[0m \u001b[0;36m50\u001b[0m\u001b[0;34m]\u001b[0m\u001b[0;34m)\u001b[0m \u001b[0;34m==\u001b[0m \u001b[0;34m[\u001b[0m\u001b[0;36m4\u001b[0m\u001b[0;34m,\u001b[0m \u001b[0;36m4\u001b[0m\u001b[0;34m,\u001b[0m \u001b[0;36m15\u001b[0m\u001b[0;34m]\u001b[0m\u001b[0;34m\u001b[0m\u001b[0m\n\u001b[0;32m---> 28\u001b[0;31m \u001b[0;32massert\u001b[0m \u001b[0mfind_minimum_coins\u001b[0m\u001b[0;34m(\u001b[0m\u001b[0;36m63\u001b[0m\u001b[0;34m,\u001b[0m \u001b[0;34m[\u001b[0m\u001b[0;36m1\u001b[0m\u001b[0;34m,\u001b[0m \u001b[0;36m5\u001b[0m\u001b[0;34m,\u001b[0m \u001b[0;36m10\u001b[0m\u001b[0;34m,\u001b[0m \u001b[0;36m21\u001b[0m\u001b[0;34m,\u001b[0m \u001b[0;36m25\u001b[0m\u001b[0;34m]\u001b[0m\u001b[0;34m)\u001b[0m \u001b[0;34m==\u001b[0m \u001b[0;34m[\u001b[0m\u001b[0;36m21\u001b[0m\u001b[0;34m,\u001b[0m \u001b[0;36m21\u001b[0m\u001b[0;34m,\u001b[0m \u001b[0;36m21\u001b[0m\u001b[0;34m]\u001b[0m\u001b[0;34m\u001b[0m\u001b[0m\n\u001b[0m\u001b[1;32m     29\u001b[0m \u001b[0;32massert\u001b[0m \u001b[0mfind_minimum_coins\u001b[0m\u001b[0;34m(\u001b[0m\u001b[0;36m999\u001b[0m\u001b[0;34m,\u001b[0m \u001b[0;34m[\u001b[0m\u001b[0;36m1\u001b[0m\u001b[0;34m,\u001b[0m \u001b[0;36m2\u001b[0m\u001b[0;34m,\u001b[0m \u001b[0;36m5\u001b[0m\u001b[0;34m,\u001b[0m \u001b[0;36m10\u001b[0m\u001b[0;34m,\u001b[0m \u001b[0;36m20\u001b[0m\u001b[0;34m,\u001b[0m \u001b[0;36m50\u001b[0m\u001b[0;34m,\u001b[0m \u001b[0;36m100\u001b[0m\u001b[0;34m]\u001b[0m\u001b[0;34m)\u001b[0m \u001b[0;34m==\u001b[0m \u001b[0;34m[\u001b[0m\u001b[0;36m2\u001b[0m\u001b[0;34m,\u001b[0m \u001b[0;36m2\u001b[0m\u001b[0;34m,\u001b[0m \u001b[0;36m5\u001b[0m\u001b[0;34m,\u001b[0m \u001b[0;36m20\u001b[0m\u001b[0;34m,\u001b[0m \u001b[0;36m20\u001b[0m\u001b[0;34m,\u001b[0m \u001b[0;36m50\u001b[0m\u001b[0;34m,\u001b[0m \u001b[0;36m100\u001b[0m\u001b[0;34m,\u001b[0m \u001b[0;36m100\u001b[0m\u001b[0;34m,\u001b[0m \u001b[0;36m100\u001b[0m\u001b[0;34m,\u001b[0m \u001b[0;36m100\u001b[0m\u001b[0;34m,\u001b[0m \u001b[0;36m100\u001b[0m\u001b[0;34m,\u001b[0m \u001b[0;36m100\u001b[0m\u001b[0;34m,\u001b[0m \u001b[0;36m100\u001b[0m\u001b[0;34m,\u001b[0m \u001b[0;36m100\u001b[0m\u001b[0;34m,\u001b[0m \u001b[0;36m100\u001b[0m\u001b[0;34m]\u001b[0m\u001b[0;34m\u001b[0m\u001b[0m\n\u001b[1;32m     30\u001b[0m \u001b[0;32massert\u001b[0m \u001b[0mfind_minimum_coins\u001b[0m\u001b[0;34m(\u001b[0m\u001b[0;36m21\u001b[0m\u001b[0;34m,\u001b[0m \u001b[0;34m[\u001b[0m\u001b[0;36m2\u001b[0m\u001b[0;34m,\u001b[0m \u001b[0;36m5\u001b[0m\u001b[0;34m,\u001b[0m \u001b[0;36m10\u001b[0m\u001b[0;34m,\u001b[0m \u001b[0;36m20\u001b[0m\u001b[0;34m,\u001b[0m \u001b[0;36m50\u001b[0m\u001b[0;34m]\u001b[0m\u001b[0;34m)\u001b[0m \u001b[0;34m==\u001b[0m \u001b[0;34m[\u001b[0m\u001b[0;36m2\u001b[0m\u001b[0;34m,\u001b[0m \u001b[0;36m2\u001b[0m\u001b[0;34m,\u001b[0m \u001b[0;36m2\u001b[0m\u001b[0;34m,\u001b[0m \u001b[0;36m5\u001b[0m\u001b[0;34m,\u001b[0m \u001b[0;36m10\u001b[0m\u001b[0;34m]\u001b[0m\u001b[0;34m\u001b[0m\u001b[0m\n",
      "\u001b[0;32m<ipython-input-383-04772701e30e>\u001b[0m in \u001b[0;36mfind_minimum_coins\u001b[0;34m(total, coins)\u001b[0m\n\u001b[1;32m     19\u001b[0m \u001b[0;34m\u001b[0m\u001b[0m\n\u001b[1;32m     20\u001b[0m \u001b[0;32mdef\u001b[0m \u001b[0mfind_minimum_coins\u001b[0m\u001b[0;34m(\u001b[0m\u001b[0mtotal\u001b[0m\u001b[0;34m,\u001b[0m \u001b[0mcoins\u001b[0m\u001b[0;34m)\u001b[0m\u001b[0;34m:\u001b[0m\u001b[0;34m\u001b[0m\u001b[0m\n\u001b[0;32m---> 21\u001b[0;31m     \u001b[0md\u001b[0m \u001b[0;34m=\u001b[0m \u001b[0;34m(\u001b[0m\u001b[0;34m(\u001b[0m\u001b[0mlen\u001b[0m\u001b[0;34m(\u001b[0m\u001b[0ms\u001b[0m\u001b[0;34m)\u001b[0m\u001b[0;34m,\u001b[0m \u001b[0ms\u001b[0m\u001b[0;34m)\u001b[0m \u001b[0;32mfor\u001b[0m \u001b[0ms\u001b[0m \u001b[0;32min\u001b[0m \u001b[0mcoin_combinations\u001b[0m\u001b[0;34m(\u001b[0m\u001b[0mtotal\u001b[0m\u001b[0;34m,\u001b[0m \u001b[0mcoins\u001b[0m\u001b[0;34m)\u001b[0m\u001b[0;34m)\u001b[0m\u001b[0;34m\u001b[0m\u001b[0m\n\u001b[0m\u001b[1;32m     22\u001b[0m \u001b[0;34m\u001b[0m\u001b[0m\n\u001b[1;32m     23\u001b[0m     \u001b[0;32mreturn\u001b[0m \u001b[0msorted\u001b[0m\u001b[0;34m(\u001b[0m\u001b[0md\u001b[0m\u001b[0;34m,\u001b[0m \u001b[0mkey\u001b[0m\u001b[0;34m=\u001b[0m\u001b[0;32mlambda\u001b[0m \u001b[0mx\u001b[0m\u001b[0;34m:\u001b[0m \u001b[0mx\u001b[0m\u001b[0;34m[\u001b[0m\u001b[0;36m0\u001b[0m\u001b[0;34m]\u001b[0m\u001b[0;34m)\u001b[0m\u001b[0;34m[\u001b[0m\u001b[0;36m0\u001b[0m\u001b[0;34m]\u001b[0m\u001b[0;34m[\u001b[0m\u001b[0;36m1\u001b[0m\u001b[0;34m]\u001b[0m\u001b[0;34m\u001b[0m\u001b[0m\n",
      "\u001b[0;32m<ipython-input-383-04772701e30e>\u001b[0m in \u001b[0;36mcoin_combinations\u001b[0;34m(total, coins)\u001b[0m\n\u001b[1;32m     11\u001b[0m     \u001b[0;32mfor\u001b[0m \u001b[0mcoin\u001b[0m \u001b[0;32min\u001b[0m \u001b[0mcoins\u001b[0m\u001b[0;34m:\u001b[0m\u001b[0;34m\u001b[0m\u001b[0m\n\u001b[1;32m     12\u001b[0m         \u001b[0;32mif\u001b[0m \u001b[0mcoin\u001b[0m \u001b[0;34m<=\u001b[0m \u001b[0mtotal\u001b[0m\u001b[0;34m:\u001b[0m\u001b[0;34m\u001b[0m\u001b[0m\n\u001b[0;32m---> 13\u001b[0;31m             \u001b[0mx\u001b[0m \u001b[0;34m=\u001b[0m \u001b[0mcoin_combinations\u001b[0m\u001b[0;34m(\u001b[0m\u001b[0mtotal\u001b[0m \u001b[0;34m-\u001b[0m \u001b[0mcoin\u001b[0m\u001b[0;34m,\u001b[0m \u001b[0mcoins\u001b[0m\u001b[0;34m)\u001b[0m\u001b[0;34m\u001b[0m\u001b[0m\n\u001b[0m\u001b[1;32m     14\u001b[0m \u001b[0;34m\u001b[0m\u001b[0m\n\u001b[1;32m     15\u001b[0m             \u001b[0;32mfor\u001b[0m \u001b[0ms\u001b[0m \u001b[0;32min\u001b[0m \u001b[0mx\u001b[0m\u001b[0;34m:\u001b[0m\u001b[0;34m\u001b[0m\u001b[0m\n",
      "\u001b[0;32m<ipython-input-383-04772701e30e>\u001b[0m in \u001b[0;36mcoin_combinations\u001b[0;34m(total, coins)\u001b[0m\n\u001b[1;32m     11\u001b[0m     \u001b[0;32mfor\u001b[0m \u001b[0mcoin\u001b[0m \u001b[0;32min\u001b[0m \u001b[0mcoins\u001b[0m\u001b[0;34m:\u001b[0m\u001b[0;34m\u001b[0m\u001b[0m\n\u001b[1;32m     12\u001b[0m         \u001b[0;32mif\u001b[0m \u001b[0mcoin\u001b[0m \u001b[0;34m<=\u001b[0m \u001b[0mtotal\u001b[0m\u001b[0;34m:\u001b[0m\u001b[0;34m\u001b[0m\u001b[0m\n\u001b[0;32m---> 13\u001b[0;31m             \u001b[0mx\u001b[0m \u001b[0;34m=\u001b[0m \u001b[0mcoin_combinations\u001b[0m\u001b[0;34m(\u001b[0m\u001b[0mtotal\u001b[0m \u001b[0;34m-\u001b[0m \u001b[0mcoin\u001b[0m\u001b[0;34m,\u001b[0m \u001b[0mcoins\u001b[0m\u001b[0;34m)\u001b[0m\u001b[0;34m\u001b[0m\u001b[0m\n\u001b[0m\u001b[1;32m     14\u001b[0m \u001b[0;34m\u001b[0m\u001b[0m\n\u001b[1;32m     15\u001b[0m             \u001b[0;32mfor\u001b[0m \u001b[0ms\u001b[0m \u001b[0;32min\u001b[0m \u001b[0mx\u001b[0m\u001b[0;34m:\u001b[0m\u001b[0;34m\u001b[0m\u001b[0m\n",
      "\u001b[0;32m<ipython-input-383-04772701e30e>\u001b[0m in \u001b[0;36mcoin_combinations\u001b[0;34m(total, coins)\u001b[0m\n\u001b[1;32m     11\u001b[0m     \u001b[0;32mfor\u001b[0m \u001b[0mcoin\u001b[0m \u001b[0;32min\u001b[0m \u001b[0mcoins\u001b[0m\u001b[0;34m:\u001b[0m\u001b[0;34m\u001b[0m\u001b[0m\n\u001b[1;32m     12\u001b[0m         \u001b[0;32mif\u001b[0m \u001b[0mcoin\u001b[0m \u001b[0;34m<=\u001b[0m \u001b[0mtotal\u001b[0m\u001b[0;34m:\u001b[0m\u001b[0;34m\u001b[0m\u001b[0m\n\u001b[0;32m---> 13\u001b[0;31m             \u001b[0mx\u001b[0m \u001b[0;34m=\u001b[0m \u001b[0mcoin_combinations\u001b[0m\u001b[0;34m(\u001b[0m\u001b[0mtotal\u001b[0m \u001b[0;34m-\u001b[0m \u001b[0mcoin\u001b[0m\u001b[0;34m,\u001b[0m \u001b[0mcoins\u001b[0m\u001b[0;34m)\u001b[0m\u001b[0;34m\u001b[0m\u001b[0m\n\u001b[0m\u001b[1;32m     14\u001b[0m \u001b[0;34m\u001b[0m\u001b[0m\n\u001b[1;32m     15\u001b[0m             \u001b[0;32mfor\u001b[0m \u001b[0ms\u001b[0m \u001b[0;32min\u001b[0m \u001b[0mx\u001b[0m\u001b[0;34m:\u001b[0m\u001b[0;34m\u001b[0m\u001b[0m\n",
      "\u001b[0;32m<ipython-input-383-04772701e30e>\u001b[0m in \u001b[0;36mcoin_combinations\u001b[0;34m(total, coins)\u001b[0m\n\u001b[1;32m     11\u001b[0m     \u001b[0;32mfor\u001b[0m \u001b[0mcoin\u001b[0m \u001b[0;32min\u001b[0m \u001b[0mcoins\u001b[0m\u001b[0;34m:\u001b[0m\u001b[0;34m\u001b[0m\u001b[0m\n\u001b[1;32m     12\u001b[0m         \u001b[0;32mif\u001b[0m \u001b[0mcoin\u001b[0m \u001b[0;34m<=\u001b[0m \u001b[0mtotal\u001b[0m\u001b[0;34m:\u001b[0m\u001b[0;34m\u001b[0m\u001b[0m\n\u001b[0;32m---> 13\u001b[0;31m             \u001b[0mx\u001b[0m \u001b[0;34m=\u001b[0m \u001b[0mcoin_combinations\u001b[0m\u001b[0;34m(\u001b[0m\u001b[0mtotal\u001b[0m \u001b[0;34m-\u001b[0m \u001b[0mcoin\u001b[0m\u001b[0;34m,\u001b[0m \u001b[0mcoins\u001b[0m\u001b[0;34m)\u001b[0m\u001b[0;34m\u001b[0m\u001b[0m\n\u001b[0m\u001b[1;32m     14\u001b[0m \u001b[0;34m\u001b[0m\u001b[0m\n\u001b[1;32m     15\u001b[0m             \u001b[0;32mfor\u001b[0m \u001b[0ms\u001b[0m \u001b[0;32min\u001b[0m \u001b[0mx\u001b[0m\u001b[0;34m:\u001b[0m\u001b[0;34m\u001b[0m\u001b[0m\n",
      "\u001b[0;32m<ipython-input-383-04772701e30e>\u001b[0m in \u001b[0;36mcoin_combinations\u001b[0;34m(total, coins)\u001b[0m\n\u001b[1;32m     11\u001b[0m     \u001b[0;32mfor\u001b[0m \u001b[0mcoin\u001b[0m \u001b[0;32min\u001b[0m \u001b[0mcoins\u001b[0m\u001b[0;34m:\u001b[0m\u001b[0;34m\u001b[0m\u001b[0m\n\u001b[1;32m     12\u001b[0m         \u001b[0;32mif\u001b[0m \u001b[0mcoin\u001b[0m \u001b[0;34m<=\u001b[0m \u001b[0mtotal\u001b[0m\u001b[0;34m:\u001b[0m\u001b[0;34m\u001b[0m\u001b[0m\n\u001b[0;32m---> 13\u001b[0;31m             \u001b[0mx\u001b[0m \u001b[0;34m=\u001b[0m \u001b[0mcoin_combinations\u001b[0m\u001b[0;34m(\u001b[0m\u001b[0mtotal\u001b[0m \u001b[0;34m-\u001b[0m \u001b[0mcoin\u001b[0m\u001b[0;34m,\u001b[0m \u001b[0mcoins\u001b[0m\u001b[0;34m)\u001b[0m\u001b[0;34m\u001b[0m\u001b[0m\n\u001b[0m\u001b[1;32m     14\u001b[0m \u001b[0;34m\u001b[0m\u001b[0m\n\u001b[1;32m     15\u001b[0m             \u001b[0;32mfor\u001b[0m \u001b[0ms\u001b[0m \u001b[0;32min\u001b[0m \u001b[0mx\u001b[0m\u001b[0;34m:\u001b[0m\u001b[0;34m\u001b[0m\u001b[0m\n",
      "\u001b[0;32m<ipython-input-383-04772701e30e>\u001b[0m in \u001b[0;36mcoin_combinations\u001b[0;34m(total, coins)\u001b[0m\n\u001b[1;32m     11\u001b[0m     \u001b[0;32mfor\u001b[0m \u001b[0mcoin\u001b[0m \u001b[0;32min\u001b[0m \u001b[0mcoins\u001b[0m\u001b[0;34m:\u001b[0m\u001b[0;34m\u001b[0m\u001b[0m\n\u001b[1;32m     12\u001b[0m         \u001b[0;32mif\u001b[0m \u001b[0mcoin\u001b[0m \u001b[0;34m<=\u001b[0m \u001b[0mtotal\u001b[0m\u001b[0;34m:\u001b[0m\u001b[0;34m\u001b[0m\u001b[0m\n\u001b[0;32m---> 13\u001b[0;31m             \u001b[0mx\u001b[0m \u001b[0;34m=\u001b[0m \u001b[0mcoin_combinations\u001b[0m\u001b[0;34m(\u001b[0m\u001b[0mtotal\u001b[0m \u001b[0;34m-\u001b[0m \u001b[0mcoin\u001b[0m\u001b[0;34m,\u001b[0m \u001b[0mcoins\u001b[0m\u001b[0;34m)\u001b[0m\u001b[0;34m\u001b[0m\u001b[0m\n\u001b[0m\u001b[1;32m     14\u001b[0m \u001b[0;34m\u001b[0m\u001b[0m\n\u001b[1;32m     15\u001b[0m             \u001b[0;32mfor\u001b[0m \u001b[0ms\u001b[0m \u001b[0;32min\u001b[0m \u001b[0mx\u001b[0m\u001b[0;34m:\u001b[0m\u001b[0;34m\u001b[0m\u001b[0m\n",
      "\u001b[0;32m<ipython-input-383-04772701e30e>\u001b[0m in \u001b[0;36mcoin_combinations\u001b[0;34m(total, coins)\u001b[0m\n\u001b[1;32m     11\u001b[0m     \u001b[0;32mfor\u001b[0m \u001b[0mcoin\u001b[0m \u001b[0;32min\u001b[0m \u001b[0mcoins\u001b[0m\u001b[0;34m:\u001b[0m\u001b[0;34m\u001b[0m\u001b[0m\n\u001b[1;32m     12\u001b[0m         \u001b[0;32mif\u001b[0m \u001b[0mcoin\u001b[0m \u001b[0;34m<=\u001b[0m \u001b[0mtotal\u001b[0m\u001b[0;34m:\u001b[0m\u001b[0;34m\u001b[0m\u001b[0m\n\u001b[0;32m---> 13\u001b[0;31m             \u001b[0mx\u001b[0m \u001b[0;34m=\u001b[0m \u001b[0mcoin_combinations\u001b[0m\u001b[0;34m(\u001b[0m\u001b[0mtotal\u001b[0m \u001b[0;34m-\u001b[0m \u001b[0mcoin\u001b[0m\u001b[0;34m,\u001b[0m \u001b[0mcoins\u001b[0m\u001b[0;34m)\u001b[0m\u001b[0;34m\u001b[0m\u001b[0m\n\u001b[0m\u001b[1;32m     14\u001b[0m \u001b[0;34m\u001b[0m\u001b[0m\n\u001b[1;32m     15\u001b[0m             \u001b[0;32mfor\u001b[0m \u001b[0ms\u001b[0m \u001b[0;32min\u001b[0m \u001b[0mx\u001b[0m\u001b[0;34m:\u001b[0m\u001b[0;34m\u001b[0m\u001b[0m\n",
      "\u001b[0;32m<ipython-input-383-04772701e30e>\u001b[0m in \u001b[0;36mcoin_combinations\u001b[0;34m(total, coins)\u001b[0m\n\u001b[1;32m     11\u001b[0m     \u001b[0;32mfor\u001b[0m \u001b[0mcoin\u001b[0m \u001b[0;32min\u001b[0m \u001b[0mcoins\u001b[0m\u001b[0;34m:\u001b[0m\u001b[0;34m\u001b[0m\u001b[0m\n\u001b[1;32m     12\u001b[0m         \u001b[0;32mif\u001b[0m \u001b[0mcoin\u001b[0m \u001b[0;34m<=\u001b[0m \u001b[0mtotal\u001b[0m\u001b[0;34m:\u001b[0m\u001b[0;34m\u001b[0m\u001b[0m\n\u001b[0;32m---> 13\u001b[0;31m             \u001b[0mx\u001b[0m \u001b[0;34m=\u001b[0m \u001b[0mcoin_combinations\u001b[0m\u001b[0;34m(\u001b[0m\u001b[0mtotal\u001b[0m \u001b[0;34m-\u001b[0m \u001b[0mcoin\u001b[0m\u001b[0;34m,\u001b[0m \u001b[0mcoins\u001b[0m\u001b[0;34m)\u001b[0m\u001b[0;34m\u001b[0m\u001b[0m\n\u001b[0m\u001b[1;32m     14\u001b[0m \u001b[0;34m\u001b[0m\u001b[0m\n\u001b[1;32m     15\u001b[0m             \u001b[0;32mfor\u001b[0m \u001b[0ms\u001b[0m \u001b[0;32min\u001b[0m \u001b[0mx\u001b[0m\u001b[0;34m:\u001b[0m\u001b[0;34m\u001b[0m\u001b[0m\n",
      "\u001b[0;32m<ipython-input-383-04772701e30e>\u001b[0m in \u001b[0;36mcoin_combinations\u001b[0;34m(total, coins)\u001b[0m\n\u001b[1;32m     11\u001b[0m     \u001b[0;32mfor\u001b[0m \u001b[0mcoin\u001b[0m \u001b[0;32min\u001b[0m \u001b[0mcoins\u001b[0m\u001b[0;34m:\u001b[0m\u001b[0;34m\u001b[0m\u001b[0m\n\u001b[1;32m     12\u001b[0m         \u001b[0;32mif\u001b[0m \u001b[0mcoin\u001b[0m \u001b[0;34m<=\u001b[0m \u001b[0mtotal\u001b[0m\u001b[0;34m:\u001b[0m\u001b[0;34m\u001b[0m\u001b[0m\n\u001b[0;32m---> 13\u001b[0;31m             \u001b[0mx\u001b[0m \u001b[0;34m=\u001b[0m \u001b[0mcoin_combinations\u001b[0m\u001b[0;34m(\u001b[0m\u001b[0mtotal\u001b[0m \u001b[0;34m-\u001b[0m \u001b[0mcoin\u001b[0m\u001b[0;34m,\u001b[0m \u001b[0mcoins\u001b[0m\u001b[0;34m)\u001b[0m\u001b[0;34m\u001b[0m\u001b[0m\n\u001b[0m\u001b[1;32m     14\u001b[0m \u001b[0;34m\u001b[0m\u001b[0m\n\u001b[1;32m     15\u001b[0m             \u001b[0;32mfor\u001b[0m \u001b[0ms\u001b[0m \u001b[0;32min\u001b[0m \u001b[0mx\u001b[0m\u001b[0;34m:\u001b[0m\u001b[0;34m\u001b[0m\u001b[0m\n",
      "\u001b[0;32m<ipython-input-383-04772701e30e>\u001b[0m in \u001b[0;36mcoin_combinations\u001b[0;34m(total, coins)\u001b[0m\n\u001b[1;32m     11\u001b[0m     \u001b[0;32mfor\u001b[0m \u001b[0mcoin\u001b[0m \u001b[0;32min\u001b[0m \u001b[0mcoins\u001b[0m\u001b[0;34m:\u001b[0m\u001b[0;34m\u001b[0m\u001b[0m\n\u001b[1;32m     12\u001b[0m         \u001b[0;32mif\u001b[0m \u001b[0mcoin\u001b[0m \u001b[0;34m<=\u001b[0m \u001b[0mtotal\u001b[0m\u001b[0;34m:\u001b[0m\u001b[0;34m\u001b[0m\u001b[0m\n\u001b[0;32m---> 13\u001b[0;31m             \u001b[0mx\u001b[0m \u001b[0;34m=\u001b[0m \u001b[0mcoin_combinations\u001b[0m\u001b[0;34m(\u001b[0m\u001b[0mtotal\u001b[0m \u001b[0;34m-\u001b[0m \u001b[0mcoin\u001b[0m\u001b[0;34m,\u001b[0m \u001b[0mcoins\u001b[0m\u001b[0;34m)\u001b[0m\u001b[0;34m\u001b[0m\u001b[0m\n\u001b[0m\u001b[1;32m     14\u001b[0m \u001b[0;34m\u001b[0m\u001b[0m\n\u001b[1;32m     15\u001b[0m             \u001b[0;32mfor\u001b[0m \u001b[0ms\u001b[0m \u001b[0;32min\u001b[0m \u001b[0mx\u001b[0m\u001b[0;34m:\u001b[0m\u001b[0;34m\u001b[0m\u001b[0m\n",
      "\u001b[0;32m<ipython-input-383-04772701e30e>\u001b[0m in \u001b[0;36mcoin_combinations\u001b[0;34m(total, coins)\u001b[0m\n\u001b[1;32m     11\u001b[0m     \u001b[0;32mfor\u001b[0m \u001b[0mcoin\u001b[0m \u001b[0;32min\u001b[0m \u001b[0mcoins\u001b[0m\u001b[0;34m:\u001b[0m\u001b[0;34m\u001b[0m\u001b[0m\n\u001b[1;32m     12\u001b[0m         \u001b[0;32mif\u001b[0m \u001b[0mcoin\u001b[0m \u001b[0;34m<=\u001b[0m \u001b[0mtotal\u001b[0m\u001b[0;34m:\u001b[0m\u001b[0;34m\u001b[0m\u001b[0m\n\u001b[0;32m---> 13\u001b[0;31m             \u001b[0mx\u001b[0m \u001b[0;34m=\u001b[0m \u001b[0mcoin_combinations\u001b[0m\u001b[0;34m(\u001b[0m\u001b[0mtotal\u001b[0m \u001b[0;34m-\u001b[0m \u001b[0mcoin\u001b[0m\u001b[0;34m,\u001b[0m \u001b[0mcoins\u001b[0m\u001b[0;34m)\u001b[0m\u001b[0;34m\u001b[0m\u001b[0m\n\u001b[0m\u001b[1;32m     14\u001b[0m \u001b[0;34m\u001b[0m\u001b[0m\n\u001b[1;32m     15\u001b[0m             \u001b[0;32mfor\u001b[0m \u001b[0ms\u001b[0m \u001b[0;32min\u001b[0m \u001b[0mx\u001b[0m\u001b[0;34m:\u001b[0m\u001b[0;34m\u001b[0m\u001b[0m\n",
      "\u001b[0;32m<ipython-input-383-04772701e30e>\u001b[0m in \u001b[0;36mcoin_combinations\u001b[0;34m(total, coins)\u001b[0m\n\u001b[1;32m     11\u001b[0m     \u001b[0;32mfor\u001b[0m \u001b[0mcoin\u001b[0m \u001b[0;32min\u001b[0m \u001b[0mcoins\u001b[0m\u001b[0;34m:\u001b[0m\u001b[0;34m\u001b[0m\u001b[0m\n\u001b[1;32m     12\u001b[0m         \u001b[0;32mif\u001b[0m \u001b[0mcoin\u001b[0m \u001b[0;34m<=\u001b[0m \u001b[0mtotal\u001b[0m\u001b[0;34m:\u001b[0m\u001b[0;34m\u001b[0m\u001b[0m\n\u001b[0;32m---> 13\u001b[0;31m             \u001b[0mx\u001b[0m \u001b[0;34m=\u001b[0m \u001b[0mcoin_combinations\u001b[0m\u001b[0;34m(\u001b[0m\u001b[0mtotal\u001b[0m \u001b[0;34m-\u001b[0m \u001b[0mcoin\u001b[0m\u001b[0;34m,\u001b[0m \u001b[0mcoins\u001b[0m\u001b[0;34m)\u001b[0m\u001b[0;34m\u001b[0m\u001b[0m\n\u001b[0m\u001b[1;32m     14\u001b[0m \u001b[0;34m\u001b[0m\u001b[0m\n\u001b[1;32m     15\u001b[0m             \u001b[0;32mfor\u001b[0m \u001b[0ms\u001b[0m \u001b[0;32min\u001b[0m \u001b[0mx\u001b[0m\u001b[0;34m:\u001b[0m\u001b[0;34m\u001b[0m\u001b[0m\n",
      "\u001b[0;32m<ipython-input-383-04772701e30e>\u001b[0m in \u001b[0;36mcoin_combinations\u001b[0;34m(total, coins)\u001b[0m\n\u001b[1;32m     11\u001b[0m     \u001b[0;32mfor\u001b[0m \u001b[0mcoin\u001b[0m \u001b[0;32min\u001b[0m \u001b[0mcoins\u001b[0m\u001b[0;34m:\u001b[0m\u001b[0;34m\u001b[0m\u001b[0m\n\u001b[1;32m     12\u001b[0m         \u001b[0;32mif\u001b[0m \u001b[0mcoin\u001b[0m \u001b[0;34m<=\u001b[0m \u001b[0mtotal\u001b[0m\u001b[0;34m:\u001b[0m\u001b[0;34m\u001b[0m\u001b[0m\n\u001b[0;32m---> 13\u001b[0;31m             \u001b[0mx\u001b[0m \u001b[0;34m=\u001b[0m \u001b[0mcoin_combinations\u001b[0m\u001b[0;34m(\u001b[0m\u001b[0mtotal\u001b[0m \u001b[0;34m-\u001b[0m \u001b[0mcoin\u001b[0m\u001b[0;34m,\u001b[0m \u001b[0mcoins\u001b[0m\u001b[0;34m)\u001b[0m\u001b[0;34m\u001b[0m\u001b[0m\n\u001b[0m\u001b[1;32m     14\u001b[0m \u001b[0;34m\u001b[0m\u001b[0m\n\u001b[1;32m     15\u001b[0m             \u001b[0;32mfor\u001b[0m \u001b[0ms\u001b[0m \u001b[0;32min\u001b[0m \u001b[0mx\u001b[0m\u001b[0;34m:\u001b[0m\u001b[0;34m\u001b[0m\u001b[0m\n",
      "\u001b[0;32m<ipython-input-383-04772701e30e>\u001b[0m in \u001b[0;36mcoin_combinations\u001b[0;34m(total, coins)\u001b[0m\n\u001b[1;32m     11\u001b[0m     \u001b[0;32mfor\u001b[0m \u001b[0mcoin\u001b[0m \u001b[0;32min\u001b[0m \u001b[0mcoins\u001b[0m\u001b[0;34m:\u001b[0m\u001b[0;34m\u001b[0m\u001b[0m\n\u001b[1;32m     12\u001b[0m         \u001b[0;32mif\u001b[0m \u001b[0mcoin\u001b[0m \u001b[0;34m<=\u001b[0m \u001b[0mtotal\u001b[0m\u001b[0;34m:\u001b[0m\u001b[0;34m\u001b[0m\u001b[0m\n\u001b[0;32m---> 13\u001b[0;31m             \u001b[0mx\u001b[0m \u001b[0;34m=\u001b[0m \u001b[0mcoin_combinations\u001b[0m\u001b[0;34m(\u001b[0m\u001b[0mtotal\u001b[0m \u001b[0;34m-\u001b[0m \u001b[0mcoin\u001b[0m\u001b[0;34m,\u001b[0m \u001b[0mcoins\u001b[0m\u001b[0;34m)\u001b[0m\u001b[0;34m\u001b[0m\u001b[0m\n\u001b[0m\u001b[1;32m     14\u001b[0m \u001b[0;34m\u001b[0m\u001b[0m\n\u001b[1;32m     15\u001b[0m             \u001b[0;32mfor\u001b[0m \u001b[0ms\u001b[0m \u001b[0;32min\u001b[0m \u001b[0mx\u001b[0m\u001b[0;34m:\u001b[0m\u001b[0;34m\u001b[0m\u001b[0m\n",
      "\u001b[0;32m<ipython-input-383-04772701e30e>\u001b[0m in \u001b[0;36mcoin_combinations\u001b[0;34m(total, coins)\u001b[0m\n\u001b[1;32m     11\u001b[0m     \u001b[0;32mfor\u001b[0m \u001b[0mcoin\u001b[0m \u001b[0;32min\u001b[0m \u001b[0mcoins\u001b[0m\u001b[0;34m:\u001b[0m\u001b[0;34m\u001b[0m\u001b[0m\n\u001b[1;32m     12\u001b[0m         \u001b[0;32mif\u001b[0m \u001b[0mcoin\u001b[0m \u001b[0;34m<=\u001b[0m \u001b[0mtotal\u001b[0m\u001b[0;34m:\u001b[0m\u001b[0;34m\u001b[0m\u001b[0m\n\u001b[0;32m---> 13\u001b[0;31m             \u001b[0mx\u001b[0m \u001b[0;34m=\u001b[0m \u001b[0mcoin_combinations\u001b[0m\u001b[0;34m(\u001b[0m\u001b[0mtotal\u001b[0m \u001b[0;34m-\u001b[0m \u001b[0mcoin\u001b[0m\u001b[0;34m,\u001b[0m \u001b[0mcoins\u001b[0m\u001b[0;34m)\u001b[0m\u001b[0;34m\u001b[0m\u001b[0m\n\u001b[0m\u001b[1;32m     14\u001b[0m \u001b[0;34m\u001b[0m\u001b[0m\n\u001b[1;32m     15\u001b[0m             \u001b[0;32mfor\u001b[0m \u001b[0ms\u001b[0m \u001b[0;32min\u001b[0m \u001b[0mx\u001b[0m\u001b[0;34m:\u001b[0m\u001b[0;34m\u001b[0m\u001b[0m\n",
      "\u001b[0;32m<ipython-input-383-04772701e30e>\u001b[0m in \u001b[0;36mcoin_combinations\u001b[0;34m(total, coins)\u001b[0m\n\u001b[1;32m     11\u001b[0m     \u001b[0;32mfor\u001b[0m \u001b[0mcoin\u001b[0m \u001b[0;32min\u001b[0m \u001b[0mcoins\u001b[0m\u001b[0;34m:\u001b[0m\u001b[0;34m\u001b[0m\u001b[0m\n\u001b[1;32m     12\u001b[0m         \u001b[0;32mif\u001b[0m \u001b[0mcoin\u001b[0m \u001b[0;34m<=\u001b[0m \u001b[0mtotal\u001b[0m\u001b[0;34m:\u001b[0m\u001b[0;34m\u001b[0m\u001b[0m\n\u001b[0;32m---> 13\u001b[0;31m             \u001b[0mx\u001b[0m \u001b[0;34m=\u001b[0m \u001b[0mcoin_combinations\u001b[0m\u001b[0;34m(\u001b[0m\u001b[0mtotal\u001b[0m \u001b[0;34m-\u001b[0m \u001b[0mcoin\u001b[0m\u001b[0;34m,\u001b[0m \u001b[0mcoins\u001b[0m\u001b[0;34m)\u001b[0m\u001b[0;34m\u001b[0m\u001b[0m\n\u001b[0m\u001b[1;32m     14\u001b[0m \u001b[0;34m\u001b[0m\u001b[0m\n\u001b[1;32m     15\u001b[0m             \u001b[0;32mfor\u001b[0m \u001b[0ms\u001b[0m \u001b[0;32min\u001b[0m \u001b[0mx\u001b[0m\u001b[0;34m:\u001b[0m\u001b[0;34m\u001b[0m\u001b[0m\n",
      "\u001b[0;32m<ipython-input-383-04772701e30e>\u001b[0m in \u001b[0;36mcoin_combinations\u001b[0;34m(total, coins)\u001b[0m\n\u001b[1;32m     11\u001b[0m     \u001b[0;32mfor\u001b[0m \u001b[0mcoin\u001b[0m \u001b[0;32min\u001b[0m \u001b[0mcoins\u001b[0m\u001b[0;34m:\u001b[0m\u001b[0;34m\u001b[0m\u001b[0m\n\u001b[1;32m     12\u001b[0m         \u001b[0;32mif\u001b[0m \u001b[0mcoin\u001b[0m \u001b[0;34m<=\u001b[0m \u001b[0mtotal\u001b[0m\u001b[0;34m:\u001b[0m\u001b[0;34m\u001b[0m\u001b[0m\n\u001b[0;32m---> 13\u001b[0;31m             \u001b[0mx\u001b[0m \u001b[0;34m=\u001b[0m \u001b[0mcoin_combinations\u001b[0m\u001b[0;34m(\u001b[0m\u001b[0mtotal\u001b[0m \u001b[0;34m-\u001b[0m \u001b[0mcoin\u001b[0m\u001b[0;34m,\u001b[0m \u001b[0mcoins\u001b[0m\u001b[0;34m)\u001b[0m\u001b[0;34m\u001b[0m\u001b[0m\n\u001b[0m\u001b[1;32m     14\u001b[0m \u001b[0;34m\u001b[0m\u001b[0m\n\u001b[1;32m     15\u001b[0m             \u001b[0;32mfor\u001b[0m \u001b[0ms\u001b[0m \u001b[0;32min\u001b[0m \u001b[0mx\u001b[0m\u001b[0;34m:\u001b[0m\u001b[0;34m\u001b[0m\u001b[0m\n",
      "\u001b[0;32m<ipython-input-383-04772701e30e>\u001b[0m in \u001b[0;36mcoin_combinations\u001b[0;34m(total, coins)\u001b[0m\n\u001b[1;32m     14\u001b[0m \u001b[0;34m\u001b[0m\u001b[0m\n\u001b[1;32m     15\u001b[0m             \u001b[0;32mfor\u001b[0m \u001b[0ms\u001b[0m \u001b[0;32min\u001b[0m \u001b[0mx\u001b[0m\u001b[0;34m:\u001b[0m\u001b[0;34m\u001b[0m\u001b[0m\n\u001b[0;32m---> 16\u001b[0;31m                 \u001b[0mresults\u001b[0m\u001b[0;34m.\u001b[0m\u001b[0mappend\u001b[0m\u001b[0;34m(\u001b[0m\u001b[0;34m[\u001b[0m\u001b[0mcoin\u001b[0m\u001b[0;34m]\u001b[0m \u001b[0;34m+\u001b[0m \u001b[0ms\u001b[0m\u001b[0;34m)\u001b[0m\u001b[0;34m\u001b[0m\u001b[0m\n\u001b[0m\u001b[1;32m     17\u001b[0m \u001b[0;34m\u001b[0m\u001b[0m\n\u001b[1;32m     18\u001b[0m     \u001b[0;32mreturn\u001b[0m \u001b[0mresults\u001b[0m\u001b[0;34m\u001b[0m\u001b[0m\n",
      "\u001b[0;31mKeyboardInterrupt\u001b[0m: "
     ]
    }
   ],
   "source": [
    "def coin_combinations(total, coins):\n",
    "#     print total\n",
    "    \n",
    "    if total == 0:\n",
    "        return [[]]\n",
    "    \n",
    "    if total == 1:\n",
    "        return [[1]]\n",
    "    \n",
    "    results = []\n",
    "    for coin in coins:\n",
    "        if coin <= total:\n",
    "            x = coin_combinations(total - coin, coins)\n",
    "\n",
    "            for s in x:\n",
    "                results.append([coin] + s)\n",
    "            \n",
    "    return results\n",
    "\n",
    "def find_minimum_coins(total, coins):\n",
    "    d = ((len(s), s) for s in coin_combinations(total, coins))\n",
    "    \n",
    "    return sorted(d, key=lambda x: x[0])[0][1]\n",
    "\n",
    "assert find_minimum_coins(25, [1, 5, 10, 25, 100]) == [25]\n",
    "assert find_minimum_coins(15, [1, 5, 10, 25, 100]) == [5, 10]\n",
    "assert find_minimum_coins(23, [1, 4, 15, 20, 50]) == [4, 4, 15]\n",
    "assert find_minimum_coins(63, [1, 5, 10, 21, 25]) == [21, 21, 21]\n",
    "assert find_minimum_coins(999, [1, 2, 5, 10, 20, 50, 100]) == [2, 2, 5, 20, 20, 50, 100, 100, 100, 100, 100, 100, 100, 100, 100]\n",
    "assert find_minimum_coins(21, [2, 5, 10, 20, 50]) == [2, 2, 2, 5, 10]\n",
    "assert find_minimum_coins(27, [4, 5]) == [4, 4, 4, 5, 5, 5]\n",
    "assert find_minimum_coins(0, [1, 5, 10, 21, 25]) == []"
   ]
  },
  {
   "cell_type": "code",
   "execution_count": 170,
   "metadata": {},
   "outputs": [],
   "source": [
    "?sorted"
   ]
  },
  {
   "cell_type": "code",
   "execution_count": null,
   "metadata": {},
   "outputs": [],
   "source": []
  }
 ],
 "metadata": {
  "kernelspec": {
   "display_name": "Python 2",
   "language": "python",
   "name": "python2"
  }
 },
 "nbformat": 4,
 "nbformat_minor": 2
}
