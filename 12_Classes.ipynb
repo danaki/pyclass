{
 "cells": [
  {
   "cell_type": "markdown",
   "metadata": {
    "slideshow": {
     "slide_type": "slide"
    }
   },
   "source": [
    "# Object Oriented Programming (OOP)"
   ]
  },
  {
   "cell_type": "markdown",
   "metadata": {},
   "source": [
    "> Object-oriented programming (OOP) is a programming paradigm based on the concept of \"**objects**\", which may contain data, in the form of fields, often known as **attributes**; and code, in the form of procedures, often known as **methods**. A feature of objects is that an object's procedures can access and often modify the data fields of the object with which they are associated (objects have a notion of \"self\"). In OOP, computer programs are designed by making them out of objects that interact with one another. There is significant diversity of OOP languages, but the most popular ones are class-based, meaning that objects are instances of classes, which typically also determine their type."
   ]
  },
  {
   "cell_type": "markdown",
   "metadata": {
    "slideshow": {
     "slide_type": "slide"
    }
   },
   "source": [
    "**Abstraction**. Abstraction is a process where you show only “relevant” data and “hide” unnecessary details of an object from the user.\n",
    "\n",
    "**Encapsulation**.\n",
    "  - Binding the data with the code that manipulates it.\n",
    "  - It keeps the data and the code safe from external interference\n",
    "  \n",
    "**Inheritance**.\n",
    "  - Inheritance is the mechanism by which an object acquires the some/all properties of another object.\n",
    "  - It supports the concept of hierarchical classification.\n",
    "  \n",
    "**Polymorphism**. Polymorphism means to process objects differently based on their data type.\n",
    "  - Method overriding"
   ]
  },
  {
   "cell_type": "markdown",
   "metadata": {
    "slideshow": {
     "slide_type": "slide"
    }
   },
   "source": [
    "## Example 1\n",
    "\n",
    "Imagine a data access layer for a school management project. We will need this two service functions in both examples:"
   ]
  },
  {
   "cell_type": "code",
   "execution_count": 45,
   "metadata": {},
   "outputs": [],
   "source": [
    "def connect_db(db_connection_string):\n",
    "    return 'conn={}'.format(db_connection_string)\n",
    "\n",
    "def query_db(db, sql_query):\n",
    "    return 'result for ({}: {})'.format(db, sql_query)"
   ]
  },
  {
   "cell_type": "code",
   "execution_count": 46,
   "metadata": {
    "slideshow": {
     "slide_type": "slide"
    }
   },
   "outputs": [
    {
     "name": "stdout",
     "output_type": "stream",
     "text": [
      "result for (conn=db://server_one: SELECT * FROM schedule WHERE class=\"7a\" AND day=\"2019-08-07\")\n",
      "result for (conn=db://server_one: SELECT * FROM schedule WHERE teacher=\"Josh Smith\" AND day=\"2019-08-07\")\n",
      "result for (conn=db://server_two: SELECT * FROM pupils WHERE class=\"2b\")\n"
     ]
    }
   ],
   "source": [
    "# You may notice how intensively `db` variable is used.\n",
    "def get_class_schedule(db, class_name, date):\n",
    "    return query_db(db, 'SELECT * FROM schedule WHERE class=\"{}\" AND day=\"{}\"'.format(class_name, date))\n",
    "\n",
    "def get_teacher_schedule(db, teacher_name, date):\n",
    "    return query_db(db, 'SELECT * FROM schedule WHERE teacher=\"{}\" AND day=\"{}\"'.format(teacher_name, date))\n",
    "\n",
    "def get_class_members(db, class_name):\n",
    "    return query_db(db, 'SELECT * FROM pupils WHERE class=\"{}\"'.format(class_name))\n",
    "\n",
    "db1 = connect_db('db://server_one')\n",
    "db2 = connect_db('db://server_two')\n",
    "\n",
    "print get_class_schedule(db1, '7a', '2019-08-07')\n",
    "print get_teacher_schedule(db1, 'Josh Smith', '2019-08-07')\n",
    "print get_class_members(db2, '2b')"
   ]
  },
  {
   "cell_type": "markdown",
   "metadata": {
    "slideshow": {
     "slide_type": "slide"
    }
   },
   "source": [
    " * PROS: multiple database connections supported. `get_*` functions are blackboxed.\n",
    " * CONS: `db` variable passing back and forth\n",
    " \n",
    " Let's look at slightly modified example:"
   ]
  },
  {
   "cell_type": "code",
   "execution_count": 47,
   "metadata": {
    "slideshow": {
     "slide_type": "slide"
    }
   },
   "outputs": [
    {
     "name": "stdout",
     "output_type": "stream",
     "text": [
      "result for (conn=db://server_one: SELECT * FROM schedule WHERE class=\"7a\" AND day=\"2019-08-07\")\n",
      "result for (conn=db://server_one: SELECT * FROM schedule WHERE teacher=\"Josh Smith\" AND day=\"2019-08-07\")\n",
      "result for (conn=db://server_two: SELECT * FROM pupils WHERE class=\"2b\")\n"
     ]
    }
   ],
   "source": [
    "def get_class_schedule(class_name, date):\n",
    "    return query_db(db, 'SELECT * FROM schedule WHERE class=\"{}\" AND day=\"{}\"'.format(class_name, date))\n",
    "\n",
    "def get_teacher_schedule(teacher_name, date):\n",
    "    return query_db(db, 'SELECT * FROM schedule WHERE teacher=\"{}\" AND day=\"{}\"'.format(teacher_name, date))\n",
    "\n",
    "def get_class_members(class_name):\n",
    "    return query_db(db, 'SELECT * FROM pupils WHERE class=\"{}\"'.format(class_name))\n",
    "\n",
    "db = connect_db('db://server_one')\n",
    "print get_class_schedule('7a', '2019-08-07')\n",
    "print get_teacher_schedule('Josh Smith', '2019-08-07')\n",
    "\n",
    "db = connect_db('db://server_two')\n",
    "print get_class_members('2b')"
   ]
  },
  {
   "cell_type": "markdown",
   "metadata": {
    "slideshow": {
     "slide_type": "slide"
    }
   },
   "source": [
    "* PROS: `get_*` functions now have cleaner interface\n",
    "* CONS: to query multiple databases, one can change assign `db` variable a different connection handler before calling `get_*` functions. It can be ugly, but what's worse is that function abstraction is broken because it assumes you are aware about internal structure of these functions.\n",
    "\n",
    "What OOP can help to solve this problem?"
   ]
  },
  {
   "cell_type": "code",
   "execution_count": 48,
   "metadata": {
    "slideshow": {
     "slide_type": "slide"
    }
   },
   "outputs": [],
   "source": [
    "class School:\n",
    "    def __init__(self, db_connection_string):\n",
    "        self.db = self.__connect_db(db_connection_string)\n",
    "        \n",
    "    def __connect_db(self, db_connection_string):\n",
    "        return 'conn={}'.format(db_connection_string)\n",
    "\n",
    "    def __query_db(self, db, sql_query):\n",
    "        return 'result for ({}: {})'.format(db, sql_query)\n",
    "    \n",
    "    def get_class_schedule(self, class_name, date):\n",
    "        return self.__query_db(self.db, 'SELECT * FROM schedule WHERE class=\"{}\" AND day=\"{}\"'.format(class_name, date))\n",
    "\n",
    "    def get_teacher_schedule(self, teacher_name, date):\n",
    "        return self.__query_db(self.db, 'SELECT * FROM schedule WHERE teacher=\"{}\" AND day=\"{}\"'.format(teacher_name, date))\n",
    "\n",
    "    def get_class_members(self, class_name):\n",
    "        return self.__query_db(self.db, 'SELECT * FROM pupils WHERE class=\"{}\"'.format(class_name))"
   ]
  },
  {
   "cell_type": "code",
   "execution_count": 49,
   "metadata": {
    "slideshow": {
     "slide_type": "slide"
    }
   },
   "outputs": [
    {
     "name": "stdout",
     "output_type": "stream",
     "text": [
      "result for (conn=db://server_one: SELECT * FROM schedule WHERE class=\"7a\" AND day=\"2019-08-07\")\n",
      "result for (conn=db://server_one: SELECT * FROM schedule WHERE teacher=\"Josh Smith\" AND day=\"2019-08-07\")\n",
      "result for (conn=db://server_two: SELECT * FROM pupils WHERE class=\"2b\")\n"
     ]
    }
   ],
   "source": [
    "school1 = School('db://server_one')\n",
    "print school1.get_class_schedule('7a', '2019-08-07')\n",
    "print school1.get_teacher_schedule('Josh Smith', '2019-08-07')\n",
    "\n",
    "school2 = School('db://server_two')\n",
    "print school2.get_class_members('2b')"
   ]
  },
  {
   "attachments": {
    "shapes.png": {
     "image/png": "[encoded data removed]"
    }
   },
   "cell_type": "markdown",
   "metadata": {
    "slideshow": {
     "slide_type": "slide"
    }
   },
   "source": [
    "## Example 2\n",
    "\n",
    "Imagine we want to write a program that calculates volumes of different 3D shapes like: cube, rectangular solid, cylinder, pyramid etc.\n",
    "\n",
    "![shapes.png](attachment:shapes.png)\n",
    "\n",
    "We start by defining the abstract ancestor class:"
   ]
  },
  {
   "cell_type": "code",
   "execution_count": 50,
   "metadata": {
    "slideshow": {
     "slide_type": "slide"
    }
   },
   "outputs": [],
   "source": [
    "class Abstract3dShapeWithHeight:\n",
    "    def __init__(self, h):\n",
    "        self.h = h\n",
    "        \n",
    "    def height(self):\n",
    "        return self.h\n",
    "    \n",
    "    def volume(self):\n",
    "        return self.height() * self.base_area()\n",
    "    \n",
    "    def base_area(self):\n",
    "        pass"
   ]
  },
  {
   "cell_type": "markdown",
   "metadata": {},
   "source": [
    "It makes no sense of using this class directly for calculating volume, because method `base_area()` are defined abstract. In spite of this it implements some logic: volume is defined as product of base area and height. Now let's use inheritance to share this logic between descendants."
   ]
  },
  {
   "cell_type": "markdown",
   "metadata": {
    "slideshow": {
     "slide_type": "slide"
    }
   },
   "source": [
    "Concrete classes given below redefine (override) abstract methods of ancestor class, thus we can call them \"implementations\"."
   ]
  },
  {
   "cell_type": "code",
   "execution_count": 51,
   "metadata": {},
   "outputs": [],
   "source": [
    "class Cube(Abstract3dShapeWithHeight):\n",
    "    def __init__(self, h):\n",
    "        Abstract3dShapeWithHeight.__init__(self, h)\n",
    "    \n",
    "    def base_area(self):\n",
    "        return self.height() ** 2"
   ]
  },
  {
   "cell_type": "code",
   "execution_count": 52,
   "metadata": {
    "slideshow": {
     "slide_type": "slide"
    }
   },
   "outputs": [],
   "source": [
    "import math\n",
    "\n",
    "class Cylinder(Abstract3dShapeWithHeight):\n",
    "    def __init__(self, h, r):\n",
    "        Abstract3dShapeWithHeight.__init__(self, h)\n",
    "        self.r = r\n",
    "\n",
    "    def base_area(self):\n",
    "        return math.pi * (self.r ** 2)"
   ]
  },
  {
   "cell_type": "code",
   "execution_count": 53,
   "metadata": {
    "slideshow": {
     "slide_type": "slide"
    }
   },
   "outputs": [
    {
     "data": {
      "text/plain": [
       "1000"
      ]
     },
     "execution_count": 53,
     "metadata": {},
     "output_type": "execute_result"
    }
   ],
   "source": [
    "mycube = Cube(10)\n",
    "mycube.volume()"
   ]
  },
  {
   "cell_type": "markdown",
   "metadata": {
    "slideshow": {
     "slide_type": "slide"
    }
   },
   "source": [
    "Some explanations for the above code:\n",
    " * Instantiation looks like `name_of_the_class(<parameters_passed_to_constructor>)`, pretty much like calling a regular function. Nothing like `new` keyword here.\n",
    " * Instantiated object put into `mycube` variable.\n",
    " * This variable now contains object of class Cube with all the data passed during initialization.\n",
    " * `volume()` method is then called in the context of object `mycube`\n",
    " * For instance methods `self` is the required first argument (you can give it a different name, but please don't). So `self` is explicit parameter unlike implicit `this` in some other languages.\n",
    " * Methods like `__some_method__` are called **dunder-methods**"
   ]
  },
  {
   "cell_type": "markdown",
   "metadata": {
    "slideshow": {
     "slide_type": "slide"
    }
   },
   "source": [
    "Some terminology of OOP:\n",
    " * **Class** is a template for an object\n",
    " * **Method** is a function defined for a class that acts in the context of an object\n",
    " * Object \"variables\" are called **fields**"
   ]
  },
  {
   "cell_type": "markdown",
   "metadata": {
    "slideshow": {
     "slide_type": "slide"
    }
   },
   "source": [
    "Creating an object of given class called **instantiation**. In general, these terms usually are interchangeable:\n",
    " * Class = Type (in languages where \"everything is an object\", like Python or Ruby)\n",
    " * Object = Instance\n",
    " * Create an object = Instantiate\n",
    " * Instance variable = field\n",
    " \n",
    "Now let's make use of our toy classes:"
   ]
  },
  {
   "cell_type": "code",
   "execution_count": 54,
   "metadata": {
    "slideshow": {
     "slide_type": "slide"
    }
   },
   "outputs": [
    {
     "data": {
      "text/plain": [
       "8000"
      ]
     },
     "execution_count": 54,
     "metadata": {},
     "output_type": "execute_result"
    }
   ],
   "source": [
    "# Let's create another instance of Cube\n",
    "mycube20 = Cube(20)\n",
    "mycube20.volume()"
   ]
  },
  {
   "cell_type": "markdown",
   "metadata": {},
   "source": [
    "Similarly create an instance of Cylinder. It's constructor requires two arguments: radius and height"
   ]
  },
  {
   "cell_type": "code",
   "execution_count": 55,
   "metadata": {},
   "outputs": [
    {
     "data": {
      "text/plain": [
       "314.1592653589793"
      ]
     },
     "execution_count": 55,
     "metadata": {},
     "output_type": "execute_result"
    }
   ],
   "source": [
    "mycyl = Cylinder(1, 10)\n",
    "mycyl.volume()"
   ]
  },
  {
   "cell_type": "markdown",
   "metadata": {},
   "source": [
    "We can call other public methods as well:"
   ]
  },
  {
   "cell_type": "code",
   "execution_count": 56,
   "metadata": {},
   "outputs": [
    {
     "data": {
      "text/plain": [
       "1"
      ]
     },
     "execution_count": 56,
     "metadata": {},
     "output_type": "execute_result"
    }
   ],
   "source": [
    "mycyl.height()"
   ]
  },
  {
   "cell_type": "markdown",
   "metadata": {
    "slideshow": {
     "slide_type": "slide"
    }
   },
   "source": [
    "What if we wanted to define a class for pyramid? Volume of a pyramid shape not equal to just `base * height`. This is not a problem, because we can override `volume()` (which is concrete, e.g. not abstract), like so:"
   ]
  },
  {
   "cell_type": "code",
   "execution_count": 57,
   "metadata": {},
   "outputs": [
    {
     "data": {
      "text/plain": [
       "13.333333333333334"
      ]
     },
     "execution_count": 57,
     "metadata": {},
     "output_type": "execute_result"
    }
   ],
   "source": [
    "class Pyramid(Abstract3dShapeWithHeight):\n",
    "    def __init__(self, h, side):\n",
    "        Abstract3dShapeWithHeight.__init__(self, h)\n",
    "        self.side = side\n",
    "    \n",
    "    def base_area(self):\n",
    "        return self.side ** 2\n",
    "    \n",
    "    def volume(self):\n",
    "        return self.base_area() * self.height() / 3.0\n",
    "    \n",
    "pyr = Pyramid(10, 2)\n",
    "pyr.volume()"
   ]
  },
  {
   "cell_type": "markdown",
   "metadata": {
    "slideshow": {
     "slide_type": "slide"
    }
   },
   "source": [
    "OOP in simple words:\n",
    " * **Encapsulation** is another fancy word describing the **black box** paradigm.\n",
    " * **Inheritance** can be used to partially define and share logic among implementations.\n",
    " * **Polymorphism** allows to change some parts of behaviour defined in ancestor classes without reimplementing the whole algorithm."
   ]
  },
  {
   "cell_type": "markdown",
   "metadata": {
    "slideshow": {
     "slide_type": "slide"
    }
   },
   "source": [
    "## Classic or pure OOP\n",
    "\n",
    " * Class defines \"behaviour\", e.g. methods that manipulate data (internal state) of the object.\n",
    " * Intenal state is not exposed. No way to examine internal state of the object, except using public methods that may return some information about it. \n",
    " * Interface is defined by public methods only.\n"
   ]
  },
  {
   "cell_type": "markdown",
   "metadata": {
    "slideshow": {
     "slide_type": "slide"
    }
   },
   "source": [
    "**OOP in Python is a joke**:\n",
    " * Internal state is exposed and you have access to object's fields\n",
    " * Private methods can be called from outside"
   ]
  },
  {
   "cell_type": "markdown",
   "metadata": {
    "slideshow": {
     "slide_type": "slide"
    }
   },
   "source": [
    "## Class definition\n",
    "\n",
    "```\n",
    "class <name>:\n",
    "    [body]\n",
    "```\n",
    "\n",
    "or\n",
    "\n",
    "```\n",
    "class <name>(Base1[, Base2 ... BaseN]):\n",
    "    [body]\n",
    "```"
   ]
  },
  {
   "cell_type": "markdown",
   "metadata": {
    "slideshow": {
     "slide_type": "slide"
    }
   },
   "source": [
    "Object instantiation:"
   ]
  },
  {
   "cell_type": "code",
   "execution_count": 58,
   "metadata": {},
   "outputs": [],
   "source": [
    "class DoesNothing:\n",
    "    pass\n",
    "\n",
    "nothing_instance = DoesNothing()"
   ]
  },
  {
   "cell_type": "markdown",
   "metadata": {},
   "source": [
    "Notice: object instantiation looks like function call (no \"new\" keyword or smth similar)"
   ]
  },
  {
   "cell_type": "code",
   "execution_count": 59,
   "metadata": {},
   "outputs": [
    {
     "data": {
      "text/plain": [
       "instance"
      ]
     },
     "execution_count": 59,
     "metadata": {},
     "output_type": "execute_result"
    }
   ],
   "source": [
    "type(nothing_instance)"
   ]
  },
  {
   "cell_type": "code",
   "execution_count": 60,
   "metadata": {
    "slideshow": {
     "slide_type": "slide"
    }
   },
   "outputs": [
    {
     "data": {
      "text/plain": [
       "<class __main__.DoesNothing at 0x112165808>"
      ]
     },
     "execution_count": 60,
     "metadata": {},
     "output_type": "execute_result"
    }
   ],
   "source": [
    "nothing_instance.__class__"
   ]
  },
  {
   "cell_type": "code",
   "execution_count": 61,
   "metadata": {},
   "outputs": [
    {
     "data": {
      "text/plain": [
       "'DoesNothing'"
      ]
     },
     "execution_count": 61,
     "metadata": {},
     "output_type": "execute_result"
    }
   ],
   "source": [
    "nothing_instance.__class__.__name__"
   ]
  },
  {
   "cell_type": "markdown",
   "metadata": {
    "slideshow": {
     "slide_type": "slide"
    }
   },
   "source": [
    "Everything is an object in Python, because it has a class. Even classes are objects."
   ]
  },
  {
   "cell_type": "code",
   "execution_count": 62,
   "metadata": {},
   "outputs": [
    {
     "data": {
      "text/plain": [
       "'int'"
      ]
     },
     "execution_count": 62,
     "metadata": {},
     "output_type": "execute_result"
    }
   ],
   "source": [
    "x = 1\n",
    "x.__class__.__name__"
   ]
  },
  {
   "cell_type": "code",
   "execution_count": 63,
   "metadata": {},
   "outputs": [
    {
     "data": {
      "text/plain": [
       "type"
      ]
     },
     "execution_count": 63,
     "metadata": {},
     "output_type": "execute_result"
    }
   ],
   "source": [
    "x.__class__.__class__"
   ]
  },
  {
   "cell_type": "markdown",
   "metadata": {
    "slideshow": {
     "slide_type": "slide"
    }
   },
   "source": [
    "A note about default object implementation:"
   ]
  },
  {
   "cell_type": "code",
   "execution_count": 64,
   "metadata": {},
   "outputs": [
    {
     "data": {
      "text/plain": [
       "False"
      ]
     },
     "execution_count": 64,
     "metadata": {},
     "output_type": "execute_result"
    }
   ],
   "source": [
    "d1 = DoesNothing()\n",
    "d2 = DoesNothing()\n",
    "\n",
    "d1 == d2"
   ]
  },
  {
   "cell_type": "markdown",
   "metadata": {},
   "source": [
    "By default object's \"==\" compares id's. For user defined types a programmer must override rich comparison and all necessary dunder methods."
   ]
  },
  {
   "cell_type": "markdown",
   "metadata": {
    "slideshow": {
     "slide_type": "slide"
    }
   },
   "source": [
    "In Python a method with special name ```__init__``` called after object instantiation. First argument (by convention called ```self```) stores the referrence of the created object."
   ]
  },
  {
   "cell_type": "code",
   "execution_count": 65,
   "metadata": {},
   "outputs": [
    {
     "name": "stdout",
     "output_type": "stream",
     "text": [
      "From consturctor <__main__.ClassWithConstructor instance at 0x112174d88>\n",
      "From outer scope <__main__.ClassWithConstructor instance at 0x112174d88>\n"
     ]
    }
   ],
   "source": [
    "class ClassWithConstructor:\n",
    "    def __init__(self):\n",
    "        print \"From consturctor\", self\n",
    "\n",
    "my_object = ClassWithConstructor()\n",
    "print \"From outer scope\", my_object"
   ]
  },
  {
   "cell_type": "markdown",
   "metadata": {
    "slideshow": {
     "slide_type": "slide"
    }
   },
   "source": [
    "### Instance variables & methods\n",
    "\n",
    "Usually ```__init__``` is used to define and initalize instance variables. Instance methods must always have ```self``` as first argument."
   ]
  },
  {
   "cell_type": "code",
   "execution_count": 66,
   "metadata": {},
   "outputs": [
    {
     "name": "stdout",
     "output_type": "stream",
     "text": [
      "200\n",
      "300\n"
     ]
    }
   ],
   "source": [
    "class Rectangle:\n",
    "    def __init__(self, width, height):\n",
    "        self.width = width\n",
    "        self.height = height \n",
    "        \n",
    "    def square(self):\n",
    "        return self.width * self.height\n",
    "    \n",
    "rect_10x20 = Rectangle(10, 20)\n",
    "print rect_10x20.square()\n",
    "\n",
    "rect_30x10 = Rectangle(30, 10)\n",
    "print rect_30x10.square()"
   ]
  },
  {
   "cell_type": "markdown",
   "metadata": {
    "slideshow": {
     "slide_type": "slide"
    }
   },
   "source": [
    "### Class variables & methods\n",
    "\n",
    "Notice ```@classmethod``` and ```cls``` instead of ```self```. Also notice that class variable ```density``` is defined and initialized right in class body. ```cls``` in class body references class object so ```density``` can be accessed."
   ]
  },
  {
   "cell_type": "code",
   "execution_count": 67,
   "metadata": {},
   "outputs": [
    {
     "name": "stdout",
     "output_type": "stream",
     "text": [
      "Al mass = 2700.0 grams\n",
      "Fe mass = 7874.0 grams\n"
     ]
    }
   ],
   "source": [
    "class ChemicalElement():\n",
    "    @classmethod\n",
    "    def mass(cls, length, width, height):\n",
    "        volume = length * width * height # in cm\n",
    "        return cls.density * volume\n",
    "    \n",
    "class Aluminium(ChemicalElement):\n",
    "    density = 2.70 # g / cm^3\n",
    "    \n",
    "class Ferrum(ChemicalElement):\n",
    "    density = 7.874 # g / cm^3\n",
    "    \n",
    "print(\"Al mass = {} grams\".format(Aluminium.mass(10, 10, 10)))\n",
    "print(\"Fe mass = {} grams\".format(Ferrum.mass(10, 10, 10)))"
   ]
  },
  {
   "cell_type": "markdown",
   "metadata": {
    "slideshow": {
     "slide_type": "slide"
    }
   },
   "source": [
    "### Static methods\n",
    "\n",
    "Usually you use them to hide your functions under a namespace (but this is what modules are for).\n",
    "\n",
    "Notice ```@staticmethod``` and no first required argument."
   ]
  },
  {
   "cell_type": "code",
   "execution_count": 68,
   "metadata": {},
   "outputs": [
    {
     "data": {
      "text/plain": [
       "62.800000000000004"
      ]
     },
     "execution_count": 68,
     "metadata": {},
     "output_type": "execute_result"
    }
   ],
   "source": [
    "class SquareCalculator:\n",
    "    @staticmethod\n",
    "    def rectangle(width, height):\n",
    "        return width * height\n",
    "    \n",
    "    @staticmethod\n",
    "    def circle(radius):\n",
    "        return 2 * 3.14 * radius\n",
    "    \n",
    "SquareCalculator.circle(10)"
   ]
  },
  {
   "cell_type": "markdown",
   "metadata": {
    "slideshow": {
     "slide_type": "slide"
    }
   },
   "source": [
    "#### Example"
   ]
  },
  {
   "cell_type": "code",
   "execution_count": 69,
   "metadata": {},
   "outputs": [
    {
     "data": {
      "text/plain": [
       "314.0"
      ]
     },
     "execution_count": 69,
     "metadata": {},
     "output_type": "execute_result"
    }
   ],
   "source": [
    "class BowlingBall:\n",
    "    DENSITY = 0.1\n",
    "    \n",
    "    def __init__(self, radius):\n",
    "        self.radius = radius\n",
    "        \n",
    "    def weight(self):\n",
    "        return self.sphere_volume(self.radius) * self.DENSITY \n",
    "        \n",
    "    @classmethod\n",
    "    def sphere_volume(cls, r):\n",
    "        return (4 / 3) * 3.14 * (r ** 3)\n",
    "    \n",
    "my_ball = BowlingBall(10)\n",
    "my_ball.weight()"
   ]
  },
  {
   "cell_type": "markdown",
   "metadata": {
    "slideshow": {
     "slide_type": "slide"
    }
   },
   "source": [
    "## Classes as structures\n",
    "\n",
    "Class/instance variables/methods can be dynamically assigned. Sometimes people use classes in place of structures (this is what dictionaries are for)."
   ]
  },
  {
   "cell_type": "code",
   "execution_count": 70,
   "metadata": {},
   "outputs": [
    {
     "data": {
      "text/plain": [
       "{'x': 62, 'y': 'Mama'}"
      ]
     },
     "execution_count": 70,
     "metadata": {},
     "output_type": "execute_result"
    }
   ],
   "source": [
    "class MyContainer:\n",
    "    pass\n",
    "\n",
    "cont1 = MyContainer()\n",
    "\n",
    "cont1.x = 62\n",
    "cont1.y = 'Mama'\n",
    "\n",
    "cont1.__dict__"
   ]
  },
  {
   "cell_type": "markdown",
   "metadata": {},
   "source": [
    "Attributes of the class-level can be checked with method `__dict__()` too."
   ]
  },
  {
   "cell_type": "code",
   "execution_count": 71,
   "metadata": {
    "slideshow": {
     "slide_type": "slide"
    }
   },
   "outputs": [
    {
     "data": {
      "text/plain": [
       "{'__doc__': None,\n",
       " '__module__': '__main__',\n",
       " 'my_class_attribute': 'this is class attribute'}"
      ]
     },
     "execution_count": 71,
     "metadata": {},
     "output_type": "execute_result"
    }
   ],
   "source": [
    "MyContainer.my_class_attribute = \"this is class attribute\"\n",
    "\n",
    "MyContainer.__dict__"
   ]
  },
  {
   "cell_type": "markdown",
   "metadata": {
    "slideshow": {
     "slide_type": "slide"
    }
   },
   "source": [
    "This is possible due to default ```__getattribute__()``` implementation, which first searches in instance and then in class variables."
   ]
  },
  {
   "cell_type": "code",
   "execution_count": 72,
   "metadata": {},
   "outputs": [
    {
     "name": "stdout",
     "output_type": "stream",
     "text": [
      "this is class attribute\n"
     ]
    }
   ],
   "source": [
    "print(cont1.my_class_attribute)"
   ]
  },
  {
   "cell_type": "code",
   "execution_count": 73,
   "metadata": {},
   "outputs": [
    {
     "name": "stdout",
     "output_type": "stream",
     "text": [
      "this is class attribute\n"
     ]
    }
   ],
   "source": [
    "cont2 = MyContainer()\n",
    "print(cont2.my_class_attribute)"
   ]
  },
  {
   "cell_type": "markdown",
   "metadata": {
    "slideshow": {
     "slide_type": "slide"
    }
   },
   "source": [
    "Btw one more way to access instance attribute:"
   ]
  },
  {
   "cell_type": "code",
   "execution_count": 74,
   "metadata": {},
   "outputs": [
    {
     "data": {
      "text/plain": [
       "62"
      ]
     },
     "execution_count": 74,
     "metadata": {},
     "output_type": "execute_result"
    }
   ],
   "source": [
    "getattr(cont1, 'x')"
   ]
  },
  {
   "cell_type": "code",
   "execution_count": 75,
   "metadata": {},
   "outputs": [
    {
     "data": {
      "text/plain": [
       "'this is class attribute'"
      ]
     },
     "execution_count": 75,
     "metadata": {},
     "output_type": "execute_result"
    }
   ],
   "source": [
    "getattr(cont1, 'my_class_attribute')"
   ]
  },
  {
   "cell_type": "markdown",
   "metadata": {},
   "source": [
    "* [setattr()](https://docs.python.org/3/library/functions.html#setattr)\n",
    "* [hasattr()](https://docs.python.org/3/library/functions.html#hasattr)"
   ]
  },
  {
   "cell_type": "markdown",
   "metadata": {
    "slideshow": {
     "slide_type": "slide"
    }
   },
   "source": [
    "Looks like a prototype-based OOP (Javascript)?\n",
    "\n",
    "Docs on [staticmethod()](https://docs.python.org/3/library/functions.html#staticmethod) see also [classmethod()](https://docs.python.org/3/library/functions.html#classmethod)"
   ]
  },
  {
   "cell_type": "code",
   "execution_count": 76,
   "metadata": {
    "slideshow": {
     "slide_type": "-"
    }
   },
   "outputs": [
    {
     "name": "stdout",
     "output_type": "stream",
     "text": [
      "Hello MyContainer\n",
      "Hello static\n"
     ]
    }
   ],
   "source": [
    "def my_instance_print_hello(self):\n",
    "    print(\"Hello \" + self.__class__.__name__)\n",
    "    \n",
    "def my_static_print_hello():\n",
    "    print(\"Hello static\")\n",
    "\n",
    "MyContainer.print_instance = my_instance_print_hello\n",
    "MyContainer.print_static = staticmethod(my_static_print_hello)\n",
    "\n",
    "cont2.print_instance()\n",
    "cont2.print_static()"
   ]
  },
  {
   "cell_type": "markdown",
   "metadata": {
    "slideshow": {
     "slide_type": "slide"
    }
   },
   "source": [
    "## Inheritance and polymorphism\n",
    "\n",
    "No surprises: methods can be overriden by superclasses."
   ]
  },
  {
   "cell_type": "code",
   "execution_count": 77,
   "metadata": {},
   "outputs": [
    {
     "name": "stdout",
     "output_type": "stream",
     "text": [
      "100\n",
      "1000\n"
     ]
    }
   ],
   "source": [
    "class Box2D(object):\n",
    "    def __init__(self, side):\n",
    "        self.side = side\n",
    "        \n",
    "    def square(self):\n",
    "        return self.side * self.side\n",
    "    \n",
    "class Box3D(Box2D):\n",
    "    def square(self):\n",
    "        return self.side * super(Box3D, self).square()\n",
    "    \n",
    "box2d = Box2D(10)\n",
    "print box2d.square()\n",
    "\n",
    "box3d = Box3D(10)\n",
    "print box3d.square()"
   ]
  },
  {
   "cell_type": "markdown",
   "metadata": {
    "slideshow": {
     "slide_type": "slide"
    }
   },
   "source": [
    "### Multiple inheritance and the \"deadly diamond of death\"\n",
    "\n",
    "![](https://www.python-course.eu/images/multiple_inheritance_diamond.png)\n",
    "\n",
    "[Read more](https://www.python-course.eu/python3_multiple_inheritance.php)"
   ]
  },
  {
   "cell_type": "markdown",
   "metadata": {
    "slideshow": {
     "slide_type": "slide"
    }
   },
   "source": [
    "Because B goes first in the list of parents."
   ]
  },
  {
   "cell_type": "code",
   "execution_count": 78,
   "metadata": {
    "slideshow": {
     "slide_type": "-"
    }
   },
   "outputs": [
    {
     "name": "stdout",
     "output_type": "stream",
     "text": [
      "m of B called\n"
     ]
    }
   ],
   "source": [
    "class A:\n",
    "    def m(self):\n",
    "        print(\"m of A called\")\n",
    "\n",
    "class B(A):\n",
    "    def m(self):\n",
    "        print(\"m of B called\")\n",
    "    \n",
    "class C(A):\n",
    "    def m(self):\n",
    "        print(\"m of C called\")\n",
    "\n",
    "class D(B, C):\n",
    "    pass\n",
    "\n",
    "x = D()\n",
    "x.m()"
   ]
  },
  {
   "cell_type": "markdown",
   "metadata": {
    "slideshow": {
     "slide_type": "slide"
    }
   },
   "source": [
    "Because C is the closest parent who overrides m()."
   ]
  },
  {
   "cell_type": "code",
   "execution_count": 79,
   "metadata": {
    "slideshow": {
     "slide_type": "-"
    }
   },
   "outputs": [
    {
     "name": "stdout",
     "output_type": "stream",
     "text": [
      "m of A called\n"
     ]
    }
   ],
   "source": [
    "class A:\n",
    "    def m(self):\n",
    "        print(\"m of A called\")\n",
    "\n",
    "class B(A):\n",
    "    pass\n",
    "    \n",
    "class C(A):\n",
    "    def m(self):\n",
    "        print(\"m of C called\")\n",
    "\n",
    "class D(B, C):\n",
    "    pass\n",
    "\n",
    "x = D()\n",
    "x.m()"
   ]
  },
  {
   "cell_type": "markdown",
   "metadata": {
    "slideshow": {
     "slide_type": "slide"
    }
   },
   "source": [
    "Try to avoid multiple inheritance. But it's good for [Mixins](https://en.wikipedia.org/wiki/Mixin):\n",
    "\n",
    "> In object-oriented programming languages, a Mixin is a class that contains methods for use by other classes without having to be the parent class of those other classes. ... Mixins are sometimes described as being \"included\" rather than \"inherited\"."
   ]
  },
  {
   "cell_type": "markdown",
   "metadata": {
    "slideshow": {
     "slide_type": "slide"
    }
   },
   "source": [
    "#### Usefull built-in methods\n",
    "\n",
    "* [isinstance()](https://docs.python.org/2/library/functions.html#isinstance)\n",
    "* [issubclass()](https://docs.python.org/2/library/functions.html#issubclass)"
   ]
  },
  {
   "cell_type": "code",
   "execution_count": 80,
   "metadata": {},
   "outputs": [
    {
     "data": {
      "text/plain": [
       "True"
      ]
     },
     "execution_count": 80,
     "metadata": {},
     "output_type": "execute_result"
    }
   ],
   "source": [
    "isinstance(x, D)"
   ]
  },
  {
   "cell_type": "code",
   "execution_count": 81,
   "metadata": {},
   "outputs": [
    {
     "data": {
      "text/plain": [
       "True"
      ]
     },
     "execution_count": 81,
     "metadata": {},
     "output_type": "execute_result"
    }
   ],
   "source": [
    "issubclass(D, C)"
   ]
  },
  {
   "cell_type": "markdown",
   "metadata": {
    "slideshow": {
     "slide_type": "slide"
    }
   },
   "source": [
    "## Calling parents\n",
    "\n",
    "* [super()](https://docs.python.org/2/library/functions.html#super)\n",
    "\n",
    "Here's the demo of what an mixin is. Notice that AdminMixin's and ProgrammerMixin's ```__init__``` are not called. This is why typically mixins have no constructors.\n",
    "\n",
    "Notice: Person is inherited from `object`. This is Python 2 issue, to read more click [NewClassVsClassicClass](https://wiki.python.org/moin/NewClassVsClassicClass)"
   ]
  },
  {
   "cell_type": "code",
   "execution_count": 82,
   "metadata": {},
   "outputs": [
    {
     "name": "stdout",
     "output_type": "stream",
     "text": [
      "Person.__init__() called\n"
     ]
    },
    {
     "data": {
      "text/plain": [
       "'George'"
      ]
     },
     "execution_count": 82,
     "metadata": {},
     "output_type": "execute_result"
    }
   ],
   "source": [
    "class Person(object):\n",
    "    def __init__(self, name):\n",
    "        self.name = name        \n",
    "        print(\"Person.__init__() called\")\n",
    "        \n",
    "class AdminMixin:\n",
    "    def __init__(self):\n",
    "        self.servers = []\n",
    "        print(\"AdminMixin.__init__() called\")\n",
    "        \n",
    "    def controls(self, servers):\n",
    "        self.servers = servers[:]\n",
    "\n",
    "class ProgrammerMixin:\n",
    "    def __init__(self):\n",
    "        self.languages = ['Python']\n",
    "        print(\"ProgrammerMixin.__init__() called\")\n",
    "\n",
    "    def knows(self, languages):\n",
    "        self.languages = languages[:]\n",
    "\n",
    "class Employee(Person, AdminMixin, ProgrammerMixin):\n",
    "    def __init__(self, name):\n",
    "        super(Employee, self).__init__(name)\n",
    "        \n",
    "vasya = Employee('George')\n",
    "vasya.name"
   ]
  },
  {
   "cell_type": "markdown",
   "metadata": {
    "slideshow": {
     "slide_type": "slide"
    }
   },
   "source": [
    "Another option is to specify parents explicitly."
   ]
  },
  {
   "cell_type": "code",
   "execution_count": 83,
   "metadata": {
    "slideshow": {
     "slide_type": "-"
    }
   },
   "outputs": [
    {
     "name": "stdout",
     "output_type": "stream",
     "text": [
      "Person.__init__() called\n",
      "AdminMixin.__init__() called\n",
      "ProgrammerMixin.__init__() called\n"
     ]
    }
   ],
   "source": [
    "class OmniscientEmployee(Person, AdminMixin, ProgrammerMixin):\n",
    "    def __init__(self, name):\n",
    "        Person.__init__(self, name)\n",
    "        AdminMixin.__init__(self)\n",
    "        ProgrammerMixin.__init__(self)\n",
    "        \n",
    "petya = OmniscientEmployee('Peter')"
   ]
  },
  {
   "cell_type": "markdown",
   "metadata": {},
   "source": [
    "But multiple inheritance this way is also bad because you have to follow the correct order of calling methods."
   ]
  },
  {
   "cell_type": "markdown",
   "metadata": {
    "slideshow": {
     "slide_type": "slide"
    }
   },
   "source": [
    "Sometimes in others' code you'll find this way of calling super:"
   ]
  },
  {
   "cell_type": "code",
   "execution_count": 84,
   "metadata": {},
   "outputs": [
    {
     "name": "stdout",
     "output_type": "stream",
     "text": [
      "Person.__init__() called\n"
     ]
    }
   ],
   "source": [
    "class OlderEmployee(Person):\n",
    "    def __init__(self, name):\n",
    "        super(self.__class__, self).__init__(name)\n",
    "        \n",
    "masha = OlderEmployee('Maria')"
   ]
  },
  {
   "cell_type": "markdown",
   "metadata": {},
   "source": [
    "This is Python2 style where super() required an argument. In Python3 super() without any arguments understands the calling context."
   ]
  },
  {
   "cell_type": "markdown",
   "metadata": {
    "slideshow": {
     "slide_type": "slide"
    }
   },
   "source": [
    "At least now we see that there're several ways of calling object methods."
   ]
  },
  {
   "cell_type": "code",
   "execution_count": 85,
   "metadata": {},
   "outputs": [
    {
     "name": "stdout",
     "output_type": "stream",
     "text": [
      "Woof-woof!\n",
      "Moo-moo!\n",
      "Meow-meow!\n"
     ]
    }
   ],
   "source": [
    "class MyPrinter:\n",
    "    def echo(self, message):\n",
    "        print message\n",
    "        \n",
    "    def woofwoof(self):\n",
    "        self.echo('Woof-woof!')\n",
    "        \n",
    "    def moomoo(self):\n",
    "        MyPrinter.echo(self, 'Moo-moo!')\n",
    "        \n",
    "my_printer = MyPrinter()\n",
    "\n",
    "my_printer.woofwoof()\n",
    "my_printer.moomoo()\n",
    "\n",
    "# MyPrinter.print is \"bound\" method (it requires an object in \"self\" argument)\n",
    "MyPrinter.echo(my_printer, 'Meow-meow!')"
   ]
  },
  {
   "cell_type": "markdown",
   "metadata": {
    "slideshow": {
     "slide_type": "slide"
    }
   },
   "source": [
    "### A note about abstract classes\n",
    "\n",
    "How it's usually done:"
   ]
  },
  {
   "cell_type": "code",
   "execution_count": 86,
   "metadata": {},
   "outputs": [],
   "source": [
    "class MyAbstractClass:\n",
    "    def do_the_thing(self):\n",
    "        raise NotImplementedError() # or just pass\n",
    "        \n",
    "class MyRealDoer(MyAbstractClass):\n",
    "    def do_the_thing(self):\n",
    "        print(\"Thing is done\")\n",
    "        \n",
    "my_abstract = MyAbstractClass()\n",
    "my_real = MyRealDoer()"
   ]
  },
  {
   "cell_type": "code",
   "execution_count": 87,
   "metadata": {},
   "outputs": [
    {
     "name": "stdout",
     "output_type": "stream",
     "text": [
      "Thing is done\n"
     ]
    }
   ],
   "source": [
    "my_real.do_the_thing()"
   ]
  },
  {
   "cell_type": "code",
   "execution_count": 88,
   "metadata": {},
   "outputs": [
    {
     "ename": "NotImplementedError",
     "evalue": "",
     "output_type": "error",
     "traceback": [
      "\u001b[0;31m---------------------------------------------------------------------------\u001b[0m",
      "\u001b[0;31mNotImplementedError\u001b[0m                       Traceback (most recent call last)",
      "\u001b[0;32m<ipython-input-88-bad03664c659>\u001b[0m in \u001b[0;36m<module>\u001b[0;34m()\u001b[0m\n\u001b[0;32m----> 1\u001b[0;31m \u001b[0mmy_abstract\u001b[0m\u001b[0;34m.\u001b[0m\u001b[0mdo_the_thing\u001b[0m\u001b[0;34m(\u001b[0m\u001b[0;34m)\u001b[0m\u001b[0;34m\u001b[0m\u001b[0m\n\u001b[0m",
      "\u001b[0;32m<ipython-input-86-b4951c4cf3d5>\u001b[0m in \u001b[0;36mdo_the_thing\u001b[0;34m(self)\u001b[0m\n\u001b[1;32m      1\u001b[0m \u001b[0;32mclass\u001b[0m \u001b[0mMyAbstractClass\u001b[0m\u001b[0;34m:\u001b[0m\u001b[0;34m\u001b[0m\u001b[0m\n\u001b[1;32m      2\u001b[0m     \u001b[0;32mdef\u001b[0m \u001b[0mdo_the_thing\u001b[0m\u001b[0;34m(\u001b[0m\u001b[0mself\u001b[0m\u001b[0;34m)\u001b[0m\u001b[0;34m:\u001b[0m\u001b[0;34m\u001b[0m\u001b[0m\n\u001b[0;32m----> 3\u001b[0;31m         \u001b[0;32mraise\u001b[0m \u001b[0mNotImplementedError\u001b[0m\u001b[0;34m(\u001b[0m\u001b[0;34m)\u001b[0m \u001b[0;31m# or just pass\u001b[0m\u001b[0;34m\u001b[0m\u001b[0m\n\u001b[0m\u001b[1;32m      4\u001b[0m \u001b[0;34m\u001b[0m\u001b[0m\n\u001b[1;32m      5\u001b[0m \u001b[0;32mclass\u001b[0m \u001b[0mMyRealDoer\u001b[0m\u001b[0;34m(\u001b[0m\u001b[0mMyAbstractClass\u001b[0m\u001b[0;34m)\u001b[0m\u001b[0;34m:\u001b[0m\u001b[0;34m\u001b[0m\u001b[0m\n",
      "\u001b[0;31mNotImplementedError\u001b[0m: "
     ]
    }
   ],
   "source": [
    "my_abstract.do_the_thing()"
   ]
  },
  {
   "cell_type": "markdown",
   "metadata": {},
   "source": [
    "Also see [abc module](https://docs.python.org/3/library/abc.html)"
   ]
  },
  {
   "cell_type": "markdown",
   "metadata": {
    "slideshow": {
     "slide_type": "slide"
    }
   },
   "source": [
    "## Public and private access modifiers\n",
    "\n",
    "A good [explainer post](http://radek.io/2011/07/21/private-protected-and-public-in-python/)\n",
    "\n",
    "Python doesn’t have any mechanisms, that would effectively restrict you from accessing a variable or calling a member method. All of this is a matter of culture and **convention**.\n",
    "\n",
    "* All member variables and methods are public by default in Python.\n",
    "* The ```_``` prefix means **stay away even if you're not technically prevented from doing so**. This also marks a **protected** member\n",
    "* The ```__``` prefix means **private**, e.g. nobody should be able to access it from outside the class.\n",
    "\n",
    "Pros: since all members are publicly accessible, no need for boilerplate getter/setter code (but still possible using @property)."
   ]
  },
  {
   "cell_type": "markdown",
   "metadata": {
    "slideshow": {
     "slide_type": "slide"
    }
   },
   "source": [
    "Python supports a technique called name mangling (obfuscation). This feature turns every member name prefixed with at least two underscores and suffixed with at most one underscore into ```_<className><memberName>```"
   ]
  },
  {
   "cell_type": "code",
   "execution_count": 89,
   "metadata": {
    "slideshow": {
     "slide_type": "-"
    }
   },
   "outputs": [
    {
     "data": {
      "text/plain": [
       "{'_PublicProtectedPrivateDemo__private': 'private',\n",
       " '_protected': 'protected',\n",
       " 'public': 'public'}"
      ]
     },
     "execution_count": 89,
     "metadata": {},
     "output_type": "execute_result"
    }
   ],
   "source": [
    "class PublicProtectedPrivateDemo:\n",
    "    def __init__(self):\n",
    "        self.public     = 'public'\n",
    "        self._protected = 'protected'\n",
    "        self.__private  = 'private'\n",
    "        \n",
    "pppd = PublicProtectedPrivateDemo()\n",
    "pppd.__dict__"
   ]
  },
  {
   "cell_type": "markdown",
   "metadata": {},
   "source": [
    "You can still access ```__private``` member by refererring ```_PublicProtectedPrivateDemo__private```."
   ]
  },
  {
   "cell_type": "code",
   "execution_count": 90,
   "metadata": {},
   "outputs": [
    {
     "data": {
      "text/plain": [
       "'private'"
      ]
     },
     "execution_count": 90,
     "metadata": {},
     "output_type": "execute_result"
    }
   ],
   "source": [
    "pppd._PublicProtectedPrivateDemo__private"
   ]
  },
  {
   "cell_type": "markdown",
   "metadata": {
    "slideshow": {
     "slide_type": "slide"
    }
   },
   "source": [
    "## How to make a property\n",
    "\n",
    "See [property()](https://docs.python.org/2/library/functions.html#property)\n",
    "\n",
    "To fully understand this example, we have to learn about decorators. But don't worry, we'll do it in the next workshop."
   ]
  },
  {
   "cell_type": "code",
   "execution_count": 91,
   "metadata": {},
   "outputs": [
    {
     "data": {
      "text/plain": [
       "'John Smith'"
      ]
     },
     "execution_count": 91,
     "metadata": {},
     "output_type": "execute_result"
    }
   ],
   "source": [
    "class Student:\n",
    "    def __init__(self, name, surname):\n",
    "        self.name = name\n",
    "        self.surname = surname\n",
    "\n",
    "    @property\n",
    "    def fullname(self):\n",
    "        return self.name + ' ' + self.surname\n",
    "    \n",
    "    @fullname.setter\n",
    "    def fullname(self, value):\n",
    "        self.name, self.surname = value.split()\n",
    "        \n",
    "student = Student('John', 'Smith')\n",
    "student.fullname"
   ]
  },
  {
   "cell_type": "code",
   "execution_count": 92,
   "metadata": {},
   "outputs": [
    {
     "data": {
      "text/plain": [
       "('John', 'Smith')"
      ]
     },
     "execution_count": 92,
     "metadata": {},
     "output_type": "execute_result"
    }
   ],
   "source": [
    "student.fullname = 'Ivan Sidorov'\n",
    "student.name, student.surname"
   ]
  },
  {
   "cell_type": "markdown",
   "metadata": {
    "slideshow": {
     "slide_type": "slide"
    }
   },
   "source": [
    "Properties are useful for:\n",
    "* Calculated variables (like in example above)\n",
    "* Read-only or write-only variables\n",
    "* Getter/setter replacement"
   ]
  },
  {
   "cell_type": "markdown",
   "metadata": {
    "slideshow": {
     "slide_type": "slide"
    }
   },
   "source": [
    "## Special method names\n",
    "\n",
    "See [Data model](https://docs.python.org/3/reference/datamodel.html#special-method-names)\n",
    "\n",
    "> A class can implement certain operations that are invoked by special syntax (such as arithmetic operations or subscripting and slicing) by defining methods with special names. This is Python’s approach to operator overloading, allowing classes to define their own behavior with respect to language operators."
   ]
  },
  {
   "cell_type": "markdown",
   "metadata": {
    "slideshow": {
     "slide_type": "slide"
    }
   },
   "source": [
    "Let's learn by example. Imagine we want a class that is a human language representation of number from 0 to 9 and acts like an integer."
   ]
  },
  {
   "cell_type": "code",
   "execution_count": 93,
   "metadata": {},
   "outputs": [
    {
     "name": "stdout",
     "output_type": "stream",
     "text": [
      "one\n"
     ]
    },
    {
     "data": {
      "text/plain": [
       "\"Humanumba('one')\""
      ]
     },
     "execution_count": 93,
     "metadata": {},
     "output_type": "execute_result"
    }
   ],
   "source": [
    "class Humanumba:\n",
    "    words = 'zero', 'one', 'two', 'three', 'four', 'five', 'six', 'seven', 'eight', 'nine'\n",
    "    \n",
    "    def __new__(cls, word):\n",
    "        if word not in cls.words:\n",
    "            raise Exception('Not in vocabulary')\n",
    "            \n",
    "        obj = super().__new__(cls)\n",
    "        \n",
    "        return obj\n",
    "    \n",
    "    def __init__(self, word):\n",
    "        self.index = self.words.index(word)\n",
    "    \n",
    "    def __str__(self):\n",
    "        return self.words[self.index]\n",
    "    \n",
    "    def __repr__(self):\n",
    "        return \"{cls}('{word}')\".format(\n",
    "            cls=self.__class__.__name__,\n",
    "            word=self.words[self.index]\n",
    "        )\n",
    "    \n",
    "one = Humanumba('one')\n",
    "\n",
    "print(one)\n",
    "repr(one)"
   ]
  },
  {
   "cell_type": "markdown",
   "metadata": {
    "slideshow": {
     "slide_type": "slide"
    }
   },
   "source": [
    "Let's now try some basic operations."
   ]
  },
  {
   "cell_type": "code",
   "execution_count": 94,
   "metadata": {},
   "outputs": [
    {
     "data": {
      "text/plain": [
       "False"
      ]
     },
     "execution_count": 94,
     "metadata": {},
     "output_type": "execute_result"
    }
   ],
   "source": [
    "another_one = Humanumba('one')\n",
    "\n",
    "one == another_one"
   ]
  },
  {
   "cell_type": "markdown",
   "metadata": {
    "slideshow": {
     "slide_type": "slide"
    }
   },
   "source": [
    "But ```one``` and ```another_one``` represent the same entity. Let's fix that."
   ]
  },
  {
   "cell_type": "code",
   "execution_count": 95,
   "metadata": {},
   "outputs": [
    {
     "data": {
      "text/plain": [
       "True"
      ]
     },
     "execution_count": 95,
     "metadata": {},
     "output_type": "execute_result"
    }
   ],
   "source": [
    "class Humanumba2(Humanumba):\n",
    "    def __eq__(self, other):\n",
    "        return self.index == other.index\n",
    "    \n",
    "one = Humanumba2('one')\n",
    "another_one = Humanumba2('one')\n",
    "\n",
    "one == another_one"
   ]
  },
  {
   "cell_type": "code",
   "execution_count": 96,
   "metadata": {
    "slideshow": {
     "slide_type": "slide"
    }
   },
   "outputs": [
    {
     "data": {
      "text/plain": [
       "False"
      ]
     },
     "execution_count": 96,
     "metadata": {},
     "output_type": "execute_result"
    }
   ],
   "source": [
    "zero = Humanumba2('zero')\n",
    "\n",
    "zero < one"
   ]
  },
  {
   "cell_type": "markdown",
   "metadata": {},
   "source": [
    "Let's fix that too:"
   ]
  },
  {
   "cell_type": "code",
   "execution_count": 97,
   "metadata": {},
   "outputs": [
    {
     "data": {
      "text/plain": [
       "True"
      ]
     },
     "execution_count": 97,
     "metadata": {},
     "output_type": "execute_result"
    }
   ],
   "source": [
    "class Humanumba3(Humanumba2):\n",
    "    def __lt__(self, other):\n",
    "        return self.index < other.index\n",
    "    \n",
    "    def __le__(self, other):\n",
    "        return self.index <= other.index    \n",
    "    \n",
    "    def __gt__(self, other):\n",
    "        return self.index > other.index\n",
    "    \n",
    "    def __ge__(self, other):\n",
    "        return self.index >= other.index\n",
    "\n",
    "zero = Humanumba3('zero')\n",
    "one = Humanumba3('one')\n",
    "two = Humanumba3('two')\n",
    "\n",
    "zero < one < two"
   ]
  },
  {
   "cell_type": "markdown",
   "metadata": {
    "slideshow": {
     "slide_type": "slide"
    }
   },
   "source": [
    "Humanumba is actually a number in it's core, let's allow to compare to numeric types:"
   ]
  },
  {
   "cell_type": "code",
   "execution_count": 98,
   "metadata": {},
   "outputs": [
    {
     "data": {
      "text/plain": [
       "True"
      ]
     },
     "execution_count": 98,
     "metadata": {},
     "output_type": "execute_result"
    }
   ],
   "source": [
    "class Humanumba4(Humanumba3):\n",
    "    def __lt__(self, other):\n",
    "        index = other if isinstance(other, (int, float)) else other.index    \n",
    "        return self.index < index\n",
    "    \n",
    "    def __le__(self, other):\n",
    "        index = other if isinstance(other, (int, float)) else other.index\n",
    "        return self.index <= index    \n",
    "    \n",
    "    def __gt__(self, other):\n",
    "        index = other if isinstance(other, (int, float)) else other.index\n",
    "        return self.index > index\n",
    "    \n",
    "    def __ge__(self, other):\n",
    "        index = other if isinstance(other, (int, float)) else other.index        \n",
    "        return self.index >= index\n",
    "    \n",
    "one = Humanumba4('one')\n",
    "0 < one < 3.14"
   ]
  }
 ],
 "metadata": {
  "celltoolbar": "Slideshow",
  "kernelspec": {
   "display_name": "Python 2",
   "language": "python",
   "name": "python2"
  },
  "language_info": {
   "codemirror_mode": {
    "name": "ipython",
    "version": 2
   },
   "file_extension": ".py",
   "mimetype": "text/x-python",
   "name": "python",
   "nbconvert_exporter": "python",
   "pygments_lexer": "ipython2",
   "version": "2.7.16"
  },
  "toc": {
   "base_numbering": 1,
   "nav_menu": {},
   "number_sections": true,
   "sideBar": true,
   "skip_h1_title": true,
   "title_cell": "Table of Contents",
   "title_sidebar": "Contents",
   "toc_cell": false,
   "toc_position": {},
   "toc_section_display": true,
   "toc_window_display": true
  },
  "varInspector": {
   "cols": {
    "lenName": 16,
    "lenType": 16,
    "lenVar": 40
   },
   "kernels_config": {
    "python": {
     "delete_cmd_postfix": "",
     "delete_cmd_prefix": "del ",
     "library": "var_list.py",
     "varRefreshCmd": "print(var_dic_list())"
    },
    "r": {
     "delete_cmd_postfix": ") ",
     "delete_cmd_prefix": "rm(",
     "library": "var_list.r",
     "varRefreshCmd": "cat(var_dic_list()) "
    }
   },
   "types_to_exclude": [
    "module",
    "function",
    "builtin_function_or_method",
    "instance",
    "_Feature"
   ],
   "window_display": false
  }
 },
 "nbformat": 4,
 "nbformat_minor": 2
}
