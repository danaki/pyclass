{
 "cells": [
  {
   "cell_type": "markdown",
   "metadata": {},
   "source": [
    "# Capstone project\n",
    "## Knight's tour\n",
    "\n",
    "* Create a function(s) that finds a solution to [Knight's tour problem](https://en.wikipedia.org/wiki/Knight%27s_tour)\n",
    "* Your code must produce a string of valid moves in chess notation (64 elements, see example below)\n",
    "* Some usefull functions to help you get started are provided in the next cell (yes I know that x an y axis are mixed up, but chessboard is symmetrical)\n",
    "* You can test your solution against ```is_valid_solution()```\n",
    "* Make sure your solution is not the same as in my example :)\n",
    "\n",
    "Difficulty levels:\n",
    "\n",
    "1. **EASY PEASY** It is allowed to use variables from global scope, Warnsdorff's Rule can help you to find the solution. Your code returns only 1 solution. You can use loops or recursion or whatever you like.\n",
    "2. **RECURSION HERO** You use recursion and your code has no loops (for/while). Your functions are allowed to access global scope. It is allowed to use mutable lists, update in place etc. Your program is capable to find any number of solutions N from the same starting square (for example N=10 solutions starting from 'a1'). Your program returns N correct solutions.\n",
    "3. **FUNCTIONAL PROGRAMMING GURU**: Your functions has no access to global scope (only to values passed in arguments). Your functions are pure and have no side effects, e.g. do not update neiter global scope, nor it's arguments (think if it's better to use immutable tuples instead of mutable lists). You implement recursive exhaustive search starting from given square and stoping when required number N of solutions found (for example 10). Your starting point function accepts starting square and N in arguments and returns N correct solutions."
   ]
  },
  {
   "cell_type": "code",
   "execution_count": 2,
   "metadata": {},
   "outputs": [
    {
     "data": {
      "text/plain": [
       "[[1, 38, 59, 36, 43, 48, 57, 52],\n",
       " [60, 35, 2, 49, 58, 51, 44, 47],\n",
       " [39, 32, 37, 42, 3, 46, 53, 56],\n",
       " [34, 61, 40, 27, 50, 55, 4, 45],\n",
       " [31, 10, 33, 62, 41, 26, 23, 54],\n",
       " [18, 63, 28, 11, 24, 21, 14, 5],\n",
       " [9, 30, 19, 16, 7, 12, 25, 22],\n",
       " [64, 17, 8, 29, 20, 15, 6, 13]]"
      ]
     },
     "metadata": {},
     "output_type": "display_data"
    },
    {
     "data": {
      "text/plain": [
       "True"
      ]
     },
     "execution_count": 2,
     "metadata": {},
     "output_type": "execute_result"
    }
   ],
   "source": [
    "moves = [(-2, -1), (-2, +1), (+2, -1), (+2, +1), (-1, -2), (-1, +2), (+1, -2), (+1, +2)]\n",
    "\n",
    "def to_chess_notation(x, y):\n",
    "    return 'abcdefgh'[x] + str(y + 1)\n",
    "\n",
    "def from_chess_notation(s):\n",
    "    return 'abcdefgh'.index(s[0]), int(s[1]) - 1\n",
    "\n",
    "def chess_notation_to_list(s):\n",
    "    return [from_chess_notation(x) for x in s.split(' ')]\n",
    "\n",
    "def is_board_hit(x, y):\n",
    "    return x >= 0 and x < 8 and y >= 0 and y < 8\n",
    "\n",
    "def is_valid_move(fr, to):\n",
    "    return (to[0] - fr[0], to[1] - fr[1]) in moves\n",
    "\n",
    "def is_valid_solution(solution):\n",
    "    board = [[0 for x in range(8)] for y in range(8)]\n",
    "    \n",
    "    path = chess_notation_to_list(solution)\n",
    "    turn = 0\n",
    "    \n",
    "    while True:\n",
    "        x, y = path.pop(0)\n",
    "       \n",
    "        if not is_board_hit(x, y) or board[x][y] > 0:\n",
    "            break\n",
    "        \n",
    "        turn += 1        \n",
    "        board[x][y] = turn\n",
    "        \n",
    "        if turn == 64:\n",
    "            display(board)\n",
    "            return True\n",
    "        \n",
    "    return False\n",
    "\n",
    "example = 'a1 b3 c5 d7 f8 h7 g5 h3 g1 e2 f4 g6 h8 f7 h6 g4 h2 f1 g3 h5 f6 g8 e7 f5 g7 e6 d4 f3 h4 g2 e1 c2 e3 d1 b2 a4 c3 a2 c1 d3 e5 c4 a5 b7 d8 c6 b8 a6 b4 d5 b6 a8 c7 e8 d6 c8 a7 b5 a3 b1 d2 e4 f2 h1'\n",
    "\n",
    "is_valid_solution(example)"
   ]
  },
  {
   "cell_type": "code",
   "execution_count": 4,
   "metadata": {},
   "outputs": [],
   "source": [
    "# your code here\n",
    "def solution():\n",
    "    pass\n",
    "\n",
    "solution()"
   ]
  }
 ],
 "metadata": {
  "kernelspec": {
   "display_name": "Python 2",
   "language": "python",
   "name": "python2"
  },
  "language_info": {
   "codemirror_mode": {
    "name": "ipython",
    "version": 2
   },
   "file_extension": ".py",
   "mimetype": "text/x-python",
   "name": "python",
   "nbconvert_exporter": "python",
   "pygments_lexer": "ipython2",
   "version": "2.7.16"
  },
  "toc": {
   "base_numbering": 1,
   "nav_menu": {},
   "number_sections": true,
   "sideBar": true,
   "skip_h1_title": true,
   "title_cell": "Table of Contents",
   "title_sidebar": "Contents",
   "toc_cell": false,
   "toc_position": {},
   "toc_section_display": true,
   "toc_window_display": true
  },
  "varInspector": {
   "cols": {
    "lenName": 16,
    "lenType": 16,
    "lenVar": 40
   },
   "kernels_config": {
    "python": {
     "delete_cmd_postfix": "",
     "delete_cmd_prefix": "del ",
     "library": "var_list.py",
     "varRefreshCmd": "print(var_dic_list())"
    },
    "r": {
     "delete_cmd_postfix": ") ",
     "delete_cmd_prefix": "rm(",
     "library": "var_list.r",
     "varRefreshCmd": "cat(var_dic_list()) "
    }
   },
   "types_to_exclude": [
    "module",
    "function",
    "builtin_function_or_method",
    "instance",
    "_Feature"
   ],
   "window_display": false
  }
 },
 "nbformat": 4,
 "nbformat_minor": 2
}
