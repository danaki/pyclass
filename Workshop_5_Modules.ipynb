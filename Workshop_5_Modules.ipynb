{
 "cells": [
  {
   "cell_type": "markdown",
   "metadata": {
    "slideshow": {
     "slide_type": "slide"
    }
   },
   "source": [
    "# Modules\n",
    "\n",
    "* The ```__init__.py``` files are required to make Python treat the directories as containing packages\n",
    "* ```__init__.py``` can just be an empty file, but it can also execute initialization code for the package or set the ```__all__``` variable"
   ]
  },
  {
   "cell_type": "markdown",
   "metadata": {
    "slideshow": {
     "slide_type": "slide"
    }
   },
   "source": [
    "Layout:\n",
    "\n",
    "```\n",
    "├── mymodule\n",
    "|   ├── mysubmodule\n",
    "│   │   ├── __init__.py\n",
    "|   ├── my.py\n",
    "|   ├── __init__.py\n",
    "```\n",
    "\n",
    "Example:\n",
    "\n",
    "```\n",
    "from mymodule.my import myfun\n",
    "from mymodule import mysubmodule\n",
    "\n",
    "myfun()\n",
    "mysubmodule.otherfun()\n",
    "```"
   ]
  },
  {
   "cell_type": "markdown",
   "metadata": {
    "slideshow": {
     "slide_type": "slide"
    }
   },
   "source": [
    "Module aliasing:\n",
    "    \n",
    "```\n",
    "import numpy as np\n",
    "\n",
    "np.zeros((3, 2))\n",
    "```\n",
    "\n",
    "Relative imports:\n",
    "```\n",
    "from . import echo\n",
    "from .. import formats\n",
    "from ..filters import equalizer\n",
    "```\n",
    "\n",
    "Import several packages:\n",
    "```\n",
    "import os, sys\n",
    "```"
   ]
  },
  {
   "cell_type": "markdown",
   "metadata": {
    "slideshow": {
     "slide_type": "slide"
    }
   },
   "source": [
    "The import statement uses the following convention: if a package’s ```__init__.py``` code defines a list named ```__all__```, it is taken to be the list of module names that should be imported when from package import * is encountered.\n",
    "\n",
    "If ```mymodule/mysubmodule/__init__.py``` contains\n",
    "```\n",
    "__all__ = [\"myfun\", \"otherfun\"]\n",
    "```\n",
    "\n",
    "This line:\n",
    "```\n",
    "from mymodule.mysubmodule import *\n",
    "```\n",
    "\n",
    "will import ```myfun``` and ```otherfun``` only. Wildcard imports are **bad practice**."
   ]
  }
 ],
 "metadata": {
  "kernelspec": {
   "display_name": "Python 2",
   "language": "python",
   "name": "python2"
  },
  "language_info": {
   "codemirror_mode": {
    "name": "ipython",
    "version": 2
   },
   "file_extension": ".py",
   "mimetype": "text/x-python",
   "name": "python",
   "nbconvert_exporter": "python",
   "pygments_lexer": "ipython2",
   "version": "2.7.15"
  },
  "varInspector": {
   "cols": {
    "lenName": 16,
    "lenType": 16,
    "lenVar": 40
   },
   "kernels_config": {
    "python": {
     "delete_cmd_postfix": "",
     "delete_cmd_prefix": "del ",
     "library": "var_list.py",
     "varRefreshCmd": "print(var_dic_list())"
    },
    "r": {
     "delete_cmd_postfix": ") ",
     "delete_cmd_prefix": "rm(",
     "library": "var_list.r",
     "varRefreshCmd": "cat(var_dic_list()) "
    }
   },
   "types_to_exclude": [
    "module",
    "function",
    "builtin_function_or_method",
    "instance",
    "_Feature"
   ],
   "window_display": false
  }
 },
 "nbformat": 4,
 "nbformat_minor": 2
}
